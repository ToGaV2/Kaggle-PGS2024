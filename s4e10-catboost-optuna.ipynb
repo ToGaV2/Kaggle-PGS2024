{
 "cells": [
  {
   "cell_type": "code",
   "execution_count": 1,
   "id": "77a84013",
   "metadata": {
    "_cell_guid": "b1076dfc-b9ad-4769-8c92-a6c4dae69d19",
    "_uuid": "8f2839f25d086af736a60e9eeb907d3b93b6e0e5",
    "execution": {
     "iopub.execute_input": "2024-11-09T01:03:04.831168Z",
     "iopub.status.busy": "2024-11-09T01:03:04.830506Z",
     "iopub.status.idle": "2024-11-09T01:03:19.204345Z",
     "shell.execute_reply": "2024-11-09T01:03:19.203224Z"
    },
    "papermill": {
     "duration": 14.382196,
     "end_time": "2024-11-09T01:03:19.207043",
     "exception": false,
     "start_time": "2024-11-09T01:03:04.824847",
     "status": "completed"
    },
    "tags": []
   },
   "outputs": [],
   "source": [
    "!pip install --quiet optuna \n",
    "import optuna \n",
    "from optuna import trial\n",
    "from catboost import CatBoostClassifier\n",
    "import numpy as np # linear algebra\n",
    "import pandas as pd # data processing, CSV file I/O (e.g. pd.read_csv)\n",
    "import io, os\n",
    "from sklearn.metrics import roc_auc_score , log_loss\n",
    "from sklearn.model_selection import KFold\n",
    "\n",
    "# set some variables\n",
    "SEED = 12\n",
    "FOLDS = 21"
   ]
  },
  {
   "cell_type": "code",
   "execution_count": 2,
   "id": "c550872f",
   "metadata": {
    "execution": {
     "iopub.execute_input": "2024-11-09T01:03:19.216871Z",
     "iopub.status.busy": "2024-11-09T01:03:19.216189Z",
     "iopub.status.idle": "2024-11-09T01:03:19.803327Z",
     "shell.execute_reply": "2024-11-09T01:03:19.799271Z"
    },
    "papermill": {
     "duration": 0.594424,
     "end_time": "2024-11-09T01:03:19.805725",
     "exception": false,
     "start_time": "2024-11-09T01:03:19.211301",
     "status": "completed"
    },
    "tags": []
   },
   "outputs": [],
   "source": [
    "#encoding took place in the last notebook.\n",
    "train = pd.read_csv('/kaggle/input/s4e10-nn/train.csv')\n",
    "test = pd.read_csv('/kaggle/input/s4e10-nn/test.csv', index_col = 'id')\n",
    "\n",
    "# define numerical columns\n",
    "NUM_COLS =   ['person_age', 'person_income', 'person_emp_length', 'loan_amnt', 'loan_int_rate', 'loan_percent_income', 'cb_person_cred_hist_length', 'loanincomeratio', 'loanemploymentratio', 'intageincome', 'monthlyincome'] \n",
    "\n",
    "# define categorical columns\n",
    "CAT_COLS =  ['person_home_ownership', 'loan_intent', 'loan_grade', 'cb_person_default_on_file', 'riskflag'] \n",
    "\n",
    "# define cols for model\n",
    "COLSET = NUM_COLS + CAT_COLS\n",
    "\n",
    "#define the target column\n",
    "TARGET = 'loan_status'"
   ]
  },
  {
   "cell_type": "markdown",
   "id": "f5dee9f5",
   "metadata": {
    "papermill": {
     "duration": 0.003282,
     "end_time": "2024-11-09T01:03:19.813122",
     "exception": false,
     "start_time": "2024-11-09T01:03:19.809840",
     "status": "completed"
    },
    "tags": []
   },
   "source": [
    "   cat_params={\n",
    "    'task_type'           : \"CPU\",\n",
    "    'loss_function'       : 'Logloss',\n",
    "    'eval_metric'         : \"AUC\",\n",
    "    'bagging_temperature' : 0.25,\n",
    "    'colsample_bylevel'   : 0.40,\n",
    "    'iterations'          : 5_000,\n",
    "    'learning_rate'       : 0.045,\n",
    "    'max_depth'           : 7,\n",
    "    'l2_leaf_reg'         : 0.80,\n",
    "    'min_data_in_leaf'    : 30,\n",
    "    'random_strength'     : 0.25,\n",
    "    'random_state'        : 42,\n",
    "    'early_stopping_rounds': 200,\n",
    "    'use_best_model'       : True,\n",
    "    'allow_writing_files' : False,"
   ]
  },
  {
   "cell_type": "code",
   "execution_count": 3,
   "id": "3376e7fa",
   "metadata": {
    "execution": {
     "iopub.execute_input": "2024-11-09T01:03:19.821234Z",
     "iopub.status.busy": "2024-11-09T01:03:19.820880Z",
     "iopub.status.idle": "2024-11-09T01:03:19.831766Z",
     "shell.execute_reply": "2024-11-09T01:03:19.830831Z"
    },
    "papermill": {
     "duration": 0.017247,
     "end_time": "2024-11-09T01:03:19.833721",
     "exception": false,
     "start_time": "2024-11-09T01:03:19.816474",
     "status": "completed"
    },
    "tags": []
   },
   "outputs": [],
   "source": [
    "def optimize_auc(trial):\n",
    "    # define parameter test space\n",
    "    cb_params = {\n",
    "        'objective':'CrossEntropy',\n",
    "        'iterations': 712,\n",
    "        'learning_rate': trial.suggest_float('learning_rate', 0.07, 0.12),\n",
    "        'max_depth' : trial.suggest_int('max_depth',4,10),\n",
    "        'bagging_temperature': trial.suggest_float('bagging_temperature', 0.1, 1.0),\n",
    "        'random_strength': trial.suggest_float('random_strength',0.75, 2.0),\n",
    "        #'depth': trial.suggest_int('depth', 6, 10),\n",
    " \n",
    "        'min_data_in_leaf': 40,\n",
    "        \"use_best_model\": True,\n",
    "        \"task_type\": \"GPU\",\n",
    "        'l2_leaf_reg': 0.8,\n",
    "        'random_seed': 12\n",
    "    }\n",
    "\n",
    "#         cb_params = {\n",
    "#             'iterations': 400,\n",
    "#             'learning_rate': .001,\n",
    "#             'l2_leaf_reg': 2,\n",
    "#             'bagging_temperature': 1.2,\n",
    "#             'random_strength': 1.4,\n",
    "#             'depth': 4,\n",
    "#             'min_data_in_leaf': 22,\n",
    "#             \"use_best_model\": True,\n",
    "#             \"task_type\": \"GPU\",\n",
    "#             'random_seed': 12\n",
    "#         }\n",
    " \n",
    "\n",
    "    # variable to hold scores\n",
    "    scores = np.zeros(FOLDS)\n",
    "    # define KFold routine\n",
    "    kf = KFold(n_splits = FOLDS, shuffle=True ,random_state=SEED)\n",
    "    \n",
    "    # KFold split, define Xs and Ys,\n",
    "    for i, (trndex, valdex) in enumerate(kf.split(train.index)):\n",
    "        xt,yt = train.loc[trndex,COLSET],train.loc[trndex,TARGET]        \n",
    "        xv,yv = train.loc[valdex,COLSET],train.loc[valdex,TARGET]\n",
    "\n",
    "        # build a model with the params and define the callback\n",
    "        model=CatBoostClassifier(**cb_params, cat_features=CAT_COLS)\n",
    "        # fit the model\n",
    "        model.fit(xt,yt,\n",
    "                  eval_set=(xv,yv), \n",
    "                  verbose=False, \n",
    "                  early_stopping_rounds=12,\n",
    "                  use_best_model=True\n",
    "                 )\n",
    " \n",
    "        \n",
    "        # make predictions\n",
    "        ypred=pd.DataFrame(model.predict_proba(xv),columns=['o','l'])\n",
    "        \n",
    "        # score them, report fold efficacy, add to list\n",
    "        ascore = roc_auc_score(yv,ypred['l'])\n",
    "        print(f\"Fold {i} score: {ascore}\")\n",
    "        scores[i] = ascore\n",
    "\n",
    "    # output the mean of the fold scores\n",
    "    return np.mean(scores)"
   ]
  },
  {
   "cell_type": "code",
   "execution_count": 4,
   "id": "9f2ae349",
   "metadata": {
    "execution": {
     "iopub.execute_input": "2024-11-09T01:03:19.841646Z",
     "iopub.status.busy": "2024-11-09T01:03:19.841345Z",
     "iopub.status.idle": "2024-11-09T06:09:13.633985Z",
     "shell.execute_reply": "2024-11-09T06:09:13.633161Z"
    },
    "papermill": {
     "duration": 18353.799012,
     "end_time": "2024-11-09T06:09:13.636181",
     "exception": false,
     "start_time": "2024-11-09T01:03:19.837169",
     "status": "completed"
    },
    "tags": []
   },
   "outputs": [
    {
     "name": "stderr",
     "output_type": "stream",
     "text": [
      "[I 2024-11-09 01:03:19,843] A new study created in memory with name: no-name-b086a9c8-6232-4f60-a5f5-be05b3d04f0e\n"
     ]
    },
    {
     "name": "stdout",
     "output_type": "stream",
     "text": [
      "Fold 0 score: 0.9497346445717418\n",
      "Fold 1 score: 0.9567110215478083\n",
      "Fold 2 score: 0.942253041946846\n",
      "Fold 3 score: 0.9464153209109731\n",
      "Fold 4 score: 0.9499593940346811\n",
      "Fold 5 score: 0.951172603511112\n",
      "Fold 6 score: 0.9579244524846832\n",
      "Fold 7 score: 0.9530502629980752\n",
      "Fold 8 score: 0.950210609765416\n",
      "Fold 9 score: 0.9537239139530062\n",
      "Fold 10 score: 0.9553186369778073\n",
      "Fold 11 score: 0.9589322116836198\n",
      "Fold 12 score: 0.9469495924659904\n",
      "Fold 13 score: 0.9623316933123124\n",
      "Fold 14 score: 0.9494100620745021\n",
      "Fold 15 score: 0.9564957268309177\n",
      "Fold 16 score: 0.9550642510385877\n",
      "Fold 17 score: 0.9528766359431889\n",
      "Fold 18 score: 0.9469989532889941\n",
      "Fold 19 score: 0.9496464152660947\n"
     ]
    },
    {
     "name": "stderr",
     "output_type": "stream",
     "text": [
      "[I 2024-11-09 01:09:21,759] Trial 0 finished with value: 0.9521883304843252 and parameters: {'learning_rate': 0.07685872772537773, 'max_depth': 10, 'bagging_temperature': 0.34801551937995867, 'random_strength': 1.3119344066068521}. Best is trial 0 with value: 0.9521883304843252.\n"
     ]
    },
    {
     "name": "stdout",
     "output_type": "stream",
     "text": [
      "Fold 20 score: 0.9507754955644706\n",
      "Fold 0 score: 0.9459795116444155\n",
      "Fold 1 score: 0.9605629158818185\n",
      "Fold 2 score: 0.9460825761820899\n",
      "Fold 3 score: 0.9480848861283643\n",
      "Fold 4 score: 0.9502543408162875\n",
      "Fold 5 score: 0.9495360070363441\n",
      "Fold 6 score: 0.9572968963015263\n",
      "Fold 7 score: 0.950797640737424\n",
      "Fold 8 score: 0.9514495141489009\n",
      "Fold 9 score: 0.9548976761553276\n",
      "Fold 10 score: 0.9533295367819966\n",
      "Fold 11 score: 0.96029776468261\n",
      "Fold 12 score: 0.9530980957477402\n",
      "Fold 13 score: 0.965145066099651\n",
      "Fold 14 score: 0.9464323947902858\n",
      "Fold 15 score: 0.9531426410115295\n",
      "Fold 16 score: 0.9574755586827275\n",
      "Fold 17 score: 0.9517540263062944\n",
      "Fold 18 score: 0.9506661073347153\n",
      "Fold 19 score: 0.9564837915746532\n"
     ]
    },
    {
     "name": "stderr",
     "output_type": "stream",
     "text": [
      "[I 2024-11-09 01:12:05,839] Trial 1 finished with value: 0.9531589772066976 and parameters: {'learning_rate': 0.08555358929484212, 'max_depth': 4, 'bagging_temperature': 0.46776047947111354, 'random_strength': 1.6075753768032484}. Best is trial 1 with value: 0.9531589772066976.\n"
     ]
    },
    {
     "name": "stdout",
     "output_type": "stream",
     "text": [
      "Fold 20 score: 0.9535715732959489\n",
      "Fold 0 score: 0.951160500293185\n",
      "Fold 1 score: 0.9597096675751613\n",
      "Fold 2 score: 0.9467734349983989\n",
      "Fold 3 score: 0.9471772256728779\n",
      "Fold 4 score: 0.9511765573372888\n",
      "Fold 5 score: 0.9508195954357332\n",
      "Fold 6 score: 0.9584942556036741\n",
      "Fold 7 score: 0.9537568065548797\n",
      "Fold 8 score: 0.9524520198161024\n",
      "Fold 9 score: 0.9568816205607147\n",
      "Fold 10 score: 0.9537754809072638\n",
      "Fold 11 score: 0.960477256400379\n",
      "Fold 12 score: 0.9544377341181868\n",
      "Fold 13 score: 0.9668401858161766\n",
      "Fold 14 score: 0.9495490001735671\n",
      "Fold 15 score: 0.957422999946403\n",
      "Fold 16 score: 0.958268807357981\n",
      "Fold 17 score: 0.952965608292059\n",
      "Fold 18 score: 0.9511397746109452\n",
      "Fold 19 score: 0.9558175013907385\n"
     ]
    },
    {
     "name": "stderr",
     "output_type": "stream",
     "text": [
      "[I 2024-11-09 01:14:42,596] Trial 2 finished with value: 0.9543663697189786 and parameters: {'learning_rate': 0.09357090556758682, 'max_depth': 4, 'bagging_temperature': 0.28690339106919976, 'random_strength': 1.1697601113306517}. Best is trial 2 with value: 0.9543663697189786.\n"
     ]
    },
    {
     "name": "stdout",
     "output_type": "stream",
     "text": [
      "Fold 20 score: 0.9525977312368353\n",
      "Fold 0 score: 0.9501397172198791\n",
      "Fold 1 score: 0.960964986127042\n",
      "Fold 2 score: 0.9435559591471874\n",
      "Fold 3 score: 0.9499329192546584\n",
      "Fold 4 score: 0.9532180278298132\n",
      "Fold 5 score: 0.9509327281442281\n",
      "Fold 6 score: 0.9602301012224127\n",
      "Fold 7 score: 0.9532767192662817\n",
      "Fold 8 score: 0.95352178370393\n",
      "Fold 9 score: 0.9578643907949234\n",
      "Fold 10 score: 0.9560206976615052\n",
      "Fold 11 score: 0.9629938885360597\n",
      "Fold 12 score: 0.9540886677191242\n",
      "Fold 13 score: 0.9657319506900068\n",
      "Fold 14 score: 0.9502301769328128\n",
      "Fold 15 score: 0.9565650108653925\n",
      "Fold 16 score: 0.9588268167709182\n",
      "Fold 17 score: 0.9563822284908321\n",
      "Fold 18 score: 0.9489689692951195\n",
      "Fold 19 score: 0.9556333338952478\n"
     ]
    },
    {
     "name": "stderr",
     "output_type": "stream",
     "text": [
      "[I 2024-11-09 01:18:01,399] Trial 3 finished with value: 0.954843066420972 and parameters: {'learning_rate': 0.07561112935863172, 'max_depth': 7, 'bagging_temperature': 0.37440455419056695, 'random_strength': 1.1265648073191659}. Best is trial 3 with value: 0.954843066420972.\n"
     ]
    },
    {
     "name": "stdout",
     "output_type": "stream",
     "text": [
      "Fold 20 score: 0.9526253212730387\n",
      "Fold 0 score: 0.95257891143623\n",
      "Fold 1 score: 0.9589870811366357\n",
      "Fold 2 score: 0.9470461095100865\n",
      "Fold 3 score: 0.9452790890269152\n",
      "Fold 4 score: 0.9508734852999906\n",
      "Fold 5 score: 0.9527211606225021\n",
      "Fold 6 score: 0.9592657877355267\n",
      "Fold 7 score: 0.9520937940689044\n",
      "Fold 8 score: 0.950427905555131\n",
      "Fold 9 score: 0.9577740070155808\n",
      "Fold 10 score: 0.9535469130206645\n",
      "Fold 11 score: 0.9605930306406105\n",
      "Fold 12 score: 0.9574329098830283\n",
      "Fold 13 score: 0.965459379112836\n",
      "Fold 14 score: 0.9499704598175391\n",
      "Fold 15 score: 0.9555553812560976\n",
      "Fold 16 score: 0.9555873322605188\n",
      "Fold 17 score: 0.9539516843244662\n",
      "Fold 18 score: 0.9525094590907055\n",
      "Fold 19 score: 0.9542978034760036\n"
     ]
    },
    {
     "name": "stderr",
     "output_type": "stream",
     "text": [
      "[I 2024-11-09 01:21:06,499] Trial 4 finished with value: 0.9542365718146347 and parameters: {'learning_rate': 0.07604080176423633, 'max_depth': 5, 'bagging_temperature': 0.47026514531920627, 'random_strength': 1.5885963303033788}. Best is trial 3 with value: 0.954843066420972.\n"
     ]
    },
    {
     "name": "stdout",
     "output_type": "stream",
     "text": [
      "Fold 20 score: 0.9530163238173575\n",
      "Fold 0 score: 0.9496939183487398\n",
      "Fold 1 score: 0.9607720625633579\n",
      "Fold 2 score: 0.9475743642597929\n",
      "Fold 3 score: 0.9488165631469979\n",
      "Fold 4 score: 0.9527699199784193\n",
      "Fold 5 score: 0.950612043699848\n",
      "Fold 6 score: 0.9592881568800982\n",
      "Fold 7 score: 0.9532693079702312\n",
      "Fold 8 score: 0.9510272598762132\n",
      "Fold 9 score: 0.9576709449685477\n",
      "Fold 10 score: 0.9532038459667669\n",
      "Fold 11 score: 0.9621655613280722\n",
      "Fold 12 score: 0.9530333789182501\n",
      "Fold 13 score: 0.9647618797170432\n",
      "Fold 14 score: 0.9515030019497788\n",
      "Fold 15 score: 0.957804280010336\n",
      "Fold 16 score: 0.9590102949790936\n",
      "Fold 17 score: 0.9528446550988947\n",
      "Fold 18 score: 0.9456186795150102\n",
      "Fold 19 score: 0.9564024544427773\n"
     ]
    },
    {
     "name": "stderr",
     "output_type": "stream",
     "text": [
      "[I 2024-11-09 01:24:59,002] Trial 5 finished with value: 0.9542384861684965 and parameters: {'learning_rate': 0.09914909375848364, 'max_depth': 9, 'bagging_temperature': 0.2230247966648469, 'random_strength': 1.7362243033992124}. Best is trial 3 with value: 0.954843066420972.\n"
     ]
    },
    {
     "name": "stdout",
     "output_type": "stream",
     "text": [
      "Fold 20 score: 0.9511656359201579\n",
      "Fold 0 score: 0.9529034074711161\n",
      "Fold 1 score: 0.9622737971215806\n",
      "Fold 2 score: 0.9474505350090725\n",
      "Fold 3 score: 0.9481006211180124\n",
      "Fold 4 score: 0.9531672449817407\n",
      "Fold 5 score: 0.9524557665995667\n",
      "Fold 6 score: 0.9610138347058498\n",
      "Fold 7 score: 0.9533051292344749\n",
      "Fold 8 score: 0.9556183298948066\n",
      "Fold 9 score: 0.9578877024484189\n",
      "Fold 10 score: 0.955686670015552\n",
      "Fold 11 score: 0.9606746556445148\n",
      "Fold 12 score: 0.9569244782913463\n",
      "Fold 13 score: 0.9677463923920389\n",
      "Fold 14 score: 0.9516837481698389\n",
      "Fold 15 score: 0.9578574413449644\n",
      "Fold 16 score: 0.9594790902174133\n",
      "Fold 17 score: 0.9577176337455309\n",
      "Fold 18 score: 0.9506367831353271\n",
      "Fold 19 score: 0.9549855868916572\n"
     ]
    },
    {
     "name": "stderr",
     "output_type": "stream",
     "text": [
      "[I 2024-11-09 01:28:25,541] Trial 6 finished with value: 0.9556871557418324 and parameters: {'learning_rate': 0.084472496388382, 'max_depth': 7, 'bagging_temperature': 0.23596761270246683, 'random_strength': 1.6551366292786245}. Best is trial 6 with value: 0.9556871557418324.\n"
     ]
    },
    {
     "name": "stdout",
     "output_type": "stream",
     "text": [
      "Fold 20 score: 0.9518614221456598\n",
      "Fold 0 score: 0.9461612469406067\n",
      "Fold 1 score: 0.9598837372451217\n",
      "Fold 2 score: 0.9363463449941296\n",
      "Fold 3 score: 0.9477403726708076\n",
      "Fold 4 score: 0.9505147552612048\n",
      "Fold 5 score: 0.950011929971704\n",
      "Fold 6 score: 0.9601394045089687\n",
      "Fold 7 score: 0.9460511173558142\n",
      "Fold 8 score: 0.9528261187947327\n",
      "Fold 9 score: 0.9560587600899584\n",
      "Fold 10 score: 0.9550242105476117\n",
      "Fold 11 score: 0.9566983518828931\n",
      "Fold 12 score: 0.9540203105679752\n",
      "Fold 13 score: 0.9596422925899349\n",
      "Fold 14 score: 0.9497994265952859\n",
      "Fold 15 score: 0.9538912571827718\n",
      "Fold 16 score: 0.9551025458022206\n",
      "Fold 17 score: 0.9548188572178307\n",
      "Fold 18 score: 0.9482884035009836\n",
      "Fold 19 score: 0.952031321117311\n"
     ]
    },
    {
     "name": "stderr",
     "output_type": "stream",
     "text": [
      "[I 2024-11-09 01:33:46,795] Trial 7 finished with value: 0.9521796778953101 and parameters: {'learning_rate': 0.08914722845826381, 'max_depth': 10, 'bagging_temperature': 0.31982067548040655, 'random_strength': 1.4347513260562272}. Best is trial 6 with value: 0.9556871557418324.\n"
     ]
    },
    {
     "name": "stdout",
     "output_type": "stream",
     "text": [
      "Fold 20 score: 0.9507224709636424\n",
      "Fold 0 score: 0.9513290980980853\n",
      "Fold 1 score: 0.9580557864792152\n",
      "Fold 2 score: 0.948966922163518\n",
      "Fold 3 score: 0.9476944099378882\n",
      "Fold 4 score: 0.9528913925510093\n",
      "Fold 5 score: 0.9528883078196393\n",
      "Fold 6 score: 0.9594536885499263\n",
      "Fold 7 score: 0.954653161638308\n",
      "Fold 8 score: 0.9522219887420086\n",
      "Fold 9 score: 0.9574096090635709\n",
      "Fold 10 score: 0.954258013112307\n",
      "Fold 11 score: 0.9632504242626159\n",
      "Fold 12 score: 0.9539462906942457\n",
      "Fold 13 score: 0.9688095467673137\n",
      "Fold 14 score: 0.9484987294976565\n",
      "Fold 15 score: 0.956563703619459\n",
      "Fold 16 score: 0.9578589271406353\n",
      "Fold 17 score: 0.955582707383475\n",
      "Fold 18 score: 0.9505968696417153\n",
      "Fold 19 score: 0.9573945145901115\n"
     ]
    },
    {
     "name": "stderr",
     "output_type": "stream",
     "text": [
      "[I 2024-11-09 01:36:31,231] Trial 8 finished with value: 0.9550216502649386 and parameters: {'learning_rate': 0.08624318869240337, 'max_depth': 5, 'bagging_temperature': 0.18092833059820224, 'random_strength': 1.060783814371173}. Best is trial 6 with value: 0.9556871557418324.\n"
     ]
    },
    {
     "name": "stdout",
     "output_type": "stream",
     "text": [
      "Fold 20 score: 0.9531305638110116\n",
      "Fold 0 score: 0.948687586515854\n",
      "Fold 1 score: 0.9594474669136088\n",
      "Fold 2 score: 0.9422267751360871\n",
      "Fold 3 score: 0.9479792960662525\n",
      "Fold 4 score: 0.9513130616329084\n",
      "Fold 5 score: 0.949193206423386\n",
      "Fold 6 score: 0.9584462636207755\n",
      "Fold 7 score: 0.9528715684155267\n",
      "Fold 8 score: 0.948725357224727\n",
      "Fold 9 score: 0.9538142977323486\n",
      "Fold 10 score: 0.9512315332428533\n",
      "Fold 11 score: 0.9607092213349436\n",
      "Fold 12 score: 0.9548130917292297\n",
      "Fold 13 score: 0.9629340222339933\n",
      "Fold 14 score: 0.949839123195019\n",
      "Fold 15 score: 0.9563780746969041\n",
      "Fold 16 score: 0.9570938735111333\n",
      "Fold 17 score: 0.9565138419654279\n",
      "Fold 18 score: 0.9453413214624631\n",
      "Fold 19 score: 0.9573641712041266\n"
     ]
    },
    {
     "name": "stderr",
     "output_type": "stream",
     "text": [
      "[I 2024-11-09 01:41:03,588] Trial 9 finished with value: 0.95327224629621 and parameters: {'learning_rate': 0.07281965208056995, 'max_depth': 9, 'bagging_temperature': 0.38800220466952884, 'random_strength': 1.2329312005151374}. Best is trial 6 with value: 0.9556871557418324.\n"
     ]
    },
    {
     "name": "stdout",
     "output_type": "stream",
     "text": [
      "Fold 20 score: 0.953794017962838\n",
      "Fold 0 score: 0.9521952966905346\n",
      "Fold 1 score: 0.9590668813379776\n",
      "Fold 2 score: 0.9445428407514144\n",
      "Fold 3 score: 0.9468310559006211\n",
      "Fold 4 score: 0.9512947798076021\n",
      "Fold 5 score: 0.9509004045132294\n",
      "Fold 6 score: 0.9592267434104566\n",
      "Fold 7 score: 0.9534047699924859\n",
      "Fold 8 score: 0.9527704019255749\n",
      "Fold 9 score: 0.9558657232399601\n",
      "Fold 10 score: 0.9545808491103286\n",
      "Fold 11 score: 0.9611619069433309\n",
      "Fold 12 score: 0.9554230478471746\n",
      "Fold 13 score: 0.9658200251199962\n",
      "Fold 14 score: 0.9471110377240166\n",
      "Fold 15 score: 0.9540768861053265\n",
      "Fold 16 score: 0.9587220321979008\n",
      "Fold 17 score: 0.9545781808639748\n",
      "Fold 18 score: 0.9509397998623392\n",
      "Fold 19 score: 0.9561795148429729\n"
     ]
    },
    {
     "name": "stderr",
     "output_type": "stream",
     "text": [
      "[I 2024-11-09 01:43:51,833] Trial 10 finished with value: 0.9541209225819267 and parameters: {'learning_rate': 0.1132122100933924, 'max_depth': 7, 'bagging_temperature': 0.8298572764829031, 'random_strength': 1.9663715188066138}. Best is trial 6 with value: 0.9556871557418324.\n"
     ]
    },
    {
     "name": "stdout",
     "output_type": "stream",
     "text": [
      "Fold 20 score: 0.9518471960332424\n",
      "Fold 0 score: 0.9523415607602402\n",
      "Fold 1 score: 0.961271033053068\n",
      "Fold 2 score: 0.949661533381364\n",
      "Fold 3 score: 0.9474844720496896\n",
      "Fold 4 score: 0.9513508440718743\n",
      "Fold 5 score: 0.9522584223261021\n",
      "Fold 6 score: 0.961130154257621\n",
      "Fold 7 score: 0.9554416411903366\n",
      "Fold 8 score: 0.9545290651027737\n",
      "Fold 9 score: 0.9583486188254279\n",
      "Fold 10 score: 0.9538886887305701\n",
      "Fold 11 score: 0.9636660454559651\n",
      "Fold 12 score: 0.9546080202757827\n",
      "Fold 13 score: 0.9660855006530448\n",
      "Fold 14 score: 0.9455928539363614\n",
      "Fold 15 score: 0.9581554934177988\n",
      "Fold 16 score: 0.9573497330307906\n",
      "Fold 17 score: 0.9558889854692164\n",
      "Fold 18 score: 0.9485339936708603\n",
      "Fold 19 score: 0.9562844523861701\n"
     ]
    },
    {
     "name": "stderr",
     "output_type": "stream",
     "text": [
      "[I 2024-11-09 01:46:12,086] Trial 11 finished with value: 0.954969171489821 and parameters: {'learning_rate': 0.10390884890324756, 'max_depth': 6, 'bagging_temperature': 0.10647588184518098, 'random_strength': 0.7792547924254605}. Best is trial 6 with value: 0.9556871557418324.\n"
     ]
    },
    {
     "name": "stdout",
     "output_type": "stream",
     "text": [
      "Fold 20 score: 0.9504814892411791\n",
      "Fold 0 score: 0.9484191437771425\n",
      "Fold 1 score: 0.9579781785910968\n",
      "Fold 2 score: 0.9456068550539012\n",
      "Fold 3 score: 0.9474612836438924\n",
      "Fold 4 score: 0.9507487626251239\n",
      "Fold 5 score: 0.9505214524708651\n",
      "Fold 6 score: 0.9607332036194091\n",
      "Fold 7 score: 0.9528839205756107\n",
      "Fold 8 score: 0.954640896818726\n",
      "Fold 9 score: 0.9583641599277584\n",
      "Fold 10 score: 0.9561330445888166\n",
      "Fold 11 score: 0.9608362398359171\n",
      "Fold 12 score: 0.9557923382554526\n",
      "Fold 13 score: 0.9671807959340502\n",
      "Fold 14 score: 0.9512048551475298\n",
      "Fold 15 score: 0.9549152664973347\n",
      "Fold 16 score: 0.9575399443842202\n",
      "Fold 17 score: 0.9556060780004593\n",
      "Fold 18 score: 0.9510595403431745\n",
      "Fold 19 score: 0.9559945044756493\n"
     ]
    },
    {
     "name": "stderr",
     "output_type": "stream",
     "text": [
      "[I 2024-11-09 01:49:29,488] Trial 12 finished with value: 0.9544225602905688 and parameters: {'learning_rate': 0.08581293062704984, 'max_depth': 7, 'bagging_temperature': 0.6406250566366567, 'random_strength': 0.8910758419334464}. Best is trial 6 with value: 0.9556871557418324.\n"
     ]
    },
    {
     "name": "stdout",
     "output_type": "stream",
     "text": [
      "Fold 20 score: 0.9492533015358167\n",
      "Fold 0 score: 0.9516820586974353\n",
      "Fold 1 score: 0.9621111274803832\n",
      "Fold 2 score: 0.9507768305048563\n",
      "Fold 3 score: 0.9488020703933748\n",
      "Fold 4 score: 0.9528280155566148\n",
      "Fold 5 score: 0.9531417931364172\n",
      "Fold 6 score: 0.959170210481449\n",
      "Fold 7 score: 0.9548392675169071\n",
      "Fold 8 score: 0.9529164597182955\n",
      "Fold 9 score: 0.9578656177240545\n",
      "Fold 10 score: 0.9558528229425339\n",
      "Fold 11 score: 0.9628789472040312\n",
      "Fold 12 score: 0.9577868300443029\n",
      "Fold 13 score: 0.9682047133594718\n",
      "Fold 14 score: 0.9478779422465151\n",
      "Fold 15 score: 0.9559384043146087\n",
      "Fold 16 score: 0.9597067546913189\n",
      "Fold 17 score: 0.9547598156591335\n",
      "Fold 18 score: 0.9524907241855409\n",
      "Fold 19 score: 0.9553897439355372\n"
     ]
    },
    {
     "name": "stderr",
     "output_type": "stream",
     "text": [
      "[I 2024-11-09 01:52:24,389] Trial 13 finished with value: 0.9556080158545612 and parameters: {'learning_rate': 0.08425071032615164, 'max_depth': 6, 'bagging_temperature': 0.10789676239372614, 'random_strength': 1.0210146112636498}. Best is trial 6 with value: 0.9556871557418324.\n"
     ]
    },
    {
     "name": "stdout",
     "output_type": "stream",
     "text": [
      "Fold 20 score: 0.9527481831530065\n",
      "Fold 0 score: 0.947924736188227\n",
      "Fold 1 score: 0.9597346599459112\n",
      "Fold 2 score: 0.9428021433717579\n",
      "Fold 3 score: 0.9488476190476192\n",
      "Fold 4 score: 0.9487040420303225\n",
      "Fold 5 score: 0.95240940770774\n",
      "Fold 6 score: 0.9608918211900062\n",
      "Fold 7 score: 0.9499259899741633\n",
      "Fold 8 score: 0.9535201917933828\n",
      "Fold 9 score: 0.95729345977247\n",
      "Fold 10 score: 0.9547142879895107\n",
      "Fold 11 score: 0.9591945777675978\n",
      "Fold 12 score: 0.9534079275689247\n",
      "Fold 13 score: 0.9651780418341019\n",
      "Fold 14 score: 0.9435176508396886\n",
      "Fold 15 score: 0.9560734863944023\n",
      "Fold 16 score: 0.9567652118584155\n",
      "Fold 17 score: 0.9549029094368091\n",
      "Fold 18 score: 0.9485836818976016\n",
      "Fold 19 score: 0.9552683703915982\n"
     ]
    },
    {
     "name": "stderr",
     "output_type": "stream",
     "text": [
      "[I 2024-11-09 01:56:07,358] Trial 14 finished with value: 0.9532674931781523 and parameters: {'learning_rate': 0.08100911975607894, 'max_depth': 8, 'bagging_temperature': 0.6495499051109368, 'random_strength': 1.9254718416600445}. Best is trial 6 with value: 0.9556871557418324.\n"
     ]
    },
    {
     "name": "stdout",
     "output_type": "stream",
     "text": [
      "Fold 20 score: 0.9489571397409468\n",
      "Fold 0 score: 0.9495218172128287\n",
      "Fold 1 score: 0.9612214867742128\n",
      "Fold 2 score: 0.949974233509446\n",
      "Fold 3 score: 0.9510571428571428\n",
      "Fold 4 score: 0.9517412626078575\n",
      "Fold 5 score: 0.9516965865820354\n",
      "Fold 6 score: 0.9595870899939155\n",
      "Fold 7 score: 0.9551900688632924\n",
      "Fold 8 score: 0.954972810167851\n",
      "Fold 9 score: 0.9580574276449219\n",
      "Fold 10 score: 0.9545903189662706\n",
      "Fold 11 score: 0.96423075721767\n",
      "Fold 12 score: 0.9564520454360681\n",
      "Fold 13 score: 0.9679413248982239\n",
      "Fold 14 score: 0.9492559210223479\n",
      "Fold 15 score: 0.955748417905609\n",
      "Fold 16 score: 0.959030494414856\n",
      "Fold 17 score: 0.9571723193492307\n",
      "Fold 18 score: 0.9504697981110328\n",
      "Fold 19 score: 0.9582251647814434\n"
     ]
    },
    {
     "name": "stderr",
     "output_type": "stream",
     "text": [
      "[I 2024-11-09 01:58:45,519] Trial 15 finished with value: 0.9556976536222961 and parameters: {'learning_rate': 0.10101215563499012, 'max_depth': 6, 'bagging_temperature': 0.11722576506598403, 'random_strength': 1.4302373966997077}. Best is trial 15 with value: 0.9556976536222961.\n"
     ]
    },
    {
     "name": "stdout",
     "output_type": "stream",
     "text": [
      "Fold 20 score: 0.9535142377519639\n",
      "Fold 0 score: 0.9494723326622996\n",
      "Fold 1 score: 0.9584973183624649\n",
      "Fold 2 score: 0.9445937066389156\n",
      "Fold 3 score: 0.9456012422360249\n",
      "Fold 4 score: 0.9516071958889457\n",
      "Fold 5 score: 0.9481443896596705\n",
      "Fold 6 score: 0.958773259843237\n",
      "Fold 7 score: 0.951996212004241\n",
      "Fold 8 score: 0.949705974121902\n",
      "Fold 9 score: 0.956708623553195\n",
      "Fold 10 score: 0.9543505594317397\n",
      "Fold 11 score: 0.9608283272079876\n",
      "Fold 12 score: 0.9518984075210664\n",
      "Fold 13 score: 0.9658776283016955\n",
      "Fold 14 score: 0.950169365120456\n",
      "Fold 15 score: 0.9527334730343489\n",
      "Fold 16 score: 0.958867215642443\n",
      "Fold 17 score: 0.9561255617148293\n",
      "Fold 18 score: 0.9491098883644021\n",
      "Fold 19 score: 0.9534928608755753\n"
     ]
    },
    {
     "name": "stderr",
     "output_type": "stream",
     "text": [
      "[I 2024-11-09 02:01:18,987] Trial 16 finished with value: 0.953156637701432 and parameters: {'learning_rate': 0.10791259063196598, 'max_depth': 6, 'bagging_temperature': 0.8447323644624819, 'random_strength': 1.4262090159513239}. Best is trial 15 with value: 0.9556976536222961.\n"
     ]
    },
    {
     "name": "stdout",
     "output_type": "stream",
     "text": [
      "Fold 20 score: 0.9477358495446352\n",
      "Fold 0 score: 0.9523021482863675\n",
      "Fold 1 score: 0.9602055688263583\n",
      "Fold 2 score: 0.9448934818283701\n",
      "Fold 3 score: 0.9507685300207039\n",
      "Fold 4 score: 0.9523762513401594\n",
      "Fold 5 score: 0.9533672079315386\n",
      "Fold 6 score: 0.9609446937135383\n",
      "Fold 7 score: 0.9542340116727912\n",
      "Fold 8 score: 0.9532491690226943\n",
      "Fold 9 score: 0.9580247095347525\n",
      "Fold 10 score: 0.9536794910038521\n",
      "Fold 11 score: 0.9633116430155442\n",
      "Fold 12 score: 0.9553935207937195\n",
      "Fold 13 score: 0.9658196077056359\n",
      "Fold 14 score: 0.9504548427951305\n",
      "Fold 15 score: 0.95908625252244\n",
      "Fold 16 score: 0.955260774715693\n",
      "Fold 17 score: 0.958641798143471\n",
      "Fold 18 score: 0.9507944007070391\n",
      "Fold 19 score: 0.9543993695318692\n"
     ]
    },
    {
     "name": "stderr",
     "output_type": "stream",
     "text": [
      "[I 2024-11-09 02:04:07,937] Trial 17 finished with value: 0.9552289834810969 and parameters: {'learning_rate': 0.11713039337415218, 'max_depth': 8, 'bagging_temperature': 0.23733287769841888, 'random_strength': 1.7388131282706671}. Best is trial 15 with value: 0.9556976536222961.\n"
     ]
    },
    {
     "name": "stdout",
     "output_type": "stream",
     "text": [
      "Fold 20 score: 0.952601179991361\n",
      "Fold 0 score: 0.9495148105508069\n",
      "Fold 1 score: 0.9597390445723587\n",
      "Fold 2 score: 0.9471828636994344\n",
      "Fold 3 score: 0.9479167701863354\n",
      "Fold 4 score: 0.9511083051894789\n",
      "Fold 5 score: 0.9497984238827402\n",
      "Fold 6 score: 0.9593011716551214\n",
      "Fold 7 score: 0.9521452614025877\n",
      "Fold 8 score: 0.9516859128651843\n",
      "Fold 9 score: 0.9567945085923892\n",
      "Fold 10 score: 0.9543247325518979\n",
      "Fold 11 score: 0.9575183500088497\n",
      "Fold 12 score: 0.95168120166209\n",
      "Fold 13 score: 0.9646854928891377\n",
      "Fold 14 score: 0.9469822349270111\n",
      "Fold 15 score: 0.9540237247706982\n",
      "Fold 16 score: 0.9576068550151833\n",
      "Fold 17 score: 0.9540140059697576\n",
      "Fold 18 score: 0.9480847632274539\n",
      "Fold 19 score: 0.954107314441766\n"
     ]
    },
    {
     "name": "stderr",
     "output_type": "stream",
     "text": [
      "[I 2024-11-09 02:06:40,133] Trial 18 finished with value: 0.9533565305190548 and parameters: {'learning_rate': 0.09696882193172118, 'max_depth': 5, 'bagging_temperature': 0.5889274979673713, 'random_strength': 1.549942020238307}. Best is trial 15 with value: 0.9556976536222961.\n"
     ]
    },
    {
     "name": "stdout",
     "output_type": "stream",
     "text": [
      "Fold 20 score: 0.9522713928398683\n",
      "Fold 0 score: 0.9468759264668337\n",
      "Fold 1 score: 0.9582530946693465\n",
      "Fold 2 score: 0.9416893478492903\n",
      "Fold 3 score: 0.9480583850931676\n",
      "Fold 4 score: 0.9494080954360032\n",
      "Fold 5 score: 0.9517646363315061\n",
      "Fold 6 score: 0.9602296945106932\n",
      "Fold 7 score: 0.950728880379623\n",
      "Fold 8 score: 0.9510531284226077\n",
      "Fold 9 score: 0.9571646322136786\n",
      "Fold 10 score: 0.9552605264981634\n",
      "Fold 11 score: 0.9589013940801049\n",
      "Fold 12 score: 0.9557603843208918\n",
      "Fold 13 score: 0.9628568005773677\n",
      "Fold 14 score: 0.947268979514443\n",
      "Fold 15 score: 0.9537326446761754\n",
      "Fold 16 score: 0.9555763908994809\n",
      "Fold 17 score: 0.9544465673893792\n",
      "Fold 18 score: 0.9490255812911608\n",
      "Fold 19 score: 0.9522635323072774\n"
     ]
    },
    {
     "name": "stderr",
     "output_type": "stream",
     "text": [
      "[I 2024-11-09 02:09:55,385] Trial 19 finished with value: 0.9528634861553344 and parameters: {'learning_rate': 0.1032367288489858, 'max_depth': 8, 'bagging_temperature': 0.9632414197669035, 'random_strength': 1.7964863979660564}. Best is trial 15 with value: 0.9556976536222961.\n"
     ]
    },
    {
     "name": "stdout",
     "output_type": "stream",
     "text": [
      "Fold 20 score: 0.9498145863348274\n",
      "Fold 0 score: 0.9533658471645571\n",
      "Fold 1 score: 0.9606576238130815\n",
      "Fold 2 score: 0.9486079424164798\n",
      "Fold 3 score: 0.9478844720496894\n",
      "Fold 4 score: 0.9532777484591468\n",
      "Fold 5 score: 0.9535824152642393\n",
      "Fold 6 score: 0.9625040264460228\n",
      "Fold 7 score: 0.9559324336843406\n",
      "Fold 8 score: 0.9539651307913706\n",
      "Fold 9 score: 0.9585993213445999\n",
      "Fold 10 score: 0.9561089395009644\n",
      "Fold 11 score: 0.9655384230965445\n",
      "Fold 12 score: 0.9555051573245901\n",
      "Fold 13 score: 0.96664066175203\n",
      "Fold 14 score: 0.9498082949845881\n",
      "Fold 15 score: 0.9555471020318524\n",
      "Fold 16 score: 0.9573888694375803\n",
      "Fold 17 score: 0.957428166103585\n",
      "Fold 18 score: 0.9528890445605648\n",
      "Fold 19 score: 0.9575255811601288\n"
     ]
    },
    {
     "name": "stderr",
     "output_type": "stream",
     "text": [
      "[I 2024-11-09 02:12:58,438] Trial 20 finished with value: 0.9560001570701702 and parameters: {'learning_rate': 0.09259886496997956, 'max_depth': 6, 'bagging_temperature': 0.17448588924045227, 'random_strength': 1.5285205578485004}. Best is trial 20 with value: 0.9560001570701702.\n"
     ]
    },
    {
     "name": "stdout",
     "output_type": "stream",
     "text": [
      "Fold 20 score: 0.953246097087613\n",
      "Fold 0 score: 0.9532423547464222\n",
      "Fold 1 score: 0.9599591528200163\n",
      "Fold 2 score: 0.9503561445992103\n",
      "Fold 3 score: 0.9499407867494825\n",
      "Fold 4 score: 0.9535202873415424\n",
      "Fold 5 score: 0.9514784020727954\n",
      "Fold 6 score: 0.9615523210224407\n",
      "Fold 7 score: 0.9553461178190203\n",
      "Fold 8 score: 0.9543038097603219\n",
      "Fold 9 score: 0.9590512402413124\n",
      "Fold 10 score: 0.9551511927068337\n",
      "Fold 11 score: 0.9647334173182437\n",
      "Fold 12 score: 0.9552438631255237\n",
      "Fold 13 score: 0.9684522400750343\n",
      "Fold 14 score: 0.9521930470983264\n",
      "Fold 15 score: 0.9575589535234852\n",
      "Fold 16 score: 0.9591878816851714\n",
      "Fold 17 score: 0.9564449601469479\n",
      "Fold 18 score: 0.9517502881509871\n",
      "Fold 19 score: 0.9556843276411389\n"
     ]
    },
    {
     "name": "stderr",
     "output_type": "stream",
     "text": [
      "[I 2024-11-09 02:16:03,927] Trial 21 finished with value: 0.9561676752241501 and parameters: {'learning_rate': 0.09125319479841984, 'max_depth': 6, 'bagging_temperature': 0.14627550308405193, 'random_strength': 1.5053684125186457}. Best is trial 21 with value: 0.9561676752241501.\n"
     ]
    },
    {
     "name": "stdout",
     "output_type": "stream",
     "text": [
      "Fold 20 score: 0.9543703910628976\n",
      "Fold 0 score: 0.9512883718750833\n",
      "Fold 1 score: 0.9622908971647254\n",
      "Fold 2 score: 0.9484094820685239\n",
      "Fold 3 score: 0.9518488612836439\n",
      "Fold 4 score: 0.9533939396155373\n",
      "Fold 5 score: 0.9527585879847108\n",
      "Fold 6 score: 0.9607482519530297\n",
      "Fold 7 score: 0.9553510586830538\n",
      "Fold 8 score: 0.9533434897226254\n",
      "Fold 9 score: 0.9577461966219368\n",
      "Fold 10 score: 0.9539050457544699\n",
      "Fold 11 score: 0.9637035263251049\n",
      "Fold 12 score: 0.9549433343485785\n",
      "Fold 13 score: 0.9677927253860144\n",
      "Fold 14 score: 0.951296072866065\n",
      "Fold 15 score: 0.9587629270282246\n",
      "Fold 16 score: 0.9584501814582645\n",
      "Fold 17 score: 0.9549152097615377\n",
      "Fold 18 score: 0.9537557375647068\n",
      "Fold 19 score: 0.9583478026331316\n"
     ]
    },
    {
     "name": "stderr",
     "output_type": "stream",
     "text": [
      "[I 2024-11-09 02:18:59,966] Trial 22 finished with value: 0.9559438098034495 and parameters: {'learning_rate': 0.09208089937113581, 'max_depth': 6, 'bagging_temperature': 0.14375939588873407, 'random_strength': 1.4526822617368451}. Best is trial 21 with value: 0.9561676752241501.\n"
     ]
    },
    {
     "name": "stdout",
     "output_type": "stream",
     "text": [
      "Fold 20 score: 0.9517683057734737\n",
      "Fold 0 score: 0.9515883445928932\n",
      "Fold 1 score: 0.9618164805831202\n",
      "Fold 2 score: 0.947666089630697\n",
      "Fold 3 score: 0.9486149068322981\n",
      "Fold 4 score: 0.9521548381225622\n",
      "Fold 5 score: 0.9522031319046572\n",
      "Fold 6 score: 0.9594825650820094\n",
      "Fold 7 score: 0.9531536094041112\n",
      "Fold 8 score: 0.9525837504138968\n",
      "Fold 9 score: 0.9583150827625044\n",
      "Fold 10 score: 0.9534324138533662\n",
      "Fold 11 score: 0.9633124759237474\n",
      "Fold 12 score: 0.9568593569816718\n",
      "Fold 13 score: 0.9683061450489857\n",
      "Fold 14 score: 0.9481494838808577\n",
      "Fold 15 score: 0.9577824925781111\n",
      "Fold 16 score: 0.9585452871349793\n",
      "Fold 17 score: 0.9584158821792894\n",
      "Fold 18 score: 0.9525611837201821\n",
      "Fold 19 score: 0.9565946292206807\n"
     ]
    },
    {
     "name": "stderr",
     "output_type": "stream",
     "text": [
      "[I 2024-11-09 02:21:47,096] Trial 23 finished with value: 0.9554347956169364 and parameters: {'learning_rate': 0.09256212908169223, 'max_depth': 5, 'bagging_temperature': 0.17532768851318214, 'random_strength': 1.3065841583798932}. Best is trial 21 with value: 0.9561676752241501.\n"
     ]
    },
    {
     "name": "stdout",
     "output_type": "stream",
     "text": [
      "Fold 20 score: 0.9525925581050474\n",
      "Fold 0 score: 0.9484918378956191\n",
      "Fold 1 score: 0.9616880110282124\n",
      "Fold 2 score: 0.9465516263742129\n",
      "Fold 3 score: 0.9493693581780539\n",
      "Fold 4 score: 0.9527154807652853\n",
      "Fold 5 score: 0.9514345950465737\n",
      "Fold 6 score: 0.9580814432084024\n",
      "Fold 7 score: 0.9542554220836036\n",
      "Fold 8 score: 0.9529355626448638\n",
      "Fold 9 score: 0.957155634733382\n",
      "Fold 10 score: 0.954762067717218\n",
      "Fold 11 score: 0.9629064331747337\n",
      "Fold 12 score: 0.9554752257909508\n",
      "Fold 13 score: 0.9652811431810564\n",
      "Fold 14 score: 0.9470806318178382\n",
      "Fold 15 score: 0.9549030655352888\n",
      "Fold 16 score: 0.9569486900665909\n",
      "Fold 17 score: 0.9547069242628007\n",
      "Fold 18 score: 0.9512790645580395\n",
      "Fold 19 score: 0.95449672122857\n"
     ]
    },
    {
     "name": "stderr",
     "output_type": "stream",
     "text": [
      "[I 2024-11-09 02:24:28,385] Trial 24 finished with value: 0.9544083641505694 and parameters: {'learning_rate': 0.09229866072858905, 'max_depth': 6, 'bagging_temperature': 0.45291037549845525, 'random_strength': 1.5151093731179903}. Best is trial 21 with value: 0.9561676752241501.\n"
     ]
    },
    {
     "name": "stdout",
     "output_type": "stream",
     "text": [
      "Fold 20 score: 0.9520567078706614\n",
      "Fold 0 score: 0.9494132139514903\n",
      "Fold 1 score: 0.9569429682868739\n",
      "Fold 2 score: 0.9494288844860711\n",
      "Fold 3 score: 0.9477026915113871\n",
      "Fold 4 score: 0.9534808798514378\n",
      "Fold 5 score: 0.9524672499947899\n",
      "Fold 6 score: 0.9612297986288935\n",
      "Fold 7 score: 0.9554704628971991\n",
      "Fold 8 score: 0.9520090707062988\n",
      "Fold 9 score: 0.9567810123719444\n",
      "Fold 10 score: 0.9539691825060769\n",
      "Fold 11 score: 0.9631604701766807\n",
      "Fold 12 score: 0.9553494324536295\n",
      "Fold 13 score: 0.9677559929223222\n",
      "Fold 14 score: 0.9496617554089786\n",
      "Fold 15 score: 0.9565419161872343\n",
      "Fold 16 score: 0.9571919249388967\n",
      "Fold 17 score: 0.9558127234558993\n",
      "Fold 18 score: 0.9519392663248226\n",
      "Fold 19 score: 0.9585842281822625\n"
     ]
    },
    {
     "name": "stderr",
     "output_type": "stream",
     "text": [
      "[I 2024-11-09 02:27:13,600] Trial 25 finished with value: 0.9550880045169213 and parameters: {'learning_rate': 0.09000238489327095, 'max_depth': 5, 'bagging_temperature': 0.19119792976619973, 'random_strength': 1.3333546150882922}. Best is trial 21 with value: 0.9561676752241501.\n"
     ]
    },
    {
     "name": "stdout",
     "output_type": "stream",
     "text": [
      "Fold 20 score: 0.9519549696121616\n",
      "Fold 0 score: 0.9497184416658163\n",
      "Fold 1 score: 0.9599951067568847\n",
      "Fold 2 score: 0.9485870957412745\n",
      "Fold 3 score: 0.9485569358178054\n",
      "Fold 4 score: 0.9525176307891938\n",
      "Fold 5 score: 0.9514001448609042\n",
      "Fold 6 score: 0.9594366066577082\n",
      "Fold 7 score: 0.9537839813070643\n",
      "Fold 8 score: 0.9523927211482133\n",
      "Fold 9 score: 0.9581183651251121\n",
      "Fold 10 score: 0.9554869421447761\n",
      "Fold 11 score: 0.9638896813084988\n",
      "Fold 12 score: 0.9575979377982282\n",
      "Fold 13 score: 0.9668481166890192\n",
      "Fold 14 score: 0.9515503000260561\n",
      "Fold 15 score: 0.9577254095056824\n",
      "Fold 16 score: 0.9579872777220424\n",
      "Fold 17 score: 0.9555781972644077\n",
      "Fold 18 score: 0.9532315675006415\n",
      "Fold 19 score: 0.9555650612767823\n"
     ]
    },
    {
     "name": "stderr",
     "output_type": "stream",
     "text": [
      "[I 2024-11-09 02:29:55,674] Trial 26 finished with value: 0.9552354790996318 and parameters: {'learning_rate': 0.09594667461252802, 'max_depth': 6, 'bagging_temperature': 0.28326065428586383, 'random_strength': 1.4973070410568805}. Best is trial 21 with value: 0.9561676752241501.\n"
     ]
    },
    {
     "name": "stdout",
     "output_type": "stream",
     "text": [
      "Fold 20 score: 0.9499775399861534\n",
      "Fold 0 score: 0.9499943289829261\n",
      "Fold 1 score: 0.9630047143503561\n",
      "Fold 2 score: 0.9490407193937453\n",
      "Fold 3 score: 0.9493983436853002\n",
      "Fold 4 score: 0.9524920362337652\n",
      "Fold 5 score: 0.9540124046187067\n",
      "Fold 6 score: 0.9602459629794724\n",
      "Fold 7 score: 0.9559085528415114\n",
      "Fold 8 score: 0.9528957648811799\n",
      "Fold 9 score: 0.957080383079993\n",
      "Fold 10 score: 0.9533153319980837\n",
      "Fold 11 score: 0.96231256962592\n",
      "Fold 12 score: 0.955645511948547\n",
      "Fold 13 score: 0.9670526497254874\n",
      "Fold 14 score: 0.952929968018899\n",
      "Fold 15 score: 0.9573354144688595\n",
      "Fold 16 score: 0.9567445916010746\n",
      "Fold 17 score: 0.9550357529438777\n",
      "Fold 18 score: 0.9515136581531456\n",
      "Fold 19 score: 0.9566241297348326\n"
     ]
    },
    {
     "name": "stderr",
     "output_type": "stream",
     "text": [
      "[I 2024-11-09 02:33:09,018] Trial 27 finished with value: 0.9555396177818901 and parameters: {'learning_rate': 0.08073440564013232, 'max_depth': 7, 'bagging_temperature': 0.12854397113267496, 'random_strength': 1.6582459603932396}. Best is trial 21 with value: 0.9561676752241501.\n"
     ]
    },
    {
     "name": "stdout",
     "output_type": "stream",
     "text": [
      "Fold 20 score: 0.9537491841540077\n",
      "Fold 0 score: 0.9485167991290719\n",
      "Fold 1 score: 0.9580663095826888\n",
      "Fold 2 score: 0.9475714457252641\n",
      "Fold 3 score: 0.9467817805383024\n",
      "Fold 4 score: 0.9505984453948285\n",
      "Fold 5 score: 0.9525816586360873\n",
      "Fold 6 score: 0.9584259280348015\n",
      "Fold 7 score: 0.9547182163480838\n",
      "Fold 8 score: 0.9517241187183211\n",
      "Fold 9 score: 0.9568722141040411\n",
      "Fold 10 score: 0.9529976613760305\n",
      "Fold 11 score: 0.9613867921581692\n",
      "Fold 12 score: 0.9564819769697072\n",
      "Fold 13 score: 0.9652318882865599\n",
      "Fold 14 score: 0.9488712018483414\n",
      "Fold 15 score: 0.9535387365293753\n",
      "Fold 16 score: 0.9588655323561296\n",
      "Fold 17 score: 0.9529869288549218\n",
      "Fold 18 score: 0.9490964481063491\n",
      "Fold 19 score: 0.9549493434028421\n"
     ]
    },
    {
     "name": "stderr",
     "output_type": "stream",
     "text": [
      "[I 2024-11-09 02:35:46,154] Trial 28 finished with value: 0.9538541926473582 and parameters: {'learning_rate': 0.08918083818536926, 'max_depth': 4, 'bagging_temperature': 0.28763909753239136, 'random_strength': 1.3822872272429862}. Best is trial 21 with value: 0.9561676752241501.\n"
     ]
    },
    {
     "name": "stdout",
     "output_type": "stream",
     "text": [
      "Fold 20 score: 0.9506746194946023\n",
      "Fold 0 score: 0.95064069355444\n",
      "Fold 1 score: 0.9611320403946867\n",
      "Fold 2 score: 0.9457748792560572\n",
      "Fold 3 score: 0.9477809523809524\n",
      "Fold 4 score: 0.9521670260060997\n",
      "Fold 5 score: 0.952246938930879\n",
      "Fold 6 score: 0.9611033112841354\n",
      "Fold 7 score: 0.9532108410791671\n",
      "Fold 8 score: 0.9531655937189577\n",
      "Fold 9 score: 0.9564926840260779\n",
      "Fold 10 score: 0.9552936709939605\n",
      "Fold 11 score: 0.9583820758154692\n",
      "Fold 12 score: 0.953082321020552\n",
      "Fold 13 score: 0.9669729235827007\n",
      "Fold 14 score: 0.9496043220306415\n",
      "Fold 15 score: 0.9558020149888818\n",
      "Fold 16 score: 0.957683444542449\n",
      "Fold 17 score: 0.9546179519139305\n",
      "Fold 18 score: 0.9493347072263787\n",
      "Fold 19 score: 0.9569848788793176\n"
     ]
    },
    {
     "name": "stderr",
     "output_type": "stream",
     "text": [
      "[I 2024-11-09 02:38:11,934] Trial 29 finished with value: 0.9545195606947384 and parameters: {'learning_rate': 0.10707384123245253, 'max_depth': 5, 'bagging_temperature': 0.4126794179507056, 'random_strength': 1.828091767818914}. Best is trial 21 with value: 0.9561676752241501.\n"
     ]
    },
    {
     "name": "stdout",
     "output_type": "stream",
     "text": [
      "Fold 20 score: 0.9534375029637734\n",
      "Fold 0 score: 0.9504440691014524\n",
      "Fold 1 score: 0.9609487630091865\n",
      "Fold 2 score: 0.9479875453623653\n",
      "Fold 3 score: 0.948566873706004\n",
      "Fold 4 score: 0.954537163091351\n",
      "Fold 5 score: 0.9533059631570151\n",
      "Fold 6 score: 0.9595809893181234\n",
      "Fold 7 score: 0.9540215545193464\n",
      "Fold 8 score: 0.9538091235577291\n",
      "Fold 9 score: 0.958748597722247\n",
      "Fold 10 score: 0.9565036603145456\n",
      "Fold 11 score: 0.9623875313641996\n",
      "Fold 12 score: 0.9560564638158094\n",
      "Fold 13 score: 0.9673097769713332\n",
      "Fold 14 score: 0.9506381228407055\n",
      "Fold 15 score: 0.9559462477902096\n",
      "Fold 16 score: 0.9586143018738345\n",
      "Fold 17 score: 0.9576438317971594\n",
      "Fold 18 score: 0.9531765846267886\n",
      "Fold 19 score: 0.9557024493855464\n"
     ]
    },
    {
     "name": "stderr",
     "output_type": "stream",
     "text": [
      "[I 2024-11-09 02:41:28,958] Trial 30 finished with value: 0.9556655702825257 and parameters: {'learning_rate': 0.08078471367868885, 'max_depth': 6, 'bagging_temperature': 0.17168925865918472, 'random_strength': 1.3105697159149376}. Best is trial 21 with value: 0.9561676752241501.\n"
     ]
    },
    {
     "name": "stdout",
     "output_type": "stream",
     "text": [
      "Fold 20 score: 0.9530473626080861\n",
      "Fold 0 score: 0.951487185909953\n",
      "Fold 1 score: 0.9621747045638699\n",
      "Fold 2 score: 0.9475622731881737\n",
      "Fold 3 score: 0.9475395445134576\n",
      "Fold 4 score: 0.9547585763089482\n",
      "Fold 5 score: 0.9535113883382293\n",
      "Fold 6 score: 0.9612379328632831\n",
      "Fold 7 score: 0.956400580551524\n",
      "Fold 8 score: 0.9530561498688266\n",
      "Fold 9 score: 0.9577797326848605\n",
      "Fold 10 score: 0.9535008550849469\n",
      "Fold 11 score: 0.9639975429208009\n",
      "Fold 12 score: 0.9570850569245187\n",
      "Fold 13 score: 0.9690733526429216\n",
      "Fold 14 score: 0.9521056301180636\n",
      "Fold 15 score: 0.9593193780472448\n",
      "Fold 16 score: 0.9579136339458252\n",
      "Fold 17 score: 0.9571698592842851\n",
      "Fold 18 score: 0.9532226073286063\n",
      "Fold 19 score: 0.9570337654456262\n"
     ]
    },
    {
     "name": "stderr",
     "output_type": "stream",
     "text": [
      "[I 2024-11-09 02:44:09,548] Trial 31 finished with value: 0.9561520314428519 and parameters: {'learning_rate': 0.10020784036655672, 'max_depth': 6, 'bagging_temperature': 0.1009013305297839, 'random_strength': 1.4659651886053058}. Best is trial 21 with value: 0.9561676752241501.\n"
     ]
    },
    {
     "name": "stdout",
     "output_type": "stream",
     "text": [
      "Fold 20 score: 0.9532629097659244\n",
      "Fold 0 score: 0.9528044383700578\n",
      "Fold 1 score: 0.9620738581555804\n",
      "Fold 2 score: 0.9473971675205465\n",
      "Fold 3 score: 0.9493830227743271\n",
      "Fold 4 score: 0.9534378159962722\n",
      "Fold 5 score: 0.953283421677503\n",
      "Fold 6 score: 0.9597709236911204\n",
      "Fold 7 score: 0.9545514621869499\n",
      "Fold 8 score: 0.9540196537276178\n",
      "Fold 9 score: 0.9581964796131411\n",
      "Fold 10 score: 0.9541732148568264\n",
      "Fold 11 score: 0.962752761611261\n",
      "Fold 12 score: 0.9548397874213944\n",
      "Fold 13 score: 0.9671787088622495\n",
      "Fold 14 score: 0.9499987542024553\n",
      "Fold 15 score: 0.9582034257686933\n",
      "Fold 16 score: 0.9583517092089227\n",
      "Fold 17 score: 0.9574416964607865\n",
      "Fold 18 score: 0.9514521587905397\n",
      "Fold 19 score: 0.9565626000910301\n"
     ]
    },
    {
     "name": "stderr",
     "output_type": "stream",
     "text": [
      "[I 2024-11-09 02:46:54,117] Trial 32 finished with value: 0.9556239761841503 and parameters: {'learning_rate': 0.09893078059795708, 'max_depth': 7, 'bagging_temperature': 0.1564630087432766, 'random_strength': 1.5122514825992726}. Best is trial 21 with value: 0.9561676752241501.\n"
     ]
    },
    {
     "name": "stdout",
     "output_type": "stream",
     "text": [
      "Fold 20 score: 0.952230438879879\n",
      "Fold 0 score: 0.951836643178292\n",
      "Fold 1 score: 0.9614117795620284\n",
      "Fold 2 score: 0.9481122084800938\n",
      "Fold 3 score: 0.9474857142857144\n",
      "Fold 4 score: 0.9520715542517229\n",
      "Fold 5 score: 0.9511662238470989\n",
      "Fold 6 score: 0.962291316216735\n",
      "Fold 7 score: 0.9538239199580026\n",
      "Fold 8 score: 0.9531679815847789\n",
      "Fold 9 score: 0.9573069559929148\n",
      "Fold 10 score: 0.9548477268686931\n",
      "Fold 11 score: 0.9628560422284459\n",
      "Fold 12 score: 0.9560807326268683\n",
      "Fold 13 score: 0.9679096014068533\n",
      "Fold 14 score: 0.9517424484609334\n",
      "Fold 15 score: 0.9565336369629887\n",
      "Fold 16 score: 0.957640520741454\n",
      "Fold 17 score: 0.9573601043067537\n",
      "Fold 18 score: 0.9522736436539581\n",
      "Fold 19 score: 0.9566641661468958\n"
     ]
    },
    {
     "name": "stderr",
     "output_type": "stream",
     "text": [
      "[I 2024-11-09 02:49:42,155] Trial 33 finished with value: 0.9554851214051006 and parameters: {'learning_rate': 0.09519365262066135, 'max_depth': 6, 'bagging_temperature': 0.24682782411373078, 'random_strength': 1.2617265968810563}. Best is trial 21 with value: 0.9561676752241501.\n"
     ]
    },
    {
     "name": "stdout",
     "output_type": "stream",
     "text": [
      "Fold 20 score: 0.9526046287458863\n",
      "Fold 0 score: 0.9499417790177623\n",
      "Fold 1 score: 0.9605173157667659\n",
      "Fold 2 score: 0.9459591638648736\n",
      "Fold 3 score: 0.946672877846791\n",
      "Fold 4 score: 0.9514186899568996\n",
      "Fold 5 score: 0.9522877687805612\n",
      "Fold 6 score: 0.9584080327191444\n",
      "Fold 7 score: 0.954503700501292\n",
      "Fold 8 score: 0.951749191309442\n",
      "Fold 9 score: 0.9570039044974723\n",
      "Fold 10 score: 0.9540440804576179\n",
      "Fold 11 score: 0.9567429124717591\n",
      "Fold 12 score: 0.9554626869052372\n",
      "Fold 13 score: 0.9647184686235886\n",
      "Fold 14 score: 0.9475869746165585\n",
      "Fold 15 score: 0.9537492031246663\n",
      "Fold 16 score: 0.9568232852362324\n",
      "Fold 17 score: 0.9528831961163775\n",
      "Fold 18 score: 0.9505052315186271\n",
      "Fold 19 score: 0.9565191921916354\n"
     ]
    },
    {
     "name": "stderr",
     "output_type": "stream",
     "text": [
      "[I 2024-11-09 02:52:17,862] Trial 34 finished with value: 0.9537596044543166 and parameters: {'learning_rate': 0.09174592485100816, 'max_depth': 4, 'bagging_temperature': 0.3314475766899724, 'random_strength': 1.6122353411944903}. Best is trial 21 with value: 0.9561676752241501.\n"
     ]
    },
    {
     "name": "stdout",
     "output_type": "stream",
     "text": [
      "Fold 20 score: 0.9514540380173456\n",
      "Fold 0 score: 0.9503910812199123\n",
      "Fold 1 score: 0.9625145131135407\n",
      "Fold 2 score: 0.9469752308143878\n",
      "Fold 3 score: 0.9498070393374741\n",
      "Fold 4 score: 0.9506926983608517\n",
      "Fold 5 score: 0.9534956518336642\n",
      "Fold 6 score: 0.9603712301890721\n",
      "Fold 7 score: 0.9537448661334651\n",
      "Fold 8 score: 0.9538584727846973\n",
      "Fold 9 score: 0.957994036306469\n",
      "Fold 10 score: 0.9537746200112691\n",
      "Fold 11 score: 0.9611131818134494\n",
      "Fold 12 score: 0.9535503045938029\n",
      "Fold 13 score: 0.9675664868028189\n",
      "Fold 14 score: 0.9504396398420413\n",
      "Fold 15 score: 0.9569589276400158\n",
      "Fold 16 score: 0.9569297530955635\n",
      "Fold 17 score: 0.9567102371502607\n",
      "Fold 18 score: 0.9532120180343826\n",
      "Fold 19 score: 0.9549202643246069\n"
     ]
    },
    {
     "name": "stderr",
     "output_type": "stream",
     "text": [
      "[I 2024-11-09 02:54:51,757] Trial 35 finished with value: 0.9550589959010826 and parameters: {'learning_rate': 0.09811162804994296, 'max_depth': 5, 'bagging_temperature': 0.21153034665136933, 'random_strength': 1.462206413163468}. Best is trial 21 with value: 0.9561676752241501.\n"
     ]
    },
    {
     "name": "stdout",
     "output_type": "stream",
     "text": [
      "Fold 20 score: 0.9512186605209861\n",
      "Fold 0 score: 0.949973746913237\n",
      "Fold 1 score: 0.961096524920463\n",
      "Fold 2 score: 0.9492500200128081\n",
      "Fold 3 score: 0.9473457556935818\n",
      "Fold 4 score: 0.9521353375089022\n",
      "Fold 5 score: 0.94979842388274\n",
      "Fold 6 score: 0.9597326927894894\n",
      "Fold 7 score: 0.9538811516330584\n",
      "Fold 8 score: 0.9532276782303049\n",
      "Fold 9 score: 0.9574374194572147\n",
      "Fold 10 score: 0.9550414284675061\n",
      "Fold 11 score: 0.9624712386386116\n",
      "Fold 12 score: 0.9527393218242541\n",
      "Fold 13 score: 0.9664185973124358\n",
      "Fold 14 score: 0.9496038997263893\n",
      "Fold 15 score: 0.9549518693834723\n",
      "Fold 16 score: 0.9586454426706346\n",
      "Fold 17 score: 0.9563412274084037\n",
      "Fold 18 score: 0.9521237644126403\n",
      "Fold 19 score: 0.9550395306889634\n"
     ]
    },
    {
     "name": "stderr",
     "output_type": "stream",
     "text": [
      "[I 2024-11-09 02:57:29,384] Trial 36 finished with value: 0.9546449457931994 and parameters: {'learning_rate': 0.1016986904541881, 'max_depth': 6, 'bagging_temperature': 0.5230625475841721, 'random_strength': 1.2094761557556508}. Best is trial 21 with value: 0.9561676752241501.\n"
     ]
    },
    {
     "name": "stdout",
     "output_type": "stream",
     "text": [
      "Fold 20 score: 0.9502887900820718\n",
      "Fold 0 score: 0.9497320170734838\n",
      "Fold 1 score: 0.9614819335851862\n",
      "Fold 2 score: 0.94434354653645\n",
      "Fold 3 score: 0.9465395445134577\n",
      "Fold 4 score: 0.9533423442418955\n",
      "Fold 5 score: 0.9505027387897608\n",
      "Fold 6 score: 0.9600991400487403\n",
      "Fold 7 score: 0.9511299138436834\n",
      "Fold 8 score: 0.955761999821706\n",
      "Fold 9 score: 0.9584160999276521\n",
      "Fold 10 score: 0.9553849259694012\n",
      "Fold 11 score: 0.9641745359139605\n",
      "Fold 12 score: 0.954451081964269\n",
      "Fold 13 score: 0.9663701772466599\n",
      "Fold 14 score: 0.9514130511440011\n",
      "Fold 15 score: 0.9585393879735988\n",
      "Fold 16 score: 0.9570261212370135\n",
      "Fold 17 score: 0.9583560205989439\n",
      "Fold 18 score: 0.954940109395555\n",
      "Fold 19 score: 0.9573317206385599\n"
     ]
    },
    {
     "name": "stderr",
     "output_type": "stream",
     "text": [
      "[I 2024-11-09 03:00:02,808] Trial 37 finished with value: 0.9552964692257218 and parameters: {'learning_rate': 0.10731882717332963, 'max_depth': 7, 'bagging_temperature': 0.2785362595982607, 'random_strength': 1.5956398454657397}. Best is trial 21 with value: 0.9561676752241501.\n"
     ]
    },
    {
     "name": "stdout",
     "output_type": "stream",
     "text": [
      "Fold 20 score: 0.9518894432761787\n",
      "Fold 0 score: 0.9527501367393886\n",
      "Fold 1 score: 0.9616345185855546\n",
      "Fold 2 score: 0.9491003408848331\n",
      "Fold 3 score: 0.9498000000000001\n",
      "Fold 4 score: 0.9513410937650445\n",
      "Fold 5 score: 0.953416969310839\n",
      "Fold 6 score: 0.9606567418161468\n",
      "Fold 7 score: 0.9558294990169739\n",
      "Fold 8 score: 0.9546010990550418\n",
      "Fold 9 score: 0.9568247728442959\n",
      "Fold 10 score: 0.9562862840758776\n",
      "Fold 11 score: 0.9614309362929339\n",
      "Fold 12 score: 0.9570073967291305\n",
      "Fold 13 score: 0.9696310182280676\n",
      "Fold 14 score: 0.9501389592142775\n",
      "Fold 15 score: 0.9554220421708823\n",
      "Fold 16 score: 0.9588297625219668\n",
      "Fold 17 score: 0.9577791353691738\n",
      "Fold 18 score: 0.9516733121275929\n",
      "Fold 19 score: 0.9551368823856645\n"
     ]
    },
    {
     "name": "stderr",
     "output_type": "stream",
     "text": [
      "[I 2024-11-09 03:03:06,574] Trial 38 finished with value: 0.9558901109993956 and parameters: {'learning_rate': 0.08786161443414325, 'max_depth': 7, 'bagging_temperature': 0.14978004115315566, 'random_strength': 1.3801539531563498}. Best is trial 21 with value: 0.9561676752241501.\n"
     ]
    },
    {
     "name": "stdout",
     "output_type": "stream",
     "text": [
      "Fold 20 score: 0.9544014298536263\n",
      "Fold 0 score: 0.9510492695335884\n",
      "Fold 1 score: 0.9622110969633833\n",
      "Fold 2 score: 0.9452658034475399\n",
      "Fold 3 score: 0.9462310559006211\n",
      "Fold 4 score: 0.9521840890430522\n",
      "Fold 5 score: 0.9512457569917928\n",
      "Fold 6 score: 0.9599421493250213\n",
      "Fold 7 score: 0.9450143593860976\n",
      "Fold 8 score: 0.9533478674766307\n",
      "Fold 9 score: 0.9570623881193998\n",
      "Fold 10 score: 0.9528250517290879\n",
      "Fold 11 score: 0.9619077762392112\n",
      "Fold 12 score: 0.9564107884572681\n",
      "Fold 13 score: 0.9656584857626223\n",
      "Fold 14 score: 0.9520329937866375\n",
      "Fold 15 score: 0.9564155490803306\n",
      "Fold 16 score: 0.959574195894128\n",
      "Fold 17 score: 0.9563711581985763\n",
      "Fold 18 score: 0.9511063776060864\n",
      "Fold 19 score: 0.9549404932485968\n"
     ]
    },
    {
     "name": "stderr",
     "output_type": "stream",
     "text": [
      "[I 2024-11-09 03:05:44,653] Trial 39 finished with value: 0.9542515141740453 and parameters: {'learning_rate': 0.09347555172172374, 'max_depth': 5, 'bagging_temperature': 0.3496919562274774, 'random_strength': 1.6476760857949757}. Best is trial 21 with value: 0.9561676752241501.\n"
     ]
    },
    {
     "name": "stdout",
     "output_type": "stream",
     "text": [
      "Fold 20 score: 0.9484850914652809\n",
      "Fold 0 score: 0.9517652628089445\n",
      "Fold 1 score: 0.9626162364471196\n",
      "Fold 2 score: 0.9460467199007364\n",
      "Fold 3 score: 0.9485838509316771\n",
      "Fold 4 score: 0.9516222276119751\n",
      "Fold 5 score: 0.9509076347991107\n",
      "Fold 6 score: 0.9588643632684004\n",
      "Fold 7 score: 0.9551805988738947\n",
      "Fold 8 score: 0.9526462329028806\n",
      "Fold 9 score: 0.95780958796039\n",
      "Fold 10 score: 0.9551550667388098\n",
      "Fold 11 score: 0.9602615331757749\n",
      "Fold 12 score: 0.9544919344628846\n",
      "Fold 13 score: 0.9673611189376303\n",
      "Fold 14 score: 0.9516541868721655\n",
      "Fold 15 score: 0.9574487091164281\n",
      "Fold 16 score: 0.9573779280765425\n",
      "Fold 17 score: 0.9534801718765377\n",
      "Fold 18 score: 0.9517824633142047\n",
      "Fold 19 score: 0.9568099829739889\n"
     ]
    },
    {
     "name": "stderr",
     "output_type": "stream",
     "text": [
      "[I 2024-11-09 03:08:21,486] Trial 40 finished with value: 0.954993073563393 and parameters: {'learning_rate': 0.10529067284019192, 'max_depth': 4, 'bagging_temperature': 0.22872446658754186, 'random_strength': 1.7268338159999908}. Best is trial 21 with value: 0.9561676752241501.\n"
     ]
    },
    {
     "name": "stdout",
     "output_type": "stream",
     "text": [
      "Fold 20 score: 0.9529887337811542\n",
      "Fold 0 score: 0.9534411687812918\n",
      "Fold 1 score: 0.9602976459817528\n",
      "Fold 2 score: 0.9459504082612873\n",
      "Fold 3 score: 0.9492538302277433\n",
      "Fold 4 score: 0.9538794236431126\n",
      "Fold 5 score: 0.9541782758830412\n",
      "Fold 6 score: 0.9600324393267456\n",
      "Fold 7 score: 0.955319354805505\n",
      "Fold 8 score: 0.9549115216117776\n",
      "Fold 9 score: 0.9579506848104947\n",
      "Fold 10 score: 0.9553888000013775\n",
      "Fold 11 score: 0.963477391747962\n",
      "Fold 12 score: 0.955675443482186\n",
      "Fold 13 score: 0.9683562347722023\n",
      "Fold 14 score: 0.9538045601257792\n",
      "Fold 15 score: 0.9556786981224898\n",
      "Fold 16 score: 0.958165706071277\n",
      "Fold 17 score: 0.9580198117230295\n",
      "Fold 18 score: 0.9499818760156559\n",
      "Fold 19 score: 0.9559060029331939\n"
     ]
    },
    {
     "name": "stderr",
     "output_type": "stream",
     "text": [
      "[I 2024-11-09 03:11:28,303] Trial 41 finished with value: 0.9558495411906949 and parameters: {'learning_rate': 0.08786614694382712, 'max_depth': 7, 'bagging_temperature': 0.126563336895756, 'random_strength': 1.4053881239186679}. Best is trial 21 with value: 0.9561676752241501.\n"
     ]
    },
    {
     "name": "stdout",
     "output_type": "stream",
     "text": [
      "Fold 20 score: 0.9531710866766854\n",
      "Fold 0 score: 0.9522679908090111\n",
      "Fold 1 score: 0.9611526481389892\n",
      "Fold 2 score: 0.9485754216031593\n",
      "Fold 3 score: 0.949127950310559\n",
      "Fold 4 score: 0.9537754203702596\n",
      "Fold 5 score: 0.9537716786299544\n",
      "Fold 6 score: 0.960262638159971\n",
      "Fold 7 score: 0.9538605646995852\n",
      "Fold 8 score: 0.9538234507526553\n",
      "Fold 9 score: 0.9579065153617662\n",
      "Fold 10 score: 0.9559931489896739\n",
      "Fold 11 score: 0.9633345479911294\n",
      "Fold 12 score: 0.956949960542958\n",
      "Fold 13 score: 0.9668556301475018\n",
      "Fold 14 score: 0.9521009847712864\n",
      "Fold 15 score: 0.9567109866612982\n",
      "Fold 16 score: 0.9583735919309987\n",
      "Fold 17 score: 0.9576836028471152\n",
      "Fold 18 score: 0.9527228740973644\n",
      "Fold 19 score: 0.9535999055983547\n"
     ]
    },
    {
     "name": "stderr",
     "output_type": "stream",
     "text": [
      "[I 2024-11-09 03:14:47,649] Trial 42 finished with value: 0.9558567139235651 and parameters: {'learning_rate': 0.08291954924998993, 'max_depth': 7, 'bagging_temperature': 0.15445399570020718, 'random_strength': 1.3491332868956678}. Best is trial 21 with value: 0.9561676752241501.\n"
     ]
    },
    {
     "name": "stdout",
     "output_type": "stream",
     "text": [
      "Fold 20 score: 0.9541414799812732\n",
      "Fold 0 score: 0.950414728704236\n",
      "Fold 1 score: 0.9619651194196859\n",
      "Fold 2 score: 0.9461192663304514\n",
      "Fold 3 score: 0.9496302277432712\n",
      "Fold 4 score: 0.9540370536035307\n",
      "Fold 5 score: 0.9529380691989395\n",
      "Fold 6 score: 0.9596383356705699\n",
      "Fold 7 score: 0.9530276173712544\n",
      "Fold 8 score: 0.9506905707954459\n",
      "Fold 9 score: 0.9582071129989461\n",
      "Fold 10 score: 0.9535645613885564\n",
      "Fold 11 score: 0.9612397838603213\n",
      "Fold 12 score: 0.9546064023550455\n",
      "Fold 13 score: 0.9663242616670444\n",
      "Fold 14 score: 0.9524806362942634\n",
      "Fold 15 score: 0.9549296462026031\n",
      "Fold 16 score: 0.9574515718527595\n",
      "Fold 17 score: 0.9561673828189066\n",
      "Fold 18 score: 0.9518354097853226\n",
      "Fold 19 score: 0.9570350297533757\n"
     ]
    },
    {
     "name": "stderr",
     "output_type": "stream",
     "text": [
      "[I 2024-11-09 03:17:59,004] Trial 43 finished with value: 0.954671469924295 and parameters: {'learning_rate': 0.0870769933563591, 'max_depth': 8, 'bagging_temperature': 0.2004915204025587, 'random_strength': 1.1331789257065983}. Best is trial 21 with value: 0.9561676752241501.\n"
     ]
    },
    {
     "name": "stdout",
     "output_type": "stream",
     "text": [
      "Fold 20 score: 0.9457980805956687\n",
      "Fold 0 score: 0.9504217353662578\n",
      "Fold 1 score: 0.9611872866879233\n",
      "Fold 2 score: 0.9479700341551927\n",
      "Fold 3 score: 0.9493809523809523\n",
      "Fold 4 score: 0.9528572664771042\n",
      "Fold 5 score: 0.9528045215656036\n",
      "Fold 6 score: 0.9594309126936355\n",
      "Fold 7 score: 0.9560860122080516\n",
      "Fold 8 score: 0.9521917424416089\n",
      "Fold 9 score: 0.9587849966198103\n",
      "Fold 10 score: 0.9561618846046399\n",
      "Fold 11 score: 0.9644577247030163\n",
      "Fold 12 score: 0.9563573970729389\n",
      "Fold 13 score: 0.9686538512109818\n",
      "Fold 14 score: 0.9517690536288392\n",
      "Fold 15 score: 0.9579341331063956\n",
      "Fold 16 score: 0.9579700240373284\n",
      "Fold 17 score: 0.9576339915373766\n",
      "Fold 18 score: 0.9503463921052739\n",
      "Fold 19 score: 0.9563430319785574\n"
     ]
    },
    {
     "name": "stderr",
     "output_type": "stream",
     "text": [
      "[I 2024-11-09 03:20:43,598] Trial 44 finished with value: 0.9557682122506597 and parameters: {'learning_rate': 0.09449398520123592, 'max_depth': 6, 'bagging_temperature': 0.1030193668601167, 'random_strength': 1.5623346404706404}. Best is trial 21 with value: 0.9561676752241501.\n"
     ]
    },
    {
     "name": "stdout",
     "output_type": "stream",
     "text": [
      "Fold 20 score: 0.9523895126823637\n",
      "Fold 0 score: 0.9506074119098366\n",
      "Fold 1 score: 0.9622865125382778\n",
      "Fold 2 score: 0.9449972982708933\n",
      "Fold 3 score: 0.9503565217391305\n",
      "Fold 4 score: 0.9523340000105629\n",
      "Fold 5 score: 0.9521912231984998\n",
      "Fold 6 score: 0.9581603452819814\n",
      "Fold 7 score: 0.9518397513098437\n",
      "Fold 8 score: 0.9545593114031737\n",
      "Fold 9 score: 0.957462775992596\n",
      "Fold 10 score: 0.9538223997389763\n",
      "Fold 11 score: 0.9606542493935386\n",
      "Fold 12 score: 0.9474005878714999\n",
      "Fold 13 score: 0.9665722057969672\n",
      "Fold 14 score: 0.9519645804977362\n",
      "Fold 15 score: 0.9566678475454933\n",
      "Fold 16 score: 0.9574208518775376\n",
      "Fold 17 score: 0.9569308229737266\n",
      "Fold 18 score: 0.9508982572465393\n",
      "Fold 19 score: 0.9567661536386778\n"
     ]
    },
    {
     "name": "stderr",
     "output_type": "stream",
     "text": [
      "[I 2024-11-09 03:25:05,224] Trial 45 finished with value: 0.9545135713935806 and parameters: {'learning_rate': 0.08944271764762389, 'max_depth': 9, 'bagging_temperature': 0.15999715487463098, 'random_strength': 1.4760632923614259}. Best is trial 21 with value: 0.9561676752241501.\n"
     ]
    },
    {
     "name": "stdout",
     "output_type": "stream",
     "text": [
      "Fold 20 score: 0.9508918910297032\n",
      "Fold 0 score: 0.9483569596516989\n",
      "Fold 1 score: 0.9616542494045677\n",
      "Fold 2 score: 0.946681709627495\n",
      "Fold 3 score: 0.9485039337474119\n",
      "Fold 4 score: 0.9515056301928001\n",
      "Fold 5 score: 0.9523855902954252\n",
      "Fold 6 score: 0.9607657405569673\n",
      "Fold 7 score: 0.9518327517524627\n",
      "Fold 8 score: 0.953942048088434\n",
      "Fold 9 score: 0.9586148624469302\n",
      "Fold 10 score: 0.9551468882268599\n",
      "Fold 11 score: 0.961881956084915\n",
      "Fold 12 score: 0.954925941700653\n",
      "Fold 13 score: 0.9675351807258084\n",
      "Fold 14 score: 0.9525338466300755\n",
      "Fold 15 score: 0.9568961798352085\n",
      "Fold 16 score: 0.9578989051905817\n",
      "Fold 17 score: 0.9568955620428379\n",
      "Fold 18 score: 0.9526805169204704\n",
      "Fold 19 score: 0.9563476677736383\n"
     ]
    },
    {
     "name": "stderr",
     "output_type": "stream",
     "text": [
      "[I 2024-11-09 03:27:50,360] Trial 46 finished with value: 0.9551597114309264 and parameters: {'learning_rate': 0.09110376647163948, 'max_depth': 6, 'bagging_temperature': 0.2614287011356929, 'random_strength': 1.27010498148409}. Best is trial 21 with value: 0.9561676752241501.\n"
     ]
    },
    {
     "name": "stdout",
     "output_type": "stream",
     "text": [
      "Fold 20 score: 0.9513678191542101\n",
      "Fold 0 score: 0.952966905345689\n",
      "Fold 1 score: 0.9606172852497659\n",
      "Fold 2 score: 0.9466487718806703\n",
      "Fold 3 score: 0.9491739130434783\n",
      "Fold 4 score: 0.9518550161875408\n",
      "Fold 5 score: 0.9535292513974654\n",
      "Fold 6 score: 0.9627533407300638\n",
      "Fold 7 score: 0.9535105868305387\n",
      "Fold 8 score: 0.9530489862713635\n",
      "Fold 9 score: 0.9578950640232069\n",
      "Fold 10 score: 0.9544538669511067\n",
      "Fold 11 score: 0.9632012826786327\n",
      "Fold 12 score: 0.9545356183227907\n",
      "Fold 13 score: 0.9676495522604865\n",
      "Fold 14 score: 0.9499966426811928\n",
      "Fold 15 score: 0.9578452403829186\n",
      "Fold 16 score: 0.9581745433244232\n",
      "Fold 17 score: 0.9566741561977237\n",
      "Fold 18 score: 0.9537068638990596\n",
      "Fold 19 score: 0.9580835623135145\n"
     ]
    },
    {
     "name": "stderr",
     "output_type": "stream",
     "text": [
      "[I 2024-11-09 03:31:28,761] Trial 47 finished with value: 0.9555389027670322 and parameters: {'learning_rate': 0.0768631018650761, 'max_depth': 7, 'bagging_temperature': 0.30930225983721915, 'random_strength': 1.3802057964532302}. Best is trial 21 with value: 0.9561676752241501.\n"
     ]
    },
    {
     "name": "stdout",
     "output_type": "stream",
     "text": [
      "Fold 20 score: 0.9499965081360432\n",
      "Fold 0 score: 0.9513426735057525\n",
      "Fold 1 score: 0.9605629158818185\n",
      "Fold 2 score: 0.9440241754723024\n",
      "Fold 3 score: 0.9499337474120083\n",
      "Fold 4 score: 0.9516197900352676\n",
      "Fold 5 score: 0.95100800817958\n",
      "Fold 6 score: 0.9586097617320062\n",
      "Fold 7 score: 0.9497662353704104\n",
      "Fold 8 score: 0.9521220963551617\n",
      "Fold 9 score: 0.9559192991453621\n",
      "Fold 10 score: 0.955274300834079\n",
      "Fold 11 score: 0.9587893679267874\n",
      "Fold 12 score: 0.9555820085596096\n",
      "Fold 13 score: 0.966125155017258\n",
      "Fold 14 score: 0.9497863351634591\n",
      "Fold 15 score: 0.9550647282823965\n",
      "Fold 16 score: 0.9558562372491063\n",
      "Fold 17 score: 0.9555507265391808\n",
      "Fold 18 score: 0.9492426618227433\n",
      "Fold 19 score: 0.9554318875271827\n"
     ]
    },
    {
     "name": "stderr",
     "output_type": "stream",
     "text": [
      "[I 2024-11-09 03:34:17,849] Trial 48 finished with value: 0.9539315949550827 and parameters: {'learning_rate': 0.10097788495793698, 'max_depth': 7, 'bagging_temperature': 0.7397138473560746, 'random_strength': 1.5358740903718175}. Best is trial 21 with value: 0.9561676752241501.\n"
     ]
    },
    {
     "name": "stdout",
     "output_type": "stream",
     "text": [
      "Fold 20 score: 0.9509513820452666\n",
      "Fold 0 score: 0.9502264246623993\n",
      "Fold 1 score: 0.9618616422355281\n",
      "Fold 2 score: 0.9468276363539332\n",
      "Fold 3 score: 0.9487391304347828\n",
      "Fold 4 score: 0.9536913239738513\n",
      "Fold 5 score: 0.9538295209170045\n",
      "Fold 6 score: 0.9615909586357912\n",
      "Fold 7 score: 0.9545621673923561\n",
      "Fold 8 score: 0.9542071011945698\n",
      "Fold 9 score: 0.9575523418191841\n",
      "Fold 10 score: 0.9553500596816148\n",
      "Fold 11 score: 0.9625195473143916\n",
      "Fold 12 score: 0.9581500532498163\n",
      "Fold 13 score: 0.9677693501818465\n",
      "Fold 14 score: 0.9480857159387337\n",
      "Fold 15 score: 0.9569101237918324\n",
      "Fold 16 score: 0.9591222335189438\n",
      "Fold 17 score: 0.9552013973168892\n",
      "Fold 18 score: 0.9533871486696182\n",
      "Fold 19 score: 0.9558398374943105\n"
     ]
    },
    {
     "name": "stderr",
     "output_type": "stream",
     "text": [
      "[I 2024-11-09 03:37:02,204] Trial 49 finished with value: 0.9556731550435509 and parameters: {'learning_rate': 0.09669060144425094, 'max_depth': 6, 'bagging_temperature': 0.14454540108853398, 'random_strength': 1.190104475806045}. Best is trial 21 with value: 0.9561676752241501.\n"
     ]
    },
    {
     "name": "stdout",
     "output_type": "stream",
     "text": [
      "Fold 20 score: 0.953712541137175\n",
      "Fold 0 score: 0.9509603725091863\n",
      "Fold 1 score: 0.9629797219796064\n",
      "Fold 2 score: 0.9500538678087309\n",
      "Fold 3 score: 0.9476207039337474\n",
      "Fold 4 score: 0.9527171058164238\n",
      "Fold 5 score: 0.9534050606046817\n",
      "Fold 6 score: 0.9588501283582186\n",
      "Fold 7 score: 0.9555721623485572\n",
      "Fold 8 score: 0.9534624850360407\n",
      "Fold 9 score: 0.9575952843387812\n",
      "Fold 10 score: 0.9533682771017593\n",
      "Fold 11 score: 0.9612143801601266\n",
      "Fold 12 score: 0.9552256615172294\n",
      "Fold 13 score: 0.968124569802325\n",
      "Fold 14 score: 0.9493606524769623\n",
      "Fold 15 score: 0.9556120285798821\n",
      "Fold 16 score: 0.9603451410257273\n",
      "Fold 17 score: 0.9534555712270805\n",
      "Fold 18 score: 0.9506795475927684\n",
      "Fold 19 score: 0.95627138787276\n"
     ]
    },
    {
     "name": "stderr",
     "output_type": "stream",
     "text": [
      "[I 2024-11-09 03:39:22,624] Trial 50 finished with value: 0.955288468443562 and parameters: {'learning_rate': 0.11096862607895733, 'max_depth': 5, 'bagging_temperature': 0.20156242513505407, 'random_strength': 1.4238920614066548}. Best is trial 21 with value: 0.9561676752241501.\n"
     ]
    },
    {
     "name": "stdout",
     "output_type": "stream",
     "text": [
      "Fold 20 score: 0.9541837272242095\n",
      "Fold 0 score: 0.9510575899447393\n",
      "Fold 1 score: 0.9621558506701463\n",
      "Fold 2 score: 0.9493317389796136\n",
      "Fold 3 score: 0.948136645962733\n",
      "Fold 4 score: 0.9544441289136817\n",
      "Fold 5 score: 0.9509914210531466\n",
      "Fold 6 score: 0.9598807358553798\n",
      "Fold 7 score: 0.9525121205570826\n",
      "Fold 8 score: 0.9550734985099717\n",
      "Fold 9 score: 0.956191677412521\n",
      "Fold 10 score: 0.9547500151732917\n",
      "Fold 11 score: 0.9628427156971961\n",
      "Fold 12 score: 0.9562837816793935\n",
      "Fold 13 score: 0.9681220653161643\n",
      "Fold 14 score: 0.951084498435574\n",
      "Fold 15 score: 0.9580944886075695\n",
      "Fold 16 score: 0.9584585978898322\n",
      "Fold 17 score: 0.9546745334076822\n",
      "Fold 18 score: 0.9523660963381407\n",
      "Fold 19 score: 0.9554634952209168\n"
     ]
    },
    {
     "name": "stderr",
     "output_type": "stream",
     "text": [
      "[I 2024-11-09 03:42:33,850] Trial 51 finished with value: 0.9554544983643973 and parameters: {'learning_rate': 0.0787771741698372, 'max_depth': 7, 'bagging_temperature': 0.14967370367160449, 'random_strength': 1.3512342277180638}. Best is trial 21 with value: 0.9561676752241501.\n"
     ]
    },
    {
     "name": "stdout",
     "output_type": "stream",
     "text": [
      "Fold 20 score: 0.9526287700275641\n",
      "Fold 0 score: 0.9516141816590987\n",
      "Fold 1 score: 0.963436161592777\n",
      "Fold 2 score: 0.9472391497224889\n",
      "Fold 3 score: 0.9501130434782609\n",
      "Fold 4 score: 0.9542913741066789\n",
      "Fold 5 score: 0.9540983174274132\n",
      "Fold 6 score: 0.9606774841138404\n",
      "Fold 7 score: 0.9535814058816869\n",
      "Fold 8 score: 0.9546667653651205\n",
      "Fold 9 score: 0.9579985350466171\n",
      "Fold 10 score: 0.9566117027618835\n",
      "Fold 11 score: 0.9630742641776593\n",
      "Fold 12 score: 0.9565240429088758\n",
      "Fold 13 score: 0.9668193150981695\n",
      "Fold 14 score: 0.9506600826618343\n",
      "Fold 15 score: 0.9571811594487082\n",
      "Fold 16 score: 0.9590094533359369\n",
      "Fold 17 score: 0.9558127234558993\n",
      "Fold 18 score: 0.9499582537439264\n",
      "Fold 19 score: 0.956818411692318\n"
     ]
    },
    {
     "name": "stderr",
     "output_type": "stream",
     "text": [
      "[I 2024-11-09 03:46:25,305] Trial 52 finished with value: 0.9557763419540951 and parameters: {'learning_rate': 0.08319382077302957, 'max_depth': 8, 'bagging_temperature': 0.22376507718987856, 'random_strength': 1.4770170652103558}. Best is trial 21 with value: 0.9561676752241501.\n"
     ]
    },
    {
     "name": "stdout",
     "output_type": "stream",
     "text": [
      "Fold 20 score: 0.951117353356802\n",
      "Fold 0 score: 0.9536820227882923\n",
      "Fold 1 score: 0.9625574824527249\n",
      "Fold 2 score: 0.9480742675312201\n",
      "Fold 3 score: 0.9490898550724638\n",
      "Fold 4 score: 0.9511899640091799\n",
      "Fold 5 score: 0.9526271669060459\n",
      "Fold 6 score: 0.9609211044338085\n",
      "Fold 7 score: 0.9549249091601559\n",
      "Fold 8 score: 0.9525125124169023\n",
      "Fold 9 score: 0.958872517564513\n",
      "Fold 10 score: 0.9573525037653439\n",
      "Fold 11 score: 0.9635107080760862\n",
      "Fold 12 score: 0.9574656727779578\n",
      "Fold 13 score: 0.9679087665781331\n",
      "Fold 14 score: 0.949562936213899\n",
      "Fold 15 score: 0.9578208384588267\n",
      "Fold 16 score: 0.9594618365326996\n",
      "Fold 17 score: 0.9576581821760093\n",
      "Fold 18 score: 0.9504107424317092\n",
      "Fold 19 score: 0.9557770435427589\n"
     ]
    },
    {
     "name": "stderr",
     "output_type": "stream",
     "text": [
      "[I 2024-11-09 03:49:40,966] Trial 53 finished with value: 0.9558823396549675 and parameters: {'learning_rate': 0.08307745651612014, 'max_depth': 7, 'bagging_temperature': 0.1109571493568082, 'random_strength': 1.370610777061824}. Best is trial 21 with value: 0.9561676752241501.\n"
     ]
    },
    {
     "name": "stdout",
     "output_type": "stream",
     "text": [
      "Fold 20 score: 0.9521480998655848\n",
      "Fold 0 score: 0.9511451732200122\n",
      "Fold 1 score: 0.9619537193909228\n",
      "Fold 2 score: 0.9500522000747145\n",
      "Fold 3 score: 0.9493681159420291\n",
      "Fold 4 score: 0.951212308462332\n",
      "Fold 5 score: 0.9530222807639095\n",
      "Fold 6 score: 0.9597973599528866\n",
      "Fold 7 score: 0.9552460653223398\n",
      "Fold 8 score: 0.9504283035327679\n",
      "Fold 9 score: 0.9572484723709873\n",
      "Fold 10 score: 0.9547990862449912\n",
      "Fold 11 score: 0.9610003227519287\n",
      "Fold 12 score: 0.9554986856416411\n",
      "Fold 13 score: 0.9670013077591902\n",
      "Fold 14 score: 0.9501393815185301\n",
      "Fold 15 score: 0.9574857477512102\n",
      "Fold 16 score: 0.9599613517462412\n",
      "Fold 17 score: 0.9538208908715191\n",
      "Fold 18 score: 0.9519653322798345\n",
      "Fold 19 score: 0.9567349673808601\n"
     ]
    },
    {
     "name": "stderr",
     "output_type": "stream",
     "text": [
      "[I 2024-11-09 03:52:30,243] Trial 54 finished with value: 0.9553245126428555 and parameters: {'learning_rate': 0.08529526694979149, 'max_depth': 6, 'bagging_temperature': 0.10324366487266369, 'random_strength': 1.2835947358986999}. Best is trial 21 with value: 0.9561676752241501.\n"
     ]
    },
    {
     "name": "stdout",
     "output_type": "stream",
     "text": [
      "Fold 20 score: 0.9539336925211169\n",
      "Fold 0 score: 0.9502491963139702\n",
      "Fold 1 score: 0.9614705335564231\n",
      "Fold 2 score: 0.9451098703170029\n",
      "Fold 3 score: 0.9499374741200828\n",
      "Fold 4 score: 0.9523587820404222\n",
      "Fold 5 score: 0.9537755064283622\n",
      "Fold 6 score: 0.9608552171352528\n",
      "Fold 7 score: 0.9518755725740872\n",
      "Fold 8 score: 0.9536264518224192\n",
      "Fold 9 score: 0.9568992065449308\n",
      "Fold 10 score: 0.956585014986047\n",
      "Fold 11 score: 0.9625078865995481\n",
      "Fold 12 score: 0.9559480631264133\n",
      "Fold 13 score: 0.9659940869081742\n",
      "Fold 14 score: 0.9520836702969349\n",
      "Fold 15 score: 0.9589794941045388\n",
      "Fold 16 score: 0.9571401638847555\n",
      "Fold 17 score: 0.956576983632368\n",
      "Fold 18 score: 0.9521852637752464\n",
      "Fold 19 score: 0.9560539269398693\n"
     ]
    },
    {
     "name": "stderr",
     "output_type": "stream",
     "text": [
      "[I 2024-11-09 03:55:52,327] Trial 55 finished with value: 0.9553872850469582 and parameters: {'learning_rate': 0.08740771553318277, 'max_depth': 8, 'bagging_temperature': 0.18054978812631586, 'random_strength': 1.0331067429431164}. Best is trial 21 with value: 0.9561676752241501.\n"
     ]
    },
    {
     "name": "stdout",
     "output_type": "stream",
     "text": [
      "Fold 20 score: 0.9529206208792772\n",
      "Fold 0 score: 0.9505623065230709\n",
      "Fold 1 score: 0.9595347209799114\n",
      "Fold 2 score: 0.9495331178620984\n",
      "Fold 3 score: 0.9498890269151138\n",
      "Fold 4 score: 0.9520593663681854\n",
      "Fold 5 score: 0.9526956419664506\n",
      "Fold 6 score: 0.960116628652678\n",
      "Fold 7 score: 0.9546943355052548\n",
      "Fold 8 score: 0.9539886114719442\n",
      "Fold 9 score: 0.9579359616609185\n",
      "Fold 10 score: 0.9548933543564134\n",
      "Fold 11 score: 0.964365688346573\n",
      "Fold 12 score: 0.9554173851245942\n",
      "Fold 13 score: 0.9684397176442302\n",
      "Fold 14 score: 0.9520849372096922\n",
      "Fold 15 score: 0.9559802361844804\n",
      "Fold 16 score: 0.9593562103165252\n",
      "Fold 17 score: 0.9558766851444878\n",
      "Fold 18 score: 0.9550390785684905\n",
      "Fold 19 score: 0.9581779639588004\n"
     ]
    },
    {
     "name": "stderr",
     "output_type": "stream",
     "text": [
      "[I 2024-11-09 03:59:23,440] Trial 56 finished with value: 0.9558700494319249 and parameters: {'learning_rate': 0.07230719651701462, 'max_depth': 6, 'bagging_temperature': 0.12984618365686385, 'random_strength': 1.4524893206883593}. Best is trial 21 with value: 0.9561676752241501.\n"
     ]
    },
    {
     "name": "stdout",
     "output_type": "stream",
     "text": [
      "Fold 20 score: 0.9526300633105111\n",
      "Fold 0 score: 0.9507217080840678\n",
      "Fold 1 score: 0.9622343354835541\n",
      "Fold 2 score: 0.947509739566656\n",
      "Fold 3 score: 0.9495345755693583\n",
      "Fold 4 score: 0.9532623104733328\n",
      "Fold 5 score: 0.9533799672595643\n",
      "Fold 6 score: 0.9602801267639087\n",
      "Fold 7 score: 0.9522794882088338\n",
      "Fold 8 score: 0.9542520726675328\n",
      "Fold 9 score: 0.957490995362617\n",
      "Fold 10 score: 0.9553268154897573\n",
      "Fold 11 score: 0.9622342762548283\n",
      "Fold 12 score: 0.9565054368203976\n",
      "Fold 13 score: 0.9674270704065323\n",
      "Fold 14 score: 0.9508100006714638\n",
      "Fold 15 score: 0.9551910953893\n",
      "Fold 16 score: 0.9575163783758308\n",
      "Fold 17 score: 0.9565974841735821\n",
      "Fold 18 score: 0.9511532148689983\n",
      "Fold 19 score: 0.9572120328382865\n"
     ]
    },
    {
     "name": "stderr",
     "output_type": "stream",
     "text": [
      "[I 2024-11-09 04:02:21,604] Trial 57 finished with value: 0.9554117230599972 and parameters: {'learning_rate': 0.09049559717308969, 'max_depth': 7, 'bagging_temperature': 0.2503406036241143, 'random_strength': 1.6925747070744195}. Best is trial 21 with value: 0.9561676752241501.\n"
     ]
    },
    {
     "name": "stdout",
     "output_type": "stream",
     "text": [
      "Fold 20 score: 0.9527270595315385\n",
      "Fold 0 score: 0.9508622792408807\n",
      "Fold 1 score: 0.9615516491456993\n",
      "Fold 2 score: 0.948783888355214\n",
      "Fold 3 score: 0.9476530020703935\n",
      "Fold 4 score: 0.9536896989227129\n",
      "Fold 5 score: 0.9522635260573125\n",
      "Fold 6 score: 0.9604810423533318\n",
      "Fold 7 score: 0.954494230511894\n",
      "Fold 8 score: 0.9551853302259239\n",
      "Fold 9 score: 0.9583948331560421\n",
      "Fold 10 score: 0.9552605264981635\n",
      "Fold 11 score: 0.9609216129267354\n",
      "Fold 12 score: 0.9560071172333232\n",
      "Fold 13 score: 0.9688517056176877\n",
      "Fold 14 score: 0.9511989428879953\n",
      "Fold 15 score: 0.9565140282739866\n",
      "Fold 16 score: 0.9577688713228609\n",
      "Fold 17 score: 0.9547389051070948\n",
      "Fold 18 score: 0.9506208991939918\n",
      "Fold 19 score: 0.9575580317256959\n"
     ]
    },
    {
     "name": "stderr",
     "output_type": "stream",
     "text": [
      "[I 2024-11-09 04:05:03,639] Trial 58 finished with value: 0.9555219868299373 and parameters: {'learning_rate': 0.09411802292068021, 'max_depth': 6, 'bagging_temperature': 0.19471851816162866, 'random_strength': 1.571583162651232}. Best is trial 21 with value: 0.9561676752241501.\n"
     ]
    },
    {
     "name": "stdout",
     "output_type": "stream",
     "text": [
      "Fold 20 score: 0.9531616026017404\n",
      "Fold 0 score: 0.9510492695335883\n",
      "Fold 1 score: 0.961913380827607\n",
      "Fold 2 score: 0.9470352692389796\n",
      "Fold 3 score: 0.9488207039337473\n",
      "Fold 4 score: 0.9507069175583119\n",
      "Fold 5 score: 0.953005693637476\n",
      "Fold 6 score: 0.9599681788750679\n",
      "Fold 7 score: 0.9546560438089945\n",
      "Fold 8 score: 0.9541995396194698\n",
      "Fold 9 score: 0.9567315262303134\n",
      "Fold 10 score: 0.9558351745746421\n",
      "Fold 11 score: 0.9633432935272621\n",
      "Fold 12 score: 0.9566898797844443\n",
      "Fold 13 score: 0.9666982649337292\n",
      "Fold 14 score: 0.9522128953981928\n",
      "Fold 15 score: 0.9574513236082952\n",
      "Fold 16 score: 0.9568965081908712\n",
      "Fold 17 score: 0.9557647521894577\n",
      "Fold 18 score: 0.9536087092872182\n",
      "Fold 19 score: 0.9570485157027023\n"
     ]
    },
    {
     "name": "stderr",
     "output_type": "stream",
     "text": [
      "[I 2024-11-09 04:07:56,138] Trial 59 finished with value: 0.9555391197589335 and parameters: {'learning_rate': 0.08809196447301053, 'max_depth': 5, 'bagging_temperature': 0.10342372200512795, 'random_strength': 1.384889300158137}. Best is trial 21 with value: 0.9561676752241501.\n"
     ]
    },
    {
     "name": "stdout",
     "output_type": "stream",
     "text": [
      "Fold 20 score: 0.9526856744772333\n",
      "Fold 0 score: 0.9519334226974686\n",
      "Fold 1 score: 0.9604879387695686\n",
      "Fold 2 score: 0.9455259699541041\n",
      "Fold 3 score: 0.9498202898550724\n",
      "Fold 4 score: 0.9520670853610924\n",
      "Fold 5 score: 0.9504508508557894\n",
      "Fold 6 score: 0.9603879053695707\n",
      "Fold 7 score: 0.9539861449937724\n",
      "Fold 8 score: 0.9526366814395966\n",
      "Fold 9 score: 0.9573830255990583\n",
      "Fold 10 score: 0.9563164154356931\n",
      "Fold 11 score: 0.962188882757759\n",
      "Fold 12 score: 0.9570676642765933\n",
      "Fold 13 score: 0.9663764384620619\n",
      "Fold 14 score: 0.948516888580513\n",
      "Fold 15 score: 0.9556747763846895\n",
      "Fold 16 score: 0.957031171095954\n",
      "Fold 17 score: 0.9577668350444452\n",
      "Fold 18 score: 0.9515372804248752\n",
      "Fold 19 score: 0.9576751909104702\n"
     ]
    },
    {
     "name": "stderr",
     "output_type": "stream",
     "text": [
      "[I 2024-11-09 04:11:15,254] Trial 60 finished with value: 0.9550777313478062 and parameters: {'learning_rate': 0.08359567680082014, 'max_depth': 7, 'bagging_temperature': 0.39956505379240226, 'random_strength': 1.6132253519328954}. Best is trial 21 with value: 0.9561676752241501.\n"
     ]
    },
    {
     "name": "stdout",
     "output_type": "stream",
     "text": [
      "Fold 20 score: 0.9518015000357808\n",
      "Fold 0 score: 0.950146723881901\n",
      "Fold 1 score: 0.9619313577960412\n",
      "Fold 2 score: 0.9492099943964136\n",
      "Fold 3 score: 0.9476666666666667\n",
      "Fold 4 score: 0.9530957427316541\n",
      "Fold 5 score: 0.947349483523667\n",
      "Fold 6 score: 0.9609792642096942\n",
      "Fold 7 score: 0.9523206620757805\n",
      "Fold 8 score: 0.954043930363465\n",
      "Fold 9 score: 0.957586695834862\n",
      "Fold 10 score: 0.9547616372692206\n",
      "Fold 11 score: 0.964508115649304\n",
      "Fold 12 score: 0.9569839368784403\n",
      "Fold 13 score: 0.969437337964963\n",
      "Fold 14 score: 0.9506377005364531\n",
      "Fold 15 score: 0.9565467094223236\n",
      "Fold 16 score: 0.9585120422302871\n",
      "Fold 17 score: 0.955216977728212\n",
      "Fold 18 score: 0.9546098048718898\n",
      "Fold 19 score: 0.9574421368486707\n"
     ]
    },
    {
     "name": "stderr",
     "output_type": "stream",
     "text": [
      "[I 2024-11-09 04:14:39,342] Trial 61 finished with value: 0.9554866230541453 and parameters: {'learning_rate': 0.07059416720821851, 'max_depth': 6, 'bagging_temperature': 0.13059912714312796, 'random_strength': 1.4496347997058876}. Best is trial 21 with value: 0.9561676752241501.\n"
     ]
    },
    {
     "name": "stdout",
     "output_type": "stream",
     "text": [
      "Fold 20 score: 0.9522321632571418\n",
      "Fold 0 score: 0.9530939010948347\n",
      "Fold 1 score: 0.9610960864578181\n",
      "Fold 2 score: 0.9476923564414559\n",
      "Fold 3 score: 0.9484\n",
      "Fold 4 score: 0.9521836827802675\n",
      "Fold 5 score: 0.9537695520752835\n",
      "Fold 6 score: 0.9613920766049657\n",
      "Fold 7 score: 0.9544164119033649\n",
      "Fold 8 score: 0.953377317821757\n",
      "Fold 9 score: 0.9578684805586946\n",
      "Fold 10 score: 0.9535464825726672\n",
      "Fold 11 score: 0.9628323043446574\n",
      "Fold 12 score: 0.9579817894931417\n",
      "Fold 13 score: 0.9671987447515362\n",
      "Fold 14 score: 0.9530342771692608\n",
      "Fold 15 score: 0.9567214446287662\n",
      "Fold 16 score: 0.9571839293289074\n",
      "Fold 17 score: 0.9558947256207565\n",
      "Fold 18 score: 0.9524043807095641\n",
      "Fold 19 score: 0.9577257632204448\n"
     ]
    },
    {
     "name": "stderr",
     "output_type": "stream",
     "text": [
      "[I 2024-11-09 04:18:06,478] Trial 62 finished with value: 0.9557938412052891 and parameters: {'learning_rate': 0.07320565851039466, 'max_depth': 6, 'bagging_temperature': 0.13438054453791012, 'random_strength': 1.5197907362066267}. Best is trial 21 with value: 0.9561676752241501.\n"
     ]
    },
    {
     "name": "stdout",
     "output_type": "stream",
     "text": [
      "Fold 20 score: 0.9538569577329268\n",
      "Fold 0 score: 0.9516369533106697\n",
      "Fold 1 score: 0.9614437873350943\n",
      "Fold 2 score: 0.9472987712135766\n",
      "Fold 3 score: 0.9492770186335404\n",
      "Fold 4 score: 0.953868454547929\n",
      "Fold 5 score: 0.9521065863225958\n",
      "Fold 6 score: 0.9607454049709934\n",
      "Fold 7 score: 0.9511060330008543\n",
      "Fold 8 score: 0.9536101347393087\n",
      "Fold 9 score: 0.9567241646555253\n",
      "Fold 10 score: 0.955291949201971\n",
      "Fold 11 score: 0.9632650001561703\n",
      "Fold 12 score: 0.9566878573835229\n",
      "Fold 13 score: 0.9653942624726541\n",
      "Fold 14 score: 0.9487136823621672\n",
      "Fold 15 score: 0.9564630456825807\n",
      "Fold 16 score: 0.9586887872932083\n",
      "Fold 17 score: 0.9565568931019778\n",
      "Fold 18 score: 0.9526568946487409\n",
      "Fold 19 score: 0.9553134640346588\n"
     ]
    },
    {
     "name": "stderr",
     "output_type": "stream",
     "text": [
      "[I 2024-11-09 04:21:06,788] Trial 63 finished with value: 0.9552621940494378 and parameters: {'learning_rate': 0.0788313456120381, 'max_depth': 6, 'bagging_temperature': 0.1806399731926605, 'random_strength': 1.4272369825313578}. Best is trial 21 with value: 0.9561676752241501.\n"
     ]
    },
    {
     "name": "stdout",
     "output_type": "stream",
     "text": [
      "Fold 20 score: 0.9536569299704528\n",
      "Fold 0 score: 0.9517700798890845\n",
      "Fold 1 score: 0.9618598883849492\n",
      "Fold 2 score: 0.9478428694364394\n",
      "Fold 3 score: 0.9459838509316769\n",
      "Fold 4 score: 0.9527223872326231\n",
      "Fold 5 score: 0.9527624157831186\n",
      "Fold 6 score: 0.9607811956023075\n",
      "Fold 7 score: 0.9547598019536999\n",
      "Fold 8 score: 0.9550038524235245\n",
      "Fold 9 score: 0.9581907539438616\n",
      "Fold 10 score: 0.9558558360785154\n",
      "Fold 11 score: 0.95976928442774\n",
      "Fold 12 score: 0.9570927420480209\n",
      "Fold 13 score: 0.9691088328635334\n",
      "Fold 14 score: 0.9526153513508036\n",
      "Fold 15 score: 0.9570438986256924\n",
      "Fold 16 score: 0.9593116032292164\n",
      "Fold 17 score: 0.954742185193689\n",
      "Fold 18 score: 0.9530877974675296\n",
      "Fold 19 score: 0.9555456752246254\n"
     ]
    },
    {
     "name": "stderr",
     "output_type": "stream",
     "text": [
      "[I 2024-11-09 04:23:42,348] Trial 64 finished with value: 0.9555638325059203 and parameters: {'learning_rate': 0.10002062032374662, 'max_depth': 6, 'bagging_temperature': 0.14175451348542822, 'random_strength': 1.3363970153370004}. Best is trial 21 with value: 0.9561676752241501.\n"
     ]
    },
    {
     "name": "stdout",
     "output_type": "stream",
     "text": [
      "Fold 20 score: 0.9509901805336776\n",
      "Fold 0 score: 0.9513960993036692\n",
      "Fold 1 score: 0.9611579096907259\n",
      "Fold 2 score: 0.9482527150709789\n",
      "Fold 3 score: 0.9495706004140786\n",
      "Fold 4 score: 0.9528040460523243\n",
      "Fold 5 score: 0.9498575421025927\n",
      "Fold 6 score: 0.9605562840214353\n",
      "Fold 7 score: 0.9543814141164603\n",
      "Fold 8 score: 0.9519195257380098\n",
      "Fold 9 score: 0.9567384788287244\n",
      "Fold 10 score: 0.9537354492435092\n",
      "Fold 11 score: 0.9625149663192745\n",
      "Fold 12 score: 0.9566312301577189\n",
      "Fold 13 score: 0.9675844356203048\n",
      "Fold 14 score: 0.9501436045610548\n",
      "Fold 15 score: 0.9575463168127949\n",
      "Fold 16 score: 0.9560982096566768\n",
      "Fold 17 score: 0.9550279627382162\n",
      "Fold 18 score: 0.9521934093861876\n",
      "Fold 19 score: 0.9572099256587044\n"
     ]
    },
    {
     "name": "stderr",
     "output_type": "stream",
     "text": [
      "[I 2024-11-09 04:26:57,758] Trial 65 finished with value: 0.9551164054843649 and parameters: {'learning_rate': 0.07492113599397829, 'max_depth': 5, 'bagging_temperature': 0.21462780706573514, 'random_strength': 1.5010385926125205}. Best is trial 21 with value: 0.9561676752241501.\n"
     ]
    },
    {
     "name": "stdout",
     "output_type": "stream",
     "text": [
      "Fold 20 score: 0.9521243896782227\n",
      "Fold 0 score: 0.9526918938613321\n",
      "Fold 1 score: 0.961036455538134\n",
      "Fold 2 score: 0.9481022020759953\n",
      "Fold 3 score: 0.9490534161490684\n",
      "Fold 4 score: 0.9547325754907349\n",
      "Fold 5 score: 0.9522435364434053\n",
      "Fold 6 score: 0.9588464679527433\n",
      "Fold 7 score: 0.9533088348825001\n",
      "Fold 8 score: 0.9543937527062479\n",
      "Fold 9 score: 0.9584770374078424\n",
      "Fold 10 score: 0.955723258095328\n",
      "Fold 11 score: 0.9634499057772595\n",
      "Fold 12 score: 0.9548923698453551\n",
      "Fold 13 score: 0.9666510971110334\n",
      "Fold 14 score: 0.9505599965539974\n",
      "Fold 15 score: 0.9607172596987843\n",
      "Fold 16 score: 0.9569133410540066\n",
      "Fold 17 score: 0.9564252796273822\n",
      "Fold 18 score: 0.953223014609153\n",
      "Fold 19 score: 0.9584493686889972\n"
     ]
    },
    {
     "name": "stderr",
     "output_type": "stream",
     "text": [
      "[I 2024-11-09 04:29:51,006] Trial 66 finished with value: 0.9558332513752896 and parameters: {'learning_rate': 0.09696970962513698, 'max_depth': 7, 'bagging_temperature': 0.1745186276837748, 'random_strength': 1.2292528366375743}. Best is trial 21 with value: 0.9561676752241501.\n"
     ]
    },
    {
     "name": "stdout",
     "output_type": "stream",
     "text": [
      "Fold 20 score: 0.9526072153117803\n",
      "Fold 0 score: 0.9534836466697991\n",
      "Fold 1 score: 0.9604234847607923\n",
      "Fold 2 score: 0.9474317730013875\n",
      "Fold 3 score: 0.9489118012422361\n",
      "Fold 4 score: 0.9540788986703426\n",
      "Fold 5 score: 0.9539864606517209\n",
      "Fold 6 score: 0.9604908034345992\n",
      "Fold 7 score: 0.9558130294701952\n",
      "Fold 8 score: 0.9548108332696569\n",
      "Fold 9 score: 0.9579523207160031\n",
      "Fold 10 score: 0.9554507845129976\n",
      "Fold 11 score: 0.9626548948973962\n",
      "Fold 12 score: 0.9581063693899103\n",
      "Fold 13 score: 0.9667487720713062\n",
      "Fold 14 score: 0.9533391808395492\n",
      "Fold 15 score: 0.9584753329228581\n",
      "Fold 16 score: 0.95893833448919\n",
      "Fold 17 score: 0.9577504346114737\n",
      "Fold 18 score: 0.9519954710403167\n",
      "Fold 19 score: 0.9545856442069419\n"
     ]
    },
    {
     "name": "stderr",
     "output_type": "stream",
     "text": [
      "[I 2024-11-09 04:32:47,642] Trial 67 finished with value: 0.956135397948954 and parameters: {'learning_rate': 0.09249085096563653, 'max_depth': 6, 'bagging_temperature': 0.10301086643471233, 'random_strength': 1.4611510296973431}. Best is trial 21 with value: 0.9561676752241501.\n"
     ]
    },
    {
     "name": "stdout",
     "output_type": "stream",
     "text": [
      "Fold 20 score: 0.9534150860593583\n",
      "Fold 0 score: 0.9492932248643664\n",
      "Fold 1 score: 0.9541859151767708\n",
      "Fold 2 score: 0.9406724470327676\n",
      "Fold 3 score: 0.945088612836439\n",
      "Fold 4 score: 0.9515787574940249\n",
      "Fold 5 score: 0.9538214400092548\n",
      "Fold 6 score: 0.959707883374601\n",
      "Fold 7 score: 0.949886874800564\n",
      "Fold 8 score: 0.9522056716588984\n",
      "Fold 9 score: 0.9571809912687634\n",
      "Fold 10 score: 0.9541125216891986\n",
      "Fold 11 score: 0.9563102166602462\n",
      "Fold 12 score: 0.9539515489366417\n",
      "Fold 13 score: 0.9633510191797724\n",
      "Fold 14 score: 0.9447157280039662\n",
      "Fold 15 score: 0.9548342172494586\n",
      "Fold 16 score: 0.9545638941818892\n",
      "Fold 17 score: 0.9553313707481879\n",
      "Fold 18 score: 0.9479055597867478\n",
      "Fold 19 score: 0.9557572360546855\n"
     ]
    },
    {
     "name": "stderr",
     "output_type": "stream",
     "text": [
      "[I 2024-11-09 04:35:44,382] Trial 68 finished with value: 0.9526109590453549 and parameters: {'learning_rate': 0.09304848355947569, 'max_depth': 7, 'bagging_temperature': 0.9663910316265245, 'random_strength': 1.396324405620531}. Best is trial 21 with value: 0.9561676752241501.\n"
     ]
    },
    {
     "name": "stdout",
     "output_type": "stream",
     "text": [
      "Fold 20 score: 0.950375008945207\n",
      "Fold 0 score: 0.9499759364951188\n",
      "Fold 1 score: 0.9618831269051201\n",
      "Fold 2 score: 0.9490811619436439\n",
      "Fold 3 score: 0.9497204968944098\n",
      "Fold 4 score: 0.9534934739977597\n",
      "Fold 5 score: 0.9531422184473515\n",
      "Fold 6 score: 0.9608954815954814\n",
      "Fold 7 score: 0.9557426221577163\n",
      "Fold 8 score: 0.9537000776852347\n",
      "Fold 9 score: 0.9576958925275516\n",
      "Fold 10 score: 0.9545993583742152\n",
      "Fold 11 score: 0.9624795677206425\n",
      "Fold 12 score: 0.9559322883992253\n",
      "Fold 13 score: 0.9680669666206259\n",
      "Fold 14 score: 0.9496858267513697\n",
      "Fold 15 score: 0.9565785190733717\n",
      "Fold 16 score: 0.9584034702630639\n",
      "Fold 17 score: 0.9566302850395251\n",
      "Fold 18 score: 0.9509125120656864\n",
      "Fold 19 score: 0.9546825744677263\n"
     ]
    },
    {
     "name": "stderr",
     "output_type": "stream",
     "text": [
      "[I 2024-11-09 04:38:26,022] Trial 69 finished with value: 0.9555502515769437 and parameters: {'learning_rate': 0.09157160182516792, 'max_depth': 6, 'bagging_temperature': 0.10023574021427999, 'random_strength': 1.5450260160166933}. Best is trial 21 with value: 0.9561676752241501.\n"
     ]
    },
    {
     "name": "stdout",
     "output_type": "stream",
     "text": [
      "Fold 20 score: 0.9532534256909795\n",
      "Fold 0 score: 0.9515870308437642\n",
      "Fold 1 score: 0.9610658325353313\n",
      "Fold 2 score: 0.9470923891290426\n",
      "Fold 3 score: 0.9508310559006211\n",
      "Fold 4 score: 0.9535946334311209\n",
      "Fold 5 score: 0.9532421665168864\n",
      "Fold 6 score: 0.9606404733473676\n",
      "Fold 7 score: 0.953791392603115\n",
      "Fold 8 score: 0.9539913973154022\n",
      "Fold 9 score: 0.9571450013475772\n",
      "Fold 10 score: 0.9547177315734897\n",
      "Fold 11 score: 0.963107996959885\n",
      "Fold 12 score: 0.9567808878259151\n",
      "Fold 13 score: 0.9683432949270381\n",
      "Fold 14 score: 0.9507411650783101\n",
      "Fold 15 score: 0.9584918913713488\n",
      "Fold 16 score: 0.9590839387553107\n",
      "Fold 17 score: 0.9568525109062879\n",
      "Fold 18 score: 0.9522622397986404\n",
      "Fold 19 score: 0.9554103942954434\n"
     ]
    },
    {
     "name": "stderr",
     "output_type": "stream",
     "text": [
      "[I 2024-11-09 04:41:40,858] Trial 70 finished with value: 0.9558090164260672 and parameters: {'learning_rate': 0.09503717444363426, 'max_depth': 7, 'bagging_temperature': 0.29609219153419325, 'random_strength': 1.6589787107023837}. Best is trial 21 with value: 0.9561676752241501.\n"
     ]
    },
    {
     "name": "stdout",
     "output_type": "stream",
     "text": [
      "Fold 20 score: 0.9532159204855156\n",
      "Fold 0 score: 0.9521107788298963\n",
      "Fold 1 score: 0.9617073033845808\n",
      "Fold 2 score: 0.9487613739459921\n",
      "Fold 3 score: 0.9515101449275363\n",
      "Fold 4 score: 0.9526163526458472\n",
      "Fold 5 score: 0.9545725391190365\n",
      "Fold 6 score: 0.9595525194977599\n",
      "Fold 7 score: 0.9544007658339252\n",
      "Fold 8 score: 0.9538282264842973\n",
      "Fold 9 score: 0.9579097871727832\n",
      "Fold 10 score: 0.954874845092527\n",
      "Fold 11 score: 0.9614742475194953\n",
      "Fold 12 score: 0.9582479374544202\n",
      "Fold 13 score: 0.9656017174096434\n",
      "Fold 14 score: 0.9502749411835751\n",
      "Fold 15 score: 0.9568011866307086\n",
      "Fold 16 score: 0.9604558171008424\n",
      "Fold 17 score: 0.9549902417423819\n",
      "Fold 18 score: 0.9524772839274879\n",
      "Fold 19 score: 0.9584687547411541\n"
     ]
    },
    {
     "name": "stderr",
     "output_type": "stream",
     "text": [
      "[I 2024-11-09 04:44:50,718] Trial 71 finished with value: 0.9558916500056026 and parameters: {'learning_rate': 0.08557317486922614, 'max_depth': 6, 'bagging_temperature': 0.13645509154502025, 'random_strength': 1.4563226393867215}. Best is trial 21 with value: 0.9561676752241501.\n"
     ]
    },
    {
     "name": "stdout",
     "output_type": "stream",
     "text": [
      "Fold 20 score: 0.9530878854737598\n",
      "Fold 0 score: 0.9504637753383889\n",
      "Fold 1 score: 0.9622154815898305\n",
      "Fold 2 score: 0.9467004716351798\n",
      "Fold 3 score: 0.948864596273292\n",
      "Fold 4 score: 0.9514390030961287\n",
      "Fold 5 score: 0.9505958818843486\n",
      "Fold 6 score: 0.9597798713489489\n",
      "Fold 7 score: 0.9539070911692349\n",
      "Fold 8 score: 0.9542886866101219\n",
      "Fold 9 score: 0.9573723922132533\n",
      "Fold 10 score: 0.9542946011920826\n",
      "Fold 11 score: 0.9608878801445095\n",
      "Fold 12 score: 0.956282972719025\n",
      "Fold 13 score: 0.969862683197945\n",
      "Fold 14 score: 0.9506964008275475\n",
      "Fold 15 score: 0.9578434973883404\n",
      "Fold 16 score: 0.9579005884768952\n",
      "Fold 17 score: 0.9543436546724835\n",
      "Fold 18 score: 0.9543010862172191\n",
      "Fold 19 score: 0.9578652585087912\n"
     ]
    },
    {
     "name": "stderr",
     "output_type": "stream",
     "text": [
      "[I 2024-11-09 04:47:47,904] Trial 72 finished with value: 0.95543302293222 and parameters: {'learning_rate': 0.08656265085737531, 'max_depth': 5, 'bagging_temperature': 0.16051496274874286, 'random_strength': 1.3023234577863538}. Best is trial 21 with value: 0.9561676752241501.\n"
     ]
    },
    {
     "name": "stdout",
     "output_type": "stream",
     "text": [
      "Fold 20 score: 0.9541876070730506\n",
      "Fold 0 score: 0.9516500908019607\n",
      "Fold 1 score: 0.9613591640446599\n",
      "Fold 2 score: 0.9487134265930197\n",
      "Fold 3 score: 0.948833126293996\n",
      "Fold 4 score: 0.9518903610497992\n",
      "Fold 5 score: 0.946682170667921\n",
      "Fold 6 score: 0.9602463696911919\n",
      "Fold 7 score: 0.955632687932969\n",
      "Fold 8 score: 0.9547642698861467\n",
      "Fold 9 score: 0.9567474763090209\n",
      "Fold 10 score: 0.9552295342423535\n",
      "Fold 11 score: 0.9640191985340817\n",
      "Fold 12 score: 0.9575336254489224\n",
      "Fold 13 score: 0.9682243318343985\n",
      "Fold 14 score: 0.9489628418711287\n",
      "Fold 15 score: 0.9567780919525503\n",
      "Fold 16 score: 0.9590498522074618\n",
      "Fold 17 score: 0.9561579525699478\n",
      "Fold 18 score: 0.9548358455755078\n",
      "Fold 19 score: 0.9578698943038721\n"
     ]
    },
    {
     "name": "stderr",
     "output_type": "stream",
     "text": [
      "[I 2024-11-09 04:50:58,075] Trial 73 finished with value: 0.9556931985375499 and parameters: {'learning_rate': 0.08206395406606157, 'max_depth': 6, 'bagging_temperature': 0.12833683001507584, 'random_strength': 1.494340684740554}. Best is trial 21 with value: 0.9561676752241501.\n"
     ]
    },
    {
     "name": "stdout",
     "output_type": "stream",
     "text": [
      "Fold 20 score: 0.9543768574776327\n",
      "Fold 0 score: 0.9512966922862345\n",
      "Fold 1 score: 0.9618875115315678\n",
      "Fold 2 score: 0.9483165058971075\n",
      "Fold 3 score: 0.9503937888198757\n",
      "Fold 4 score: 0.9526736356984734\n",
      "Fold 5 score: 0.9522643766791807\n",
      "Fold 6 score: 0.9623165323433428\n",
      "Fold 7 score: 0.9535192333425975\n",
      "Fold 8 score: 0.9554273006291228\n",
      "Fold 9 score: 0.9570685227650566\n",
      "Fold 10 score: 0.9558330223346552\n",
      "Fold 11 score: 0.9622642609501401\n",
      "Fold 12 score: 0.95616810034668\n",
      "Fold 13 score: 0.9678866436170457\n",
      "Fold 14 score: 0.9514003820164267\n",
      "Fold 15 score: 0.9548307312603027\n",
      "Fold 16 score: 0.9601393592738976\n",
      "Fold 17 score: 0.956683176435858\n",
      "Fold 18 score: 0.9520716325026167\n",
      "Fold 19 score: 0.9567467675865208\n"
     ]
    },
    {
     "name": "stderr",
     "output_type": "stream",
     "text": [
      "[I 2024-11-09 04:54:13,044] Trial 74 finished with value: 0.9558716090780492 and parameters: {'learning_rate': 0.08487402108293099, 'max_depth': 6, 'bagging_temperature': 0.2330654310993489, 'random_strength': 1.369122425950401}. Best is trial 21 with value: 0.9561676752241501.\n"
     ]
    },
    {
     "name": "stdout",
     "output_type": "stream",
     "text": [
      "Fold 20 score: 0.9541156143223326\n",
      "Fold 0 score: 0.9510133603907264\n",
      "Fold 1 score: 0.959898206512398\n",
      "Fold 2 score: 0.9499759012434624\n",
      "Fold 3 score: 0.9497689440993788\n",
      "Fold 4 score: 0.9532058399462757\n",
      "Fold 5 score: 0.9532345109200708\n",
      "Fold 6 score: 0.9607820090257465\n",
      "Fold 7 score: 0.95526912268783\n",
      "Fold 8 score: 0.9539245370724128\n",
      "Fold 9 score: 0.9569548273322185\n",
      "Fold 10 score: 0.9514101691617585\n",
      "Fold 11 score: 0.9616674822226154\n",
      "Fold 12 score: 0.95494252538821\n",
      "Fold 13 score: 0.967704650956025\n",
      "Fold 14 score: 0.9531149372814839\n",
      "Fold 15 score: 0.9580975388480809\n",
      "Fold 16 score: 0.959780398467536\n",
      "Fold 17 score: 0.9566011742710007\n",
      "Fold 18 score: 0.9548431766253549\n",
      "Fold 19 score: 0.9559165388311053\n"
     ]
    },
    {
     "name": "stderr",
     "output_type": "stream",
     "text": [
      "[I 2024-11-09 04:57:15,584] Trial 75 finished with value: 0.9557318802107562 and parameters: {'learning_rate': 0.08865050908725879, 'max_depth': 6, 'bagging_temperature': 0.19534280338119545, 'random_strength': 1.5764299914298692}. Best is trial 21 with value: 0.9561676752241501.\n"
     ]
    },
    {
     "name": "stdout",
     "output_type": "stream",
     "text": [
      "Fold 20 score: 0.9522636331421862\n",
      "Fold 0 score: 0.9499207590316968\n",
      "Fold 1 score: 0.9570017222812685\n",
      "Fold 2 score: 0.9357317850090725\n",
      "Fold 3 score: 0.9514099378881987\n",
      "Fold 4 score: 0.9465882254482197\n",
      "Fold 5 score: 0.9512449063699244\n",
      "Fold 6 score: 0.9607771284851127\n",
      "Fold 7 score: 0.9516989366848861\n",
      "Fold 8 score: 0.9515056289956954\n",
      "Fold 9 score: 0.9566059704825389\n",
      "Fold 10 score: 0.9533583767978199\n",
      "Fold 11 score: 0.9589080573457297\n",
      "Fold 12 score: 0.9542605717974573\n",
      "Fold 13 score: 0.9635129759515065\n",
      "Fold 14 score: 0.9480810705919565\n",
      "Fold 15 score: 0.9548607979167728\n",
      "Fold 16 score: 0.9559845878305134\n",
      "Fold 17 score: 0.9495625184504871\n",
      "Fold 18 score: 0.9472897515995944\n",
      "Fold 19 score: 0.9505381736653123\n"
     ]
    },
    {
     "name": "stderr",
     "output_type": "stream",
     "text": [
      "[I 2024-11-09 05:02:26,558] Trial 76 finished with value: 0.9524285870834727 and parameters: {'learning_rate': 0.09050215673750726, 'max_depth': 10, 'bagging_temperature': 0.2678220624344889, 'random_strength': 1.4152054504249945}. Best is trial 21 with value: 0.9561676752241501.\n"
     ]
    },
    {
     "name": "stdout",
     "output_type": "stream",
     "text": [
      "Fold 20 score: 0.952158446129161\n",
      "Fold 0 score: 0.9497320170734836\n",
      "Fold 1 score: 0.9616555647925019\n",
      "Fold 2 score: 0.9491903985217205\n",
      "Fold 3 score: 0.9480492753623189\n",
      "Fold 4 score: 0.95335250081151\n",
      "Fold 5 score: 0.9516812753884046\n",
      "Fold 6 score: 0.9602748395115555\n",
      "Fold 7 score: 0.9556092188288094\n",
      "Fold 8 score: 0.9530903759455949\n",
      "Fold 9 score: 0.95776419158253\n",
      "Fold 10 score: 0.955798156046869\n",
      "Fold 11 score: 0.9647138439754709\n",
      "Fold 12 score: 0.9554655182665274\n",
      "Fold 13 score: 0.9679768051188358\n",
      "Fold 14 score: 0.9496414848048594\n",
      "Fold 15 score: 0.9568129518441101\n",
      "Fold 16 score: 0.9569348029545042\n",
      "Fold 17 score: 0.9569476334175223\n",
      "Fold 18 score: 0.9506477797100977\n",
      "Fold 19 score: 0.9523718413378063\n"
     ]
    },
    {
     "name": "stderr",
     "output_type": "stream",
     "text": [
      "[I 2024-11-09 05:04:59,298] Trial 77 finished with value: 0.955220603892343 and parameters: {'learning_rate': 0.09842821703803226, 'max_depth': 5, 'bagging_temperature': 0.1663651086025936, 'random_strength': 1.4638117552068006}. Best is trial 21 with value: 0.9561676752241501.\n"
     ]
    },
    {
     "name": "stdout",
     "output_type": "stream",
     "text": [
      "Fold 20 score: 0.9519222064441701\n",
      "Fold 0 score: 0.9478857616307305\n",
      "Fold 1 score: 0.9580996327436888\n",
      "Fold 2 score: 0.9444065034955705\n",
      "Fold 3 score: 0.9454120082815736\n",
      "Fold 4 score: 0.9512838107124184\n",
      "Fold 5 score: 0.9516923334726934\n",
      "Fold 6 score: 0.9576328401818163\n",
      "Fold 7 score: 0.9523173681664248\n",
      "Fold 8 score: 0.9516560645424214\n",
      "Fold 9 score: 0.9582447388256405\n",
      "Fold 10 score: 0.9541577187289216\n",
      "Fold 11 score: 0.9572634800986995\n",
      "Fold 12 score: 0.9550080511780688\n",
      "Fold 13 score: 0.9639888283220652\n",
      "Fold 14 score: 0.9502369338008523\n",
      "Fold 15 score: 0.9522807301927185\n",
      "Fold 16 score: 0.9583201475905441\n",
      "Fold 17 score: 0.9537524190638632\n",
      "Fold 18 score: 0.9465806761671643\n",
      "Fold 19 score: 0.9548532560138905\n"
     ]
    },
    {
     "name": "stderr",
     "output_type": "stream",
     "text": [
      "[I 2024-11-09 05:08:04,586] Trial 78 finished with value: 0.9530147864496922 and parameters: {'learning_rate': 0.08604893468155377, 'max_depth': 6, 'bagging_temperature': 0.8990899507161663, 'random_strength': 0.7608800287015732}. Best is trial 21 with value: 0.9561676752241501.\n"
     ]
    },
    {
     "name": "stdout",
     "output_type": "stream",
     "text": [
      "Fold 20 score: 0.948237212233767\n",
      "Fold 0 score: 0.9487620322998361\n",
      "Fold 1 score: 0.9601191916853452\n",
      "Fold 2 score: 0.9439945731935107\n",
      "Fold 3 score: 0.9493552795031056\n",
      "Fold 4 score: 0.9534219717476734\n",
      "Fold 5 score: 0.9519675096471152\n",
      "Fold 6 score: 0.9598237962146527\n",
      "Fold 7 score: 0.9534372973473736\n",
      "Fold 8 score: 0.9543547508978375\n",
      "Fold 9 score: 0.9572648314260721\n",
      "Fold 10 score: 0.9564132662350996\n",
      "Fold 11 score: 0.959331174712907\n",
      "Fold 12 score: 0.957856805116189\n",
      "Fold 13 score: 0.966127659503419\n",
      "Fold 14 score: 0.9515093365135661\n",
      "Fold 15 score: 0.9557837135458132\n",
      "Fold 16 score: 0.9569886681165373\n",
      "Fold 17 score: 0.954657312953062\n",
      "Fold 18 score: 0.9494267526300141\n",
      "Fold 19 score: 0.955684327641139\n"
     ]
    },
    {
     "name": "stderr",
     "output_type": "stream",
     "text": [
      "[I 2024-11-09 05:11:07,815] Trial 79 finished with value: 0.9546057106677537 and parameters: {'learning_rate': 0.08924245153116413, 'max_depth': 7, 'bagging_temperature': 0.49823478669320875, 'random_strength': 1.6218659368003159}. Best is trial 21 with value: 0.9561676752241501.\n"
     ]
    },
    {
     "name": "stdout",
     "output_type": "stream",
     "text": [
      "Fold 20 score: 0.9504396730925585\n",
      "Fold 0 score: 0.9528964008090943\n",
      "Fold 1 score: 0.9626096595074487\n",
      "Fold 2 score: 0.9464523962002348\n",
      "Fold 3 score: 0.9499258799171842\n",
      "Fold 4 score: 0.9540524915893448\n",
      "Fold 5 score: 0.9535938986594624\n",
      "Fold 6 score: 0.9624271579310412\n",
      "Fold 7 score: 0.9567423236471811\n",
      "Fold 8 score: 0.9554352601818599\n",
      "Fold 9 score: 0.9569548273322185\n",
      "Fold 10 score: 0.954437509927207\n",
      "Fold 11 score: 0.9637539172713927\n",
      "Fold 12 score: 0.9567351815650875\n",
      "Fold 13 score: 0.9685570110794294\n",
      "Fold 14 score: 0.9516617883487102\n",
      "Fold 15 score: 0.9576896781168338\n",
      "Fold 16 score: 0.9567403833852908\n",
      "Fold 17 score: 0.9565917440220421\n",
      "Fold 18 score: 0.9517592483230223\n",
      "Fold 19 score: 0.9564719913689925\n"
     ]
    },
    {
     "name": "stderr",
     "output_type": "stream",
     "text": [
      "[I 2024-11-09 05:14:03,738] Trial 80 finished with value: 0.9560753380985987 and parameters: {'learning_rate': 0.0918328725417738, 'max_depth': 6, 'bagging_temperature': 0.11650917185988365, 'random_strength': 1.541558190882482}. Best is trial 21 with value: 0.9561676752241501.\n"
     ]
    },
    {
     "name": "stdout",
     "output_type": "stream",
     "text": [
      "Fold 20 score: 0.9520933508874938\n",
      "Fold 0 score: 0.9512235602513814\n",
      "Fold 1 score: 0.9627534752549222\n",
      "Fold 2 score: 0.9499892431155941\n",
      "Fold 3 score: 0.9503345755693582\n",
      "Fold 4 score: 0.9526163526458473\n",
      "Fold 5 score: 0.9520444909262038\n",
      "Fold 6 score: 0.9617182594039884\n",
      "Fold 7 score: 0.9511974389854759\n",
      "Fold 8 score: 0.9541298935330227\n",
      "Fold 9 score: 0.9574541874886764\n",
      "Fold 10 score: 0.9545201559427003\n",
      "Fold 11 score: 0.9633228872762861\n",
      "Fold 12 score: 0.9554610689844998\n",
      "Fold 13 score: 0.9671937357792145\n",
      "Fold 14 score: 0.9495118373993491\n",
      "Fold 15 score: 0.9543309275650669\n",
      "Fold 16 score: 0.9559340892411072\n",
      "Fold 17 score: 0.955429363335192\n",
      "Fold 18 score: 0.9530820955398707\n",
      "Fold 19 score: 0.9564606125992481\n"
     ]
    },
    {
     "name": "stderr",
     "output_type": "stream",
     "text": [
      "[I 2024-11-09 05:16:46,091] Trial 81 finished with value: 0.9553538226690059 and parameters: {'learning_rate': 0.0932019338383746, 'max_depth': 6, 'bagging_temperature': 0.11698470551283598, 'random_strength': 1.5335993995836674}. Best is trial 21 with value: 0.9561676752241501.\n"
     ]
    },
    {
     "name": "stdout",
     "output_type": "stream",
     "text": [
      "Fold 20 score: 0.9537220252121199\n",
      "Fold 0 score: 0.9525749701888429\n",
      "Fold 1 score: 0.9592961973011747\n",
      "Fold 2 score: 0.9481555695645214\n",
      "Fold 3 score: 0.9490062111801243\n",
      "Fold 4 score: 0.9531420566890965\n",
      "Fold 5 score: 0.9539464814239069\n",
      "Fold 6 score: 0.959828270043567\n",
      "Fold 7 score: 0.9536332849540398\n",
      "Fold 8 score: 0.9549763919665826\n",
      "Fold 9 score: 0.9583825638647285\n",
      "Fold 10 score: 0.9554292621131294\n",
      "Fold 11 score: 0.9634778082020635\n",
      "Fold 12 score: 0.9549004594490413\n",
      "Fold 13 score: 0.9672617743199171\n",
      "Fold 14 score: 0.952172354189955\n",
      "Fold 15 score: 0.9550943591902221\n",
      "Fold 16 score: 0.9577562466755094\n",
      "Fold 17 score: 0.9565060517597664\n",
      "Fold 18 score: 0.9534290985659651\n",
      "Fold 19 score: 0.9551528969504895\n"
     ]
    },
    {
     "name": "stderr",
     "output_type": "stream",
     "text": [
      "[I 2024-11-09 05:19:29,739] Trial 82 finished with value: 0.9556183476974281 and parameters: {'learning_rate': 0.09571992434303242, 'max_depth': 6, 'bagging_temperature': 0.14890986227448594, 'random_strength': 0.9418767621115508}. Best is trial 21 with value: 0.9561676752241501.\n"
     ]
    },
    {
     "name": "stdout",
     "output_type": "stream",
     "text": [
      "Fold 20 score: 0.9538629930533462\n",
      "Fold 0 score: 0.9462580264597833\n",
      "Fold 1 score: 0.9600034375471348\n",
      "Fold 2 score: 0.9459107995783969\n",
      "Fold 3 score: 0.9472115942028987\n",
      "Fold 4 score: 0.9518773606406927\n",
      "Fold 5 score: 0.9483557691939635\n",
      "Fold 6 score: 0.9588094571862708\n",
      "Fold 7 score: 0.9541895438964888\n",
      "Fold 8 score: 0.9537024655510558\n",
      "Fold 9 score: 0.956918019458278\n",
      "Fold 10 score: 0.9539734869860504\n",
      "Fold 11 score: 0.9597559578964903\n",
      "Fold 12 score: 0.9544001174610455\n",
      "Fold 13 score: 0.9651918165079866\n",
      "Fold 14 score: 0.948911743056579\n",
      "Fold 15 score: 0.9545209139740668\n",
      "Fold 16 score: 0.957268935287741\n",
      "Fold 17 score: 0.954505198937252\n",
      "Fold 18 score: 0.9510611694653628\n",
      "Fold 19 score: 0.9542198378314595\n"
     ]
    },
    {
     "name": "stderr",
     "output_type": "stream",
     "text": [
      "[I 2024-11-09 05:22:20,508] Trial 83 finished with value: 0.9535636104070193 and parameters: {'learning_rate': 0.09224276676574626, 'max_depth': 6, 'bagging_temperature': 0.7152746885056834, 'random_strength': 1.486143862062416}. Best is trial 21 with value: 0.9561676752241501.\n"
     ]
    },
    {
     "name": "stdout",
     "output_type": "stream",
     "text": [
      "Fold 20 score: 0.9477901674284103\n",
      "Fold 0 score: 0.9519088993803921\n",
      "Fold 1 score: 0.9628810678845405\n",
      "Fold 2 score: 0.948799314894866\n",
      "Fold 3 score: 0.9512041407867494\n",
      "Fold 4 score: 0.9540971804956488\n",
      "Fold 5 score: 0.9516757463462602\n",
      "Fold 6 score: 0.95970869679804\n",
      "Fold 7 score: 0.9544571740316419\n",
      "Fold 8 score: 0.9531560422556736\n",
      "Fold 9 score: 0.9586197701634557\n",
      "Fold 10 score: 0.9545149905667321\n",
      "Fold 11 score: 0.9625432851981801\n",
      "Fold 12 score: 0.957771864277483\n",
      "Fold 13 score: 0.9696339401285886\n",
      "Fold 14 score: 0.951099701388663\n",
      "Fold 15 score: 0.9592174128644331\n",
      "Fold 16 score: 0.9580078979793831\n",
      "Fold 17 score: 0.9558746350903664\n",
      "Fold 18 score: 0.9534584227653533\n",
      "Fold 19 score: 0.9577636924529257\n"
     ]
    },
    {
     "name": "stderr",
     "output_type": "stream",
     "text": [
      "[I 2024-11-09 05:25:23,970] Trial 84 finished with value: 0.9561892620012361 and parameters: {'learning_rate': 0.09030128590511562, 'max_depth': 6, 'bagging_temperature': 0.12657694966395555, 'random_strength': 1.4441256496986168}. Best is trial 84 with value: 0.9561892620012361.\n"
     ]
    },
    {
     "name": "stdout",
     "output_type": "stream",
     "text": [
      "Fold 20 score: 0.953580626276578\n",
      "Fold 0 score: 0.9518164990249792\n",
      "Fold 1 score: 0.9616419724505152\n",
      "Fold 2 score: 0.9477649028711709\n",
      "Fold 3 score: 0.9475391304347826\n",
      "Fold 4 score: 0.951381313780718\n",
      "Fold 5 score: 0.9526046254265338\n",
      "Fold 6 score: 0.961128527410743\n",
      "Fold 7 score: 0.9530049717444339\n",
      "Fold 8 score: 0.9515915921652529\n",
      "Fold 9 score: 0.9572366120560509\n",
      "Fold 10 score: 0.9550849037152398\n",
      "Fold 11 score: 0.9622879988339285\n",
      "Fold 12 score: 0.9569236693309776\n",
      "Fold 13 score: 0.9650382080234554\n",
      "Fold 14 score: 0.9502120178499561\n",
      "Fold 15 score: 0.9562168476984412\n",
      "Fold 16 score: 0.9585377123465685\n",
      "Fold 17 score: 0.9559988683701248\n",
      "Fold 18 score: 0.952210515169164\n",
      "Fold 19 score: 0.9564424908548408\n"
     ]
    },
    {
     "name": "stderr",
     "output_type": "stream",
     "text": [
      "[I 2024-11-09 05:28:10,950] Trial 85 finished with value: 0.9551112233386344 and parameters: {'learning_rate': 0.09056778747029673, 'max_depth': 5, 'bagging_temperature': 0.21853827831027337, 'random_strength': 1.4427781740641596}. Best is trial 84 with value: 0.9561892620012361.\n"
     ]
    },
    {
     "name": "stdout",
     "output_type": "stream",
     "text": [
      "Fold 20 score: 0.9526723105534476\n",
      "Fold 0 score: 0.950283791707703\n",
      "Fold 1 score: 0.9607523317443446\n",
      "Fold 2 score: 0.9499462989646708\n",
      "Fold 3 score: 0.9501296066252588\n",
      "Fold 4 score: 0.9534520351937326\n",
      "Fold 5 score: 0.9518628831573043\n",
      "Fold 6 score: 0.9601097145534468\n",
      "Fold 7 score: 0.9526978146970118\n",
      "Fold 8 score: 0.9540678090216755\n",
      "Fold 9 score: 0.9579739964639903\n",
      "Fold 10 score: 0.9551481795708519\n",
      "Fold 11 score: 0.9630725983612531\n",
      "Fold 12 score: 0.9548025752444377\n",
      "Fold 13 score: 0.965666834049825\n",
      "Fold 14 score: 0.9496207918964883\n",
      "Fold 15 score: 0.9565484524169016\n",
      "Fold 16 score: 0.9596928675792323\n",
      "Fold 17 score: 0.9548852789713648\n",
      "Fold 18 score: 0.95178449971694\n",
      "Fold 19 score: 0.9573148632019015\n"
     ]
    },
    {
     "name": "stderr",
     "output_type": "stream",
     "text": [
      "[I 2024-11-09 05:30:49,662] Trial 86 finished with value: 0.9554170740574273 and parameters: {'learning_rate': 0.09398290187976424, 'max_depth': 6, 'bagging_temperature': 0.17985702129396192, 'random_strength': 1.5609718990279162}. Best is trial 84 with value: 0.9561892620012361.\n"
     ]
    },
    {
     "name": "stdout",
     "output_type": "stream",
     "text": [
      "Fold 20 score: 0.9539453320676404\n",
      "Fold 0 score: 0.9510580278611158\n",
      "Fold 1 score: 0.9607049777787132\n",
      "Fold 2 score: 0.9501326682410075\n",
      "Fold 3 score: 0.9488910973084888\n",
      "Fold 4 score: 0.9513788762040105\n",
      "Fold 5 score: 0.9518343873247135\n",
      "Fold 6 score: 0.9618663024698788\n",
      "Fold 7 score: 0.9534525316781438\n",
      "Fold 8 score: 0.9506897748401723\n",
      "Fold 9 score: 0.959499069374254\n",
      "Fold 10 score: 0.9557357410872513\n",
      "Fold 11 score: 0.9616433278847254\n",
      "Fold 12 score: 0.9576913727208046\n",
      "Fold 13 score: 0.9660587861339959\n",
      "Fold 14 score: 0.9493154659219473\n",
      "Fold 15 score: 0.957624751568804\n",
      "Fold 16 score: 0.9575290030231823\n",
      "Fold 17 score: 0.9552013973168891\n",
      "Fold 18 score: 0.949872724829044\n",
      "Fold 19 score: 0.9574476155155845\n"
     ]
    },
    {
     "name": "stderr",
     "output_type": "stream",
     "text": [
      "[I 2024-11-09 05:33:25,223] Trial 87 finished with value: 0.9552983743287278 and parameters: {'learning_rate': 0.0970967801637594, 'max_depth': 6, 'bagging_temperature': 0.14414144550082694, 'random_strength': 1.5173692493531388}. Best is trial 84 with value: 0.9561892620012361.\n"
     ]
    },
    {
     "name": "stdout",
     "output_type": "stream",
     "text": [
      "Fold 20 score: 0.953637961820563\n",
      "Fold 0 score: 0.9509643137565738\n",
      "Fold 1 score: 0.9610417170898707\n",
      "Fold 2 score: 0.9467038071032127\n",
      "Fold 3 score: 0.9490964803312629\n",
      "Fold 4 score: 0.9516916985481386\n",
      "Fold 5 score: 0.9505308093114174\n",
      "Fold 6 score: 0.9610406776793354\n",
      "Fold 7 score: 0.9535834645750341\n",
      "Fold 8 score: 0.9522172130103665\n",
      "Fold 9 score: 0.9565376714275606\n",
      "Fold 10 score: 0.9546591906458486\n",
      "Fold 11 score: 0.9638138866620163\n",
      "Fold 12 score: 0.9547827557154062\n",
      "Fold 13 score: 0.964947211692945\n",
      "Fold 14 score: 0.9504687788354621\n",
      "Fold 15 score: 0.957803408513047\n",
      "Fold 16 score: 0.9578820723274462\n",
      "Fold 17 score: 0.9559492570603864\n",
      "Fold 18 score: 0.9537341516957125\n",
      "Fold 19 score: 0.9554660238364154\n"
     ]
    },
    {
     "name": "stderr",
     "output_type": "stream",
     "text": [
      "[I 2024-11-09 05:35:59,616] Trial 88 finished with value: 0.9551417360077478 and parameters: {'learning_rate': 0.09166838848357928, 'max_depth': 5, 'bagging_temperature': 0.12296180451422664, 'random_strength': 1.5912763942343644}. Best is trial 84 with value: 0.9561892620012361.\n"
     ]
    },
    {
     "name": "stdout",
     "output_type": "stream",
     "text": [
      "Fold 20 score: 0.9550618663452428\n",
      "Fold 0 score: 0.9500941739167372\n",
      "Fold 1 score: 0.96297358350258\n",
      "Fold 2 score: 0.9492896286956986\n",
      "Fold 3 score: 0.9492178053830227\n",
      "Fold 4 score: 0.9534731608585308\n",
      "Fold 5 score: 0.9523775093876756\n",
      "Fold 6 score: 0.9618760635511464\n",
      "Fold 7 score: 0.9547700954204366\n",
      "Fold 8 score: 0.950108727490385\n",
      "Fold 9 score: 0.9553205577292649\n",
      "Fold 10 score: 0.9545993583742151\n",
      "Fold 11 score: 0.962118085560495\n",
      "Fold 12 score: 0.957485492306989\n",
      "Fold 13 score: 0.9665187767588693\n",
      "Fold 14 score: 0.9508657448327907\n",
      "Fold 15 score: 0.9568961798352087\n",
      "Fold 16 score: 0.9597610406749305\n",
      "Fold 17 score: 0.9565101518680094\n",
      "Fold 18 score: 0.9537614394923655\n",
      "Fold 19 score: 0.9581670066249726\n"
     ]
    },
    {
     "name": "stderr",
     "output_type": "stream",
     "text": [
      "[I 2024-11-09 05:38:19,146] Trial 89 finished with value: 0.9557242287900823 and parameters: {'learning_rate': 0.1185972331603215, 'max_depth': 6, 'bagging_temperature': 0.1576575024716026, 'random_strength': 1.3260616432228398}. Best is trial 84 with value: 0.9561892620012361.\n"
     ]
    },
    {
     "name": "stdout",
     "output_type": "stream",
     "text": [
      "Fold 20 score: 0.9540242223274092\n",
      "Fold 0 score: 0.9500871672547154\n",
      "Fold 1 score: 0.9605370465857791\n",
      "Fold 2 score: 0.9468805869089552\n",
      "Fold 3 score: 0.9434931677018632\n",
      "Fold 4 score: 0.9526561663987363\n",
      "Fold 5 score: 0.9517820740798079\n",
      "Fold 6 score: 0.9589664479099899\n",
      "Fold 7 score: 0.9531890189296852\n",
      "Fold 8 score: 0.9496621965818497\n",
      "Fold 9 score: 0.9567462493798895\n",
      "Fold 10 score: 0.9530988166554104\n",
      "Fold 11 score: 0.9574333933721331\n",
      "Fold 12 score: 0.953930111486873\n",
      "Fold 13 score: 0.965756578137255\n",
      "Fold 14 score: 0.9498564376693704\n",
      "Fold 15 score: 0.953744409889577\n",
      "Fold 16 score: 0.9563557524626479\n",
      "Fold 17 score: 0.9542329517499264\n",
      "Fold 18 score: 0.9492434763838375\n",
      "Fold 19 score: 0.955114967718009\n"
     ]
    },
    {
     "name": "stderr",
     "output_type": "stream",
     "text": [
      "[I 2024-11-09 05:40:59,364] Trial 90 finished with value: 0.9534813524211856 and parameters: {'learning_rate': 0.08969874393270769, 'max_depth': 6, 'bagging_temperature': 0.5802201536568786, 'random_strength': 1.466231545604425}. Best is trial 84 with value: 0.9561892620012361.\n"
     ]
    },
    {
     "name": "stdout",
     "output_type": "stream",
     "text": [
      "Fold 20 score: 0.9503413835885842\n",
      "Fold 0 score: 0.9525727806069609\n",
      "Fold 1 score: 0.9618888269195016\n",
      "Fold 2 score: 0.9481639082346034\n",
      "Fold 3 score: 0.9494053830227743\n",
      "Fold 4 score: 0.9542860926904794\n",
      "Fold 5 score: 0.950972707372042\n",
      "Fold 6 score: 0.9600019359477848\n",
      "Fold 7 score: 0.9554025260167373\n",
      "Fold 8 score: 0.9517472014212578\n",
      "Fold 9 score: 0.9584868528408932\n",
      "Fold 10 score: 0.9551752977946858\n",
      "Fold 11 score: 0.9645768305760603\n",
      "Fold 12 score: 0.9562837816793937\n",
      "Fold 13 score: 0.9661376774480621\n",
      "Fold 14 score: 0.949061238761956\n",
      "Fold 15 score: 0.9580395842783631\n",
      "Fold 16 score: 0.9609023087955076\n",
      "Fold 17 score: 0.957112457768885\n",
      "Fold 18 score: 0.9522899348758405\n",
      "Fold 19 score: 0.9576157684462501\n"
     ]
    },
    {
     "name": "stderr",
     "output_type": "stream",
     "text": [
      "[I 2024-11-09 05:44:15,550] Trial 91 finished with value: 0.9558863219463812 and parameters: {'learning_rate': 0.08745120346939013, 'max_depth': 7, 'bagging_temperature': 0.1170423238491399, 'random_strength': 1.362162038048635}. Best is trial 84 with value: 0.9561892620012361.\n"
     ]
    },
    {
     "name": "stdout",
     "output_type": "stream",
     "text": [
      "Fold 20 score: 0.9534896653759702\n",
      "Fold 0 score: 0.9508644688227625\n",
      "Fold 1 score: 0.9625824748234748\n",
      "Fold 2 score: 0.9455714157060519\n",
      "Fold 3 score: 0.9500149068322981\n",
      "Fold 4 score: 0.9513748135761647\n",
      "Fold 5 score: 0.9519862233282197\n",
      "Fold 6 score: 0.9607380841600427\n",
      "Fold 7 score: 0.9542587159929593\n",
      "Fold 8 score: 0.9550969791905453\n",
      "Fold 9 score: 0.9583289879593265\n",
      "Fold 10 score: 0.9553341331057125\n",
      "Fold 11 score: 0.9630759299940655\n",
      "Fold 12 score: 0.9583312603723887\n",
      "Fold 13 score: 0.9680047718809652\n",
      "Fold 14 score: 0.9495519563033343\n",
      "Fold 15 score: 0.9568796213867177\n",
      "Fold 16 score: 0.9560397154572816\n",
      "Fold 17 score: 0.9564461901794208\n",
      "Fold 18 score: 0.9507821822906273\n",
      "Fold 19 score: 0.9589040980428517\n"
     ]
    },
    {
     "name": "stderr",
     "output_type": "stream",
     "text": [
      "[I 2024-11-09 05:47:15,736] Trial 92 finished with value: 0.9556499511378985 and parameters: {'learning_rate': 0.08841819632034455, 'max_depth': 7, 'bagging_temperature': 0.11853242392210082, 'random_strength': 1.3902527394263908}. Best is trial 84 with value: 0.9561892620012361.\n"
     ]
    },
    {
     "name": "stdout",
     "output_type": "stream",
     "text": [
      "Fold 20 score: 0.9544820444906578\n",
      "Fold 0 score: 0.9523989278055441\n",
      "Fold 1 score: 0.9620681581411991\n",
      "Fold 2 score: 0.9477657367381792\n",
      "Fold 3 score: 0.9498977225672877\n",
      "Fold 4 score: 0.952830453133322\n",
      "Fold 5 score: 0.9525859117454293\n",
      "Fold 6 score: 0.9591458077782803\n",
      "Fold 7 score: 0.9529757382989017\n",
      "Fold 8 score: 0.9548076494485621\n",
      "Fold 9 score: 0.9559250248146417\n",
      "Fold 10 score: 0.9553319808657256\n",
      "Fold 11 score: 0.9625328738456413\n",
      "Fold 12 score: 0.9557947651365585\n",
      "Fold 13 score: 0.9644083297540053\n",
      "Fold 14 score: 0.9477753223131632\n",
      "Fold 15 score: 0.9561397201883655\n",
      "Fold 16 score: 0.9594816151468836\n",
      "Fold 17 score: 0.9555257158788992\n",
      "Fold 18 score: 0.9506811767149567\n",
      "Fold 19 score: 0.9578833802531986\n"
     ]
    },
    {
     "name": "stderr",
     "output_type": "stream",
     "text": [
      "[I 2024-11-09 05:49:55,914] Trial 93 finished with value: 0.9552072236849474 and parameters: {'learning_rate': 0.08699222193275663, 'max_depth': 6, 'bagging_temperature': 0.10090350079610116, 'random_strength': 1.417873902306894}. Best is trial 84 with value: 0.9561892620012361.\n"
     ]
    },
    {
     "name": "stdout",
     "output_type": "stream",
     "text": [
      "Fold 20 score: 0.9533956868151527\n",
      "Fold 0 score: 0.9505947123349219\n",
      "Fold 1 score: 0.9609426245321604\n",
      "Fold 2 score: 0.9440396020119541\n",
      "Fold 3 score: 0.9441701863354037\n",
      "Fold 4 score: 0.9541898084105334\n",
      "Fold 5 score: 0.9527773016658154\n",
      "Fold 6 score: 0.9620220730584397\n",
      "Fold 7 score: 0.9520682662713975\n",
      "Fold 8 score: 0.9551861261811976\n",
      "Fold 9 score: 0.9572713750481059\n",
      "Fold 10 score: 0.9539046153064725\n",
      "Fold 11 score: 0.9626232443856781\n",
      "Fold 12 score: 0.953470621997493\n",
      "Fold 13 score: 0.9663630812025374\n",
      "Fold 14 score: 0.9523134038102825\n",
      "Fold 15 score: 0.956095273826627\n",
      "Fold 16 score: 0.9586147226954128\n",
      "Fold 17 score: 0.9548176271853577\n",
      "Fold 18 score: 0.9503370246526915\n",
      "Fold 19 score: 0.9563927614166989\n"
     ]
    },
    {
     "name": "stderr",
     "output_type": "stream",
     "text": [
      "[I 2024-11-09 05:54:15,583] Trial 94 finished with value: 0.9548908350290746 and parameters: {'learning_rate': 0.09287653698360393, 'max_depth': 9, 'bagging_temperature': 0.19398741159101404, 'random_strength': 1.4973136787458825}. Best is trial 84 with value: 0.9561892620012361.\n"
     ]
    },
    {
     "name": "stdout",
     "output_type": "stream",
     "text": [
      "Fold 20 score: 0.9545130832813865\n",
      "Fold 0 score: 0.9534179592133446\n",
      "Fold 1 score: 0.9611039787854234\n",
      "Fold 2 score: 0.9499538037677447\n",
      "Fold 3 score: 0.9499610766045548\n",
      "Fold 4 score: 0.9522320280516328\n",
      "Fold 5 score: 0.9529703928299381\n",
      "Fold 6 score: 0.9600690433814988\n",
      "Fold 7 score: 0.9544888779091911\n",
      "Fold 8 score: 0.9531667876518684\n",
      "Fold 9 score: 0.9576517230788233\n",
      "Fold 10 score: 0.9552024160185195\n",
      "Fold 11 score: 0.9614829930556278\n",
      "Fold 12 score: 0.9566332525586406\n",
      "Fold 13 score: 0.9676967200831824\n",
      "Fold 14 score: 0.9522551258234406\n",
      "Fold 15 score: 0.9570905237306533\n",
      "Fold 16 score: 0.9591790444320255\n",
      "Fold 17 score: 0.955726211171975\n",
      "Fold 18 score: 0.9525082372490642\n",
      "Fold 19 score: 0.9571694678107248\n"
     ]
    },
    {
     "name": "stderr",
     "output_type": "stream",
     "text": [
      "[I 2024-11-09 05:57:18,458] Trial 95 finished with value: 0.9559119184733873 and parameters: {'learning_rate': 0.08538260738728558, 'max_depth': 6, 'bagging_temperature': 0.17192458654384332, 'random_strength': 1.3584293251437438}. Best is trial 84 with value: 0.9561892620012361.\n"
     ]
    },
    {
     "name": "stdout",
     "output_type": "stream",
     "text": [
      "Fold 20 score: 0.9541906247332603\n",
      "Fold 0 score: 0.952052973868216\n",
      "Fold 1 score: 0.9608448473623842\n",
      "Fold 2 score: 0.946346912023695\n",
      "Fold 3 score: 0.9499850931677019\n",
      "Fold 4 score: 0.9530567415043342\n",
      "Fold 5 score: 0.9506851971805288\n",
      "Fold 6 score: 0.9605575041565937\n",
      "Fold 7 score: 0.9529934430616888\n",
      "Fold 8 score: 0.9528555691398589\n",
      "Fold 9 score: 0.9574754542602865\n",
      "Fold 10 score: 0.9551257962749891\n",
      "Fold 11 score: 0.9624903955272829\n",
      "Fold 12 score: 0.9564176646204016\n",
      "Fold 13 score: 0.9675097184498398\n",
      "Fold 14 score: 0.9530938220688602\n",
      "Fold 15 score: 0.9571458638085041\n",
      "Fold 16 score: 0.9588646907129728\n",
      "Fold 17 score: 0.955704890609112\n",
      "Fold 18 score: 0.9537516647592361\n",
      "Fold 19 score: 0.956643937222906\n"
     ]
    },
    {
     "name": "stderr",
     "output_type": "stream",
     "text": [
      "[I 2024-11-09 06:00:27,079] Trial 96 finished with value: 0.9556111518841407 and parameters: {'learning_rate': 0.08456807656083964, 'max_depth': 6, 'bagging_temperature': 0.24520749315721674, 'random_strength': 1.4411461852772096}. Best is trial 84 with value: 0.9561892620012361.\n"
     ]
    },
    {
     "name": "stdout",
     "output_type": "stream",
     "text": [
      "Fold 20 score: 0.9542320097875654\n",
      "Fold 0 score: 0.9514806171643075\n",
      "Fold 1 score: 0.962567567093554\n",
      "Fold 2 score: 0.949409288611378\n",
      "Fold 3 score: 0.9498774327122155\n",
      "Fold 4 score: 0.9523908768004042\n",
      "Fold 5 score: 0.9533497701832367\n",
      "Fold 6 score: 0.9597904458536552\n",
      "Fold 7 score: 0.9547375680655488\n",
      "Fold 8 score: 0.954181630625812\n",
      "Fold 9 score: 0.9576018279608152\n",
      "Fold 10 score: 0.9547857423570729\n",
      "Fold 11 score: 0.9650424262615956\n",
      "Fold 12 score: 0.9563828793245505\n",
      "Fold 13 score: 0.9666611150556768\n",
      "Fold 14 score: 0.9515671921961554\n",
      "Fold 15 score: 0.9578029727644024\n",
      "Fold 16 score: 0.9589619004975795\n",
      "Fold 17 score: 0.9573879850428052\n",
      "Fold 18 score: 0.9503472066663678\n",
      "Fold 19 score: 0.9567724751774246\n"
     ]
    },
    {
     "name": "stderr",
     "output_type": "stream",
     "text": [
      "[I 2024-11-09 06:03:38,190] Trial 97 finished with value: 0.9559516963645365 and parameters: {'learning_rate': 0.08575930255109959, 'max_depth': 6, 'bagging_temperature': 0.16786559059030975, 'random_strength': 1.6321723448194723}. Best is trial 84 with value: 0.9561892620012361.\n"
     ]
    },
    {
     "name": "stdout",
     "output_type": "stream",
     "text": [
      "Fold 20 score: 0.9538867032407086\n",
      "Fold 0 score: 0.9515169642235457\n",
      "Fold 1 score: 0.9588458961650304\n",
      "Fold 2 score: 0.9480675965951543\n",
      "Fold 3 score: 0.9495428571428571\n",
      "Fold 4 score: 0.9529056117484699\n",
      "Fold 5 score: 0.9532966063164627\n",
      "Fold 6 score: 0.9607360506014453\n",
      "Fold 7 score: 0.9551645410657856\n",
      "Fold 8 score: 0.9537458451134713\n",
      "Fold 9 score: 0.9575895586695017\n",
      "Fold 10 score: 0.9543996305034389\n",
      "Fold 11 score: 0.9625045549667357\n",
      "Fold 12 score: 0.9560827550277897\n",
      "Fold 13 score: 0.9663764384620619\n",
      "Fold 14 score: 0.9493758554300515\n",
      "Fold 15 score: 0.9552076538377909\n",
      "Fold 16 score: 0.9596150155872312\n",
      "Fold 17 score: 0.9551398956932463\n",
      "Fold 18 score: 0.9523033751338935\n",
      "Fold 19 score: 0.9561917364845501\n"
     ]
    },
    {
     "name": "stderr",
     "output_type": "stream",
     "text": [
      "[I 2024-11-09 06:06:35,507] Trial 98 finished with value: 0.9553748943157025 and parameters: {'learning_rate': 0.0854719353497061, 'max_depth': 6, 'bagging_temperature': 0.20668081219707707, 'random_strength': 1.5389455312537819}. Best is trial 84 with value: 0.9561892620012361.\n"
     ]
    },
    {
     "name": "stdout",
     "output_type": "stream",
     "text": [
      "Fold 20 score: 0.9542643418612412\n",
      "Fold 0 score: 0.9521247921539399\n",
      "Fold 1 score: 0.9621023582274885\n",
      "Fold 2 score: 0.9495969086882272\n",
      "Fold 3 score: 0.9496273291925467\n",
      "Fold 4 score: 0.9541276502044924\n",
      "Fold 5 score: 0.9524366276075281\n",
      "Fold 6 score: 0.9583909508269263\n",
      "Fold 7 score: 0.9520983231942686\n",
      "Fold 8 score: 0.9534453719976567\n",
      "Fold 9 score: 0.9573928410321092\n",
      "Fold 10 score: 0.9550491765314586\n",
      "Fold 11 score: 0.9632820747743338\n",
      "Fold 12 score: 0.9562024811623467\n",
      "Fold 13 score: 0.9679884927209197\n",
      "Fold 14 score: 0.9524118007011096\n",
      "Fold 15 score: 0.9560503917162441\n",
      "Fold 16 score: 0.9579830695062583\n",
      "Fold 17 score: 0.9564699708072293\n",
      "Fold 18 score: 0.9536807979440478\n",
      "Fold 19 score: 0.9578403937897202\n"
     ]
    },
    {
     "name": "stderr",
     "output_type": "stream",
     "text": [
      "[I 2024-11-09 06:09:13,627] Trial 99 finished with value: 0.9556724619551351 and parameters: {'learning_rate': 0.10282572698915765, 'max_depth': 5, 'bagging_temperature': 0.16699123046571912, 'random_strength': 1.7167185655167851}. Best is trial 84 with value: 0.9561892620012361.\n"
     ]
    },
    {
     "name": "stdout",
     "output_type": "stream",
     "text": [
      "Fold 20 score: 0.9508198982789853\n",
      "Best parameters: {'learning_rate': 0.09030128590511562, 'max_depth': 6, 'bagging_temperature': 0.12657694966395555, 'random_strength': 1.4441256496986168}\n",
      "Best score: 0.9561892620012361\n"
     ]
    }
   ],
   "source": [
    "# run the optuna study to find optimal hyperparameters\n",
    "study = optuna.create_study(direction=\"maximize\")\n",
    "study.optimize(optimize_auc, n_trials=100)\n",
    "\n",
    "#report the results \n",
    "print('Best parameters:', study.best_trial.params)\n",
    "print('Best score:', study.best_value)"
   ]
  },
  {
   "cell_type": "code",
   "execution_count": 5,
   "id": "87733d98",
   "metadata": {
    "execution": {
     "iopub.execute_input": "2024-11-09T06:09:14.107728Z",
     "iopub.status.busy": "2024-11-09T06:09:14.106799Z",
     "iopub.status.idle": "2024-11-09T06:17:09.722661Z",
     "shell.execute_reply": "2024-11-09T06:17:09.721691Z"
    },
    "papermill": {
     "duration": 476.019726,
     "end_time": "2024-11-09T06:17:09.892491",
     "exception": false,
     "start_time": "2024-11-09T06:09:13.872765",
     "status": "completed"
    },
    "tags": []
   },
   "outputs": [
    {
     "name": "stdout",
     "output_type": "stream",
     "text": [
      "Fold 0 score: 0.9515498079517731\n",
      "Fold 1 score: 0.9624882053548566\n",
      "Fold 2 score: 0.9494005330077916\n",
      "Fold 3 score: 0.9507565217391305\n",
      "Fold 4 score: 0.9544481915415276\n",
      "Fold 5 score: 0.955203275234442\n",
      "Fold 6 score: 0.9633963519585611\n",
      "Fold 7 score: 0.954680336390493\n",
      "Fold 8 score: 0.9562893201905198\n",
      "Fold 9 score: 0.95729345977247\n",
      "Fold 10 score: 0.9547487238292998\n",
      "Fold 11 score: 0.9619773240741704\n",
      "Fold 12 score: 0.955654814992786\n",
      "Fold 13 score: 0.9686379894652963\n",
      "Fold 14 score: 0.9523332521101487\n",
      "Fold 15 score: 0.9590858167737955\n",
      "Fold 16 score: 0.9601040102613134\n",
      "Fold 17 score: 0.9569919145865451\n",
      "Fold 18 score: 0.9498148909913616\n",
      "Fold 19 score: 0.9558807167782067\n",
      "Fold 20 score: 0.9531814329402615\n",
      "AUC of Run: 0.956376994759274\n"
     ]
    }
   ],
   "source": [
    "# variables to hold oof, predictions, and scores\n",
    "oof = np.zeros(len(train['loan_status']))\n",
    "pres = np.zeros(len(test))\n",
    "scores= np.zeros(FOLDS)\n",
    "\n",
    "# define KFold routine\n",
    "kf = KFold(n_splits = FOLDS, shuffle=True ,random_state=SEED)\n",
    "\n",
    "# KFold split, define Xs and Ys,\n",
    "for i, (trndex, valdex) in enumerate(kf.split(train.index)):\n",
    "    xt,yt = train.loc[trndex,COLSET],train.loc[trndex,TARGET]        \n",
    "    xv,yv = train.loc[valdex,COLSET],train.loc[valdex,TARGET]\n",
    "\n",
    "    # build a model with the params and define the callback\n",
    "    model = CatBoostClassifier( **study.best_trial.params,cat_features=CAT_COLS)\n",
    "\n",
    "    # fit the model\n",
    "    model.fit(xt,yt,\n",
    "              eval_set=(xv,yv), \n",
    "              verbose=False, \n",
    "              early_stopping_rounds=12,\n",
    "              use_best_model=True\n",
    "             )\n",
    "\n",
    "    # make oof predictions\n",
    "    ypred=pd.DataFrame(model.predict_proba(xv),columns=['o','l'])\n",
    "    oof[valdex] = ypred['l']\n",
    "\n",
    "    # score them, report fold efficacy, add to list\n",
    "    ascore = roc_auc_score(yv,ypred['l'])\n",
    "    print(f\"Fold {i} score: {ascore}\")\n",
    "    scores[i] = ascore\n",
    "\n",
    "    # make test predictions\n",
    "    tpred = pd.DataFrame(model.predict_proba(test[COLSET]), columns=['o','l'])\n",
    "    pres += tpred['l']\n",
    "\n",
    "# output the mean of the fold scores\n",
    "print(f\"AUC of Run: {np.mean(scores)}\")\n",
    "\n",
    "# Divide the testset predictions by the number of folds\n",
    "pres = pres/FOLDS\n",
    "    \n",
    "\n"
   ]
  },
  {
   "cell_type": "code",
   "execution_count": 6,
   "id": "dd19bc18",
   "metadata": {
    "execution": {
     "iopub.execute_input": "2024-11-09T06:17:10.249477Z",
     "iopub.status.busy": "2024-11-09T06:17:10.249091Z",
     "iopub.status.idle": "2024-11-09T06:17:10.654371Z",
     "shell.execute_reply": "2024-11-09T06:17:10.653554Z"
    },
    "papermill": {
     "duration": 0.582289,
     "end_time": "2024-11-09T06:17:10.656577",
     "exception": false,
     "start_time": "2024-11-09T06:17:10.074288",
     "status": "completed"
    },
    "tags": []
   },
   "outputs": [],
   "source": [
    "oofer = train.loc[:,['loan_status']]\n",
    "oofer['oof'] = oof\n",
    "oofer.to_csv('/kaggle/working/oof.csv', index=True)\n",
    "\n",
    "subm = pd.read_csv('/kaggle/input/playground-series-s4e10/sample_submission.csv')\n",
    "subm['loan_status'] = pres\n",
    "subm.to_csv('/kaggle/working/submission.csv', index=False)\n"
   ]
  },
  {
   "cell_type": "code",
   "execution_count": 7,
   "id": "c7b435d1",
   "metadata": {
    "execution": {
     "iopub.execute_input": "2024-11-09T06:17:10.995938Z",
     "iopub.status.busy": "2024-11-09T06:17:10.995582Z",
     "iopub.status.idle": "2024-11-09T06:17:12.003619Z",
     "shell.execute_reply": "2024-11-09T06:17:12.002497Z"
    },
    "papermill": {
     "duration": 1.181523,
     "end_time": "2024-11-09T06:17:12.005779",
     "exception": false,
     "start_time": "2024-11-09T06:17:10.824256",
     "status": "completed"
    },
    "tags": []
   },
   "outputs": [
    {
     "name": "stdout",
     "output_type": "stream",
     "text": [
      ",loan_status,oof\r\n",
      "0,0,0.05355573145023094\r\n",
      "1,0,0.008061428030321102\r\n",
      "2,0,0.01659425069697953\r\n",
      "3,0,0.013147971643722221\r\n",
      "4,0,0.005391760154112165\r\n",
      "5,0,0.006646155150856595\r\n",
      "6,0,0.017850523674677\r\n",
      "7,0,0.11694433041229772\r\n",
      "8,0,0.19121191782819952\r\n"
     ]
    }
   ],
   "source": [
    "!head /kaggle/working/oof.csv"
   ]
  },
  {
   "cell_type": "code",
   "execution_count": 8,
   "id": "5b7aee38",
   "metadata": {
    "execution": {
     "iopub.execute_input": "2024-11-09T06:17:12.347224Z",
     "iopub.status.busy": "2024-11-09T06:17:12.346836Z",
     "iopub.status.idle": "2024-11-09T06:17:13.352669Z",
     "shell.execute_reply": "2024-11-09T06:17:13.351462Z"
    },
    "papermill": {
     "duration": 1.178682,
     "end_time": "2024-11-09T06:17:13.354908",
     "exception": false,
     "start_time": "2024-11-09T06:17:12.176226",
     "status": "completed"
    },
    "tags": []
   },
   "outputs": [
    {
     "name": "stdout",
     "output_type": "stream",
     "text": [
      "id,loan_status\r\n",
      "58645,0.9994449407884206\r\n",
      "58646,0.037442208292979534\r\n",
      "58647,0.368434184812697\r\n",
      "58648,0.010529454303255482\r\n",
      "58649,0.09106914889952891\r\n",
      "58650,0.9391615792220253\r\n",
      "58651,0.0016547593106835893\r\n",
      "58652,0.011121815190161869\r\n",
      "58653,0.33364950597442883\r\n"
     ]
    }
   ],
   "source": [
    "!head /kaggle/working/submission.csv"
   ]
  },
  {
   "cell_type": "code",
   "execution_count": null,
   "id": "1e23c457",
   "metadata": {
    "papermill": {
     "duration": 0.167846,
     "end_time": "2024-11-09T06:17:13.695263",
     "exception": false,
     "start_time": "2024-11-09T06:17:13.527417",
     "status": "completed"
    },
    "tags": []
   },
   "outputs": [],
   "source": []
  }
 ],
 "metadata": {
  "kaggle": {
   "accelerator": "nvidiaTeslaT4",
   "dataSources": [
    {
     "databundleVersionId": 9709193,
     "sourceId": 84894,
     "sourceType": "competition"
    },
    {
     "sourceId": 201943181,
     "sourceType": "kernelVersion"
    }
   ],
   "dockerImageVersionId": 30787,
   "isGpuEnabled": true,
   "isInternetEnabled": true,
   "language": "python",
   "sourceType": "notebook"
  },
  "kernelspec": {
   "display_name": "Python 3",
   "language": "python",
   "name": "python3"
  },
  "language_info": {
   "codemirror_mode": {
    "name": "ipython",
    "version": 3
   },
   "file_extension": ".py",
   "mimetype": "text/x-python",
   "name": "python",
   "nbconvert_exporter": "python",
   "pygments_lexer": "ipython3",
   "version": "3.10.14"
  },
  "papermill": {
   "default_parameters": {},
   "duration": 18852.129553,
   "end_time": "2024-11-09T06:17:14.482572",
   "environment_variables": {},
   "exception": null,
   "input_path": "__notebook__.ipynb",
   "output_path": "__notebook__.ipynb",
   "parameters": {},
   "start_time": "2024-11-09T01:03:02.353019",
   "version": "2.6.0"
  }
 },
 "nbformat": 4,
 "nbformat_minor": 5
}
