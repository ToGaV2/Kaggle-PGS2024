{
 "cells": [
  {
   "cell_type": "code",
   "execution_count": 1,
   "id": "bcf1c907",
   "metadata": {
    "_cell_guid": "b1076dfc-b9ad-4769-8c92-a6c4dae69d19",
    "_uuid": "8f2839f25d086af736a60e9eeb907d3b93b6e0e5",
    "execution": {
     "iopub.execute_input": "2024-11-05T19:34:53.831097Z",
     "iopub.status.busy": "2024-11-05T19:34:53.830789Z",
     "iopub.status.idle": "2024-11-05T19:35:00.979922Z",
     "shell.execute_reply": "2024-11-05T19:35:00.979112Z"
    },
    "papermill": {
     "duration": 7.157905,
     "end_time": "2024-11-05T19:35:00.982208",
     "exception": false,
     "start_time": "2024-11-05T19:34:53.824303",
     "status": "completed"
    },
    "tags": []
   },
   "outputs": [],
   "source": [
    "import numpy as np # linear algebra\n",
    "import pandas as pd # data processing, CSV file I/O (e.g. pd.read_csv)\n",
    "import os\n",
    "import optuna\n",
    "from catboost import CatBoostClassifier as CBC\n",
    "from lightgbm import LGBMClassifier as LGBM\n",
    "from sklearn.preprocessing import OrdinalEncoder as OE\n",
    "from sklearn.model_selection import KFold, StratifiedKFold, StratifiedGroupKFold\n",
    "from sklearn.metrics import accuracy_score"
   ]
  },
  {
   "cell_type": "code",
   "execution_count": 2,
   "id": "049c926d",
   "metadata": {
    "execution": {
     "iopub.execute_input": "2024-11-05T19:35:00.993439Z",
     "iopub.status.busy": "2024-11-05T19:35:00.992924Z",
     "iopub.status.idle": "2024-11-05T19:35:01.881074Z",
     "shell.execute_reply": "2024-11-05T19:35:01.880177Z"
    },
    "papermill": {
     "duration": 0.89587,
     "end_time": "2024-11-05T19:35:01.883171",
     "exception": false,
     "start_time": "2024-11-05T19:35:00.987301",
     "status": "completed"
    },
    "tags": []
   },
   "outputs": [
    {
     "data": {
      "text/plain": [
       "((140700, 20), (93800, 19))"
      ]
     },
     "execution_count": 2,
     "metadata": {},
     "output_type": "execute_result"
    }
   ],
   "source": [
    "train = pd.read_csv('/kaggle/input/playground-series-s4e11/train.csv')\n",
    "test = pd.read_csv('/kaggle/input/playground-series-s4e11/test.csv')\n",
    "train.shape, test.shape"
   ]
  },
  {
   "cell_type": "code",
   "execution_count": 3,
   "id": "7b4aca89",
   "metadata": {
    "execution": {
     "iopub.execute_input": "2024-11-05T19:35:01.894314Z",
     "iopub.status.busy": "2024-11-05T19:35:01.894026Z",
     "iopub.status.idle": "2024-11-05T19:35:01.924645Z",
     "shell.execute_reply": "2024-11-05T19:35:01.923786Z"
    },
    "papermill": {
     "duration": 0.038336,
     "end_time": "2024-11-05T19:35:01.926625",
     "exception": false,
     "start_time": "2024-11-05T19:35:01.888289",
     "status": "completed"
    },
    "tags": []
   },
   "outputs": [
    {
     "data": {
      "text/html": [
       "<div>\n",
       "<style scoped>\n",
       "    .dataframe tbody tr th:only-of-type {\n",
       "        vertical-align: middle;\n",
       "    }\n",
       "\n",
       "    .dataframe tbody tr th {\n",
       "        vertical-align: top;\n",
       "    }\n",
       "\n",
       "    .dataframe thead th {\n",
       "        text-align: right;\n",
       "    }\n",
       "</style>\n",
       "<table border=\"1\" class=\"dataframe\">\n",
       "  <thead>\n",
       "    <tr style=\"text-align: right;\">\n",
       "      <th></th>\n",
       "      <th>id</th>\n",
       "      <th>Name</th>\n",
       "      <th>Gender</th>\n",
       "      <th>Age</th>\n",
       "      <th>City</th>\n",
       "      <th>Working Professional or Student</th>\n",
       "      <th>Profession</th>\n",
       "      <th>Academic Pressure</th>\n",
       "      <th>Work Pressure</th>\n",
       "      <th>CGPA</th>\n",
       "      <th>Study Satisfaction</th>\n",
       "      <th>Job Satisfaction</th>\n",
       "      <th>Sleep Duration</th>\n",
       "      <th>Dietary Habits</th>\n",
       "      <th>Degree</th>\n",
       "      <th>Have you ever had suicidal thoughts ?</th>\n",
       "      <th>Work/Study Hours</th>\n",
       "      <th>Financial Stress</th>\n",
       "      <th>Family History of Mental Illness</th>\n",
       "      <th>Depression</th>\n",
       "    </tr>\n",
       "  </thead>\n",
       "  <tbody>\n",
       "    <tr>\n",
       "      <th>0</th>\n",
       "      <td>0</td>\n",
       "      <td>Aaradhya</td>\n",
       "      <td>Female</td>\n",
       "      <td>49.0</td>\n",
       "      <td>Ludhiana</td>\n",
       "      <td>Working Professional</td>\n",
       "      <td>Chef</td>\n",
       "      <td>NaN</td>\n",
       "      <td>5.0</td>\n",
       "      <td>NaN</td>\n",
       "      <td>NaN</td>\n",
       "      <td>2.0</td>\n",
       "      <td>More than 8 hours</td>\n",
       "      <td>Healthy</td>\n",
       "      <td>BHM</td>\n",
       "      <td>No</td>\n",
       "      <td>1.0</td>\n",
       "      <td>2.0</td>\n",
       "      <td>No</td>\n",
       "      <td>0</td>\n",
       "    </tr>\n",
       "    <tr>\n",
       "      <th>1</th>\n",
       "      <td>1</td>\n",
       "      <td>Vivan</td>\n",
       "      <td>Male</td>\n",
       "      <td>26.0</td>\n",
       "      <td>Varanasi</td>\n",
       "      <td>Working Professional</td>\n",
       "      <td>Teacher</td>\n",
       "      <td>NaN</td>\n",
       "      <td>4.0</td>\n",
       "      <td>NaN</td>\n",
       "      <td>NaN</td>\n",
       "      <td>3.0</td>\n",
       "      <td>Less than 5 hours</td>\n",
       "      <td>Unhealthy</td>\n",
       "      <td>LLB</td>\n",
       "      <td>Yes</td>\n",
       "      <td>7.0</td>\n",
       "      <td>3.0</td>\n",
       "      <td>No</td>\n",
       "      <td>1</td>\n",
       "    </tr>\n",
       "    <tr>\n",
       "      <th>2</th>\n",
       "      <td>2</td>\n",
       "      <td>Yuvraj</td>\n",
       "      <td>Male</td>\n",
       "      <td>33.0</td>\n",
       "      <td>Visakhapatnam</td>\n",
       "      <td>Student</td>\n",
       "      <td>NaN</td>\n",
       "      <td>5.0</td>\n",
       "      <td>NaN</td>\n",
       "      <td>8.97</td>\n",
       "      <td>2.0</td>\n",
       "      <td>NaN</td>\n",
       "      <td>5-6 hours</td>\n",
       "      <td>Healthy</td>\n",
       "      <td>B.Pharm</td>\n",
       "      <td>Yes</td>\n",
       "      <td>3.0</td>\n",
       "      <td>1.0</td>\n",
       "      <td>No</td>\n",
       "      <td>1</td>\n",
       "    </tr>\n",
       "    <tr>\n",
       "      <th>3</th>\n",
       "      <td>3</td>\n",
       "      <td>Yuvraj</td>\n",
       "      <td>Male</td>\n",
       "      <td>22.0</td>\n",
       "      <td>Mumbai</td>\n",
       "      <td>Working Professional</td>\n",
       "      <td>Teacher</td>\n",
       "      <td>NaN</td>\n",
       "      <td>5.0</td>\n",
       "      <td>NaN</td>\n",
       "      <td>NaN</td>\n",
       "      <td>1.0</td>\n",
       "      <td>Less than 5 hours</td>\n",
       "      <td>Moderate</td>\n",
       "      <td>BBA</td>\n",
       "      <td>Yes</td>\n",
       "      <td>10.0</td>\n",
       "      <td>1.0</td>\n",
       "      <td>Yes</td>\n",
       "      <td>1</td>\n",
       "    </tr>\n",
       "    <tr>\n",
       "      <th>4</th>\n",
       "      <td>4</td>\n",
       "      <td>Rhea</td>\n",
       "      <td>Female</td>\n",
       "      <td>30.0</td>\n",
       "      <td>Kanpur</td>\n",
       "      <td>Working Professional</td>\n",
       "      <td>Business Analyst</td>\n",
       "      <td>NaN</td>\n",
       "      <td>1.0</td>\n",
       "      <td>NaN</td>\n",
       "      <td>NaN</td>\n",
       "      <td>1.0</td>\n",
       "      <td>5-6 hours</td>\n",
       "      <td>Unhealthy</td>\n",
       "      <td>BBA</td>\n",
       "      <td>Yes</td>\n",
       "      <td>9.0</td>\n",
       "      <td>4.0</td>\n",
       "      <td>Yes</td>\n",
       "      <td>0</td>\n",
       "    </tr>\n",
       "  </tbody>\n",
       "</table>\n",
       "</div>"
      ],
      "text/plain": [
       "   id      Name  Gender   Age           City Working Professional or Student  \\\n",
       "0   0  Aaradhya  Female  49.0       Ludhiana            Working Professional   \n",
       "1   1     Vivan    Male  26.0       Varanasi            Working Professional   \n",
       "2   2    Yuvraj    Male  33.0  Visakhapatnam                         Student   \n",
       "3   3    Yuvraj    Male  22.0         Mumbai            Working Professional   \n",
       "4   4      Rhea  Female  30.0         Kanpur            Working Professional   \n",
       "\n",
       "         Profession  Academic Pressure  Work Pressure  CGPA  \\\n",
       "0              Chef                NaN            5.0   NaN   \n",
       "1           Teacher                NaN            4.0   NaN   \n",
       "2               NaN                5.0            NaN  8.97   \n",
       "3           Teacher                NaN            5.0   NaN   \n",
       "4  Business Analyst                NaN            1.0   NaN   \n",
       "\n",
       "   Study Satisfaction  Job Satisfaction     Sleep Duration Dietary Habits  \\\n",
       "0                 NaN               2.0  More than 8 hours        Healthy   \n",
       "1                 NaN               3.0  Less than 5 hours      Unhealthy   \n",
       "2                 2.0               NaN          5-6 hours        Healthy   \n",
       "3                 NaN               1.0  Less than 5 hours       Moderate   \n",
       "4                 NaN               1.0          5-6 hours      Unhealthy   \n",
       "\n",
       "    Degree Have you ever had suicidal thoughts ?  Work/Study Hours  \\\n",
       "0      BHM                                    No               1.0   \n",
       "1      LLB                                   Yes               7.0   \n",
       "2  B.Pharm                                   Yes               3.0   \n",
       "3      BBA                                   Yes              10.0   \n",
       "4      BBA                                   Yes               9.0   \n",
       "\n",
       "   Financial Stress Family History of Mental Illness  Depression  \n",
       "0               2.0                               No           0  \n",
       "1               3.0                               No           1  \n",
       "2               1.0                               No           1  \n",
       "3               1.0                              Yes           1  \n",
       "4               4.0                              Yes           0  "
      ]
     },
     "execution_count": 3,
     "metadata": {},
     "output_type": "execute_result"
    }
   ],
   "source": [
    "train.head()"
   ]
  },
  {
   "cell_type": "code",
   "execution_count": 4,
   "id": "bc3bea2a",
   "metadata": {
    "execution": {
     "iopub.execute_input": "2024-11-05T19:35:01.938397Z",
     "iopub.status.busy": "2024-11-05T19:35:01.938125Z",
     "iopub.status.idle": "2024-11-05T19:35:01.960362Z",
     "shell.execute_reply": "2024-11-05T19:35:01.959464Z"
    },
    "papermill": {
     "duration": 0.030466,
     "end_time": "2024-11-05T19:35:01.962449",
     "exception": false,
     "start_time": "2024-11-05T19:35:01.931983",
     "status": "completed"
    },
    "tags": []
   },
   "outputs": [
    {
     "data": {
      "text/html": [
       "<div>\n",
       "<style scoped>\n",
       "    .dataframe tbody tr th:only-of-type {\n",
       "        vertical-align: middle;\n",
       "    }\n",
       "\n",
       "    .dataframe tbody tr th {\n",
       "        vertical-align: top;\n",
       "    }\n",
       "\n",
       "    .dataframe thead th {\n",
       "        text-align: right;\n",
       "    }\n",
       "</style>\n",
       "<table border=\"1\" class=\"dataframe\">\n",
       "  <thead>\n",
       "    <tr style=\"text-align: right;\">\n",
       "      <th></th>\n",
       "      <th>id</th>\n",
       "      <th>Name</th>\n",
       "      <th>Gender</th>\n",
       "      <th>Age</th>\n",
       "      <th>City</th>\n",
       "      <th>Working Professional or Student</th>\n",
       "      <th>Profession</th>\n",
       "      <th>Academic Pressure</th>\n",
       "      <th>Work Pressure</th>\n",
       "      <th>CGPA</th>\n",
       "      <th>Study Satisfaction</th>\n",
       "      <th>Job Satisfaction</th>\n",
       "      <th>Sleep Duration</th>\n",
       "      <th>Dietary Habits</th>\n",
       "      <th>Degree</th>\n",
       "      <th>Have you ever had suicidal thoughts ?</th>\n",
       "      <th>Work/Study Hours</th>\n",
       "      <th>Financial Stress</th>\n",
       "      <th>Family History of Mental Illness</th>\n",
       "    </tr>\n",
       "  </thead>\n",
       "  <tbody>\n",
       "    <tr>\n",
       "      <th>0</th>\n",
       "      <td>140700</td>\n",
       "      <td>Shivam</td>\n",
       "      <td>Male</td>\n",
       "      <td>53.0</td>\n",
       "      <td>Visakhapatnam</td>\n",
       "      <td>Working Professional</td>\n",
       "      <td>Judge</td>\n",
       "      <td>NaN</td>\n",
       "      <td>2.0</td>\n",
       "      <td>NaN</td>\n",
       "      <td>NaN</td>\n",
       "      <td>5.0</td>\n",
       "      <td>Less than 5 hours</td>\n",
       "      <td>Moderate</td>\n",
       "      <td>LLB</td>\n",
       "      <td>No</td>\n",
       "      <td>9.0</td>\n",
       "      <td>3.0</td>\n",
       "      <td>Yes</td>\n",
       "    </tr>\n",
       "    <tr>\n",
       "      <th>1</th>\n",
       "      <td>140701</td>\n",
       "      <td>Sanya</td>\n",
       "      <td>Female</td>\n",
       "      <td>58.0</td>\n",
       "      <td>Kolkata</td>\n",
       "      <td>Working Professional</td>\n",
       "      <td>Educational Consultant</td>\n",
       "      <td>NaN</td>\n",
       "      <td>2.0</td>\n",
       "      <td>NaN</td>\n",
       "      <td>NaN</td>\n",
       "      <td>4.0</td>\n",
       "      <td>Less than 5 hours</td>\n",
       "      <td>Moderate</td>\n",
       "      <td>B.Ed</td>\n",
       "      <td>No</td>\n",
       "      <td>6.0</td>\n",
       "      <td>4.0</td>\n",
       "      <td>No</td>\n",
       "    </tr>\n",
       "    <tr>\n",
       "      <th>2</th>\n",
       "      <td>140702</td>\n",
       "      <td>Yash</td>\n",
       "      <td>Male</td>\n",
       "      <td>53.0</td>\n",
       "      <td>Jaipur</td>\n",
       "      <td>Working Professional</td>\n",
       "      <td>Teacher</td>\n",
       "      <td>NaN</td>\n",
       "      <td>4.0</td>\n",
       "      <td>NaN</td>\n",
       "      <td>NaN</td>\n",
       "      <td>1.0</td>\n",
       "      <td>7-8 hours</td>\n",
       "      <td>Moderate</td>\n",
       "      <td>B.Arch</td>\n",
       "      <td>Yes</td>\n",
       "      <td>12.0</td>\n",
       "      <td>4.0</td>\n",
       "      <td>No</td>\n",
       "    </tr>\n",
       "    <tr>\n",
       "      <th>3</th>\n",
       "      <td>140703</td>\n",
       "      <td>Nalini</td>\n",
       "      <td>Female</td>\n",
       "      <td>23.0</td>\n",
       "      <td>Rajkot</td>\n",
       "      <td>Student</td>\n",
       "      <td>NaN</td>\n",
       "      <td>5.0</td>\n",
       "      <td>NaN</td>\n",
       "      <td>6.84</td>\n",
       "      <td>1.0</td>\n",
       "      <td>NaN</td>\n",
       "      <td>More than 8 hours</td>\n",
       "      <td>Moderate</td>\n",
       "      <td>BSc</td>\n",
       "      <td>Yes</td>\n",
       "      <td>10.0</td>\n",
       "      <td>4.0</td>\n",
       "      <td>No</td>\n",
       "    </tr>\n",
       "    <tr>\n",
       "      <th>4</th>\n",
       "      <td>140704</td>\n",
       "      <td>Shaurya</td>\n",
       "      <td>Male</td>\n",
       "      <td>47.0</td>\n",
       "      <td>Kalyan</td>\n",
       "      <td>Working Professional</td>\n",
       "      <td>Teacher</td>\n",
       "      <td>NaN</td>\n",
       "      <td>5.0</td>\n",
       "      <td>NaN</td>\n",
       "      <td>NaN</td>\n",
       "      <td>5.0</td>\n",
       "      <td>7-8 hours</td>\n",
       "      <td>Moderate</td>\n",
       "      <td>BCA</td>\n",
       "      <td>Yes</td>\n",
       "      <td>3.0</td>\n",
       "      <td>4.0</td>\n",
       "      <td>No</td>\n",
       "    </tr>\n",
       "  </tbody>\n",
       "</table>\n",
       "</div>"
      ],
      "text/plain": [
       "       id     Name  Gender   Age           City  \\\n",
       "0  140700   Shivam    Male  53.0  Visakhapatnam   \n",
       "1  140701    Sanya  Female  58.0        Kolkata   \n",
       "2  140702     Yash    Male  53.0         Jaipur   \n",
       "3  140703   Nalini  Female  23.0         Rajkot   \n",
       "4  140704  Shaurya    Male  47.0         Kalyan   \n",
       "\n",
       "  Working Professional or Student              Profession  Academic Pressure  \\\n",
       "0            Working Professional                   Judge                NaN   \n",
       "1            Working Professional  Educational Consultant                NaN   \n",
       "2            Working Professional                 Teacher                NaN   \n",
       "3                         Student                     NaN                5.0   \n",
       "4            Working Professional                 Teacher                NaN   \n",
       "\n",
       "   Work Pressure  CGPA  Study Satisfaction  Job Satisfaction  \\\n",
       "0            2.0   NaN                 NaN               5.0   \n",
       "1            2.0   NaN                 NaN               4.0   \n",
       "2            4.0   NaN                 NaN               1.0   \n",
       "3            NaN  6.84                 1.0               NaN   \n",
       "4            5.0   NaN                 NaN               5.0   \n",
       "\n",
       "      Sleep Duration Dietary Habits  Degree  \\\n",
       "0  Less than 5 hours       Moderate     LLB   \n",
       "1  Less than 5 hours       Moderate    B.Ed   \n",
       "2          7-8 hours       Moderate  B.Arch   \n",
       "3  More than 8 hours       Moderate     BSc   \n",
       "4          7-8 hours       Moderate     BCA   \n",
       "\n",
       "  Have you ever had suicidal thoughts ?  Work/Study Hours  Financial Stress  \\\n",
       "0                                    No               9.0               3.0   \n",
       "1                                    No               6.0               4.0   \n",
       "2                                   Yes              12.0               4.0   \n",
       "3                                   Yes              10.0               4.0   \n",
       "4                                   Yes               3.0               4.0   \n",
       "\n",
       "  Family History of Mental Illness  \n",
       "0                              Yes  \n",
       "1                               No  \n",
       "2                               No  \n",
       "3                               No  \n",
       "4                               No  "
      ]
     },
     "execution_count": 4,
     "metadata": {},
     "output_type": "execute_result"
    }
   ],
   "source": [
    "test.head()"
   ]
  },
  {
   "cell_type": "code",
   "execution_count": 5,
   "id": "c288c59f",
   "metadata": {
    "execution": {
     "iopub.execute_input": "2024-11-05T19:35:01.975908Z",
     "iopub.status.busy": "2024-11-05T19:35:01.975593Z",
     "iopub.status.idle": "2024-11-05T19:35:02.128778Z",
     "shell.execute_reply": "2024-11-05T19:35:02.127676Z"
    },
    "papermill": {
     "duration": 0.161942,
     "end_time": "2024-11-05T19:35:02.131035",
     "exception": false,
     "start_time": "2024-11-05T19:35:01.969093",
     "status": "completed"
    },
    "tags": []
   },
   "outputs": [
    {
     "name": "stdout",
     "output_type": "stream",
     "text": [
      "<class 'pandas.core.frame.DataFrame'>\n",
      "RangeIndex: 140700 entries, 0 to 140699\n",
      "Data columns (total 20 columns):\n",
      " #   Column                                 Non-Null Count   Dtype  \n",
      "---  ------                                 --------------   -----  \n",
      " 0   id                                     140700 non-null  int64  \n",
      " 1   Name                                   140700 non-null  object \n",
      " 2   Gender                                 140700 non-null  object \n",
      " 3   Age                                    140700 non-null  float64\n",
      " 4   City                                   140700 non-null  object \n",
      " 5   Working Professional or Student        140700 non-null  object \n",
      " 6   Profession                             104070 non-null  object \n",
      " 7   Academic Pressure                      27897 non-null   float64\n",
      " 8   Work Pressure                          112782 non-null  float64\n",
      " 9   CGPA                                   27898 non-null   float64\n",
      " 10  Study Satisfaction                     27897 non-null   float64\n",
      " 11  Job Satisfaction                       112790 non-null  float64\n",
      " 12  Sleep Duration                         140700 non-null  object \n",
      " 13  Dietary Habits                         140696 non-null  object \n",
      " 14  Degree                                 140698 non-null  object \n",
      " 15  Have you ever had suicidal thoughts ?  140700 non-null  object \n",
      " 16  Work/Study Hours                       140700 non-null  float64\n",
      " 17  Financial Stress                       140696 non-null  float64\n",
      " 18  Family History of Mental Illness       140700 non-null  object \n",
      " 19  Depression                             140700 non-null  int64  \n",
      "dtypes: float64(8), int64(2), object(10)\n",
      "memory usage: 21.5+ MB\n"
     ]
    }
   ],
   "source": [
    "train.info()"
   ]
  },
  {
   "cell_type": "code",
   "execution_count": 6,
   "id": "735fc54b",
   "metadata": {
    "execution": {
     "iopub.execute_input": "2024-11-05T19:35:02.143857Z",
     "iopub.status.busy": "2024-11-05T19:35:02.143546Z",
     "iopub.status.idle": "2024-11-05T19:35:02.244191Z",
     "shell.execute_reply": "2024-11-05T19:35:02.236638Z"
    },
    "papermill": {
     "duration": 0.109266,
     "end_time": "2024-11-05T19:35:02.246230",
     "exception": false,
     "start_time": "2024-11-05T19:35:02.136964",
     "status": "completed"
    },
    "tags": []
   },
   "outputs": [
    {
     "name": "stdout",
     "output_type": "stream",
     "text": [
      "<class 'pandas.core.frame.DataFrame'>\n",
      "RangeIndex: 93800 entries, 0 to 93799\n",
      "Data columns (total 19 columns):\n",
      " #   Column                                 Non-Null Count  Dtype  \n",
      "---  ------                                 --------------  -----  \n",
      " 0   id                                     93800 non-null  int64  \n",
      " 1   Name                                   93800 non-null  object \n",
      " 2   Gender                                 93800 non-null  object \n",
      " 3   Age                                    93800 non-null  float64\n",
      " 4   City                                   93800 non-null  object \n",
      " 5   Working Professional or Student        93800 non-null  object \n",
      " 6   Profession                             69168 non-null  object \n",
      " 7   Academic Pressure                      18767 non-null  float64\n",
      " 8   Work Pressure                          75022 non-null  float64\n",
      " 9   CGPA                                   18766 non-null  float64\n",
      " 10  Study Satisfaction                     18767 non-null  float64\n",
      " 11  Job Satisfaction                       75026 non-null  float64\n",
      " 12  Sleep Duration                         93800 non-null  object \n",
      " 13  Dietary Habits                         93795 non-null  object \n",
      " 14  Degree                                 93798 non-null  object \n",
      " 15  Have you ever had suicidal thoughts ?  93800 non-null  object \n",
      " 16  Work/Study Hours                       93800 non-null  float64\n",
      " 17  Financial Stress                       93800 non-null  float64\n",
      " 18  Family History of Mental Illness       93800 non-null  object \n",
      "dtypes: float64(8), int64(1), object(10)\n",
      "memory usage: 13.6+ MB\n"
     ]
    }
   ],
   "source": [
    "test.info()"
   ]
  },
  {
   "cell_type": "code",
   "execution_count": 7,
   "id": "82f5c83c",
   "metadata": {
    "execution": {
     "iopub.execute_input": "2024-11-05T19:35:02.260118Z",
     "iopub.status.busy": "2024-11-05T19:35:02.259784Z",
     "iopub.status.idle": "2024-11-05T19:35:02.266522Z",
     "shell.execute_reply": "2024-11-05T19:35:02.265635Z"
    },
    "papermill": {
     "duration": 0.016601,
     "end_time": "2024-11-05T19:35:02.269019",
     "exception": false,
     "start_time": "2024-11-05T19:35:02.252418",
     "status": "completed"
    },
    "tags": []
   },
   "outputs": [
    {
     "name": "stdout",
     "output_type": "stream",
     "text": [
      "True\n"
     ]
    }
   ],
   "source": [
    "trc = list(train.columns)\n",
    "tec = list(test.columns)\n",
    "NUM_COLS, CAT_COLS = [],[]\n",
    "for i in trc:\n",
    "    if i not in tec:\n",
    "        TARGET = i\n",
    "    elif train[i].dtype in [int,float]:\n",
    "        NUM_COLS.append(i)\n",
    "    else:\n",
    "        CAT_COLS.append(i)\n",
    "\n",
    "print((len(CAT_COLS) + len(NUM_COLS) + 1) == len(trc))\n",
    "NUM_COLS.remove('id')"
   ]
  },
  {
   "cell_type": "code",
   "execution_count": 8,
   "id": "435287a2",
   "metadata": {
    "execution": {
     "iopub.execute_input": "2024-11-05T19:35:02.283088Z",
     "iopub.status.busy": "2024-11-05T19:35:02.282806Z",
     "iopub.status.idle": "2024-11-05T19:35:03.248039Z",
     "shell.execute_reply": "2024-11-05T19:35:03.247166Z"
    },
    "papermill": {
     "duration": 0.975386,
     "end_time": "2024-11-05T19:35:03.250470",
     "exception": false,
     "start_time": "2024-11-05T19:35:02.275084",
     "status": "completed"
    },
    "tags": []
   },
   "outputs": [],
   "source": [
    "oe = OE(handle_unknown = 'use_encoded_value', unknown_value=-1, encoded_missing_value=-2)\n",
    "oe.fit(train[CAT_COLS])\n",
    "train[CAT_COLS] = oe.transform(train[CAT_COLS])\n",
    "test[CAT_COLS] = oe.transform(test[CAT_COLS])"
   ]
  },
  {
   "cell_type": "code",
   "execution_count": 9,
   "id": "d02c688a",
   "metadata": {
    "execution": {
     "iopub.execute_input": "2024-11-05T19:35:03.265006Z",
     "iopub.status.busy": "2024-11-05T19:35:03.264327Z",
     "iopub.status.idle": "2024-11-05T19:35:03.287672Z",
     "shell.execute_reply": "2024-11-05T19:35:03.286772Z"
    },
    "papermill": {
     "duration": 0.032664,
     "end_time": "2024-11-05T19:35:03.289923",
     "exception": false,
     "start_time": "2024-11-05T19:35:03.257259",
     "status": "completed"
    },
    "tags": []
   },
   "outputs": [
    {
     "name": "stdout",
     "output_type": "stream",
     "text": [
      "Name:  0 0\n",
      "Gender:  0 0\n",
      "City:  0 0\n",
      "Working Professional or Student:  0 0\n",
      "Profession:  0 0\n",
      "Sleep Duration:  0 0\n",
      "Dietary Habits:  0 0\n",
      "Degree:  0 0\n",
      "Have you ever had suicidal thoughts ?:  0 0\n",
      "Family History of Mental Illness:  0 0\n"
     ]
    }
   ],
   "source": [
    "for i in CAT_COLS:\n",
    "    train[i] = train[i].astype(np.int64)    \n",
    "    test[i] = test[i].astype(np.int64)\n",
    "    print(f\"{i}: \",train[i].isna().sum(),test[i].isna().sum())"
   ]
  },
  {
   "cell_type": "code",
   "execution_count": 10,
   "id": "4153d374",
   "metadata": {
    "execution": {
     "iopub.execute_input": "2024-11-05T19:35:03.303781Z",
     "iopub.status.busy": "2024-11-05T19:35:03.303428Z",
     "iopub.status.idle": "2024-11-05T19:35:03.307339Z",
     "shell.execute_reply": "2024-11-05T19:35:03.306524Z"
    },
    "papermill": {
     "duration": 0.012875,
     "end_time": "2024-11-05T19:35:03.309591",
     "exception": false,
     "start_time": "2024-11-05T19:35:03.296716",
     "status": "completed"
    },
    "tags": []
   },
   "outputs": [],
   "source": [
    "# for i in NUM_COLS:\n",
    "#     if train[i].isna().sum() >0 :\n",
    "#         train[i] = train[i].fillna(np.mean(train[i]))\n",
    "#         test[i] = test[i].fillna(np.mean(test[i]))                           \n",
    "#         print(f\"{i}: \",train[i].isna().sum(),test[i].isna().sum())"
   ]
  },
  {
   "cell_type": "code",
   "execution_count": 11,
   "id": "eed8eb40",
   "metadata": {
    "execution": {
     "iopub.execute_input": "2024-11-05T19:35:03.322605Z",
     "iopub.status.busy": "2024-11-05T19:35:03.322300Z",
     "iopub.status.idle": "2024-11-05T19:35:03.334818Z",
     "shell.execute_reply": "2024-11-05T19:35:03.333742Z"
    },
    "papermill": {
     "duration": 0.021332,
     "end_time": "2024-11-05T19:35:03.336919",
     "exception": false,
     "start_time": "2024-11-05T19:35:03.315587",
     "status": "completed"
    },
    "tags": []
   },
   "outputs": [
    {
     "name": "stdout",
     "output_type": "stream",
     "text": [
      "<class 'pandas.core.frame.DataFrame'>\n",
      "RangeIndex: 140700 entries, 0 to 140699\n",
      "Data columns (total 20 columns):\n",
      " #   Column                                 Non-Null Count   Dtype  \n",
      "---  ------                                 --------------   -----  \n",
      " 0   id                                     140700 non-null  int64  \n",
      " 1   Name                                   140700 non-null  int64  \n",
      " 2   Gender                                 140700 non-null  int64  \n",
      " 3   Age                                    140700 non-null  float64\n",
      " 4   City                                   140700 non-null  int64  \n",
      " 5   Working Professional or Student        140700 non-null  int64  \n",
      " 6   Profession                             140700 non-null  int64  \n",
      " 7   Academic Pressure                      27897 non-null   float64\n",
      " 8   Work Pressure                          112782 non-null  float64\n",
      " 9   CGPA                                   27898 non-null   float64\n",
      " 10  Study Satisfaction                     27897 non-null   float64\n",
      " 11  Job Satisfaction                       112790 non-null  float64\n",
      " 12  Sleep Duration                         140700 non-null  int64  \n",
      " 13  Dietary Habits                         140700 non-null  int64  \n",
      " 14  Degree                                 140700 non-null  int64  \n",
      " 15  Have you ever had suicidal thoughts ?  140700 non-null  int64  \n",
      " 16  Work/Study Hours                       140700 non-null  float64\n",
      " 17  Financial Stress                       140696 non-null  float64\n",
      " 18  Family History of Mental Illness       140700 non-null  int64  \n",
      " 19  Depression                             140700 non-null  int64  \n",
      "dtypes: float64(8), int64(12)\n",
      "memory usage: 21.5 MB\n"
     ]
    }
   ],
   "source": [
    "train.info()\n",
    "#great, encoding fixed all by 6 columns of nulls"
   ]
  },
  {
   "cell_type": "code",
   "execution_count": 12,
   "id": "d681c39c",
   "metadata": {
    "execution": {
     "iopub.execute_input": "2024-11-05T19:35:03.351059Z",
     "iopub.status.busy": "2024-11-05T19:35:03.350803Z",
     "iopub.status.idle": "2024-11-05T19:35:03.362629Z",
     "shell.execute_reply": "2024-11-05T19:35:03.361522Z"
    },
    "papermill": {
     "duration": 0.020912,
     "end_time": "2024-11-05T19:35:03.364432",
     "exception": false,
     "start_time": "2024-11-05T19:35:03.343520",
     "status": "completed"
    },
    "tags": []
   },
   "outputs": [
    {
     "name": "stdout",
     "output_type": "stream",
     "text": [
      "<class 'pandas.core.frame.DataFrame'>\n",
      "RangeIndex: 93800 entries, 0 to 93799\n",
      "Data columns (total 19 columns):\n",
      " #   Column                                 Non-Null Count  Dtype  \n",
      "---  ------                                 --------------  -----  \n",
      " 0   id                                     93800 non-null  int64  \n",
      " 1   Name                                   93800 non-null  int64  \n",
      " 2   Gender                                 93800 non-null  int64  \n",
      " 3   Age                                    93800 non-null  float64\n",
      " 4   City                                   93800 non-null  int64  \n",
      " 5   Working Professional or Student        93800 non-null  int64  \n",
      " 6   Profession                             93800 non-null  int64  \n",
      " 7   Academic Pressure                      18767 non-null  float64\n",
      " 8   Work Pressure                          75022 non-null  float64\n",
      " 9   CGPA                                   18766 non-null  float64\n",
      " 10  Study Satisfaction                     18767 non-null  float64\n",
      " 11  Job Satisfaction                       75026 non-null  float64\n",
      " 12  Sleep Duration                         93800 non-null  int64  \n",
      " 13  Dietary Habits                         93800 non-null  int64  \n",
      " 14  Degree                                 93800 non-null  int64  \n",
      " 15  Have you ever had suicidal thoughts ?  93800 non-null  int64  \n",
      " 16  Work/Study Hours                       93800 non-null  float64\n",
      " 17  Financial Stress                       93800 non-null  float64\n",
      " 18  Family History of Mental Illness       93800 non-null  int64  \n",
      "dtypes: float64(8), int64(11)\n",
      "memory usage: 13.6 MB\n"
     ]
    }
   ],
   "source": [
    "test.info() #even better, only 5 test columns now have nulls"
   ]
  },
  {
   "cell_type": "code",
   "execution_count": 13,
   "id": "231a0e5f",
   "metadata": {
    "execution": {
     "iopub.execute_input": "2024-11-05T19:35:03.377902Z",
     "iopub.status.busy": "2024-11-05T19:35:03.377633Z",
     "iopub.status.idle": "2024-11-05T19:35:03.381311Z",
     "shell.execute_reply": "2024-11-05T19:35:03.380548Z"
    },
    "papermill": {
     "duration": 0.012366,
     "end_time": "2024-11-05T19:35:03.383138",
     "exception": false,
     "start_time": "2024-11-05T19:35:03.370772",
     "status": "completed"
    },
    "tags": []
   },
   "outputs": [],
   "source": [
    "BOTH = CAT_COLS + NUM_COLS"
   ]
  },
  {
   "cell_type": "code",
   "execution_count": 14,
   "id": "fbbe7a95",
   "metadata": {
    "execution": {
     "iopub.execute_input": "2024-11-05T19:35:03.396602Z",
     "iopub.status.busy": "2024-11-05T19:35:03.396311Z",
     "iopub.status.idle": "2024-11-05T19:35:03.435072Z",
     "shell.execute_reply": "2024-11-05T19:35:03.434036Z"
    },
    "papermill": {
     "duration": 0.048016,
     "end_time": "2024-11-05T19:35:03.437246",
     "exception": false,
     "start_time": "2024-11-05T19:35:03.389230",
     "status": "completed"
    },
    "tags": []
   },
   "outputs": [
    {
     "data": {
      "text/html": [
       "<div>\n",
       "<style scoped>\n",
       "    .dataframe tbody tr th:only-of-type {\n",
       "        vertical-align: middle;\n",
       "    }\n",
       "\n",
       "    .dataframe tbody tr th {\n",
       "        vertical-align: top;\n",
       "    }\n",
       "\n",
       "    .dataframe thead th {\n",
       "        text-align: right;\n",
       "    }\n",
       "</style>\n",
       "<table border=\"1\" class=\"dataframe\">\n",
       "  <thead>\n",
       "    <tr style=\"text-align: right;\">\n",
       "      <th></th>\n",
       "      <th>id</th>\n",
       "      <th>Name</th>\n",
       "      <th>Gender</th>\n",
       "      <th>Age</th>\n",
       "      <th>City</th>\n",
       "      <th>Working Professional or Student</th>\n",
       "      <th>Profession</th>\n",
       "      <th>Academic Pressure</th>\n",
       "      <th>Work Pressure</th>\n",
       "      <th>CGPA</th>\n",
       "      <th>Study Satisfaction</th>\n",
       "      <th>Job Satisfaction</th>\n",
       "      <th>Sleep Duration</th>\n",
       "      <th>Dietary Habits</th>\n",
       "      <th>Degree</th>\n",
       "      <th>Have you ever had suicidal thoughts ?</th>\n",
       "      <th>Work/Study Hours</th>\n",
       "      <th>Financial Stress</th>\n",
       "      <th>Family History of Mental Illness</th>\n",
       "      <th>Depression</th>\n",
       "    </tr>\n",
       "  </thead>\n",
       "  <tbody>\n",
       "    <tr>\n",
       "      <th>0</th>\n",
       "      <td>78693</td>\n",
       "      <td>58</td>\n",
       "      <td>1</td>\n",
       "      <td>49.0</td>\n",
       "      <td>69</td>\n",
       "      <td>1</td>\n",
       "      <td>20</td>\n",
       "      <td>NaN</td>\n",
       "      <td>1.0</td>\n",
       "      <td>NaN</td>\n",
       "      <td>NaN</td>\n",
       "      <td>1.0</td>\n",
       "      <td>15</td>\n",
       "      <td>7</td>\n",
       "      <td>81</td>\n",
       "      <td>0</td>\n",
       "      <td>12.0</td>\n",
       "      <td>5.0</td>\n",
       "      <td>0</td>\n",
       "      <td>0</td>\n",
       "    </tr>\n",
       "    <tr>\n",
       "      <th>1</th>\n",
       "      <td>82468</td>\n",
       "      <td>188</td>\n",
       "      <td>0</td>\n",
       "      <td>19.0</td>\n",
       "      <td>94</td>\n",
       "      <td>1</td>\n",
       "      <td>-2</td>\n",
       "      <td>NaN</td>\n",
       "      <td>4.0</td>\n",
       "      <td>NaN</td>\n",
       "      <td>NaN</td>\n",
       "      <td>1.0</td>\n",
       "      <td>19</td>\n",
       "      <td>20</td>\n",
       "      <td>45</td>\n",
       "      <td>1</td>\n",
       "      <td>4.0</td>\n",
       "      <td>5.0</td>\n",
       "      <td>0</td>\n",
       "      <td>1</td>\n",
       "    </tr>\n",
       "    <tr>\n",
       "      <th>2</th>\n",
       "      <td>119108</td>\n",
       "      <td>421</td>\n",
       "      <td>0</td>\n",
       "      <td>46.0</td>\n",
       "      <td>17</td>\n",
       "      <td>1</td>\n",
       "      <td>55</td>\n",
       "      <td>NaN</td>\n",
       "      <td>3.0</td>\n",
       "      <td>NaN</td>\n",
       "      <td>NaN</td>\n",
       "      <td>2.0</td>\n",
       "      <td>15</td>\n",
       "      <td>20</td>\n",
       "      <td>81</td>\n",
       "      <td>0</td>\n",
       "      <td>1.0</td>\n",
       "      <td>3.0</td>\n",
       "      <td>0</td>\n",
       "      <td>0</td>\n",
       "    </tr>\n",
       "    <tr>\n",
       "      <th>3</th>\n",
       "      <td>82627</td>\n",
       "      <td>177</td>\n",
       "      <td>0</td>\n",
       "      <td>51.0</td>\n",
       "      <td>78</td>\n",
       "      <td>1</td>\n",
       "      <td>33</td>\n",
       "      <td>NaN</td>\n",
       "      <td>5.0</td>\n",
       "      <td>NaN</td>\n",
       "      <td>NaN</td>\n",
       "      <td>3.0</td>\n",
       "      <td>19</td>\n",
       "      <td>20</td>\n",
       "      <td>63</td>\n",
       "      <td>1</td>\n",
       "      <td>6.0</td>\n",
       "      <td>5.0</td>\n",
       "      <td>1</td>\n",
       "      <td>0</td>\n",
       "    </tr>\n",
       "    <tr>\n",
       "      <th>4</th>\n",
       "      <td>96239</td>\n",
       "      <td>114</td>\n",
       "      <td>0</td>\n",
       "      <td>23.0</td>\n",
       "      <td>94</td>\n",
       "      <td>0</td>\n",
       "      <td>-2</td>\n",
       "      <td>5.0</td>\n",
       "      <td>NaN</td>\n",
       "      <td>8.62</td>\n",
       "      <td>3.0</td>\n",
       "      <td>NaN</td>\n",
       "      <td>15</td>\n",
       "      <td>15</td>\n",
       "      <td>80</td>\n",
       "      <td>1</td>\n",
       "      <td>10.0</td>\n",
       "      <td>1.0</td>\n",
       "      <td>0</td>\n",
       "      <td>1</td>\n",
       "    </tr>\n",
       "  </tbody>\n",
       "</table>\n",
       "</div>"
      ],
      "text/plain": [
       "       id  Name  Gender   Age  City  Working Professional or Student  \\\n",
       "0   78693    58       1  49.0    69                                1   \n",
       "1   82468   188       0  19.0    94                                1   \n",
       "2  119108   421       0  46.0    17                                1   \n",
       "3   82627   177       0  51.0    78                                1   \n",
       "4   96239   114       0  23.0    94                                0   \n",
       "\n",
       "   Profession  Academic Pressure  Work Pressure  CGPA  Study Satisfaction  \\\n",
       "0          20                NaN            1.0   NaN                 NaN   \n",
       "1          -2                NaN            4.0   NaN                 NaN   \n",
       "2          55                NaN            3.0   NaN                 NaN   \n",
       "3          33                NaN            5.0   NaN                 NaN   \n",
       "4          -2                5.0            NaN  8.62                 3.0   \n",
       "\n",
       "   Job Satisfaction  Sleep Duration  Dietary Habits  Degree  \\\n",
       "0               1.0              15               7      81   \n",
       "1               1.0              19              20      45   \n",
       "2               2.0              15              20      81   \n",
       "3               3.0              19              20      63   \n",
       "4               NaN              15              15      80   \n",
       "\n",
       "   Have you ever had suicidal thoughts ?  Work/Study Hours  Financial Stress  \\\n",
       "0                                      0              12.0               5.0   \n",
       "1                                      1               4.0               5.0   \n",
       "2                                      0               1.0               3.0   \n",
       "3                                      1               6.0               5.0   \n",
       "4                                      1              10.0               1.0   \n",
       "\n",
       "   Family History of Mental Illness  Depression  \n",
       "0                                 0           0  \n",
       "1                                 0           1  \n",
       "2                                 0           0  \n",
       "3                                 1           0  \n",
       "4                                 0           1  "
      ]
     },
     "execution_count": 14,
     "metadata": {},
     "output_type": "execute_result"
    }
   ],
   "source": [
    "trainsmall = train.sample(51000)\n",
    "trainsmall.reset_index(inplace=True,drop=True)\n",
    "trainsmall.head()"
   ]
  },
  {
   "cell_type": "code",
   "execution_count": 15,
   "id": "45ebc769",
   "metadata": {
    "execution": {
     "iopub.execute_input": "2024-11-05T19:35:03.451846Z",
     "iopub.status.busy": "2024-11-05T19:35:03.451551Z",
     "iopub.status.idle": "2024-11-06T06:58:05.625807Z",
     "shell.execute_reply": "2024-11-06T06:58:05.616706Z"
    },
    "papermill": {
     "duration": 40982.228541,
     "end_time": "2024-11-06T06:58:05.672859",
     "exception": false,
     "start_time": "2024-11-05T19:35:03.444318",
     "status": "completed"
    },
    "tags": []
   },
   "outputs": [
    {
     "name": "stderr",
     "output_type": "stream",
     "text": [
      "[I 2024-11-05 19:35:03,458] A new study created in memory with name: no-name-a22a6441-ba2c-40e7-95ae-84e165de7510\n",
      "[I 2024-11-05 19:42:10,830] Trial 0 finished with value: 0.9392352941176471 and parameters: {'learning_rate': 0.05409479929538654, 'depth': 10, 'reg_lambda': 13}. Best is trial 0 with value: 0.9392352941176471.\n"
     ]
    },
    {
     "name": "stdout",
     "output_type": "stream",
     "text": [
      "0: 0.9392352941176471\n"
     ]
    },
    {
     "name": "stderr",
     "output_type": "stream",
     "text": [
      "[I 2024-11-05 19:42:43,496] Trial 1 finished with value: 0.9393333333333334 and parameters: {'learning_rate': 0.11298563255511176, 'depth': 4, 'reg_lambda': 27}. Best is trial 1 with value: 0.9393333333333334.\n"
     ]
    },
    {
     "name": "stdout",
     "output_type": "stream",
     "text": [
      "1: 0.9393333333333334\n"
     ]
    },
    {
     "name": "stderr",
     "output_type": "stream",
     "text": [
      "[I 2024-11-05 19:43:22,696] Trial 2 finished with value: 0.9390980392156862 and parameters: {'learning_rate': 0.11496064855751756, 'depth': 6, 'reg_lambda': 12}. Best is trial 1 with value: 0.9393333333333334.\n"
     ]
    },
    {
     "name": "stdout",
     "output_type": "stream",
     "text": [
      "2: 0.9390980392156862\n"
     ]
    },
    {
     "name": "stderr",
     "output_type": "stream",
     "text": [
      "[I 2024-11-05 19:44:34,888] Trial 3 finished with value: 0.9390980392156862 and parameters: {'learning_rate': 0.05922969833658939, 'depth': 2, 'reg_lambda': 3}. Best is trial 1 with value: 0.9393333333333334.\n"
     ]
    },
    {
     "name": "stdout",
     "output_type": "stream",
     "text": [
      "3: 0.9390980392156862\n"
     ]
    },
    {
     "name": "stderr",
     "output_type": "stream",
     "text": [
      "[I 2024-11-05 19:45:22,597] Trial 4 finished with value: 0.9388823529411764 and parameters: {'learning_rate': 0.0833911104441832, 'depth': 3, 'reg_lambda': 10}. Best is trial 1 with value: 0.9393333333333334.\n"
     ]
    },
    {
     "name": "stdout",
     "output_type": "stream",
     "text": [
      "4: 0.9388823529411764\n"
     ]
    },
    {
     "name": "stderr",
     "output_type": "stream",
     "text": [
      "[I 2024-11-05 19:47:48,833] Trial 5 finished with value: 0.9393921568627451 and parameters: {'learning_rate': 0.035386679686545346, 'depth': 7, 'reg_lambda': 1}. Best is trial 5 with value: 0.9393921568627451.\n"
     ]
    },
    {
     "name": "stdout",
     "output_type": "stream",
     "text": [
      "5: 0.9393921568627451\n"
     ]
    },
    {
     "name": "stderr",
     "output_type": "stream",
     "text": [
      "[I 2024-11-05 19:51:47,685] Trial 6 finished with value: 0.9385294117647058 and parameters: {'learning_rate': 0.04533733367144165, 'depth': 10, 'reg_lambda': 0}. Best is trial 5 with value: 0.9393921568627451.\n"
     ]
    },
    {
     "name": "stdout",
     "output_type": "stream",
     "text": [
      "6: 0.9385294117647058\n"
     ]
    },
    {
     "name": "stderr",
     "output_type": "stream",
     "text": [
      "[I 2024-11-05 20:12:03,459] Trial 7 finished with value: 0.9395098039215686 and parameters: {'learning_rate': 0.027576141157588635, 'depth': 11, 'reg_lambda': 11}. Best is trial 7 with value: 0.9395098039215686.\n"
     ]
    },
    {
     "name": "stdout",
     "output_type": "stream",
     "text": [
      "7: 0.9395098039215686\n"
     ]
    },
    {
     "name": "stderr",
     "output_type": "stream",
     "text": [
      "[I 2024-11-05 20:13:47,669] Trial 8 finished with value: 0.9392156862745099 and parameters: {'learning_rate': 0.02836305488951396, 'depth': 3, 'reg_lambda': 20}. Best is trial 7 with value: 0.9395098039215686.\n"
     ]
    },
    {
     "name": "stdout",
     "output_type": "stream",
     "text": [
      "8: 0.9392156862745099\n"
     ]
    },
    {
     "name": "stderr",
     "output_type": "stream",
     "text": [
      "[I 2024-11-05 20:15:29,155] Trial 9 finished with value: 0.9391372549019609 and parameters: {'learning_rate': 0.0306366456222747, 'depth': 4, 'reg_lambda': 12}. Best is trial 7 with value: 0.9395098039215686.\n"
     ]
    },
    {
     "name": "stdout",
     "output_type": "stream",
     "text": [
      "9: 0.9391372549019609\n"
     ]
    },
    {
     "name": "stderr",
     "output_type": "stream",
     "text": [
      "[I 2024-11-05 21:30:29,001] Trial 10 finished with value: 0.939294117647059 and parameters: {'learning_rate': 0.010903166375955758, 'depth': 12, 'reg_lambda': 20}. Best is trial 7 with value: 0.9395098039215686.\n"
     ]
    },
    {
     "name": "stdout",
     "output_type": "stream",
     "text": [
      "10: 0.939294117647059\n"
     ]
    },
    {
     "name": "stderr",
     "output_type": "stream",
     "text": [
      "[I 2024-11-05 21:36:09,335] Trial 11 finished with value: 0.9392549019607843 and parameters: {'learning_rate': 0.010530059658433285, 'depth': 7, 'reg_lambda': 6}. Best is trial 7 with value: 0.9395098039215686.\n"
     ]
    },
    {
     "name": "stdout",
     "output_type": "stream",
     "text": [
      "11: 0.9392549019607843\n"
     ]
    },
    {
     "name": "stderr",
     "output_type": "stream",
     "text": [
      "[I 2024-11-05 21:39:44,248] Trial 12 finished with value: 0.9391764705882353 and parameters: {'learning_rate': 0.033894590942885015, 'depth': 8, 'reg_lambda': 6}. Best is trial 7 with value: 0.9395098039215686.\n"
     ]
    },
    {
     "name": "stdout",
     "output_type": "stream",
     "text": [
      "12: 0.9391764705882353\n"
     ]
    },
    {
     "name": "stderr",
     "output_type": "stream",
     "text": [
      "[I 2024-11-05 21:44:23,082] Trial 13 finished with value: 0.9394509803921568 and parameters: {'learning_rate': 0.0771583490236023, 'depth': 10, 'reg_lambda': 18}. Best is trial 7 with value: 0.9395098039215686.\n"
     ]
    },
    {
     "name": "stdout",
     "output_type": "stream",
     "text": [
      "13: 0.9394509803921568\n"
     ]
    },
    {
     "name": "stderr",
     "output_type": "stream",
     "text": [
      "[I 2024-11-05 21:57:33,926] Trial 14 finished with value: 0.9391372549019609 and parameters: {'learning_rate': 0.07381728602932525, 'depth': 12, 'reg_lambda': 19}. Best is trial 7 with value: 0.9395098039215686.\n"
     ]
    },
    {
     "name": "stdout",
     "output_type": "stream",
     "text": [
      "14: 0.9391372549019609\n"
     ]
    },
    {
     "name": "stderr",
     "output_type": "stream",
     "text": [
      "[I 2024-11-05 22:02:19,583] Trial 15 finished with value: 0.9390784313725491 and parameters: {'learning_rate': 0.08437690629964567, 'depth': 10, 'reg_lambda': 26}. Best is trial 7 with value: 0.9395098039215686.\n"
     ]
    },
    {
     "name": "stdout",
     "output_type": "stream",
     "text": [
      "15: 0.9390784313725491\n"
     ]
    },
    {
     "name": "stderr",
     "output_type": "stream",
     "text": [
      "[I 2024-11-05 22:04:14,346] Trial 16 finished with value: 0.9391960784313724 and parameters: {'learning_rate': 0.09554684100722602, 'depth': 9, 'reg_lambda': 16}. Best is trial 7 with value: 0.9395098039215686.\n"
     ]
    },
    {
     "name": "stdout",
     "output_type": "stream",
     "text": [
      "16: 0.9391960784313724\n"
     ]
    },
    {
     "name": "stderr",
     "output_type": "stream",
     "text": [
      "[I 2024-11-05 22:13:06,818] Trial 17 finished with value: 0.9389411764705883 and parameters: {'learning_rate': 0.07003012742201808, 'depth': 11, 'reg_lambda': 23}. Best is trial 7 with value: 0.9395098039215686.\n"
     ]
    },
    {
     "name": "stdout",
     "output_type": "stream",
     "text": [
      "17: 0.9389411764705883\n"
     ]
    },
    {
     "name": "stderr",
     "output_type": "stream",
     "text": [
      "[I 2024-11-05 22:14:48,156] Trial 18 finished with value: 0.9388235294117647 and parameters: {'learning_rate': 0.1034173193583858, 'depth': 9, 'reg_lambda': 8}. Best is trial 7 with value: 0.9395098039215686.\n"
     ]
    },
    {
     "name": "stdout",
     "output_type": "stream",
     "text": [
      "18: 0.9388235294117647\n"
     ]
    },
    {
     "name": "stderr",
     "output_type": "stream",
     "text": [
      "[I 2024-11-05 22:26:31,629] Trial 19 finished with value: 0.9390588235294116 and parameters: {'learning_rate': 0.04787120408535923, 'depth': 11, 'reg_lambda': 30}. Best is trial 7 with value: 0.9395098039215686.\n"
     ]
    },
    {
     "name": "stdout",
     "output_type": "stream",
     "text": [
      "19: 0.9390588235294116\n"
     ]
    },
    {
     "name": "stderr",
     "output_type": "stream",
     "text": [
      "[I 2024-11-05 22:27:59,478] Trial 20 finished with value: 0.9388039215686274 and parameters: {'learning_rate': 0.07995287352937529, 'depth': 8, 'reg_lambda': 16}. Best is trial 7 with value: 0.9395098039215686.\n"
     ]
    },
    {
     "name": "stdout",
     "output_type": "stream",
     "text": [
      "20: 0.9388039215686274\n"
     ]
    },
    {
     "name": "stderr",
     "output_type": "stream",
     "text": [
      "[I 2024-11-05 22:29:38,520] Trial 21 finished with value: 0.9393529411764706 and parameters: {'learning_rate': 0.037286101196065465, 'depth': 6, 'reg_lambda': 5}. Best is trial 7 with value: 0.9395098039215686.\n"
     ]
    },
    {
     "name": "stdout",
     "output_type": "stream",
     "text": [
      "21: 0.9393529411764706\n"
     ]
    },
    {
     "name": "stderr",
     "output_type": "stream",
     "text": [
      "[I 2024-11-05 22:31:11,970] Trial 22 finished with value: 0.9387058823529412 and parameters: {'learning_rate': 0.020429463388457192, 'depth': 6, 'reg_lambda': 0}. Best is trial 7 with value: 0.9395098039215686.\n"
     ]
    },
    {
     "name": "stdout",
     "output_type": "stream",
     "text": [
      "22: 0.9387058823529412\n"
     ]
    },
    {
     "name": "stderr",
     "output_type": "stream",
     "text": [
      "[I 2024-11-05 22:33:22,969] Trial 23 finished with value: 0.9390392156862745 and parameters: {'learning_rate': 0.06338206880064351, 'depth': 8, 'reg_lambda': 15}. Best is trial 7 with value: 0.9395098039215686.\n"
     ]
    },
    {
     "name": "stdout",
     "output_type": "stream",
     "text": [
      "23: 0.9390392156862745\n"
     ]
    },
    {
     "name": "stderr",
     "output_type": "stream",
     "text": [
      "[I 2024-11-05 22:44:29,796] Trial 24 finished with value: 0.9390588235294118 and parameters: {'learning_rate': 0.04379717907711301, 'depth': 11, 'reg_lambda': 3}. Best is trial 7 with value: 0.9395098039215686.\n"
     ]
    },
    {
     "name": "stdout",
     "output_type": "stream",
     "text": [
      "24: 0.9390588235294118\n"
     ]
    },
    {
     "name": "stderr",
     "output_type": "stream",
     "text": [
      "[I 2024-11-05 22:48:29,644] Trial 25 finished with value: 0.9393137254901961 and parameters: {'learning_rate': 0.02199737221881311, 'depth': 7, 'reg_lambda': 9}. Best is trial 7 with value: 0.9395098039215686.\n"
     ]
    },
    {
     "name": "stdout",
     "output_type": "stream",
     "text": [
      "25: 0.9393137254901961\n"
     ]
    },
    {
     "name": "stderr",
     "output_type": "stream",
     "text": [
      "[I 2024-11-05 22:50:35,090] Trial 26 finished with value: 0.9390196078431373 and parameters: {'learning_rate': 0.09391185399071414, 'depth': 9, 'reg_lambda': 23}. Best is trial 7 with value: 0.9395098039215686.\n"
     ]
    },
    {
     "name": "stdout",
     "output_type": "stream",
     "text": [
      "26: 0.9390196078431373\n"
     ]
    },
    {
     "name": "stderr",
     "output_type": "stream",
     "text": [
      "[I 2024-11-05 22:51:25,349] Trial 27 finished with value: 0.9392745098039216 and parameters: {'learning_rate': 0.05446695691084707, 'depth': 5, 'reg_lambda': 18}. Best is trial 7 with value: 0.9395098039215686.\n"
     ]
    },
    {
     "name": "stdout",
     "output_type": "stream",
     "text": [
      "27: 0.9392745098039216\n"
     ]
    },
    {
     "name": "stderr",
     "output_type": "stream",
     "text": [
      "[I 2024-11-05 23:43:03,169] Trial 28 finished with value: 0.9390000000000001 and parameters: {'learning_rate': 0.01921546288366444, 'depth': 12, 'reg_lambda': 22}. Best is trial 7 with value: 0.9395098039215686.\n"
     ]
    },
    {
     "name": "stdout",
     "output_type": "stream",
     "text": [
      "28: 0.9390000000000001\n"
     ]
    },
    {
     "name": "stderr",
     "output_type": "stream",
     "text": [
      "[I 2024-11-05 23:51:23,381] Trial 29 finished with value: 0.9395098039215686 and parameters: {'learning_rate': 0.038852577381545926, 'depth': 10, 'reg_lambda': 14}. Best is trial 7 with value: 0.9395098039215686.\n"
     ]
    },
    {
     "name": "stdout",
     "output_type": "stream",
     "text": [
      "29: 0.9395098039215686\n"
     ]
    },
    {
     "name": "stderr",
     "output_type": "stream",
     "text": [
      "[I 2024-11-05 23:57:02,893] Trial 30 finished with value: 0.9389019607843138 and parameters: {'learning_rate': 0.051929520956581446, 'depth': 10, 'reg_lambda': 14}. Best is trial 7 with value: 0.9395098039215686.\n"
     ]
    },
    {
     "name": "stdout",
     "output_type": "stream",
     "text": [
      "30: 0.9389019607843138\n"
     ]
    },
    {
     "name": "stderr",
     "output_type": "stream",
     "text": [
      "[I 2024-11-06 00:05:05,991] Trial 31 finished with value: 0.939470588235294 and parameters: {'learning_rate': 0.0368223878942375, 'depth': 10, 'reg_lambda': 11}. Best is trial 7 with value: 0.9395098039215686.\n"
     ]
    },
    {
     "name": "stdout",
     "output_type": "stream",
     "text": [
      "31: 0.939470588235294\n"
     ]
    },
    {
     "name": "stderr",
     "output_type": "stream",
     "text": [
      "[I 2024-11-06 00:19:43,318] Trial 32 finished with value: 0.9392549019607843 and parameters: {'learning_rate': 0.04142897658735191, 'depth': 11, 'reg_lambda': 11}. Best is trial 7 with value: 0.9395098039215686.\n"
     ]
    },
    {
     "name": "stdout",
     "output_type": "stream",
     "text": [
      "32: 0.9392549019607843\n"
     ]
    },
    {
     "name": "stderr",
     "output_type": "stream",
     "text": [
      "[I 2024-11-06 00:30:56,026] Trial 33 finished with value: 0.9393333333333334 and parameters: {'learning_rate': 0.025153703481414113, 'depth': 10, 'reg_lambda': 13}. Best is trial 7 with value: 0.9395098039215686.\n"
     ]
    },
    {
     "name": "stdout",
     "output_type": "stream",
     "text": [
      "33: 0.9393333333333334\n"
     ]
    },
    {
     "name": "stderr",
     "output_type": "stream",
     "text": [
      "[I 2024-11-06 00:34:46,127] Trial 34 finished with value: 0.9391764705882353 and parameters: {'learning_rate': 0.05725677973571457, 'depth': 9, 'reg_lambda': 18}. Best is trial 7 with value: 0.9395098039215686.\n"
     ]
    },
    {
     "name": "stdout",
     "output_type": "stream",
     "text": [
      "34: 0.9391764705882353\n"
     ]
    },
    {
     "name": "stderr",
     "output_type": "stream",
     "text": [
      "[I 2024-11-06 00:42:48,617] Trial 35 finished with value: 0.9390980392156862 and parameters: {'learning_rate': 0.06804735368014772, 'depth': 11, 'reg_lambda': 9}. Best is trial 7 with value: 0.9395098039215686.\n"
     ]
    },
    {
     "name": "stdout",
     "output_type": "stream",
     "text": [
      "35: 0.9390980392156862\n"
     ]
    },
    {
     "name": "stderr",
     "output_type": "stream",
     "text": [
      "[I 2024-11-06 01:07:48,471] Trial 36 finished with value: 0.938843137254902 and parameters: {'learning_rate': 0.039485692691321406, 'depth': 12, 'reg_lambda': 13}. Best is trial 7 with value: 0.9395098039215686.\n"
     ]
    },
    {
     "name": "stdout",
     "output_type": "stream",
     "text": [
      "36: 0.938843137254902\n"
     ]
    },
    {
     "name": "stderr",
     "output_type": "stream",
     "text": [
      "[I 2024-11-06 01:11:27,769] Trial 37 finished with value: 0.9389411764705882 and parameters: {'learning_rate': 0.04965505060648793, 'depth': 9, 'reg_lambda': 16}. Best is trial 7 with value: 0.9395098039215686.\n"
     ]
    },
    {
     "name": "stdout",
     "output_type": "stream",
     "text": [
      "37: 0.9389411764705882\n"
     ]
    },
    {
     "name": "stderr",
     "output_type": "stream",
     "text": [
      "[I 2024-11-06 01:14:53,404] Trial 38 finished with value: 0.939078431372549 and parameters: {'learning_rate': 0.11940953037261248, 'depth': 10, 'reg_lambda': 12}. Best is trial 7 with value: 0.9395098039215686.\n"
     ]
    },
    {
     "name": "stdout",
     "output_type": "stream",
     "text": [
      "38: 0.939078431372549\n"
     ]
    },
    {
     "name": "stderr",
     "output_type": "stream",
     "text": [
      "[I 2024-11-06 01:19:16,882] Trial 39 finished with value: 0.9390000000000001 and parameters: {'learning_rate': 0.06313183054847435, 'depth': 10, 'reg_lambda': 10}. Best is trial 7 with value: 0.9395098039215686.\n"
     ]
    },
    {
     "name": "stdout",
     "output_type": "stream",
     "text": [
      "39: 0.9390000000000001\n"
     ]
    },
    {
     "name": "stderr",
     "output_type": "stream",
     "text": [
      "[I 2024-11-06 01:25:32,401] Trial 40 finished with value: 0.939078431372549 and parameters: {'learning_rate': 0.016758384599676587, 'depth': 8, 'reg_lambda': 15}. Best is trial 7 with value: 0.9395098039215686.\n"
     ]
    },
    {
     "name": "stdout",
     "output_type": "stream",
     "text": [
      "40: 0.939078431372549\n"
     ]
    },
    {
     "name": "stderr",
     "output_type": "stream",
     "text": [
      "[I 2024-11-06 01:27:41,077] Trial 41 finished with value: 0.9395490196078432 and parameters: {'learning_rate': 0.03146559460626812, 'depth': 6, 'reg_lambda': 7}. Best is trial 41 with value: 0.9395490196078432.\n"
     ]
    },
    {
     "name": "stdout",
     "output_type": "stream",
     "text": [
      "41: 0.9395490196078432\n"
     ]
    },
    {
     "name": "stderr",
     "output_type": "stream",
     "text": [
      "[I 2024-11-06 01:28:58,152] Trial 42 finished with value: 0.9394901960784313 and parameters: {'learning_rate': 0.032964860092521586, 'depth': 5, 'reg_lambda': 8}. Best is trial 41 with value: 0.9395490196078432.\n"
     ]
    },
    {
     "name": "stdout",
     "output_type": "stream",
     "text": [
      "42: 0.9394901960784313\n"
     ]
    },
    {
     "name": "stderr",
     "output_type": "stream",
     "text": [
      "[I 2024-11-06 01:30:32,929] Trial 43 finished with value: 0.9394509803921568 and parameters: {'learning_rate': 0.03139115307339576, 'depth': 5, 'reg_lambda': 7}. Best is trial 41 with value: 0.9395490196078432.\n"
     ]
    },
    {
     "name": "stdout",
     "output_type": "stream",
     "text": [
      "43: 0.9394509803921568\n"
     ]
    },
    {
     "name": "stderr",
     "output_type": "stream",
     "text": [
      "[I 2024-11-06 01:32:32,334] Trial 44 finished with value: 0.9391764705882353 and parameters: {'learning_rate': 0.026836718847895888, 'depth': 5, 'reg_lambda': 4}. Best is trial 41 with value: 0.9395490196078432.\n"
     ]
    },
    {
     "name": "stdout",
     "output_type": "stream",
     "text": [
      "44: 0.9391764705882353\n"
     ]
    },
    {
     "name": "stderr",
     "output_type": "stream",
     "text": [
      "[I 2024-11-06 01:34:02,686] Trial 45 finished with value: 0.9393529411764705 and parameters: {'learning_rate': 0.0345963246522597, 'depth': 4, 'reg_lambda': 10}. Best is trial 41 with value: 0.9395490196078432.\n"
     ]
    },
    {
     "name": "stdout",
     "output_type": "stream",
     "text": [
      "45: 0.9393529411764705\n"
     ]
    },
    {
     "name": "stderr",
     "output_type": "stream",
     "text": [
      "[I 2024-11-06 01:37:40,287] Trial 46 finished with value: 0.9390196078431372 and parameters: {'learning_rate': 0.014581683405626534, 'depth': 6, 'reg_lambda': 7}. Best is trial 41 with value: 0.9395490196078432.\n"
     ]
    },
    {
     "name": "stdout",
     "output_type": "stream",
     "text": [
      "46: 0.9390196078431372\n"
     ]
    },
    {
     "name": "stderr",
     "output_type": "stream",
     "text": [
      "[I 2024-11-06 01:39:36,581] Trial 47 finished with value: 0.9390980392156862 and parameters: {'learning_rate': 0.02580820323879866, 'depth': 3, 'reg_lambda': 11}. Best is trial 41 with value: 0.9395490196078432.\n"
     ]
    },
    {
     "name": "stdout",
     "output_type": "stream",
     "text": [
      "47: 0.9390980392156862\n"
     ]
    },
    {
     "name": "stderr",
     "output_type": "stream",
     "text": [
      "[I 2024-11-06 01:41:05,413] Trial 48 finished with value: 0.9392745098039215 and parameters: {'learning_rate': 0.030642636743448172, 'depth': 4, 'reg_lambda': 5}. Best is trial 41 with value: 0.9395490196078432.\n"
     ]
    },
    {
     "name": "stdout",
     "output_type": "stream",
     "text": [
      "48: 0.9392745098039215\n"
     ]
    },
    {
     "name": "stderr",
     "output_type": "stream",
     "text": [
      "[I 2024-11-06 01:42:30,860] Trial 49 finished with value: 0.9391764705882353 and parameters: {'learning_rate': 0.0445002578726298, 'depth': 2, 'reg_lambda': 8}. Best is trial 41 with value: 0.9395490196078432.\n"
     ]
    },
    {
     "name": "stdout",
     "output_type": "stream",
     "text": [
      "49: 0.9391764705882353\n"
     ]
    },
    {
     "name": "stderr",
     "output_type": "stream",
     "text": [
      "[I 2024-11-06 01:44:04,488] Trial 50 finished with value: 0.9393725490196078 and parameters: {'learning_rate': 0.03773598701149832, 'depth': 5, 'reg_lambda': 2}. Best is trial 41 with value: 0.9395490196078432.\n"
     ]
    },
    {
     "name": "stdout",
     "output_type": "stream",
     "text": [
      "50: 0.9393725490196078\n"
     ]
    },
    {
     "name": "stderr",
     "output_type": "stream",
     "text": [
      "[I 2024-11-06 01:45:23,549] Trial 51 finished with value: 0.9390196078431372 and parameters: {'learning_rate': 0.08036470597135326, 'depth': 7, 'reg_lambda': 11}. Best is trial 41 with value: 0.9395490196078432.\n"
     ]
    },
    {
     "name": "stdout",
     "output_type": "stream",
     "text": [
      "51: 0.9390196078431372\n"
     ]
    },
    {
     "name": "stderr",
     "output_type": "stream",
     "text": [
      "[I 2024-11-06 02:01:16,324] Trial 52 finished with value: 0.9390000000000001 and parameters: {'learning_rate': 0.033112634254162436, 'depth': 11, 'reg_lambda': 13}. Best is trial 41 with value: 0.9395490196078432.\n"
     ]
    },
    {
     "name": "stdout",
     "output_type": "stream",
     "text": [
      "52: 0.9390000000000001\n"
     ]
    },
    {
     "name": "stderr",
     "output_type": "stream",
     "text": [
      "[I 2024-11-06 02:02:10,967] Trial 53 finished with value: 0.9393921568627451 and parameters: {'learning_rate': 0.07353613560507741, 'depth': 6, 'reg_lambda': 17}. Best is trial 41 with value: 0.9395490196078432.\n"
     ]
    },
    {
     "name": "stdout",
     "output_type": "stream",
     "text": [
      "53: 0.9393921568627451\n"
     ]
    },
    {
     "name": "stderr",
     "output_type": "stream",
     "text": [
      "[I 2024-11-06 02:15:19,382] Trial 54 finished with value: 0.9393725490196078 and parameters: {'learning_rate': 0.023760908749980318, 'depth': 10, 'reg_lambda': 8}. Best is trial 41 with value: 0.9395490196078432.\n"
     ]
    },
    {
     "name": "stdout",
     "output_type": "stream",
     "text": [
      "54: 0.9393725490196078\n"
     ]
    },
    {
     "name": "stderr",
     "output_type": "stream",
     "text": [
      "[I 2024-11-06 02:34:49,659] Trial 55 finished with value: 0.9390000000000001 and parameters: {'learning_rate': 0.029481013748074124, 'depth': 11, 'reg_lambda': 14}. Best is trial 41 with value: 0.9395490196078432.\n"
     ]
    },
    {
     "name": "stdout",
     "output_type": "stream",
     "text": [
      "55: 0.9390000000000001\n"
     ]
    },
    {
     "name": "stderr",
     "output_type": "stream",
     "text": [
      "[I 2024-11-06 02:36:12,189] Trial 56 finished with value: 0.9394705882352942 and parameters: {'learning_rate': 0.08689673287234478, 'depth': 8, 'reg_lambda': 21}. Best is trial 41 with value: 0.9395490196078432.\n"
     ]
    },
    {
     "name": "stdout",
     "output_type": "stream",
     "text": [
      "56: 0.9394705882352942\n"
     ]
    },
    {
     "name": "stderr",
     "output_type": "stream",
     "text": [
      "[I 2024-11-06 02:37:41,310] Trial 57 finished with value: 0.9394117647058824 and parameters: {'learning_rate': 0.0953335573846698, 'depth': 8, 'reg_lambda': 26}. Best is trial 41 with value: 0.9395490196078432.\n"
     ]
    },
    {
     "name": "stdout",
     "output_type": "stream",
     "text": [
      "57: 0.9394117647058824\n"
     ]
    },
    {
     "name": "stderr",
     "output_type": "stream",
     "text": [
      "[I 2024-11-06 02:38:16,377] Trial 58 finished with value: 0.938764705882353 and parameters: {'learning_rate': 0.08635571618388424, 'depth': 6, 'reg_lambda': 20}. Best is trial 41 with value: 0.9395490196078432.\n"
     ]
    },
    {
     "name": "stdout",
     "output_type": "stream",
     "text": [
      "58: 0.938764705882353\n"
     ]
    },
    {
     "name": "stderr",
     "output_type": "stream",
     "text": [
      "[I 2024-11-06 02:43:29,355] Trial 59 finished with value: 0.9392156862745097 and parameters: {'learning_rate': 0.01295979667352868, 'depth': 7, 'reg_lambda': 9}. Best is trial 41 with value: 0.9395490196078432.\n"
     ]
    },
    {
     "name": "stdout",
     "output_type": "stream",
     "text": [
      "59: 0.9392156862745097\n"
     ]
    },
    {
     "name": "stderr",
     "output_type": "stream",
     "text": [
      "[I 2024-11-06 02:45:36,948] Trial 60 finished with value: 0.9389019607843139 and parameters: {'learning_rate': 0.10741761133591901, 'depth': 9, 'reg_lambda': 6}. Best is trial 41 with value: 0.9395490196078432.\n"
     ]
    },
    {
     "name": "stdout",
     "output_type": "stream",
     "text": [
      "60: 0.9389019607843139\n"
     ]
    },
    {
     "name": "stderr",
     "output_type": "stream",
     "text": [
      "[I 2024-11-06 02:48:17,784] Trial 61 finished with value: 0.9388235294117647 and parameters: {'learning_rate': 0.07772081890825344, 'depth': 9, 'reg_lambda': 24}. Best is trial 41 with value: 0.9395490196078432.\n"
     ]
    },
    {
     "name": "stdout",
     "output_type": "stream",
     "text": [
      "61: 0.9388235294117647\n"
     ]
    },
    {
     "name": "stderr",
     "output_type": "stream",
     "text": [
      "[I 2024-11-06 02:52:27,696] Trial 62 finished with value: 0.9388627450980392 and parameters: {'learning_rate': 0.08832546341122159, 'depth': 10, 'reg_lambda': 21}. Best is trial 41 with value: 0.9395490196078432.\n"
     ]
    },
    {
     "name": "stdout",
     "output_type": "stream",
     "text": [
      "62: 0.9388627450980392\n"
     ]
    },
    {
     "name": "stderr",
     "output_type": "stream",
     "text": [
      "[I 2024-11-06 03:02:50,614] Trial 63 finished with value: 0.9389803921568628 and parameters: {'learning_rate': 0.09166937303029511, 'depth': 12, 'reg_lambda': 19}. Best is trial 41 with value: 0.9395490196078432.\n"
     ]
    },
    {
     "name": "stdout",
     "output_type": "stream",
     "text": [
      "63: 0.9389803921568628\n"
     ]
    },
    {
     "name": "stderr",
     "output_type": "stream",
     "text": [
      "[I 2024-11-06 03:08:41,185] Trial 64 finished with value: 0.9390980392156862 and parameters: {'learning_rate': 0.09914850696746463, 'depth': 11, 'reg_lambda': 14}. Best is trial 41 with value: 0.9395490196078432.\n"
     ]
    },
    {
     "name": "stdout",
     "output_type": "stream",
     "text": [
      "64: 0.9390980392156862\n"
     ]
    },
    {
     "name": "stderr",
     "output_type": "stream",
     "text": [
      "[I 2024-11-06 03:16:36,418] Trial 65 finished with value: 0.9389411764705882 and parameters: {'learning_rate': 0.04043133809138868, 'depth': 10, 'reg_lambda': 17}. Best is trial 41 with value: 0.9395490196078432.\n"
     ]
    },
    {
     "name": "stdout",
     "output_type": "stream",
     "text": [
      "65: 0.9389411764705882\n"
     ]
    },
    {
     "name": "stderr",
     "output_type": "stream",
     "text": [
      "[I 2024-11-06 03:18:51,864] Trial 66 finished with value: 0.9393725490196078 and parameters: {'learning_rate': 0.019560029415771306, 'depth': 4, 'reg_lambda': 12}. Best is trial 41 with value: 0.9395490196078432.\n"
     ]
    },
    {
     "name": "stdout",
     "output_type": "stream",
     "text": [
      "66: 0.9393725490196078\n"
     ]
    },
    {
     "name": "stderr",
     "output_type": "stream",
     "text": [
      "[I 2024-11-06 03:22:11,807] Trial 67 finished with value: 0.9391568627450981 and parameters: {'learning_rate': 0.03590964192401273, 'depth': 8, 'reg_lambda': 21}. Best is trial 41 with value: 0.9395490196078432.\n"
     ]
    },
    {
     "name": "stdout",
     "output_type": "stream",
     "text": [
      "67: 0.9391568627450981\n"
     ]
    },
    {
     "name": "stderr",
     "output_type": "stream",
     "text": [
      "[I 2024-11-06 03:23:13,014] Trial 68 finished with value: 0.9391764705882353 and parameters: {'learning_rate': 0.0822810603582448, 'depth': 7, 'reg_lambda': 7}. Best is trial 41 with value: 0.9395490196078432.\n"
     ]
    },
    {
     "name": "stdout",
     "output_type": "stream",
     "text": [
      "68: 0.9391764705882353\n"
     ]
    },
    {
     "name": "stderr",
     "output_type": "stream",
     "text": [
      "[I 2024-11-06 03:24:14,500] Trial 69 finished with value: 0.9394901960784313 and parameters: {'learning_rate': 0.04672248159532363, 'depth': 5, 'reg_lambda': 9}. Best is trial 41 with value: 0.9395490196078432.\n"
     ]
    },
    {
     "name": "stdout",
     "output_type": "stream",
     "text": [
      "69: 0.9394901960784313\n"
     ]
    },
    {
     "name": "stderr",
     "output_type": "stream",
     "text": [
      "[I 2024-11-06 03:25:25,213] Trial 70 finished with value: 0.9393921568627451 and parameters: {'learning_rate': 0.04622734810271893, 'depth': 5, 'reg_lambda': 10}. Best is trial 41 with value: 0.9395490196078432.\n"
     ]
    },
    {
     "name": "stdout",
     "output_type": "stream",
     "text": [
      "70: 0.9393921568627451\n"
     ]
    },
    {
     "name": "stderr",
     "output_type": "stream",
     "text": [
      "[I 2024-11-06 03:26:42,903] Trial 71 finished with value: 0.9391764705882353 and parameters: {'learning_rate': 0.041584539967431326, 'depth': 6, 'reg_lambda': 12}. Best is trial 41 with value: 0.9395490196078432.\n"
     ]
    },
    {
     "name": "stdout",
     "output_type": "stream",
     "text": [
      "71: 0.9391764705882353\n"
     ]
    },
    {
     "name": "stderr",
     "output_type": "stream",
     "text": [
      "[I 2024-11-06 03:27:43,744] Trial 72 finished with value: 0.9395098039215686 and parameters: {'learning_rate': 0.0495481673548894, 'depth': 5, 'reg_lambda': 9}. Best is trial 41 with value: 0.9395490196078432.\n"
     ]
    },
    {
     "name": "stdout",
     "output_type": "stream",
     "text": [
      "72: 0.9395098039215686\n"
     ]
    },
    {
     "name": "stderr",
     "output_type": "stream",
     "text": [
      "[I 2024-11-06 03:28:47,858] Trial 73 finished with value: 0.9391960784313724 and parameters: {'learning_rate': 0.05003711049676465, 'depth': 5, 'reg_lambda': 9}. Best is trial 41 with value: 0.9395490196078432.\n"
     ]
    },
    {
     "name": "stdout",
     "output_type": "stream",
     "text": [
      "73: 0.9391960784313724\n"
     ]
    },
    {
     "name": "stderr",
     "output_type": "stream",
     "text": [
      "[I 2024-11-06 03:29:51,496] Trial 74 finished with value: 0.9396470588235294 and parameters: {'learning_rate': 0.05687414724857166, 'depth': 5, 'reg_lambda': 5}. Best is trial 74 with value: 0.9396470588235294.\n"
     ]
    },
    {
     "name": "stdout",
     "output_type": "stream",
     "text": [
      "74: 0.9396470588235294\n"
     ]
    },
    {
     "name": "stderr",
     "output_type": "stream",
     "text": [
      "[I 2024-11-06 03:30:52,628] Trial 75 finished with value: 0.9394901960784313 and parameters: {'learning_rate': 0.058428286711917826, 'depth': 4, 'reg_lambda': 5}. Best is trial 74 with value: 0.9396470588235294.\n"
     ]
    },
    {
     "name": "stdout",
     "output_type": "stream",
     "text": [
      "75: 0.9394901960784313\n"
     ]
    },
    {
     "name": "stderr",
     "output_type": "stream",
     "text": [
      "[I 2024-11-06 03:31:51,921] Trial 76 finished with value: 0.9393529411764706 and parameters: {'learning_rate': 0.0589298042490924, 'depth': 3, 'reg_lambda': 4}. Best is trial 74 with value: 0.9396470588235294.\n"
     ]
    },
    {
     "name": "stdout",
     "output_type": "stream",
     "text": [
      "76: 0.9393529411764706\n"
     ]
    },
    {
     "name": "stderr",
     "output_type": "stream",
     "text": [
      "[I 2024-11-06 03:32:43,193] Trial 77 finished with value: 0.9396470588235294 and parameters: {'learning_rate': 0.05589495441682651, 'depth': 4, 'reg_lambda': 5}. Best is trial 74 with value: 0.9396470588235294.\n"
     ]
    },
    {
     "name": "stdout",
     "output_type": "stream",
     "text": [
      "77: 0.9396470588235294\n"
     ]
    },
    {
     "name": "stderr",
     "output_type": "stream",
     "text": [
      "[I 2024-11-06 03:33:53,076] Trial 78 finished with value: 0.9390196078431372 and parameters: {'learning_rate': 0.05466670919463606, 'depth': 5, 'reg_lambda': 3}. Best is trial 74 with value: 0.9396470588235294.\n"
     ]
    },
    {
     "name": "stdout",
     "output_type": "stream",
     "text": [
      "78: 0.9390196078431372\n"
     ]
    },
    {
     "name": "stderr",
     "output_type": "stream",
     "text": [
      "[I 2024-11-06 03:34:53,609] Trial 79 finished with value: 0.9395098039215686 and parameters: {'learning_rate': 0.06508819177337738, 'depth': 4, 'reg_lambda': 6}. Best is trial 74 with value: 0.9396470588235294.\n"
     ]
    },
    {
     "name": "stdout",
     "output_type": "stream",
     "text": [
      "79: 0.9395098039215686\n"
     ]
    },
    {
     "name": "stderr",
     "output_type": "stream",
     "text": [
      "[I 2024-11-06 03:35:45,188] Trial 80 finished with value: 0.9394313725490196 and parameters: {'learning_rate': 0.06614170695784664, 'depth': 4, 'reg_lambda': 6}. Best is trial 74 with value: 0.9396470588235294.\n"
     ]
    },
    {
     "name": "stdout",
     "output_type": "stream",
     "text": [
      "80: 0.9394313725490196\n"
     ]
    },
    {
     "name": "stderr",
     "output_type": "stream",
     "text": [
      "[I 2024-11-06 03:36:58,043] Trial 81 finished with value: 0.939450980392157 and parameters: {'learning_rate': 0.054427080911246546, 'depth': 5, 'reg_lambda': 7}. Best is trial 74 with value: 0.9396470588235294.\n"
     ]
    },
    {
     "name": "stdout",
     "output_type": "stream",
     "text": [
      "81: 0.939450980392157\n"
     ]
    },
    {
     "name": "stderr",
     "output_type": "stream",
     "text": [
      "[I 2024-11-06 03:37:49,523] Trial 82 finished with value: 0.9394117647058824 and parameters: {'learning_rate': 0.062336100302983394, 'depth': 4, 'reg_lambda': 1}. Best is trial 74 with value: 0.9396470588235294.\n"
     ]
    },
    {
     "name": "stdout",
     "output_type": "stream",
     "text": [
      "82: 0.9394117647058824\n"
     ]
    },
    {
     "name": "stderr",
     "output_type": "stream",
     "text": [
      "[I 2024-11-06 03:39:04,853] Trial 83 finished with value: 0.9393333333333334 and parameters: {'learning_rate': 0.051366207797541814, 'depth': 3, 'reg_lambda': 8}. Best is trial 74 with value: 0.9396470588235294.\n"
     ]
    },
    {
     "name": "stdout",
     "output_type": "stream",
     "text": [
      "83: 0.9393333333333334\n"
     ]
    },
    {
     "name": "stderr",
     "output_type": "stream",
     "text": [
      "[I 2024-11-06 03:40:21,255] Trial 84 finished with value: 0.9394117647058824 and parameters: {'learning_rate': 0.04634058123193087, 'depth': 5, 'reg_lambda': 5}. Best is trial 74 with value: 0.9396470588235294.\n"
     ]
    },
    {
     "name": "stdout",
     "output_type": "stream",
     "text": [
      "84: 0.9394117647058824\n"
     ]
    },
    {
     "name": "stderr",
     "output_type": "stream",
     "text": [
      "[I 2024-11-06 03:41:58,272] Trial 85 finished with value: 0.9396078431372549 and parameters: {'learning_rate': 0.04281900737750557, 'depth': 6, 'reg_lambda': 6}. Best is trial 74 with value: 0.9396470588235294.\n"
     ]
    },
    {
     "name": "stdout",
     "output_type": "stream",
     "text": [
      "85: 0.9396078431372549\n"
     ]
    },
    {
     "name": "stderr",
     "output_type": "stream",
     "text": [
      "[I 2024-11-06 03:43:24,966] Trial 86 finished with value: 0.9390588235294118 and parameters: {'learning_rate': 0.04292918728258069, 'depth': 6, 'reg_lambda': 4}. Best is trial 74 with value: 0.9396470588235294.\n"
     ]
    },
    {
     "name": "stdout",
     "output_type": "stream",
     "text": [
      "86: 0.9390588235294118\n"
     ]
    },
    {
     "name": "stderr",
     "output_type": "stream",
     "text": [
      "[I 2024-11-06 03:44:32,832] Trial 87 finished with value: 0.9393137254901961 and parameters: {'learning_rate': 0.061181879955688453, 'depth': 6, 'reg_lambda': 6}. Best is trial 74 with value: 0.9396470588235294.\n"
     ]
    },
    {
     "name": "stdout",
     "output_type": "stream",
     "text": [
      "87: 0.9393137254901961\n"
     ]
    },
    {
     "name": "stderr",
     "output_type": "stream",
     "text": [
      "[I 2024-11-06 03:45:51,849] Trial 88 finished with value: 0.939156862745098 and parameters: {'learning_rate': 0.03285826178966883, 'depth': 4, 'reg_lambda': 3}. Best is trial 74 with value: 0.9396470588235294.\n"
     ]
    },
    {
     "name": "stdout",
     "output_type": "stream",
     "text": [
      "88: 0.939156862745098\n"
     ]
    },
    {
     "name": "stderr",
     "output_type": "stream",
     "text": [
      "[I 2024-11-06 03:46:50,754] Trial 89 finished with value: 0.9389411764705882 and parameters: {'learning_rate': 0.07009067199024689, 'depth': 6, 'reg_lambda': 8}. Best is trial 74 with value: 0.9396470588235294.\n"
     ]
    },
    {
     "name": "stdout",
     "output_type": "stream",
     "text": [
      "89: 0.9389411764705882\n"
     ]
    },
    {
     "name": "stderr",
     "output_type": "stream",
     "text": [
      "[I 2024-11-06 03:47:50,100] Trial 90 finished with value: 0.9395098039215686 and parameters: {'learning_rate': 0.05651316768438386, 'depth': 5, 'reg_lambda': 2}. Best is trial 74 with value: 0.9396470588235294.\n"
     ]
    },
    {
     "name": "stdout",
     "output_type": "stream",
     "text": [
      "90: 0.9395098039215686\n"
     ]
    },
    {
     "name": "stderr",
     "output_type": "stream",
     "text": [
      "[I 2024-11-06 03:48:42,458] Trial 91 finished with value: 0.9396666666666667 and parameters: {'learning_rate': 0.05607580458526011, 'depth': 5, 'reg_lambda': 2}. Best is trial 91 with value: 0.9396666666666667.\n"
     ]
    },
    {
     "name": "stdout",
     "output_type": "stream",
     "text": [
      "91: 0.9396666666666667\n"
     ]
    },
    {
     "name": "stderr",
     "output_type": "stream",
     "text": [
      "[I 2024-11-06 03:49:35,928] Trial 92 finished with value: 0.9395294117647058 and parameters: {'learning_rate': 0.05562990710842731, 'depth': 4, 'reg_lambda': 1}. Best is trial 91 with value: 0.9396666666666667.\n"
     ]
    },
    {
     "name": "stdout",
     "output_type": "stream",
     "text": [
      "92: 0.9395294117647058\n"
     ]
    },
    {
     "name": "stderr",
     "output_type": "stream",
     "text": [
      "[I 2024-11-06 03:50:42,628] Trial 93 finished with value: 0.9390980392156862 and parameters: {'learning_rate': 0.052773313820202804, 'depth': 3, 'reg_lambda': 1}. Best is trial 91 with value: 0.9396666666666667.\n"
     ]
    },
    {
     "name": "stdout",
     "output_type": "stream",
     "text": [
      "93: 0.9390980392156862\n"
     ]
    },
    {
     "name": "stderr",
     "output_type": "stream",
     "text": [
      "[I 2024-11-06 03:51:19,001] Trial 94 finished with value: 0.939294117647059 and parameters: {'learning_rate': 0.06108694839526493, 'depth': 4, 'reg_lambda': 0}. Best is trial 91 with value: 0.9396666666666667.\n"
     ]
    },
    {
     "name": "stdout",
     "output_type": "stream",
     "text": [
      "94: 0.939294117647059\n"
     ]
    },
    {
     "name": "stderr",
     "output_type": "stream",
     "text": [
      "[I 2024-11-06 03:52:10,403] Trial 95 finished with value: 0.9394313725490196 and parameters: {'learning_rate': 0.06584877336606179, 'depth': 3, 'reg_lambda': 2}. Best is trial 91 with value: 0.9396666666666667.\n"
     ]
    },
    {
     "name": "stdout",
     "output_type": "stream",
     "text": [
      "95: 0.9394313725490196\n"
     ]
    },
    {
     "name": "stderr",
     "output_type": "stream",
     "text": [
      "[I 2024-11-06 03:53:20,995] Trial 96 finished with value: 0.9394901960784313 and parameters: {'learning_rate': 0.04985298327873145, 'depth': 4, 'reg_lambda': 4}. Best is trial 91 with value: 0.9396666666666667.\n"
     ]
    },
    {
     "name": "stdout",
     "output_type": "stream",
     "text": [
      "96: 0.9394901960784313\n"
     ]
    },
    {
     "name": "stderr",
     "output_type": "stream",
     "text": [
      "[I 2024-11-06 03:54:53,799] Trial 97 finished with value: 0.939294117647059 and parameters: {'learning_rate': 0.03903056587475397, 'depth': 2, 'reg_lambda': 5}. Best is trial 91 with value: 0.9396666666666667.\n"
     ]
    },
    {
     "name": "stdout",
     "output_type": "stream",
     "text": [
      "97: 0.939294117647059\n"
     ]
    },
    {
     "name": "stderr",
     "output_type": "stream",
     "text": [
      "[I 2024-11-06 03:56:04,092] Trial 98 finished with value: 0.9393725490196078 and parameters: {'learning_rate': 0.05631321590754555, 'depth': 5, 'reg_lambda': 1}. Best is trial 91 with value: 0.9396666666666667.\n"
     ]
    },
    {
     "name": "stdout",
     "output_type": "stream",
     "text": [
      "98: 0.9393725490196078\n"
     ]
    },
    {
     "name": "stderr",
     "output_type": "stream",
     "text": [
      "[I 2024-11-06 03:57:05,155] Trial 99 finished with value: 0.9389411764705882 and parameters: {'learning_rate': 0.07022971247997999, 'depth': 6, 'reg_lambda': 7}. Best is trial 91 with value: 0.9396666666666667.\n"
     ]
    },
    {
     "name": "stdout",
     "output_type": "stream",
     "text": [
      "99: 0.9389411764705882\n"
     ]
    },
    {
     "name": "stderr",
     "output_type": "stream",
     "text": [
      "[I 2024-11-06 03:58:15,035] Trial 100 finished with value: 0.9393921568627451 and parameters: {'learning_rate': 0.04407191776180511, 'depth': 4, 'reg_lambda': 3}. Best is trial 91 with value: 0.9396666666666667.\n"
     ]
    },
    {
     "name": "stdout",
     "output_type": "stream",
     "text": [
      "100: 0.9393921568627451\n"
     ]
    },
    {
     "name": "stderr",
     "output_type": "stream",
     "text": [
      "[I 2024-11-06 03:58:47,499] Trial 101 finished with value: 0.9385098039215687 and parameters: {'learning_rate': 0.057162962567397835, 'depth': 5, 'reg_lambda': 0}. Best is trial 91 with value: 0.9396666666666667.\n"
     ]
    },
    {
     "name": "stdout",
     "output_type": "stream",
     "text": [
      "101: 0.9385098039215687\n"
     ]
    },
    {
     "name": "stderr",
     "output_type": "stream",
     "text": [
      "[I 2024-11-06 03:59:54,893] Trial 102 finished with value: 0.9395294117647058 and parameters: {'learning_rate': 0.048769533141138695, 'depth': 5, 'reg_lambda': 2}. Best is trial 91 with value: 0.9396666666666667.\n"
     ]
    },
    {
     "name": "stdout",
     "output_type": "stream",
     "text": [
      "102: 0.9395294117647058\n"
     ]
    },
    {
     "name": "stderr",
     "output_type": "stream",
     "text": [
      "[I 2024-11-06 04:01:22,779] Trial 103 finished with value: 0.939078431372549 and parameters: {'learning_rate': 0.04765046402329907, 'depth': 6, 'reg_lambda': 6}. Best is trial 91 with value: 0.9396666666666667.\n"
     ]
    },
    {
     "name": "stdout",
     "output_type": "stream",
     "text": [
      "103: 0.939078431372549\n"
     ]
    },
    {
     "name": "stderr",
     "output_type": "stream",
     "text": [
      "[I 2024-11-06 04:03:05,048] Trial 104 finished with value: 0.9394705882352942 and parameters: {'learning_rate': 0.028554269615380597, 'depth': 4, 'reg_lambda': 2}. Best is trial 91 with value: 0.9396666666666667.\n"
     ]
    },
    {
     "name": "stdout",
     "output_type": "stream",
     "text": [
      "104: 0.9394705882352942\n"
     ]
    },
    {
     "name": "stderr",
     "output_type": "stream",
     "text": [
      "[I 2024-11-06 04:04:42,594] Trial 105 finished with value: 0.939294117647059 and parameters: {'learning_rate': 0.05257257197273002, 'depth': 7, 'reg_lambda': 4}. Best is trial 91 with value: 0.9396666666666667.\n"
     ]
    },
    {
     "name": "stdout",
     "output_type": "stream",
     "text": [
      "105: 0.939294117647059\n"
     ]
    },
    {
     "name": "stderr",
     "output_type": "stream",
     "text": [
      "[I 2024-11-06 04:05:32,860] Trial 106 finished with value: 0.9393921568627451 and parameters: {'learning_rate': 0.06472725537886212, 'depth': 5, 'reg_lambda': 2}. Best is trial 91 with value: 0.9396666666666667.\n"
     ]
    },
    {
     "name": "stdout",
     "output_type": "stream",
     "text": [
      "106: 0.9393921568627451\n"
     ]
    },
    {
     "name": "stderr",
     "output_type": "stream",
     "text": [
      "[I 2024-11-06 04:06:35,708] Trial 107 finished with value: 0.9391960784313725 and parameters: {'learning_rate': 0.04905305464323971, 'depth': 4, 'reg_lambda': 5}. Best is trial 91 with value: 0.9396666666666667.\n"
     ]
    },
    {
     "name": "stdout",
     "output_type": "stream",
     "text": [
      "107: 0.9391960784313725\n"
     ]
    },
    {
     "name": "stderr",
     "output_type": "stream",
     "text": [
      "[I 2024-11-06 04:25:22,449] Trial 108 finished with value: 0.938843137254902 and parameters: {'learning_rate': 0.06043007376383344, 'depth': 12, 'reg_lambda': 3}. Best is trial 91 with value: 0.9396666666666667.\n"
     ]
    },
    {
     "name": "stdout",
     "output_type": "stream",
     "text": [
      "108: 0.938843137254902\n"
     ]
    },
    {
     "name": "stderr",
     "output_type": "stream",
     "text": [
      "[I 2024-11-06 04:26:42,222] Trial 109 finished with value: 0.9395098039215687 and parameters: {'learning_rate': 0.03779761426880317, 'depth': 5, 'reg_lambda': 10}. Best is trial 91 with value: 0.9396666666666667.\n"
     ]
    },
    {
     "name": "stdout",
     "output_type": "stream",
     "text": [
      "109: 0.9395098039215687\n"
     ]
    },
    {
     "name": "stderr",
     "output_type": "stream",
     "text": [
      "[I 2024-11-06 04:28:09,516] Trial 110 finished with value: 0.9392352941176471 and parameters: {'learning_rate': 0.03798907449435853, 'depth': 6, 'reg_lambda': 10}. Best is trial 91 with value: 0.9396666666666667.\n"
     ]
    },
    {
     "name": "stdout",
     "output_type": "stream",
     "text": [
      "110: 0.9392352941176471\n"
     ]
    },
    {
     "name": "stderr",
     "output_type": "stream",
     "text": [
      "[I 2024-11-06 04:29:33,457] Trial 111 finished with value: 0.9392549019607843 and parameters: {'learning_rate': 0.042721154428930534, 'depth': 5, 'reg_lambda': 11}. Best is trial 91 with value: 0.9396666666666667.\n"
     ]
    },
    {
     "name": "stdout",
     "output_type": "stream",
     "text": [
      "111: 0.9392549019607843\n"
     ]
    },
    {
     "name": "stderr",
     "output_type": "stream",
     "text": [
      "[I 2024-11-06 04:30:29,082] Trial 112 finished with value: 0.9394117647058824 and parameters: {'learning_rate': 0.05496776042412622, 'depth': 5, 'reg_lambda': 9}. Best is trial 91 with value: 0.9396666666666667.\n"
     ]
    },
    {
     "name": "stdout",
     "output_type": "stream",
     "text": [
      "112: 0.9394117647058824\n"
     ]
    },
    {
     "name": "stderr",
     "output_type": "stream",
     "text": [
      "[I 2024-11-06 04:32:06,676] Trial 113 finished with value: 0.9393529411764706 and parameters: {'learning_rate': 0.03446104731682047, 'depth': 4, 'reg_lambda': 7}. Best is trial 91 with value: 0.9396666666666667.\n"
     ]
    },
    {
     "name": "stdout",
     "output_type": "stream",
     "text": [
      "113: 0.9393529411764706\n"
     ]
    },
    {
     "name": "stderr",
     "output_type": "stream",
     "text": [
      "[I 2024-11-06 04:33:52,992] Trial 114 finished with value: 0.9392156862745097 and parameters: {'learning_rate': 0.024196233492551417, 'depth': 5, 'reg_lambda': 6}. Best is trial 91 with value: 0.9396666666666667.\n"
     ]
    },
    {
     "name": "stdout",
     "output_type": "stream",
     "text": [
      "114: 0.9392156862745097\n"
     ]
    },
    {
     "name": "stderr",
     "output_type": "stream",
     "text": [
      "[I 2024-11-06 04:35:04,441] Trial 115 finished with value: 0.9394313725490195 and parameters: {'learning_rate': 0.051702136488725896, 'depth': 6, 'reg_lambda': 1}. Best is trial 91 with value: 0.9396666666666667.\n"
     ]
    },
    {
     "name": "stdout",
     "output_type": "stream",
     "text": [
      "115: 0.9394313725490195\n"
     ]
    },
    {
     "name": "stderr",
     "output_type": "stream",
     "text": [
      "[I 2024-11-06 04:36:21,628] Trial 116 finished with value: 0.9392745098039216 and parameters: {'learning_rate': 0.04029045251263477, 'depth': 4, 'reg_lambda': 10}. Best is trial 91 with value: 0.9396666666666667.\n"
     ]
    },
    {
     "name": "stdout",
     "output_type": "stream",
     "text": [
      "116: 0.9392745098039216\n"
     ]
    },
    {
     "name": "stderr",
     "output_type": "stream",
     "text": [
      "[I 2024-11-06 04:38:33,906] Trial 117 finished with value: 0.9394313725490195 and parameters: {'learning_rate': 0.02214318951087655, 'depth': 5, 'reg_lambda': 5}. Best is trial 91 with value: 0.9396666666666667.\n"
     ]
    },
    {
     "name": "stdout",
     "output_type": "stream",
     "text": [
      "117: 0.9394313725490195\n"
     ]
    },
    {
     "name": "stderr",
     "output_type": "stream",
     "text": [
      "[I 2024-11-06 04:39:56,133] Trial 118 finished with value: 0.9395294117647058 and parameters: {'learning_rate': 0.03631692828359344, 'depth': 5, 'reg_lambda': 4}. Best is trial 91 with value: 0.9396666666666667.\n"
     ]
    },
    {
     "name": "stdout",
     "output_type": "stream",
     "text": [
      "118: 0.9395294117647058\n"
     ]
    },
    {
     "name": "stderr",
     "output_type": "stream",
     "text": [
      "[I 2024-11-06 04:41:25,431] Trial 119 finished with value: 0.9389019607843138 and parameters: {'learning_rate': 0.031003453222068114, 'depth': 5, 'reg_lambda': 3}. Best is trial 91 with value: 0.9396666666666667.\n"
     ]
    },
    {
     "name": "stdout",
     "output_type": "stream",
     "text": [
      "119: 0.9389019607843138\n"
     ]
    },
    {
     "name": "stderr",
     "output_type": "stream",
     "text": [
      "[I 2024-11-06 04:43:04,495] Trial 120 finished with value: 0.9394705882352942 and parameters: {'learning_rate': 0.036148912841695795, 'depth': 6, 'reg_lambda': 4}. Best is trial 91 with value: 0.9396666666666667.\n"
     ]
    },
    {
     "name": "stdout",
     "output_type": "stream",
     "text": [
      "120: 0.9394705882352942\n"
     ]
    },
    {
     "name": "stderr",
     "output_type": "stream",
     "text": [
      "[I 2024-11-06 04:44:48,916] Trial 121 finished with value: 0.9390980392156862 and parameters: {'learning_rate': 0.027312021046162975, 'depth': 5, 'reg_lambda': 7}. Best is trial 91 with value: 0.9396666666666667.\n"
     ]
    },
    {
     "name": "stdout",
     "output_type": "stream",
     "text": [
      "121: 0.9390980392156862\n"
     ]
    },
    {
     "name": "stderr",
     "output_type": "stream",
     "text": [
      "[I 2024-11-06 04:45:52,838] Trial 122 finished with value: 0.9391764705882353 and parameters: {'learning_rate': 0.04445817600130968, 'depth': 4, 'reg_lambda': 6}. Best is trial 91 with value: 0.9396666666666667.\n"
     ]
    },
    {
     "name": "stdout",
     "output_type": "stream",
     "text": [
      "122: 0.9391764705882353\n"
     ]
    },
    {
     "name": "stderr",
     "output_type": "stream",
     "text": [
      "[I 2024-11-06 04:47:44,729] Trial 123 finished with value: 0.9391764705882354 and parameters: {'learning_rate': 0.048361085756439624, 'depth': 7, 'reg_lambda': 8}. Best is trial 91 with value: 0.9396666666666667.\n"
     ]
    },
    {
     "name": "stdout",
     "output_type": "stream",
     "text": [
      "123: 0.9391764705882354\n"
     ]
    },
    {
     "name": "stderr",
     "output_type": "stream",
     "text": [
      "[I 2024-11-06 04:49:08,548] Trial 124 finished with value: 0.9392352941176471 and parameters: {'learning_rate': 0.03804397296139855, 'depth': 5, 'reg_lambda': 14}. Best is trial 91 with value: 0.9396666666666667.\n"
     ]
    },
    {
     "name": "stdout",
     "output_type": "stream",
     "text": [
      "124: 0.9392352941176471\n"
     ]
    },
    {
     "name": "stderr",
     "output_type": "stream",
     "text": [
      "[I 2024-11-06 04:50:01,367] Trial 125 finished with value: 0.9391176470588235 and parameters: {'learning_rate': 0.05959090611471677, 'depth': 4, 'reg_lambda': 13}. Best is trial 91 with value: 0.9396666666666667.\n"
     ]
    },
    {
     "name": "stdout",
     "output_type": "stream",
     "text": [
      "125: 0.9391176470588235\n"
     ]
    },
    {
     "name": "stderr",
     "output_type": "stream",
     "text": [
      "[I 2024-11-06 04:51:11,116] Trial 126 finished with value: 0.9390784313725491 and parameters: {'learning_rate': 0.04545698424553687, 'depth': 5, 'reg_lambda': 2}. Best is trial 91 with value: 0.9396666666666667.\n"
     ]
    },
    {
     "name": "stdout",
     "output_type": "stream",
     "text": [
      "126: 0.9390784313725491\n"
     ]
    },
    {
     "name": "stderr",
     "output_type": "stream",
     "text": [
      "[I 2024-11-06 04:52:36,718] Trial 127 finished with value: 0.9391372549019609 and parameters: {'learning_rate': 0.03244098990925189, 'depth': 3, 'reg_lambda': 5}. Best is trial 91 with value: 0.9396666666666667.\n"
     ]
    },
    {
     "name": "stdout",
     "output_type": "stream",
     "text": [
      "127: 0.9391372549019609\n"
     ]
    },
    {
     "name": "stderr",
     "output_type": "stream",
     "text": [
      "[I 2024-11-06 04:54:11,233] Trial 128 finished with value: 0.939294117647059 and parameters: {'learning_rate': 0.04171020087380692, 'depth': 6, 'reg_lambda': 11}. Best is trial 91 with value: 0.9396666666666667.\n"
     ]
    },
    {
     "name": "stdout",
     "output_type": "stream",
     "text": [
      "128: 0.939294117647059\n"
     ]
    },
    {
     "name": "stderr",
     "output_type": "stream",
     "text": [
      "[I 2024-11-06 04:54:54,562] Trial 129 finished with value: 0.9394117647058824 and parameters: {'learning_rate': 0.06734714691508216, 'depth': 5, 'reg_lambda': 30}. Best is trial 91 with value: 0.9396666666666667.\n"
     ]
    },
    {
     "name": "stdout",
     "output_type": "stream",
     "text": [
      "129: 0.9394117647058824\n"
     ]
    },
    {
     "name": "stderr",
     "output_type": "stream",
     "text": [
      "[I 2024-11-06 04:56:28,904] Trial 130 finished with value: 0.9392745098039216 and parameters: {'learning_rate': 0.05385378710734792, 'depth': 7, 'reg_lambda': 3}. Best is trial 91 with value: 0.9396666666666667.\n"
     ]
    },
    {
     "name": "stdout",
     "output_type": "stream",
     "text": [
      "130: 0.9392745098039216\n"
     ]
    },
    {
     "name": "stderr",
     "output_type": "stream",
     "text": [
      "[I 2024-11-06 04:57:22,394] Trial 131 finished with value: 0.9393725490196078 and parameters: {'learning_rate': 0.05726753073453653, 'depth': 5, 'reg_lambda': 2}. Best is trial 91 with value: 0.9396666666666667.\n"
     ]
    },
    {
     "name": "stdout",
     "output_type": "stream",
     "text": [
      "131: 0.9393725490196078\n"
     ]
    },
    {
     "name": "stderr",
     "output_type": "stream",
     "text": [
      "[I 2024-11-06 04:58:07,815] Trial 132 finished with value: 0.9391960784313725 and parameters: {'learning_rate': 0.05680117425965325, 'depth': 5, 'reg_lambda': 0}. Best is trial 91 with value: 0.9396666666666667.\n"
     ]
    },
    {
     "name": "stdout",
     "output_type": "stream",
     "text": [
      "132: 0.9391960784313725\n"
     ]
    },
    {
     "name": "stderr",
     "output_type": "stream",
     "text": [
      "[I 2024-11-06 04:59:12,510] Trial 133 finished with value: 0.9389607843137254 and parameters: {'learning_rate': 0.06350173648298418, 'depth': 6, 'reg_lambda': 4}. Best is trial 91 with value: 0.9396666666666667.\n"
     ]
    },
    {
     "name": "stdout",
     "output_type": "stream",
     "text": [
      "133: 0.9389607843137254\n"
     ]
    },
    {
     "name": "stderr",
     "output_type": "stream",
     "text": [
      "[I 2024-11-06 05:00:40,565] Trial 134 finished with value: 0.9391176470588235 and parameters: {'learning_rate': 0.03508981497173349, 'depth': 4, 'reg_lambda': 1}. Best is trial 91 with value: 0.9396666666666667.\n"
     ]
    },
    {
     "name": "stdout",
     "output_type": "stream",
     "text": [
      "134: 0.9391176470588235\n"
     ]
    },
    {
     "name": "stderr",
     "output_type": "stream",
     "text": [
      "[I 2024-11-06 05:01:35,243] Trial 135 finished with value: 0.9388235294117647 and parameters: {'learning_rate': 0.05131685186828725, 'depth': 3, 'reg_lambda': 2}. Best is trial 91 with value: 0.9396666666666667.\n"
     ]
    },
    {
     "name": "stdout",
     "output_type": "stream",
     "text": [
      "135: 0.9388235294117647\n"
     ]
    },
    {
     "name": "stderr",
     "output_type": "stream",
     "text": [
      "[I 2024-11-06 05:03:16,216] Trial 136 finished with value: 0.9392745098039216 and parameters: {'learning_rate': 0.029629470577858273, 'depth': 5, 'reg_lambda': 1}. Best is trial 91 with value: 0.9396666666666667.\n"
     ]
    },
    {
     "name": "stdout",
     "output_type": "stream",
     "text": [
      "136: 0.9392745098039216\n"
     ]
    },
    {
     "name": "stderr",
     "output_type": "stream",
     "text": [
      "[I 2024-11-06 05:04:16,066] Trial 137 finished with value: 0.939294117647059 and parameters: {'learning_rate': 0.0487935465554674, 'depth': 4, 'reg_lambda': 4}. Best is trial 91 with value: 0.9396666666666667.\n"
     ]
    },
    {
     "name": "stdout",
     "output_type": "stream",
     "text": [
      "137: 0.939294117647059\n"
     ]
    },
    {
     "name": "stderr",
     "output_type": "stream",
     "text": [
      "[I 2024-11-06 05:05:30,073] Trial 138 finished with value: 0.9393725490196078 and parameters: {'learning_rate': 0.05909780217408035, 'depth': 6, 'reg_lambda': 9}. Best is trial 91 with value: 0.9396666666666667.\n"
     ]
    },
    {
     "name": "stdout",
     "output_type": "stream",
     "text": [
      "138: 0.9393725490196078\n"
     ]
    },
    {
     "name": "stderr",
     "output_type": "stream",
     "text": [
      "[I 2024-11-06 05:16:57,135] Trial 139 finished with value: 0.9391764705882353 and parameters: {'learning_rate': 0.05529460395458705, 'depth': 11, 'reg_lambda': 5}. Best is trial 91 with value: 0.9396666666666667.\n"
     ]
    },
    {
     "name": "stdout",
     "output_type": "stream",
     "text": [
      "139: 0.9391764705882353\n"
     ]
    },
    {
     "name": "stderr",
     "output_type": "stream",
     "text": [
      "[I 2024-11-06 05:17:47,821] Trial 140 finished with value: 0.9392352941176471 and parameters: {'learning_rate': 0.062320101017215156, 'depth': 5, 'reg_lambda': 6}. Best is trial 91 with value: 0.9396666666666667.\n"
     ]
    },
    {
     "name": "stdout",
     "output_type": "stream",
     "text": [
      "140: 0.9392352941176471\n"
     ]
    },
    {
     "name": "stderr",
     "output_type": "stream",
     "text": [
      "[I 2024-11-06 05:19:29,499] Trial 141 finished with value: 0.9392352941176471 and parameters: {'learning_rate': 0.03330560405709789, 'depth': 5, 'reg_lambda': 8}. Best is trial 91 with value: 0.9396666666666667.\n"
     ]
    },
    {
     "name": "stdout",
     "output_type": "stream",
     "text": [
      "141: 0.9392352941176471\n"
     ]
    },
    {
     "name": "stderr",
     "output_type": "stream",
     "text": [
      "[I 2024-11-06 05:20:49,820] Trial 142 finished with value: 0.9390196078431373 and parameters: {'learning_rate': 0.039354870745813356, 'depth': 5, 'reg_lambda': 8}. Best is trial 91 with value: 0.9396666666666667.\n"
     ]
    },
    {
     "name": "stdout",
     "output_type": "stream",
     "text": [
      "142: 0.9390196078431373\n"
     ]
    },
    {
     "name": "stderr",
     "output_type": "stream",
     "text": [
      "[I 2024-11-06 05:22:23,126] Trial 143 finished with value: 0.9393725490196078 and parameters: {'learning_rate': 0.03631889031912488, 'depth': 5, 'reg_lambda': 7}. Best is trial 91 with value: 0.9396666666666667.\n"
     ]
    },
    {
     "name": "stdout",
     "output_type": "stream",
     "text": [
      "143: 0.9393725490196078\n"
     ]
    },
    {
     "name": "stderr",
     "output_type": "stream",
     "text": [
      "[I 2024-11-06 05:24:24,218] Trial 144 finished with value: 0.9394705882352942 and parameters: {'learning_rate': 0.028095943775981774, 'depth': 4, 'reg_lambda': 9}. Best is trial 91 with value: 0.9396666666666667.\n"
     ]
    },
    {
     "name": "stdout",
     "output_type": "stream",
     "text": [
      "144: 0.9394705882352942\n"
     ]
    },
    {
     "name": "stderr",
     "output_type": "stream",
     "text": [
      "[I 2024-11-06 05:25:12,841] Trial 145 finished with value: 0.9395882352941177 and parameters: {'learning_rate': 0.07286530258814036, 'depth': 5, 'reg_lambda': 12}. Best is trial 91 with value: 0.9396666666666667.\n"
     ]
    },
    {
     "name": "stdout",
     "output_type": "stream",
     "text": [
      "145: 0.9395882352941177\n"
     ]
    },
    {
     "name": "stderr",
     "output_type": "stream",
     "text": [
      "[I 2024-11-06 05:26:05,118] Trial 146 finished with value: 0.9392941176470587 and parameters: {'learning_rate': 0.06925595609715411, 'depth': 4, 'reg_lambda': 11}. Best is trial 91 with value: 0.9396666666666667.\n"
     ]
    },
    {
     "name": "stdout",
     "output_type": "stream",
     "text": [
      "146: 0.9392941176470587\n"
     ]
    },
    {
     "name": "stderr",
     "output_type": "stream",
     "text": [
      "[I 2024-11-06 05:26:44,582] Trial 147 finished with value: 0.9391960784313725 and parameters: {'learning_rate': 0.07376143479576268, 'depth': 5, 'reg_lambda': 12}. Best is trial 91 with value: 0.9396666666666667.\n"
     ]
    },
    {
     "name": "stdout",
     "output_type": "stream",
     "text": [
      "147: 0.9391960784313725\n"
     ]
    },
    {
     "name": "stderr",
     "output_type": "stream",
     "text": [
      "[I 2024-11-06 05:28:09,556] Trial 148 finished with value: 0.9392156862745097 and parameters: {'learning_rate': 0.05300174918030745, 'depth': 6, 'reg_lambda': 14}. Best is trial 91 with value: 0.9396666666666667.\n"
     ]
    },
    {
     "name": "stdout",
     "output_type": "stream",
     "text": [
      "148: 0.9392156862745097\n"
     ]
    },
    {
     "name": "stderr",
     "output_type": "stream",
     "text": [
      "[I 2024-11-06 05:28:47,611] Trial 149 finished with value: 0.9394705882352942 and parameters: {'learning_rate': 0.07604184213618938, 'depth': 5, 'reg_lambda': 10}. Best is trial 91 with value: 0.9396666666666667.\n"
     ]
    },
    {
     "name": "stdout",
     "output_type": "stream",
     "text": [
      "149: 0.9394705882352942\n"
     ]
    },
    {
     "name": "stderr",
     "output_type": "stream",
     "text": [
      "[I 2024-11-06 05:29:54,762] Trial 150 finished with value: 0.939156862745098 and parameters: {'learning_rate': 0.04532546142398601, 'depth': 4, 'reg_lambda': 13}. Best is trial 91 with value: 0.9396666666666667.\n"
     ]
    },
    {
     "name": "stdout",
     "output_type": "stream",
     "text": [
      "150: 0.939156862745098\n"
     ]
    },
    {
     "name": "stderr",
     "output_type": "stream",
     "text": [
      "[I 2024-11-06 05:31:30,467] Trial 151 finished with value: 0.9393725490196078 and parameters: {'learning_rate': 0.030573942807396802, 'depth': 5, 'reg_lambda': 15}. Best is trial 91 with value: 0.9396666666666667.\n"
     ]
    },
    {
     "name": "stdout",
     "output_type": "stream",
     "text": [
      "151: 0.9393725490196078\n"
     ]
    },
    {
     "name": "stderr",
     "output_type": "stream",
     "text": [
      "[I 2024-11-06 05:32:27,672] Trial 152 finished with value: 0.9395490196078432 and parameters: {'learning_rate': 0.05045570631844242, 'depth': 5, 'reg_lambda': 7}. Best is trial 91 with value: 0.9396666666666667.\n"
     ]
    },
    {
     "name": "stdout",
     "output_type": "stream",
     "text": [
      "152: 0.9395490196078432\n"
     ]
    },
    {
     "name": "stderr",
     "output_type": "stream",
     "text": [
      "[I 2024-11-06 05:33:35,690] Trial 153 finished with value: 0.9391372549019609 and parameters: {'learning_rate': 0.05092061282466623, 'depth': 5, 'reg_lambda': 6}. Best is trial 91 with value: 0.9396666666666667.\n"
     ]
    },
    {
     "name": "stdout",
     "output_type": "stream",
     "text": [
      "153: 0.9391372549019609\n"
     ]
    },
    {
     "name": "stderr",
     "output_type": "stream",
     "text": [
      "[I 2024-11-06 05:34:49,387] Trial 154 finished with value: 0.9391568627450981 and parameters: {'learning_rate': 0.04720289454204522, 'depth': 6, 'reg_lambda': 7}. Best is trial 91 with value: 0.9396666666666667.\n"
     ]
    },
    {
     "name": "stdout",
     "output_type": "stream",
     "text": [
      "154: 0.9391568627450981\n"
     ]
    },
    {
     "name": "stderr",
     "output_type": "stream",
     "text": [
      "[I 2024-11-06 05:35:52,717] Trial 155 finished with value: 0.9398039215686275 and parameters: {'learning_rate': 0.055905048327263715, 'depth': 5, 'reg_lambda': 12}. Best is trial 155 with value: 0.9398039215686275.\n"
     ]
    },
    {
     "name": "stdout",
     "output_type": "stream",
     "text": [
      "155: 0.9398039215686275\n"
     ]
    },
    {
     "name": "stderr",
     "output_type": "stream",
     "text": [
      "[I 2024-11-06 05:36:39,995] Trial 156 finished with value: 0.9393529411764705 and parameters: {'learning_rate': 0.071825071882165, 'depth': 5, 'reg_lambda': 12}. Best is trial 155 with value: 0.9398039215686275.\n"
     ]
    },
    {
     "name": "stdout",
     "output_type": "stream",
     "text": [
      "156: 0.9393529411764705\n"
     ]
    },
    {
     "name": "stderr",
     "output_type": "stream",
     "text": [
      "[I 2024-11-06 05:37:33,150] Trial 157 finished with value: 0.939156862745098 and parameters: {'learning_rate': 0.05841753733180949, 'depth': 4, 'reg_lambda': 12}. Best is trial 155 with value: 0.9398039215686275.\n"
     ]
    },
    {
     "name": "stdout",
     "output_type": "stream",
     "text": [
      "157: 0.939156862745098\n"
     ]
    },
    {
     "name": "stderr",
     "output_type": "stream",
     "text": [
      "[I 2024-11-06 05:38:51,571] Trial 158 finished with value: 0.9394117647058824 and parameters: {'learning_rate': 0.04287770310221825, 'depth': 5, 'reg_lambda': 5}. Best is trial 155 with value: 0.9398039215686275.\n"
     ]
    },
    {
     "name": "stdout",
     "output_type": "stream",
     "text": [
      "158: 0.9394117647058824\n"
     ]
    },
    {
     "name": "stderr",
     "output_type": "stream",
     "text": [
      "[I 2024-11-06 05:39:51,520] Trial 159 finished with value: 0.9395490196078432 and parameters: {'learning_rate': 0.054581421294605914, 'depth': 5, 'reg_lambda': 10}. Best is trial 155 with value: 0.9398039215686275.\n"
     ]
    },
    {
     "name": "stdout",
     "output_type": "stream",
     "text": [
      "159: 0.9395490196078432\n"
     ]
    },
    {
     "name": "stderr",
     "output_type": "stream",
     "text": [
      "[I 2024-11-06 05:41:05,855] Trial 160 finished with value: 0.9392156862745097 and parameters: {'learning_rate': 0.054415083083026915, 'depth': 6, 'reg_lambda': 11}. Best is trial 155 with value: 0.9398039215686275.\n"
     ]
    },
    {
     "name": "stdout",
     "output_type": "stream",
     "text": [
      "160: 0.9392156862745097\n"
     ]
    },
    {
     "name": "stderr",
     "output_type": "stream",
     "text": [
      "[I 2024-11-06 05:42:16,699] Trial 161 finished with value: 0.9395490196078432 and parameters: {'learning_rate': 0.05015151403766263, 'depth': 5, 'reg_lambda': 10}. Best is trial 155 with value: 0.9398039215686275.\n"
     ]
    },
    {
     "name": "stdout",
     "output_type": "stream",
     "text": [
      "161: 0.9395490196078432\n"
     ]
    },
    {
     "name": "stderr",
     "output_type": "stream",
     "text": [
      "[I 2024-11-06 05:43:26,298] Trial 162 finished with value: 0.939294117647059 and parameters: {'learning_rate': 0.04962964537590534, 'depth': 5, 'reg_lambda': 11}. Best is trial 155 with value: 0.9398039215686275.\n"
     ]
    },
    {
     "name": "stdout",
     "output_type": "stream",
     "text": [
      "162: 0.939294117647059\n"
     ]
    },
    {
     "name": "stderr",
     "output_type": "stream",
     "text": [
      "[I 2024-11-06 05:44:25,762] Trial 163 finished with value: 0.9394509803921568 and parameters: {'learning_rate': 0.053177949687300656, 'depth': 5, 'reg_lambda': 10}. Best is trial 155 with value: 0.9398039215686275.\n"
     ]
    },
    {
     "name": "stdout",
     "output_type": "stream",
     "text": [
      "163: 0.9394509803921568\n"
     ]
    },
    {
     "name": "stderr",
     "output_type": "stream",
     "text": [
      "[I 2024-11-06 05:45:26,980] Trial 164 finished with value: 0.939450980392157 and parameters: {'learning_rate': 0.047941307205336806, 'depth': 5, 'reg_lambda': 10}. Best is trial 155 with value: 0.9398039215686275.\n"
     ]
    },
    {
     "name": "stdout",
     "output_type": "stream",
     "text": [
      "164: 0.939450980392157\n"
     ]
    },
    {
     "name": "stderr",
     "output_type": "stream",
     "text": [
      "[I 2024-11-06 05:46:27,454] Trial 165 finished with value: 0.9396862745098039 and parameters: {'learning_rate': 0.05094220891926479, 'depth': 5, 'reg_lambda': 9}. Best is trial 155 with value: 0.9398039215686275.\n"
     ]
    },
    {
     "name": "stdout",
     "output_type": "stream",
     "text": [
      "165: 0.9396862745098039\n"
     ]
    },
    {
     "name": "stderr",
     "output_type": "stream",
     "text": [
      "[I 2024-11-06 05:47:40,835] Trial 166 finished with value: 0.9392156862745097 and parameters: {'learning_rate': 0.05606740814225619, 'depth': 6, 'reg_lambda': 11}. Best is trial 155 with value: 0.9398039215686275.\n"
     ]
    },
    {
     "name": "stdout",
     "output_type": "stream",
     "text": [
      "166: 0.9392156862745097\n"
     ]
    },
    {
     "name": "stderr",
     "output_type": "stream",
     "text": [
      "[I 2024-11-06 05:48:48,281] Trial 167 finished with value: 0.9392352941176471 and parameters: {'learning_rate': 0.051674949162523715, 'depth': 5, 'reg_lambda': 12}. Best is trial 155 with value: 0.9398039215686275.\n"
     ]
    },
    {
     "name": "stdout",
     "output_type": "stream",
     "text": [
      "167: 0.9392352941176471\n"
     ]
    },
    {
     "name": "stderr",
     "output_type": "stream",
     "text": [
      "[I 2024-11-06 06:13:18,756] Trial 168 finished with value: 0.9392156862745097 and parameters: {'learning_rate': 0.04113636247519726, 'depth': 12, 'reg_lambda': 10}. Best is trial 155 with value: 0.9398039215686275.\n"
     ]
    },
    {
     "name": "stdout",
     "output_type": "stream",
     "text": [
      "168: 0.9392156862745097\n"
     ]
    },
    {
     "name": "stderr",
     "output_type": "stream",
     "text": [
      "[I 2024-11-06 06:14:20,297] Trial 169 finished with value: 0.9394313725490195 and parameters: {'learning_rate': 0.04672818226457093, 'depth': 5, 'reg_lambda': 13}. Best is trial 155 with value: 0.9398039215686275.\n"
     ]
    },
    {
     "name": "stdout",
     "output_type": "stream",
     "text": [
      "169: 0.9394313725490195\n"
     ]
    },
    {
     "name": "stderr",
     "output_type": "stream",
     "text": [
      "[I 2024-11-06 06:15:20,067] Trial 170 finished with value: 0.939078431372549 and parameters: {'learning_rate': 0.05384721585053003, 'depth': 5, 'reg_lambda': 13}. Best is trial 155 with value: 0.9398039215686275.\n"
     ]
    },
    {
     "name": "stdout",
     "output_type": "stream",
     "text": [
      "170: 0.939078431372549\n"
     ]
    },
    {
     "name": "stderr",
     "output_type": "stream",
     "text": [
      "[I 2024-11-06 06:16:42,375] Trial 171 finished with value: 0.9396862745098039 and parameters: {'learning_rate': 0.044422540374347216, 'depth': 5, 'reg_lambda': 9}. Best is trial 155 with value: 0.9398039215686275.\n"
     ]
    },
    {
     "name": "stdout",
     "output_type": "stream",
     "text": [
      "171: 0.9396862745098039\n"
     ]
    },
    {
     "name": "stderr",
     "output_type": "stream",
     "text": [
      "[I 2024-11-06 06:17:53,840] Trial 172 finished with value: 0.9395098039215686 and parameters: {'learning_rate': 0.04426554434097415, 'depth': 5, 'reg_lambda': 9}. Best is trial 155 with value: 0.9398039215686275.\n"
     ]
    },
    {
     "name": "stdout",
     "output_type": "stream",
     "text": [
      "172: 0.9395098039215686\n"
     ]
    },
    {
     "name": "stderr",
     "output_type": "stream",
     "text": [
      "[I 2024-11-06 06:18:59,102] Trial 173 finished with value: 0.9393529411764705 and parameters: {'learning_rate': 0.050178896325480934, 'depth': 5, 'reg_lambda': 10}. Best is trial 155 with value: 0.9398039215686275.\n"
     ]
    },
    {
     "name": "stdout",
     "output_type": "stream",
     "text": [
      "173: 0.9393529411764705\n"
     ]
    },
    {
     "name": "stderr",
     "output_type": "stream",
     "text": [
      "[I 2024-11-06 06:32:31,650] Trial 174 finished with value: 0.9387254901960785 and parameters: {'learning_rate': 0.03968941693230729, 'depth': 11, 'reg_lambda': 9}. Best is trial 155 with value: 0.9398039215686275.\n"
     ]
    },
    {
     "name": "stdout",
     "output_type": "stream",
     "text": [
      "174: 0.9387254901960785\n"
     ]
    },
    {
     "name": "stderr",
     "output_type": "stream",
     "text": [
      "[I 2024-11-06 06:33:40,459] Trial 175 finished with value: 0.9396274509803922 and parameters: {'learning_rate': 0.058279362926437595, 'depth': 5, 'reg_lambda': 8}. Best is trial 155 with value: 0.9398039215686275.\n"
     ]
    },
    {
     "name": "stdout",
     "output_type": "stream",
     "text": [
      "175: 0.9396274509803922\n"
     ]
    },
    {
     "name": "stderr",
     "output_type": "stream",
     "text": [
      "[I 2024-11-06 06:34:39,095] Trial 176 finished with value: 0.9392941176470587 and parameters: {'learning_rate': 0.06010556556662136, 'depth': 5, 'reg_lambda': 7}. Best is trial 155 with value: 0.9398039215686275.\n"
     ]
    },
    {
     "name": "stdout",
     "output_type": "stream",
     "text": [
      "176: 0.9392941176470587\n"
     ]
    },
    {
     "name": "stderr",
     "output_type": "stream",
     "text": [
      "[I 2024-11-06 06:35:43,010] Trial 177 finished with value: 0.9396078431372549 and parameters: {'learning_rate': 0.05823038594512441, 'depth': 5, 'reg_lambda': 8}. Best is trial 155 with value: 0.9398039215686275.\n"
     ]
    },
    {
     "name": "stdout",
     "output_type": "stream",
     "text": [
      "177: 0.9396078431372549\n"
     ]
    },
    {
     "name": "stderr",
     "output_type": "stream",
     "text": [
      "[I 2024-11-06 06:36:41,883] Trial 178 finished with value: 0.9392549019607843 and parameters: {'learning_rate': 0.05852032880186444, 'depth': 5, 'reg_lambda': 8}. Best is trial 155 with value: 0.9398039215686275.\n"
     ]
    },
    {
     "name": "stdout",
     "output_type": "stream",
     "text": [
      "178: 0.9392549019607843\n"
     ]
    },
    {
     "name": "stderr",
     "output_type": "stream",
     "text": [
      "[I 2024-11-06 06:37:45,724] Trial 179 finished with value: 0.9396862745098039 and parameters: {'learning_rate': 0.055662056195044315, 'depth': 5, 'reg_lambda': 8}. Best is trial 155 with value: 0.9398039215686275.\n"
     ]
    },
    {
     "name": "stdout",
     "output_type": "stream",
     "text": [
      "179: 0.9396862745098039\n"
     ]
    },
    {
     "name": "stderr",
     "output_type": "stream",
     "text": [
      "[I 2024-11-06 06:38:57,608] Trial 180 finished with value: 0.9390588235294118 and parameters: {'learning_rate': 0.055350077329628114, 'depth': 6, 'reg_lambda': 8}. Best is trial 155 with value: 0.9398039215686275.\n"
     ]
    },
    {
     "name": "stdout",
     "output_type": "stream",
     "text": [
      "180: 0.9390588235294118\n"
     ]
    },
    {
     "name": "stderr",
     "output_type": "stream",
     "text": [
      "[I 2024-11-06 06:39:57,884] Trial 181 finished with value: 0.9396470588235294 and parameters: {'learning_rate': 0.0569565288137503, 'depth': 5, 'reg_lambda': 7}. Best is trial 155 with value: 0.9398039215686275.\n"
     ]
    },
    {
     "name": "stdout",
     "output_type": "stream",
     "text": [
      "181: 0.9396470588235294\n"
     ]
    },
    {
     "name": "stderr",
     "output_type": "stream",
     "text": [
      "[I 2024-11-06 06:41:01,848] Trial 182 finished with value: 0.9394901960784314 and parameters: {'learning_rate': 0.05658309575249446, 'depth': 5, 'reg_lambda': 8}. Best is trial 155 with value: 0.9398039215686275.\n"
     ]
    },
    {
     "name": "stdout",
     "output_type": "stream",
     "text": [
      "182: 0.9394901960784314\n"
     ]
    },
    {
     "name": "stderr",
     "output_type": "stream",
     "text": [
      "[I 2024-11-06 06:41:56,214] Trial 183 finished with value: 0.9397058823529413 and parameters: {'learning_rate': 0.06208462051257641, 'depth': 5, 'reg_lambda': 7}. Best is trial 155 with value: 0.9398039215686275.\n"
     ]
    },
    {
     "name": "stdout",
     "output_type": "stream",
     "text": [
      "183: 0.9397058823529413\n"
     ]
    },
    {
     "name": "stderr",
     "output_type": "stream",
     "text": [
      "[I 2024-11-06 06:42:53,982] Trial 184 finished with value: 0.9393725490196078 and parameters: {'learning_rate': 0.06291948098610504, 'depth': 5, 'reg_lambda': 7}. Best is trial 155 with value: 0.9398039215686275.\n"
     ]
    },
    {
     "name": "stdout",
     "output_type": "stream",
     "text": [
      "184: 0.9393725490196078\n"
     ]
    },
    {
     "name": "stderr",
     "output_type": "stream",
     "text": [
      "[I 2024-11-06 06:43:52,931] Trial 185 finished with value: 0.9393333333333334 and parameters: {'learning_rate': 0.061617128904856856, 'depth': 5, 'reg_lambda': 7}. Best is trial 155 with value: 0.9398039215686275.\n"
     ]
    },
    {
     "name": "stdout",
     "output_type": "stream",
     "text": [
      "185: 0.9393333333333334\n"
     ]
    },
    {
     "name": "stderr",
     "output_type": "stream",
     "text": [
      "[I 2024-11-06 06:44:50,780] Trial 186 finished with value: 0.9393725490196078 and parameters: {'learning_rate': 0.058526569500402546, 'depth': 5, 'reg_lambda': 8}. Best is trial 155 with value: 0.9398039215686275.\n"
     ]
    },
    {
     "name": "stdout",
     "output_type": "stream",
     "text": [
      "186: 0.9393725490196078\n"
     ]
    },
    {
     "name": "stderr",
     "output_type": "stream",
     "text": [
      "[I 2024-11-06 06:45:54,525] Trial 187 finished with value: 0.9393725490196078 and parameters: {'learning_rate': 0.0531579688788412, 'depth': 5, 'reg_lambda': 9}. Best is trial 155 with value: 0.9398039215686275.\n"
     ]
    },
    {
     "name": "stdout",
     "output_type": "stream",
     "text": [
      "187: 0.9393725490196078\n"
     ]
    },
    {
     "name": "stderr",
     "output_type": "stream",
     "text": [
      "[I 2024-11-06 06:46:59,631] Trial 188 finished with value: 0.9392745098039216 and parameters: {'learning_rate': 0.0572454278582128, 'depth': 6, 'reg_lambda': 8}. Best is trial 155 with value: 0.9398039215686275.\n"
     ]
    },
    {
     "name": "stdout",
     "output_type": "stream",
     "text": [
      "188: 0.9392745098039216\n"
     ]
    },
    {
     "name": "stderr",
     "output_type": "stream",
     "text": [
      "[I 2024-11-06 06:47:50,663] Trial 189 finished with value: 0.9392745098039216 and parameters: {'learning_rate': 0.060051889827052646, 'depth': 4, 'reg_lambda': 6}. Best is trial 155 with value: 0.9398039215686275.\n"
     ]
    },
    {
     "name": "stdout",
     "output_type": "stream",
     "text": [
      "189: 0.9392745098039216\n"
     ]
    },
    {
     "name": "stderr",
     "output_type": "stream",
     "text": [
      "[I 2024-11-06 06:48:51,180] Trial 190 finished with value: 0.9395490196078432 and parameters: {'learning_rate': 0.054885482598321114, 'depth': 5, 'reg_lambda': 7}. Best is trial 155 with value: 0.9398039215686275.\n"
     ]
    },
    {
     "name": "stdout",
     "output_type": "stream",
     "text": [
      "190: 0.9395490196078432\n"
     ]
    },
    {
     "name": "stderr",
     "output_type": "stream",
     "text": [
      "[I 2024-11-06 06:49:55,279] Trial 191 finished with value: 0.939764705882353 and parameters: {'learning_rate': 0.05579053832456333, 'depth': 5, 'reg_lambda': 7}. Best is trial 155 with value: 0.9398039215686275.\n"
     ]
    },
    {
     "name": "stdout",
     "output_type": "stream",
     "text": [
      "191: 0.939764705882353\n"
     ]
    },
    {
     "name": "stderr",
     "output_type": "stream",
     "text": [
      "[I 2024-11-06 06:51:01,739] Trial 192 finished with value: 0.9395882352941176 and parameters: {'learning_rate': 0.05524062493940877, 'depth': 5, 'reg_lambda': 7}. Best is trial 155 with value: 0.9398039215686275.\n"
     ]
    },
    {
     "name": "stdout",
     "output_type": "stream",
     "text": [
      "192: 0.9395882352941176\n"
     ]
    },
    {
     "name": "stderr",
     "output_type": "stream",
     "text": [
      "[I 2024-11-06 06:52:05,318] Trial 193 finished with value: 0.9394117647058824 and parameters: {'learning_rate': 0.05483358212640326, 'depth': 5, 'reg_lambda': 7}. Best is trial 155 with value: 0.9398039215686275.\n"
     ]
    },
    {
     "name": "stdout",
     "output_type": "stream",
     "text": [
      "193: 0.9394117647058824\n"
     ]
    },
    {
     "name": "stderr",
     "output_type": "stream",
     "text": [
      "[I 2024-11-06 06:52:58,377] Trial 194 finished with value: 0.9393333333333334 and parameters: {'learning_rate': 0.0606759668440266, 'depth': 5, 'reg_lambda': 7}. Best is trial 155 with value: 0.9398039215686275.\n"
     ]
    },
    {
     "name": "stdout",
     "output_type": "stream",
     "text": [
      "194: 0.9393333333333334\n"
     ]
    },
    {
     "name": "stderr",
     "output_type": "stream",
     "text": [
      "[I 2024-11-06 06:54:03,350] Trial 195 finished with value: 0.9391176470588235 and parameters: {'learning_rate': 0.05269080451338613, 'depth': 5, 'reg_lambda': 6}. Best is trial 155 with value: 0.9398039215686275.\n"
     ]
    },
    {
     "name": "stdout",
     "output_type": "stream",
     "text": [
      "195: 0.9391176470588235\n"
     ]
    },
    {
     "name": "stderr",
     "output_type": "stream",
     "text": [
      "[I 2024-11-06 06:54:58,909] Trial 196 finished with value: 0.9394901960784313 and parameters: {'learning_rate': 0.06472565310919116, 'depth': 5, 'reg_lambda': 8}. Best is trial 155 with value: 0.9398039215686275.\n"
     ]
    },
    {
     "name": "stdout",
     "output_type": "stream",
     "text": [
      "196: 0.9394901960784313\n"
     ]
    },
    {
     "name": "stderr",
     "output_type": "stream",
     "text": [
      "[I 2024-11-06 06:55:50,734] Trial 197 finished with value: 0.9393333333333332 and parameters: {'learning_rate': 0.05776294002258258, 'depth': 5, 'reg_lambda': 9}. Best is trial 155 with value: 0.9398039215686275.\n"
     ]
    },
    {
     "name": "stdout",
     "output_type": "stream",
     "text": [
      "197: 0.9393333333333332\n"
     ]
    },
    {
     "name": "stderr",
     "output_type": "stream",
     "text": [
      "[I 2024-11-06 06:57:01,194] Trial 198 finished with value: 0.9391372549019609 and parameters: {'learning_rate': 0.05585301701413598, 'depth': 6, 'reg_lambda': 7}. Best is trial 155 with value: 0.9398039215686275.\n"
     ]
    },
    {
     "name": "stdout",
     "output_type": "stream",
     "text": [
      "198: 0.9391372549019609\n"
     ]
    },
    {
     "name": "stderr",
     "output_type": "stream",
     "text": [
      "[I 2024-11-06 06:58:05,612] Trial 199 finished with value: 0.9393529411764705 and parameters: {'learning_rate': 0.05105664443715378, 'depth': 5, 'reg_lambda': 6}. Best is trial 155 with value: 0.9398039215686275.\n"
     ]
    },
    {
     "name": "stdout",
     "output_type": "stream",
     "text": [
      "199: 0.9393529411764705\n",
      "Best parameters: {'learning_rate': 0.055905048327263715, 'depth': 5, 'reg_lambda': 12}\n",
      "Best score: 0.9398039215686275\n"
     ]
    }
   ],
   "source": [
    "oo=0\n",
    "\n",
    "def optim(trial):\n",
    "    cb_params = {\n",
    "        'objective': 'CrossEntropy',\n",
    "        'iterations': 1512, \n",
    "        'learning_rate': trial.suggest_float('learning_rate',0.01,0.12),\n",
    "        'depth': trial.suggest_int('depth',2,12),\n",
    "        #'subsample':trial.suggest_float('subsample',0,1),\n",
    "        'reg_lambda': trial.suggest_int('reg_lambda',0,30),\n",
    "        #'bagging_temperature':trial.suggest_float('bagging_temperature',1,2),\n",
    "        'min_data_in_leaf':20,\n",
    "        'use_best_model':True,\n",
    "        'task_type':\"GPU\",\n",
    "        \n",
    "    }\n",
    "    FOLDS = 3\n",
    "    scores = np.zeros(FOLDS)\n",
    "    kf = KFold(n_splits = FOLDS)\n",
    "    for i, (trndex,valdex) in enumerate(kf.split(trainsmall.id)):\n",
    "        xtrain,ytrain = trainsmall.loc[trndex,BOTH], trainsmall.loc[trndex,TARGET]\n",
    "        xval, yval    = trainsmall.loc[valdex,BOTH], trainsmall.loc[valdex,TARGET]\n",
    "        model = CBC(cat_features = CAT_COLS, **cb_params)\n",
    "        model.fit(xtrain,ytrain,\n",
    "                 eval_set=(xval,yval),\n",
    "                 verbose=False,\n",
    "                 early_stopping_rounds = 25,\n",
    "                 use_best_model=True)\n",
    "        \n",
    "        ypred =  model.predict(xval) \n",
    "        ascore = accuracy_score(yval,ypred)\n",
    "        scores[i] = ascore\n",
    "    \n",
    "    global oo\n",
    "    print(f\"{oo}: {np.mean(scores)}\") \n",
    "    oo +=1\n",
    "    return np.mean(scores)\n",
    "study = optuna.create_study(direction='maximize')\n",
    "study.optimize(optim,n_trials = 200)\n",
    "\n",
    "#report the results \n",
    "print('Best parameters:', study.best_trial.params)\n",
    "print('Best score:', study.best_value)"
   ]
  },
  {
   "cell_type": "code",
   "execution_count": null,
   "id": "73633190",
   "metadata": {
    "papermill": {
     "duration": 0.049405,
     "end_time": "2024-11-06T06:58:05.771824",
     "exception": false,
     "start_time": "2024-11-06T06:58:05.722419",
     "status": "completed"
    },
    "tags": []
   },
   "outputs": [],
   "source": []
  }
 ],
 "metadata": {
  "kaggle": {
   "accelerator": "nvidiaTeslaT4",
   "dataSources": [
    {
     "databundleVersionId": 10008389,
     "sourceId": 84895,
     "sourceType": "competition"
    }
   ],
   "dockerImageVersionId": 30787,
   "isGpuEnabled": true,
   "isInternetEnabled": true,
   "language": "python",
   "sourceType": "notebook"
  },
  "kernelspec": {
   "display_name": "Python 3",
   "language": "python",
   "name": "python3"
  },
  "language_info": {
   "codemirror_mode": {
    "name": "ipython",
    "version": 3
   },
   "file_extension": ".py",
   "mimetype": "text/x-python",
   "name": "python",
   "nbconvert_exporter": "python",
   "pygments_lexer": "ipython3",
   "version": "3.10.14"
  },
  "papermill": {
   "default_parameters": {},
   "duration": 40996.136005,
   "end_time": "2024-11-06T06:58:06.743764",
   "environment_variables": {},
   "exception": null,
   "input_path": "__notebook__.ipynb",
   "output_path": "__notebook__.ipynb",
   "parameters": {},
   "start_time": "2024-11-05T19:34:50.607759",
   "version": "2.6.0"
  }
 },
 "nbformat": 4,
 "nbformat_minor": 5
}
