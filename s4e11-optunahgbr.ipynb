{
 "cells": [
  {
   "cell_type": "code",
   "execution_count": 1,
   "id": "c25004cc",
   "metadata": {
    "execution": {
     "iopub.execute_input": "2024-11-05T06:44:10.991791Z",
     "iopub.status.busy": "2024-11-05T06:44:10.991379Z",
     "iopub.status.idle": "2024-11-05T06:44:28.853454Z",
     "shell.execute_reply": "2024-11-05T06:44:28.852169Z"
    },
    "papermill": {
     "duration": 17.873173,
     "end_time": "2024-11-05T06:44:28.856482",
     "exception": false,
     "start_time": "2024-11-05T06:44:10.983309",
     "status": "completed"
    },
    "tags": []
   },
   "outputs": [
    {
     "name": "stdout",
     "output_type": "stream",
     "text": [
      "Requirement already satisfied: scikit-learn in /opt/conda/lib/python3.10/site-packages (1.2.2)\r\n",
      "Collecting scikit-learn\r\n",
      "  Downloading scikit_learn-1.5.2-cp310-cp310-manylinux_2_17_x86_64.manylinux2014_x86_64.whl.metadata (13 kB)\r\n",
      "Requirement already satisfied: numpy>=1.19.5 in /opt/conda/lib/python3.10/site-packages (from scikit-learn) (1.26.4)\r\n",
      "Requirement already satisfied: scipy>=1.6.0 in /opt/conda/lib/python3.10/site-packages (from scikit-learn) (1.14.1)\r\n",
      "Requirement already satisfied: joblib>=1.2.0 in /opt/conda/lib/python3.10/site-packages (from scikit-learn) (1.4.2)\r\n",
      "Requirement already satisfied: threadpoolctl>=3.1.0 in /opt/conda/lib/python3.10/site-packages (from scikit-learn) (3.5.0)\r\n",
      "Downloading scikit_learn-1.5.2-cp310-cp310-manylinux_2_17_x86_64.manylinux2014_x86_64.whl (13.3 MB)\r\n",
      "\u001b[2K   \u001b[90m━━━━━━━━━━━━━━━━━━━━━━━━━━━━━━━━━━━━━━━━\u001b[0m \u001b[32m13.3/13.3 MB\u001b[0m \u001b[31m66.9 MB/s\u001b[0m eta \u001b[36m0:00:00\u001b[0m\r\n",
      "\u001b[?25hInstalling collected packages: scikit-learn\r\n",
      "  Attempting uninstall: scikit-learn\r\n",
      "    Found existing installation: scikit-learn 1.2.2\r\n",
      "    Uninstalling scikit-learn-1.2.2:\r\n",
      "      Successfully uninstalled scikit-learn-1.2.2\r\n",
      "\u001b[31mERROR: pip's dependency resolver does not currently take into account all the packages that are installed. This behaviour is the source of the following dependency conflicts.\r\n",
      "bigframes 0.22.0 requires google-cloud-bigquery[bqstorage,pandas]>=3.10.0, but you have google-cloud-bigquery 2.34.4 which is incompatible.\r\n",
      "bigframes 0.22.0 requires google-cloud-storage>=2.0.0, but you have google-cloud-storage 1.44.0 which is incompatible.\r\n",
      "bigframes 0.22.0 requires pandas<2.1.4,>=1.5.0, but you have pandas 2.2.3 which is incompatible.\r\n",
      "cesium 0.12.3 requires numpy<3.0,>=2.0, but you have numpy 1.26.4 which is incompatible.\r\n",
      "dataproc-jupyter-plugin 0.1.79 requires pydantic~=1.10.0, but you have pydantic 2.9.2 which is incompatible.\u001b[0m\u001b[31m\r\n",
      "\u001b[0mSuccessfully installed scikit-learn-1.5.2\r\n"
     ]
    }
   ],
   "source": [
    "!pip install --upgrade scikit-learn"
   ]
  },
  {
   "cell_type": "code",
   "execution_count": 2,
   "id": "2c14f095",
   "metadata": {
    "_cell_guid": "b1076dfc-b9ad-4769-8c92-a6c4dae69d19",
    "_uuid": "8f2839f25d086af736a60e9eeb907d3b93b6e0e5",
    "execution": {
     "iopub.execute_input": "2024-11-05T06:44:28.872632Z",
     "iopub.status.busy": "2024-11-05T06:44:28.872092Z",
     "iopub.status.idle": "2024-11-05T06:44:32.865726Z",
     "shell.execute_reply": "2024-11-05T06:44:32.864662Z"
    },
    "papermill": {
     "duration": 4.004757,
     "end_time": "2024-11-05T06:44:32.868350",
     "exception": false,
     "start_time": "2024-11-05T06:44:28.863593",
     "status": "completed"
    },
    "tags": []
   },
   "outputs": [],
   "source": [
    "import numpy as np # linear algebra\n",
    "import pandas as pd # data processing, CSV file I/O (e.g. pd.read_csv)\n",
    "import os\n",
    "import optuna\n",
    "from catboost import CatBoostClassifier as CBC\n",
    "import lightgbm as LGB\n",
    "from sklearn.ensemble import HistGradientBoostingClassifier as HGBC\n",
    "from sklearn.preprocessing import OrdinalEncoder as OE\n",
    "from sklearn.model_selection import KFold, StratifiedKFold, StratifiedGroupKFold\n",
    "from sklearn.metrics import accuracy_score"
   ]
  },
  {
   "cell_type": "code",
   "execution_count": 3,
   "id": "ec09d63e",
   "metadata": {
    "execution": {
     "iopub.execute_input": "2024-11-05T06:44:32.883667Z",
     "iopub.status.busy": "2024-11-05T06:44:32.883033Z",
     "iopub.status.idle": "2024-11-05T06:44:33.824304Z",
     "shell.execute_reply": "2024-11-05T06:44:33.823114Z"
    },
    "papermill": {
     "duration": 0.952252,
     "end_time": "2024-11-05T06:44:33.827332",
     "exception": false,
     "start_time": "2024-11-05T06:44:32.875080",
     "status": "completed"
    },
    "tags": []
   },
   "outputs": [
    {
     "data": {
      "text/plain": [
       "((140700, 20), (93800, 19))"
      ]
     },
     "execution_count": 3,
     "metadata": {},
     "output_type": "execute_result"
    }
   ],
   "source": [
    "train = pd.read_csv('/kaggle/input/playground-series-s4e11/train.csv')\n",
    "test = pd.read_csv('/kaggle/input/playground-series-s4e11/test.csv')\n",
    "train.shape, test.shape"
   ]
  },
  {
   "cell_type": "code",
   "execution_count": 4,
   "id": "23ecadec",
   "metadata": {
    "execution": {
     "iopub.execute_input": "2024-11-05T06:44:33.843685Z",
     "iopub.status.busy": "2024-11-05T06:44:33.842772Z",
     "iopub.status.idle": "2024-11-05T06:44:33.874988Z",
     "shell.execute_reply": "2024-11-05T06:44:33.873593Z"
    },
    "papermill": {
     "duration": 0.042918,
     "end_time": "2024-11-05T06:44:33.877521",
     "exception": false,
     "start_time": "2024-11-05T06:44:33.834603",
     "status": "completed"
    },
    "tags": []
   },
   "outputs": [
    {
     "data": {
      "text/html": [
       "<div>\n",
       "<style scoped>\n",
       "    .dataframe tbody tr th:only-of-type {\n",
       "        vertical-align: middle;\n",
       "    }\n",
       "\n",
       "    .dataframe tbody tr th {\n",
       "        vertical-align: top;\n",
       "    }\n",
       "\n",
       "    .dataframe thead th {\n",
       "        text-align: right;\n",
       "    }\n",
       "</style>\n",
       "<table border=\"1\" class=\"dataframe\">\n",
       "  <thead>\n",
       "    <tr style=\"text-align: right;\">\n",
       "      <th></th>\n",
       "      <th>id</th>\n",
       "      <th>Name</th>\n",
       "      <th>Gender</th>\n",
       "      <th>Age</th>\n",
       "      <th>City</th>\n",
       "      <th>Working Professional or Student</th>\n",
       "      <th>Profession</th>\n",
       "      <th>Academic Pressure</th>\n",
       "      <th>Work Pressure</th>\n",
       "      <th>CGPA</th>\n",
       "      <th>Study Satisfaction</th>\n",
       "      <th>Job Satisfaction</th>\n",
       "      <th>Sleep Duration</th>\n",
       "      <th>Dietary Habits</th>\n",
       "      <th>Degree</th>\n",
       "      <th>Have you ever had suicidal thoughts ?</th>\n",
       "      <th>Work/Study Hours</th>\n",
       "      <th>Financial Stress</th>\n",
       "      <th>Family History of Mental Illness</th>\n",
       "      <th>Depression</th>\n",
       "    </tr>\n",
       "  </thead>\n",
       "  <tbody>\n",
       "    <tr>\n",
       "      <th>0</th>\n",
       "      <td>0</td>\n",
       "      <td>Aaradhya</td>\n",
       "      <td>Female</td>\n",
       "      <td>49.0</td>\n",
       "      <td>Ludhiana</td>\n",
       "      <td>Working Professional</td>\n",
       "      <td>Chef</td>\n",
       "      <td>NaN</td>\n",
       "      <td>5.0</td>\n",
       "      <td>NaN</td>\n",
       "      <td>NaN</td>\n",
       "      <td>2.0</td>\n",
       "      <td>More than 8 hours</td>\n",
       "      <td>Healthy</td>\n",
       "      <td>BHM</td>\n",
       "      <td>No</td>\n",
       "      <td>1.0</td>\n",
       "      <td>2.0</td>\n",
       "      <td>No</td>\n",
       "      <td>0</td>\n",
       "    </tr>\n",
       "    <tr>\n",
       "      <th>1</th>\n",
       "      <td>1</td>\n",
       "      <td>Vivan</td>\n",
       "      <td>Male</td>\n",
       "      <td>26.0</td>\n",
       "      <td>Varanasi</td>\n",
       "      <td>Working Professional</td>\n",
       "      <td>Teacher</td>\n",
       "      <td>NaN</td>\n",
       "      <td>4.0</td>\n",
       "      <td>NaN</td>\n",
       "      <td>NaN</td>\n",
       "      <td>3.0</td>\n",
       "      <td>Less than 5 hours</td>\n",
       "      <td>Unhealthy</td>\n",
       "      <td>LLB</td>\n",
       "      <td>Yes</td>\n",
       "      <td>7.0</td>\n",
       "      <td>3.0</td>\n",
       "      <td>No</td>\n",
       "      <td>1</td>\n",
       "    </tr>\n",
       "    <tr>\n",
       "      <th>2</th>\n",
       "      <td>2</td>\n",
       "      <td>Yuvraj</td>\n",
       "      <td>Male</td>\n",
       "      <td>33.0</td>\n",
       "      <td>Visakhapatnam</td>\n",
       "      <td>Student</td>\n",
       "      <td>NaN</td>\n",
       "      <td>5.0</td>\n",
       "      <td>NaN</td>\n",
       "      <td>8.97</td>\n",
       "      <td>2.0</td>\n",
       "      <td>NaN</td>\n",
       "      <td>5-6 hours</td>\n",
       "      <td>Healthy</td>\n",
       "      <td>B.Pharm</td>\n",
       "      <td>Yes</td>\n",
       "      <td>3.0</td>\n",
       "      <td>1.0</td>\n",
       "      <td>No</td>\n",
       "      <td>1</td>\n",
       "    </tr>\n",
       "    <tr>\n",
       "      <th>3</th>\n",
       "      <td>3</td>\n",
       "      <td>Yuvraj</td>\n",
       "      <td>Male</td>\n",
       "      <td>22.0</td>\n",
       "      <td>Mumbai</td>\n",
       "      <td>Working Professional</td>\n",
       "      <td>Teacher</td>\n",
       "      <td>NaN</td>\n",
       "      <td>5.0</td>\n",
       "      <td>NaN</td>\n",
       "      <td>NaN</td>\n",
       "      <td>1.0</td>\n",
       "      <td>Less than 5 hours</td>\n",
       "      <td>Moderate</td>\n",
       "      <td>BBA</td>\n",
       "      <td>Yes</td>\n",
       "      <td>10.0</td>\n",
       "      <td>1.0</td>\n",
       "      <td>Yes</td>\n",
       "      <td>1</td>\n",
       "    </tr>\n",
       "    <tr>\n",
       "      <th>4</th>\n",
       "      <td>4</td>\n",
       "      <td>Rhea</td>\n",
       "      <td>Female</td>\n",
       "      <td>30.0</td>\n",
       "      <td>Kanpur</td>\n",
       "      <td>Working Professional</td>\n",
       "      <td>Business Analyst</td>\n",
       "      <td>NaN</td>\n",
       "      <td>1.0</td>\n",
       "      <td>NaN</td>\n",
       "      <td>NaN</td>\n",
       "      <td>1.0</td>\n",
       "      <td>5-6 hours</td>\n",
       "      <td>Unhealthy</td>\n",
       "      <td>BBA</td>\n",
       "      <td>Yes</td>\n",
       "      <td>9.0</td>\n",
       "      <td>4.0</td>\n",
       "      <td>Yes</td>\n",
       "      <td>0</td>\n",
       "    </tr>\n",
       "  </tbody>\n",
       "</table>\n",
       "</div>"
      ],
      "text/plain": [
       "   id      Name  Gender   Age           City Working Professional or Student  \\\n",
       "0   0  Aaradhya  Female  49.0       Ludhiana            Working Professional   \n",
       "1   1     Vivan    Male  26.0       Varanasi            Working Professional   \n",
       "2   2    Yuvraj    Male  33.0  Visakhapatnam                         Student   \n",
       "3   3    Yuvraj    Male  22.0         Mumbai            Working Professional   \n",
       "4   4      Rhea  Female  30.0         Kanpur            Working Professional   \n",
       "\n",
       "         Profession  Academic Pressure  Work Pressure  CGPA  \\\n",
       "0              Chef                NaN            5.0   NaN   \n",
       "1           Teacher                NaN            4.0   NaN   \n",
       "2               NaN                5.0            NaN  8.97   \n",
       "3           Teacher                NaN            5.0   NaN   \n",
       "4  Business Analyst                NaN            1.0   NaN   \n",
       "\n",
       "   Study Satisfaction  Job Satisfaction     Sleep Duration Dietary Habits  \\\n",
       "0                 NaN               2.0  More than 8 hours        Healthy   \n",
       "1                 NaN               3.0  Less than 5 hours      Unhealthy   \n",
       "2                 2.0               NaN          5-6 hours        Healthy   \n",
       "3                 NaN               1.0  Less than 5 hours       Moderate   \n",
       "4                 NaN               1.0          5-6 hours      Unhealthy   \n",
       "\n",
       "    Degree Have you ever had suicidal thoughts ?  Work/Study Hours  \\\n",
       "0      BHM                                    No               1.0   \n",
       "1      LLB                                   Yes               7.0   \n",
       "2  B.Pharm                                   Yes               3.0   \n",
       "3      BBA                                   Yes              10.0   \n",
       "4      BBA                                   Yes               9.0   \n",
       "\n",
       "   Financial Stress Family History of Mental Illness  Depression  \n",
       "0               2.0                               No           0  \n",
       "1               3.0                               No           1  \n",
       "2               1.0                               No           1  \n",
       "3               1.0                              Yes           1  \n",
       "4               4.0                              Yes           0  "
      ]
     },
     "execution_count": 4,
     "metadata": {},
     "output_type": "execute_result"
    }
   ],
   "source": [
    "train.head()"
   ]
  },
  {
   "cell_type": "code",
   "execution_count": 5,
   "id": "e9dba03e",
   "metadata": {
    "execution": {
     "iopub.execute_input": "2024-11-05T06:44:33.894629Z",
     "iopub.status.busy": "2024-11-05T06:44:33.894187Z",
     "iopub.status.idle": "2024-11-05T06:44:33.918764Z",
     "shell.execute_reply": "2024-11-05T06:44:33.917482Z"
    },
    "papermill": {
     "duration": 0.035915,
     "end_time": "2024-11-05T06:44:33.921383",
     "exception": false,
     "start_time": "2024-11-05T06:44:33.885468",
     "status": "completed"
    },
    "tags": []
   },
   "outputs": [
    {
     "data": {
      "text/html": [
       "<div>\n",
       "<style scoped>\n",
       "    .dataframe tbody tr th:only-of-type {\n",
       "        vertical-align: middle;\n",
       "    }\n",
       "\n",
       "    .dataframe tbody tr th {\n",
       "        vertical-align: top;\n",
       "    }\n",
       "\n",
       "    .dataframe thead th {\n",
       "        text-align: right;\n",
       "    }\n",
       "</style>\n",
       "<table border=\"1\" class=\"dataframe\">\n",
       "  <thead>\n",
       "    <tr style=\"text-align: right;\">\n",
       "      <th></th>\n",
       "      <th>id</th>\n",
       "      <th>Name</th>\n",
       "      <th>Gender</th>\n",
       "      <th>Age</th>\n",
       "      <th>City</th>\n",
       "      <th>Working Professional or Student</th>\n",
       "      <th>Profession</th>\n",
       "      <th>Academic Pressure</th>\n",
       "      <th>Work Pressure</th>\n",
       "      <th>CGPA</th>\n",
       "      <th>Study Satisfaction</th>\n",
       "      <th>Job Satisfaction</th>\n",
       "      <th>Sleep Duration</th>\n",
       "      <th>Dietary Habits</th>\n",
       "      <th>Degree</th>\n",
       "      <th>Have you ever had suicidal thoughts ?</th>\n",
       "      <th>Work/Study Hours</th>\n",
       "      <th>Financial Stress</th>\n",
       "      <th>Family History of Mental Illness</th>\n",
       "    </tr>\n",
       "  </thead>\n",
       "  <tbody>\n",
       "    <tr>\n",
       "      <th>0</th>\n",
       "      <td>140700</td>\n",
       "      <td>Shivam</td>\n",
       "      <td>Male</td>\n",
       "      <td>53.0</td>\n",
       "      <td>Visakhapatnam</td>\n",
       "      <td>Working Professional</td>\n",
       "      <td>Judge</td>\n",
       "      <td>NaN</td>\n",
       "      <td>2.0</td>\n",
       "      <td>NaN</td>\n",
       "      <td>NaN</td>\n",
       "      <td>5.0</td>\n",
       "      <td>Less than 5 hours</td>\n",
       "      <td>Moderate</td>\n",
       "      <td>LLB</td>\n",
       "      <td>No</td>\n",
       "      <td>9.0</td>\n",
       "      <td>3.0</td>\n",
       "      <td>Yes</td>\n",
       "    </tr>\n",
       "    <tr>\n",
       "      <th>1</th>\n",
       "      <td>140701</td>\n",
       "      <td>Sanya</td>\n",
       "      <td>Female</td>\n",
       "      <td>58.0</td>\n",
       "      <td>Kolkata</td>\n",
       "      <td>Working Professional</td>\n",
       "      <td>Educational Consultant</td>\n",
       "      <td>NaN</td>\n",
       "      <td>2.0</td>\n",
       "      <td>NaN</td>\n",
       "      <td>NaN</td>\n",
       "      <td>4.0</td>\n",
       "      <td>Less than 5 hours</td>\n",
       "      <td>Moderate</td>\n",
       "      <td>B.Ed</td>\n",
       "      <td>No</td>\n",
       "      <td>6.0</td>\n",
       "      <td>4.0</td>\n",
       "      <td>No</td>\n",
       "    </tr>\n",
       "    <tr>\n",
       "      <th>2</th>\n",
       "      <td>140702</td>\n",
       "      <td>Yash</td>\n",
       "      <td>Male</td>\n",
       "      <td>53.0</td>\n",
       "      <td>Jaipur</td>\n",
       "      <td>Working Professional</td>\n",
       "      <td>Teacher</td>\n",
       "      <td>NaN</td>\n",
       "      <td>4.0</td>\n",
       "      <td>NaN</td>\n",
       "      <td>NaN</td>\n",
       "      <td>1.0</td>\n",
       "      <td>7-8 hours</td>\n",
       "      <td>Moderate</td>\n",
       "      <td>B.Arch</td>\n",
       "      <td>Yes</td>\n",
       "      <td>12.0</td>\n",
       "      <td>4.0</td>\n",
       "      <td>No</td>\n",
       "    </tr>\n",
       "    <tr>\n",
       "      <th>3</th>\n",
       "      <td>140703</td>\n",
       "      <td>Nalini</td>\n",
       "      <td>Female</td>\n",
       "      <td>23.0</td>\n",
       "      <td>Rajkot</td>\n",
       "      <td>Student</td>\n",
       "      <td>NaN</td>\n",
       "      <td>5.0</td>\n",
       "      <td>NaN</td>\n",
       "      <td>6.84</td>\n",
       "      <td>1.0</td>\n",
       "      <td>NaN</td>\n",
       "      <td>More than 8 hours</td>\n",
       "      <td>Moderate</td>\n",
       "      <td>BSc</td>\n",
       "      <td>Yes</td>\n",
       "      <td>10.0</td>\n",
       "      <td>4.0</td>\n",
       "      <td>No</td>\n",
       "    </tr>\n",
       "    <tr>\n",
       "      <th>4</th>\n",
       "      <td>140704</td>\n",
       "      <td>Shaurya</td>\n",
       "      <td>Male</td>\n",
       "      <td>47.0</td>\n",
       "      <td>Kalyan</td>\n",
       "      <td>Working Professional</td>\n",
       "      <td>Teacher</td>\n",
       "      <td>NaN</td>\n",
       "      <td>5.0</td>\n",
       "      <td>NaN</td>\n",
       "      <td>NaN</td>\n",
       "      <td>5.0</td>\n",
       "      <td>7-8 hours</td>\n",
       "      <td>Moderate</td>\n",
       "      <td>BCA</td>\n",
       "      <td>Yes</td>\n",
       "      <td>3.0</td>\n",
       "      <td>4.0</td>\n",
       "      <td>No</td>\n",
       "    </tr>\n",
       "  </tbody>\n",
       "</table>\n",
       "</div>"
      ],
      "text/plain": [
       "       id     Name  Gender   Age           City  \\\n",
       "0  140700   Shivam    Male  53.0  Visakhapatnam   \n",
       "1  140701    Sanya  Female  58.0        Kolkata   \n",
       "2  140702     Yash    Male  53.0         Jaipur   \n",
       "3  140703   Nalini  Female  23.0         Rajkot   \n",
       "4  140704  Shaurya    Male  47.0         Kalyan   \n",
       "\n",
       "  Working Professional or Student              Profession  Academic Pressure  \\\n",
       "0            Working Professional                   Judge                NaN   \n",
       "1            Working Professional  Educational Consultant                NaN   \n",
       "2            Working Professional                 Teacher                NaN   \n",
       "3                         Student                     NaN                5.0   \n",
       "4            Working Professional                 Teacher                NaN   \n",
       "\n",
       "   Work Pressure  CGPA  Study Satisfaction  Job Satisfaction  \\\n",
       "0            2.0   NaN                 NaN               5.0   \n",
       "1            2.0   NaN                 NaN               4.0   \n",
       "2            4.0   NaN                 NaN               1.0   \n",
       "3            NaN  6.84                 1.0               NaN   \n",
       "4            5.0   NaN                 NaN               5.0   \n",
       "\n",
       "      Sleep Duration Dietary Habits  Degree  \\\n",
       "0  Less than 5 hours       Moderate     LLB   \n",
       "1  Less than 5 hours       Moderate    B.Ed   \n",
       "2          7-8 hours       Moderate  B.Arch   \n",
       "3  More than 8 hours       Moderate     BSc   \n",
       "4          7-8 hours       Moderate     BCA   \n",
       "\n",
       "  Have you ever had suicidal thoughts ?  Work/Study Hours  Financial Stress  \\\n",
       "0                                    No               9.0               3.0   \n",
       "1                                    No               6.0               4.0   \n",
       "2                                   Yes              12.0               4.0   \n",
       "3                                   Yes              10.0               4.0   \n",
       "4                                   Yes               3.0               4.0   \n",
       "\n",
       "  Family History of Mental Illness  \n",
       "0                              Yes  \n",
       "1                               No  \n",
       "2                               No  \n",
       "3                               No  \n",
       "4                               No  "
      ]
     },
     "execution_count": 5,
     "metadata": {},
     "output_type": "execute_result"
    }
   ],
   "source": [
    "test.head()"
   ]
  },
  {
   "cell_type": "code",
   "execution_count": 6,
   "id": "c2d3ad8b",
   "metadata": {
    "execution": {
     "iopub.execute_input": "2024-11-05T06:44:33.939318Z",
     "iopub.status.busy": "2024-11-05T06:44:33.938878Z",
     "iopub.status.idle": "2024-11-05T06:44:34.033516Z",
     "shell.execute_reply": "2024-11-05T06:44:34.032288Z"
    },
    "papermill": {
     "duration": 0.107115,
     "end_time": "2024-11-05T06:44:34.036151",
     "exception": false,
     "start_time": "2024-11-05T06:44:33.929036",
     "status": "completed"
    },
    "tags": []
   },
   "outputs": [
    {
     "name": "stdout",
     "output_type": "stream",
     "text": [
      "<class 'pandas.core.frame.DataFrame'>\n",
      "RangeIndex: 140700 entries, 0 to 140699\n",
      "Data columns (total 20 columns):\n",
      " #   Column                                 Non-Null Count   Dtype  \n",
      "---  ------                                 --------------   -----  \n",
      " 0   id                                     140700 non-null  int64  \n",
      " 1   Name                                   140700 non-null  object \n",
      " 2   Gender                                 140700 non-null  object \n",
      " 3   Age                                    140700 non-null  float64\n",
      " 4   City                                   140700 non-null  object \n",
      " 5   Working Professional or Student        140700 non-null  object \n",
      " 6   Profession                             104070 non-null  object \n",
      " 7   Academic Pressure                      27897 non-null   float64\n",
      " 8   Work Pressure                          112782 non-null  float64\n",
      " 9   CGPA                                   27898 non-null   float64\n",
      " 10  Study Satisfaction                     27897 non-null   float64\n",
      " 11  Job Satisfaction                       112790 non-null  float64\n",
      " 12  Sleep Duration                         140700 non-null  object \n",
      " 13  Dietary Habits                         140696 non-null  object \n",
      " 14  Degree                                 140698 non-null  object \n",
      " 15  Have you ever had suicidal thoughts ?  140700 non-null  object \n",
      " 16  Work/Study Hours                       140700 non-null  float64\n",
      " 17  Financial Stress                       140696 non-null  float64\n",
      " 18  Family History of Mental Illness       140700 non-null  object \n",
      " 19  Depression                             140700 non-null  int64  \n",
      "dtypes: float64(8), int64(2), object(10)\n",
      "memory usage: 21.5+ MB\n"
     ]
    }
   ],
   "source": [
    "train.info()"
   ]
  },
  {
   "cell_type": "code",
   "execution_count": 7,
   "id": "35cc1fb9",
   "metadata": {
    "execution": {
     "iopub.execute_input": "2024-11-05T06:44:34.054217Z",
     "iopub.status.busy": "2024-11-05T06:44:34.053059Z",
     "iopub.status.idle": "2024-11-05T06:44:34.111143Z",
     "shell.execute_reply": "2024-11-05T06:44:34.109956Z"
    },
    "papermill": {
     "duration": 0.069865,
     "end_time": "2024-11-05T06:44:34.113967",
     "exception": false,
     "start_time": "2024-11-05T06:44:34.044102",
     "status": "completed"
    },
    "tags": []
   },
   "outputs": [
    {
     "name": "stdout",
     "output_type": "stream",
     "text": [
      "<class 'pandas.core.frame.DataFrame'>\n",
      "RangeIndex: 93800 entries, 0 to 93799\n",
      "Data columns (total 19 columns):\n",
      " #   Column                                 Non-Null Count  Dtype  \n",
      "---  ------                                 --------------  -----  \n",
      " 0   id                                     93800 non-null  int64  \n",
      " 1   Name                                   93800 non-null  object \n",
      " 2   Gender                                 93800 non-null  object \n",
      " 3   Age                                    93800 non-null  float64\n",
      " 4   City                                   93800 non-null  object \n",
      " 5   Working Professional or Student        93800 non-null  object \n",
      " 6   Profession                             69168 non-null  object \n",
      " 7   Academic Pressure                      18767 non-null  float64\n",
      " 8   Work Pressure                          75022 non-null  float64\n",
      " 9   CGPA                                   18766 non-null  float64\n",
      " 10  Study Satisfaction                     18767 non-null  float64\n",
      " 11  Job Satisfaction                       75026 non-null  float64\n",
      " 12  Sleep Duration                         93800 non-null  object \n",
      " 13  Dietary Habits                         93795 non-null  object \n",
      " 14  Degree                                 93798 non-null  object \n",
      " 15  Have you ever had suicidal thoughts ?  93800 non-null  object \n",
      " 16  Work/Study Hours                       93800 non-null  float64\n",
      " 17  Financial Stress                       93800 non-null  float64\n",
      " 18  Family History of Mental Illness       93800 non-null  object \n",
      "dtypes: float64(8), int64(1), object(10)\n",
      "memory usage: 13.6+ MB\n"
     ]
    }
   ],
   "source": [
    "test.info()"
   ]
  },
  {
   "cell_type": "code",
   "execution_count": 8,
   "id": "6ffb6c65",
   "metadata": {
    "execution": {
     "iopub.execute_input": "2024-11-05T06:44:34.131023Z",
     "iopub.status.busy": "2024-11-05T06:44:34.130584Z",
     "iopub.status.idle": "2024-11-05T06:44:34.138469Z",
     "shell.execute_reply": "2024-11-05T06:44:34.137317Z"
    },
    "papermill": {
     "duration": 0.019521,
     "end_time": "2024-11-05T06:44:34.141198",
     "exception": false,
     "start_time": "2024-11-05T06:44:34.121677",
     "status": "completed"
    },
    "tags": []
   },
   "outputs": [
    {
     "name": "stdout",
     "output_type": "stream",
     "text": [
      "True\n"
     ]
    }
   ],
   "source": [
    "trc = list(train.columns)\n",
    "tec = list(test.columns)\n",
    "NUM_COLS, CAT_COLS = [],[]\n",
    "for i in trc:\n",
    "    if i not in tec:\n",
    "        TARGET = i\n",
    "    elif train[i].dtype in [int,float]:\n",
    "        NUM_COLS.append(i)\n",
    "    else:\n",
    "        CAT_COLS.append(i)\n",
    "\n",
    "print((len(CAT_COLS) + len(NUM_COLS) + 1) == len(trc))\n",
    "NUM_COLS.remove('id')"
   ]
  },
  {
   "cell_type": "code",
   "execution_count": 9,
   "id": "110eaccc",
   "metadata": {
    "execution": {
     "iopub.execute_input": "2024-11-05T06:44:34.158979Z",
     "iopub.status.busy": "2024-11-05T06:44:34.158537Z",
     "iopub.status.idle": "2024-11-05T06:44:34.249662Z",
     "shell.execute_reply": "2024-11-05T06:44:34.248387Z"
    },
    "papermill": {
     "duration": 0.102876,
     "end_time": "2024-11-05T06:44:34.252223",
     "exception": false,
     "start_time": "2024-11-05T06:44:34.149347",
     "status": "completed"
    },
    "tags": []
   },
   "outputs": [
    {
     "name": "stdout",
     "output_type": "stream",
     "text": [
      "422\n",
      "422\n"
     ]
    }
   ],
   "source": [
    "print(train['Name'].nunique())\n",
    "train['Name'] = train['Name'].str.rstrip(' ')\n",
    "train['Name'] = train['Name'].str.lstrip(' ')\n",
    "print(train['Name'].nunique())"
   ]
  },
  {
   "cell_type": "code",
   "execution_count": 10,
   "id": "26cb46ed",
   "metadata": {
    "execution": {
     "iopub.execute_input": "2024-11-05T06:44:34.269661Z",
     "iopub.status.busy": "2024-11-05T06:44:34.269271Z",
     "iopub.status.idle": "2024-11-05T06:44:34.289447Z",
     "shell.execute_reply": "2024-11-05T06:44:34.288103Z"
    },
    "papermill": {
     "duration": 0.031705,
     "end_time": "2024-11-05T06:44:34.291806",
     "exception": false,
     "start_time": "2024-11-05T06:44:34.260101",
     "status": "completed"
    },
    "tags": []
   },
   "outputs": [
    {
     "data": {
      "text/plain": [
       "Index(['Rupika', 'Aaransh', 'Ijra', 'Aikash', 'Anishi', 'Aaranya', 'Anar',\n",
       "       'Parha', 'Srinagar', 'Vidha',\n",
       "       ...\n",
       "       'Aariket', 'Aarat', 'Vohi', 'Vavya', 'Ishaam', 'Anhil', 'Rieta',\n",
       "       'Zahra', 'Jathesh', 'Aarun'],\n",
       "      dtype='object', name='Name', length=178)"
      ]
     },
     "execution_count": 10,
     "metadata": {},
     "output_type": "execute_result"
    }
   ],
   "source": [
    "nns = train.Name.value_counts()\n",
    "nns = nns.loc[nns<2]\n",
    "nns.index"
   ]
  },
  {
   "cell_type": "code",
   "execution_count": 11,
   "id": "703b6ab6",
   "metadata": {
    "execution": {
     "iopub.execute_input": "2024-11-05T06:44:34.309647Z",
     "iopub.status.busy": "2024-11-05T06:44:34.309197Z",
     "iopub.status.idle": "2024-11-05T06:44:34.343239Z",
     "shell.execute_reply": "2024-11-05T06:44:34.342086Z"
    },
    "papermill": {
     "duration": 0.046002,
     "end_time": "2024-11-05T06:44:34.345684",
     "exception": false,
     "start_time": "2024-11-05T06:44:34.299682",
     "status": "completed"
    },
    "tags": []
   },
   "outputs": [
    {
     "data": {
      "text/plain": [
       "245"
      ]
     },
     "execution_count": 11,
     "metadata": {},
     "output_type": "execute_result"
    }
   ],
   "source": [
    "train.loc[train.index[train.Name.isin(nns.index)],'Name'] ='rare'\n",
    "train.Name.nunique()"
   ]
  },
  {
   "cell_type": "code",
   "execution_count": 12,
   "id": "74efb354",
   "metadata": {
    "execution": {
     "iopub.execute_input": "2024-11-05T06:44:34.363532Z",
     "iopub.status.busy": "2024-11-05T06:44:34.363044Z",
     "iopub.status.idle": "2024-11-05T06:44:34.380417Z",
     "shell.execute_reply": "2024-11-05T06:44:34.379235Z"
    },
    "papermill": {
     "duration": 0.029317,
     "end_time": "2024-11-05T06:44:34.383079",
     "exception": false,
     "start_time": "2024-11-05T06:44:34.353762",
     "status": "completed"
    },
    "tags": []
   },
   "outputs": [
    {
     "data": {
      "text/plain": [
       "245"
      ]
     },
     "execution_count": 12,
     "metadata": {},
     "output_type": "execute_result"
    }
   ],
   "source": [
    "train.Name.nunique()"
   ]
  },
  {
   "cell_type": "code",
   "execution_count": 13,
   "id": "79928d17",
   "metadata": {
    "execution": {
     "iopub.execute_input": "2024-11-05T06:44:34.401920Z",
     "iopub.status.busy": "2024-11-05T06:44:34.401159Z",
     "iopub.status.idle": "2024-11-05T06:44:35.232942Z",
     "shell.execute_reply": "2024-11-05T06:44:35.231790Z"
    },
    "papermill": {
     "duration": 0.84418,
     "end_time": "2024-11-05T06:44:35.235794",
     "exception": false,
     "start_time": "2024-11-05T06:44:34.391614",
     "status": "completed"
    },
    "tags": []
   },
   "outputs": [],
   "source": [
    "oe = OE( handle_unknown = 'use_encoded_value', unknown_value= -1, encoded_missing_value= -2)\n",
    "oe.fit(train[CAT_COLS])\n",
    "train[CAT_COLS] = oe.transform(train[CAT_COLS])\n",
    "test[CAT_COLS] = oe.transform(test[CAT_COLS])"
   ]
  },
  {
   "cell_type": "code",
   "execution_count": 14,
   "id": "c4332f98",
   "metadata": {
    "execution": {
     "iopub.execute_input": "2024-11-05T06:44:35.254005Z",
     "iopub.status.busy": "2024-11-05T06:44:35.253585Z",
     "iopub.status.idle": "2024-11-05T06:44:35.285611Z",
     "shell.execute_reply": "2024-11-05T06:44:35.284329Z"
    },
    "papermill": {
     "duration": 0.044588,
     "end_time": "2024-11-05T06:44:35.288601",
     "exception": false,
     "start_time": "2024-11-05T06:44:35.244013",
     "status": "completed"
    },
    "tags": []
   },
   "outputs": [
    {
     "name": "stdout",
     "output_type": "stream",
     "text": [
      "Name:  0 0\n",
      "Gender:  0 0\n",
      "City:  0 0\n",
      "Working Professional or Student:  0 0\n",
      "Profession:  0 0\n",
      "Sleep Duration:  0 0\n",
      "Dietary Habits:  0 0\n",
      "Degree:  0 0\n",
      "Have you ever had suicidal thoughts ?:  0 0\n",
      "Family History of Mental Illness:  0 0\n"
     ]
    }
   ],
   "source": [
    "for i in CAT_COLS:\n",
    "    train[i] = train[i].astype(np.int64) + 2   \n",
    "    test[i] = test[i].astype(np.int64) + 2\n",
    "    print(f\"{i}: \",train[i].isna().sum(),test[i].isna().sum())"
   ]
  },
  {
   "cell_type": "code",
   "execution_count": 15,
   "id": "a444b436",
   "metadata": {
    "execution": {
     "iopub.execute_input": "2024-11-05T06:44:35.306834Z",
     "iopub.status.busy": "2024-11-05T06:44:35.306422Z",
     "iopub.status.idle": "2024-11-05T06:44:35.311095Z",
     "shell.execute_reply": "2024-11-05T06:44:35.309972Z"
    },
    "papermill": {
     "duration": 0.016483,
     "end_time": "2024-11-05T06:44:35.313299",
     "exception": false,
     "start_time": "2024-11-05T06:44:35.296816",
     "status": "completed"
    },
    "tags": []
   },
   "outputs": [],
   "source": [
    "# for i in NUM_COLS:\n",
    "#     if train[i].isna().sum() >0 :\n",
    "#         train[i] = train[i].fillna(np.mean(train[i]))\n",
    "#         test[i] = test[i].fillna(np.mean(test[i]))                           \n",
    "#         print(f\"{i}: \",train[i].isna().sum(),test[i].isna().sum())"
   ]
  },
  {
   "cell_type": "code",
   "execution_count": 16,
   "id": "0718f1eb",
   "metadata": {
    "execution": {
     "iopub.execute_input": "2024-11-05T06:44:35.331353Z",
     "iopub.status.busy": "2024-11-05T06:44:35.330773Z",
     "iopub.status.idle": "2024-11-05T06:44:35.346013Z",
     "shell.execute_reply": "2024-11-05T06:44:35.344691Z"
    },
    "papermill": {
     "duration": 0.027246,
     "end_time": "2024-11-05T06:44:35.348648",
     "exception": false,
     "start_time": "2024-11-05T06:44:35.321402",
     "status": "completed"
    },
    "tags": []
   },
   "outputs": [
    {
     "name": "stdout",
     "output_type": "stream",
     "text": [
      "<class 'pandas.core.frame.DataFrame'>\n",
      "RangeIndex: 140700 entries, 0 to 140699\n",
      "Data columns (total 20 columns):\n",
      " #   Column                                 Non-Null Count   Dtype  \n",
      "---  ------                                 --------------   -----  \n",
      " 0   id                                     140700 non-null  int64  \n",
      " 1   Name                                   140700 non-null  int64  \n",
      " 2   Gender                                 140700 non-null  int64  \n",
      " 3   Age                                    140700 non-null  float64\n",
      " 4   City                                   140700 non-null  int64  \n",
      " 5   Working Professional or Student        140700 non-null  int64  \n",
      " 6   Profession                             140700 non-null  int64  \n",
      " 7   Academic Pressure                      27897 non-null   float64\n",
      " 8   Work Pressure                          112782 non-null  float64\n",
      " 9   CGPA                                   27898 non-null   float64\n",
      " 10  Study Satisfaction                     27897 non-null   float64\n",
      " 11  Job Satisfaction                       112790 non-null  float64\n",
      " 12  Sleep Duration                         140700 non-null  int64  \n",
      " 13  Dietary Habits                         140700 non-null  int64  \n",
      " 14  Degree                                 140700 non-null  int64  \n",
      " 15  Have you ever had suicidal thoughts ?  140700 non-null  int64  \n",
      " 16  Work/Study Hours                       140700 non-null  float64\n",
      " 17  Financial Stress                       140696 non-null  float64\n",
      " 18  Family History of Mental Illness       140700 non-null  int64  \n",
      " 19  Depression                             140700 non-null  int64  \n",
      "dtypes: float64(8), int64(12)\n",
      "memory usage: 21.5 MB\n"
     ]
    }
   ],
   "source": [
    "train.info()\n",
    "#great, encoding fixed all by 6 columns of nulls"
   ]
  },
  {
   "cell_type": "code",
   "execution_count": 17,
   "id": "fa953430",
   "metadata": {
    "execution": {
     "iopub.execute_input": "2024-11-05T06:44:35.367689Z",
     "iopub.status.busy": "2024-11-05T06:44:35.367269Z",
     "iopub.status.idle": "2024-11-05T06:44:35.382925Z",
     "shell.execute_reply": "2024-11-05T06:44:35.381787Z"
    },
    "papermill": {
     "duration": 0.028468,
     "end_time": "2024-11-05T06:44:35.385804",
     "exception": false,
     "start_time": "2024-11-05T06:44:35.357336",
     "status": "completed"
    },
    "tags": []
   },
   "outputs": [
    {
     "name": "stdout",
     "output_type": "stream",
     "text": [
      "<class 'pandas.core.frame.DataFrame'>\n",
      "RangeIndex: 93800 entries, 0 to 93799\n",
      "Data columns (total 19 columns):\n",
      " #   Column                                 Non-Null Count  Dtype  \n",
      "---  ------                                 --------------  -----  \n",
      " 0   id                                     93800 non-null  int64  \n",
      " 1   Name                                   93800 non-null  int64  \n",
      " 2   Gender                                 93800 non-null  int64  \n",
      " 3   Age                                    93800 non-null  float64\n",
      " 4   City                                   93800 non-null  int64  \n",
      " 5   Working Professional or Student        93800 non-null  int64  \n",
      " 6   Profession                             93800 non-null  int64  \n",
      " 7   Academic Pressure                      18767 non-null  float64\n",
      " 8   Work Pressure                          75022 non-null  float64\n",
      " 9   CGPA                                   18766 non-null  float64\n",
      " 10  Study Satisfaction                     18767 non-null  float64\n",
      " 11  Job Satisfaction                       75026 non-null  float64\n",
      " 12  Sleep Duration                         93800 non-null  int64  \n",
      " 13  Dietary Habits                         93800 non-null  int64  \n",
      " 14  Degree                                 93800 non-null  int64  \n",
      " 15  Have you ever had suicidal thoughts ?  93800 non-null  int64  \n",
      " 16  Work/Study Hours                       93800 non-null  float64\n",
      " 17  Financial Stress                       93800 non-null  float64\n",
      " 18  Family History of Mental Illness       93800 non-null  int64  \n",
      "dtypes: float64(8), int64(11)\n",
      "memory usage: 13.6 MB\n"
     ]
    }
   ],
   "source": [
    "test.info() #even better, only 5 test columns now have nulls"
   ]
  },
  {
   "cell_type": "code",
   "execution_count": 18,
   "id": "3398ab20",
   "metadata": {
    "execution": {
     "iopub.execute_input": "2024-11-05T06:44:35.404990Z",
     "iopub.status.busy": "2024-11-05T06:44:35.404554Z",
     "iopub.status.idle": "2024-11-05T06:44:35.419198Z",
     "shell.execute_reply": "2024-11-05T06:44:35.418156Z"
    },
    "papermill": {
     "duration": 0.026913,
     "end_time": "2024-11-05T06:44:35.421604",
     "exception": false,
     "start_time": "2024-11-05T06:44:35.394691",
     "status": "completed"
    },
    "tags": []
   },
   "outputs": [
    {
     "data": {
      "text/plain": [
       "(0, 245, 245)"
      ]
     },
     "execution_count": 18,
     "metadata": {},
     "output_type": "execute_result"
    }
   ],
   "source": [
    "nns = train.Name.value_counts()\n",
    "len(nns.loc[nns<2]), train.Name.nunique() ,train.Name.nunique()  - len(nns.loc[nns<2])"
   ]
  },
  {
   "cell_type": "code",
   "execution_count": 19,
   "id": "8bbfd8a7",
   "metadata": {
    "execution": {
     "iopub.execute_input": "2024-11-05T06:44:35.440300Z",
     "iopub.status.busy": "2024-11-05T06:44:35.439856Z",
     "iopub.status.idle": "2024-11-05T06:44:35.450400Z",
     "shell.execute_reply": "2024-11-05T06:44:35.449141Z"
    },
    "papermill": {
     "duration": 0.022861,
     "end_time": "2024-11-05T06:44:35.452964",
     "exception": false,
     "start_time": "2024-11-05T06:44:35.430103",
     "status": "completed"
    },
    "tags": []
   },
   "outputs": [
    {
     "data": {
      "text/plain": [
       "{0: 0.8182871357498224, 1: 0.18171286425017769}"
      ]
     },
     "execution_count": 19,
     "metadata": {},
     "output_type": "execute_result"
    }
   ],
   "source": [
    "BOTH = CAT_COLS + NUM_COLS\n",
    "\n",
    "sts = train[TARGET].value_counts()\n",
    "sts[0] / sts.sum(), sts[1]/sts.sum()\n",
    "wts = {0:0.8182871357498224, 1:0.18171286425017769}\n",
    "wts"
   ]
  },
  {
   "cell_type": "code",
   "execution_count": 20,
   "id": "89e12adb",
   "metadata": {
    "execution": {
     "iopub.execute_input": "2024-11-05T06:44:35.471955Z",
     "iopub.status.busy": "2024-11-05T06:44:35.471539Z",
     "iopub.status.idle": "2024-11-05T06:44:35.510711Z",
     "shell.execute_reply": "2024-11-05T06:44:35.509662Z"
    },
    "papermill": {
     "duration": 0.05174,
     "end_time": "2024-11-05T06:44:35.513394",
     "exception": false,
     "start_time": "2024-11-05T06:44:35.461654",
     "status": "completed"
    },
    "tags": []
   },
   "outputs": [
    {
     "data": {
      "text/html": [
       "<div>\n",
       "<style scoped>\n",
       "    .dataframe tbody tr th:only-of-type {\n",
       "        vertical-align: middle;\n",
       "    }\n",
       "\n",
       "    .dataframe tbody tr th {\n",
       "        vertical-align: top;\n",
       "    }\n",
       "\n",
       "    .dataframe thead th {\n",
       "        text-align: right;\n",
       "    }\n",
       "</style>\n",
       "<table border=\"1\" class=\"dataframe\">\n",
       "  <thead>\n",
       "    <tr style=\"text-align: right;\">\n",
       "      <th></th>\n",
       "      <th>id</th>\n",
       "      <th>Name</th>\n",
       "      <th>Gender</th>\n",
       "      <th>Age</th>\n",
       "      <th>City</th>\n",
       "      <th>Working Professional or Student</th>\n",
       "      <th>Profession</th>\n",
       "      <th>Academic Pressure</th>\n",
       "      <th>Work Pressure</th>\n",
       "      <th>CGPA</th>\n",
       "      <th>Study Satisfaction</th>\n",
       "      <th>Job Satisfaction</th>\n",
       "      <th>Sleep Duration</th>\n",
       "      <th>Dietary Habits</th>\n",
       "      <th>Degree</th>\n",
       "      <th>Have you ever had suicidal thoughts ?</th>\n",
       "      <th>Work/Study Hours</th>\n",
       "      <th>Financial Stress</th>\n",
       "      <th>Family History of Mental Illness</th>\n",
       "      <th>Depression</th>\n",
       "    </tr>\n",
       "  </thead>\n",
       "  <tbody>\n",
       "    <tr>\n",
       "      <th>0</th>\n",
       "      <td>99415</td>\n",
       "      <td>145</td>\n",
       "      <td>2</td>\n",
       "      <td>27.0</td>\n",
       "      <td>88</td>\n",
       "      <td>2</td>\n",
       "      <td>0</td>\n",
       "      <td>2.0</td>\n",
       "      <td>NaN</td>\n",
       "      <td>6.78</td>\n",
       "      <td>5.0</td>\n",
       "      <td>NaN</td>\n",
       "      <td>17</td>\n",
       "      <td>17</td>\n",
       "      <td>32</td>\n",
       "      <td>3</td>\n",
       "      <td>9.0</td>\n",
       "      <td>5.0</td>\n",
       "      <td>3</td>\n",
       "      <td>1</td>\n",
       "    </tr>\n",
       "    <tr>\n",
       "      <th>1</th>\n",
       "      <td>20918</td>\n",
       "      <td>95</td>\n",
       "      <td>3</td>\n",
       "      <td>24.0</td>\n",
       "      <td>19</td>\n",
       "      <td>3</td>\n",
       "      <td>12</td>\n",
       "      <td>NaN</td>\n",
       "      <td>1.0</td>\n",
       "      <td>NaN</td>\n",
       "      <td>NaN</td>\n",
       "      <td>5.0</td>\n",
       "      <td>31</td>\n",
       "      <td>9</td>\n",
       "      <td>35</td>\n",
       "      <td>3</td>\n",
       "      <td>11.0</td>\n",
       "      <td>2.0</td>\n",
       "      <td>2</td>\n",
       "      <td>0</td>\n",
       "    </tr>\n",
       "    <tr>\n",
       "      <th>2</th>\n",
       "      <td>122313</td>\n",
       "      <td>190</td>\n",
       "      <td>3</td>\n",
       "      <td>56.0</td>\n",
       "      <td>78</td>\n",
       "      <td>3</td>\n",
       "      <td>35</td>\n",
       "      <td>NaN</td>\n",
       "      <td>1.0</td>\n",
       "      <td>NaN</td>\n",
       "      <td>NaN</td>\n",
       "      <td>2.0</td>\n",
       "      <td>21</td>\n",
       "      <td>17</td>\n",
       "      <td>65</td>\n",
       "      <td>2</td>\n",
       "      <td>7.0</td>\n",
       "      <td>1.0</td>\n",
       "      <td>3</td>\n",
       "      <td>0</td>\n",
       "    </tr>\n",
       "    <tr>\n",
       "      <th>3</th>\n",
       "      <td>68097</td>\n",
       "      <td>233</td>\n",
       "      <td>3</td>\n",
       "      <td>45.0</td>\n",
       "      <td>15</td>\n",
       "      <td>3</td>\n",
       "      <td>13</td>\n",
       "      <td>NaN</td>\n",
       "      <td>4.0</td>\n",
       "      <td>NaN</td>\n",
       "      <td>NaN</td>\n",
       "      <td>1.0</td>\n",
       "      <td>29</td>\n",
       "      <td>9</td>\n",
       "      <td>78</td>\n",
       "      <td>3</td>\n",
       "      <td>3.0</td>\n",
       "      <td>5.0</td>\n",
       "      <td>3</td>\n",
       "      <td>0</td>\n",
       "    </tr>\n",
       "    <tr>\n",
       "      <th>4</th>\n",
       "      <td>15457</td>\n",
       "      <td>231</td>\n",
       "      <td>2</td>\n",
       "      <td>27.0</td>\n",
       "      <td>35</td>\n",
       "      <td>2</td>\n",
       "      <td>0</td>\n",
       "      <td>5.0</td>\n",
       "      <td>NaN</td>\n",
       "      <td>7.10</td>\n",
       "      <td>2.0</td>\n",
       "      <td>NaN</td>\n",
       "      <td>17</td>\n",
       "      <td>22</td>\n",
       "      <td>35</td>\n",
       "      <td>3</td>\n",
       "      <td>2.0</td>\n",
       "      <td>2.0</td>\n",
       "      <td>2</td>\n",
       "      <td>1</td>\n",
       "    </tr>\n",
       "  </tbody>\n",
       "</table>\n",
       "</div>"
      ],
      "text/plain": [
       "       id  Name  Gender   Age  City  Working Professional or Student  \\\n",
       "0   99415   145       2  27.0    88                                2   \n",
       "1   20918    95       3  24.0    19                                3   \n",
       "2  122313   190       3  56.0    78                                3   \n",
       "3   68097   233       3  45.0    15                                3   \n",
       "4   15457   231       2  27.0    35                                2   \n",
       "\n",
       "   Profession  Academic Pressure  Work Pressure  CGPA  Study Satisfaction  \\\n",
       "0           0                2.0            NaN  6.78                 5.0   \n",
       "1          12                NaN            1.0   NaN                 NaN   \n",
       "2          35                NaN            1.0   NaN                 NaN   \n",
       "3          13                NaN            4.0   NaN                 NaN   \n",
       "4           0                5.0            NaN  7.10                 2.0   \n",
       "\n",
       "   Job Satisfaction  Sleep Duration  Dietary Habits  Degree  \\\n",
       "0               NaN              17              17      32   \n",
       "1               5.0              31               9      35   \n",
       "2               2.0              21              17      65   \n",
       "3               1.0              29               9      78   \n",
       "4               NaN              17              22      35   \n",
       "\n",
       "   Have you ever had suicidal thoughts ?  Work/Study Hours  Financial Stress  \\\n",
       "0                                      3               9.0               5.0   \n",
       "1                                      3              11.0               2.0   \n",
       "2                                      2               7.0               1.0   \n",
       "3                                      3               3.0               5.0   \n",
       "4                                      3               2.0               2.0   \n",
       "\n",
       "   Family History of Mental Illness  Depression  \n",
       "0                                 3           1  \n",
       "1                                 2           0  \n",
       "2                                 3           0  \n",
       "3                                 3           0  \n",
       "4                                 2           1  "
      ]
     },
     "execution_count": 20,
     "metadata": {},
     "output_type": "execute_result"
    }
   ],
   "source": [
    "trainsmall = train.sample(51000)\n",
    "trainsmall.reset_index(inplace=True,drop=True)\n",
    "trainsmall.head()"
   ]
  },
  {
   "cell_type": "code",
   "execution_count": 21,
   "id": "b8b933ee",
   "metadata": {
    "execution": {
     "iopub.execute_input": "2024-11-05T06:44:35.533856Z",
     "iopub.status.busy": "2024-11-05T06:44:35.533435Z",
     "iopub.status.idle": "2024-11-05T06:51:08.940134Z",
     "shell.execute_reply": "2024-11-05T06:51:08.938786Z"
    },
    "papermill": {
     "duration": 393.419792,
     "end_time": "2024-11-05T06:51:08.942738",
     "exception": false,
     "start_time": "2024-11-05T06:44:35.522946",
     "status": "completed"
    },
    "tags": []
   },
   "outputs": [
    {
     "name": "stderr",
     "output_type": "stream",
     "text": [
      "[I 2024-11-05 06:44:35,541] A new study created in memory with name: no-name-5a7ae698-6a56-47c6-af3f-8d787a8cea40\n",
      "[I 2024-11-05 06:44:36,728] Trial 0 finished with value: 0.9232941176470589 and parameters: {'learning_rate': 0.23417151544985698, 'max_leaf_nodes': 21, 'max_depth': 7, 'l2_regularization': 2}. Best is trial 0 with value: 0.9232941176470589.\n"
     ]
    },
    {
     "name": "stdout",
     "output_type": "stream",
     "text": [
      "0: 0.9232941176470589\n"
     ]
    },
    {
     "name": "stderr",
     "output_type": "stream",
     "text": [
      "[I 2024-11-05 06:44:38,189] Trial 1 finished with value: 0.9238627450980391 and parameters: {'learning_rate': 0.20118056937676398, 'max_leaf_nodes': 67, 'max_depth': 7, 'l2_regularization': 0}. Best is trial 1 with value: 0.9238627450980391.\n"
     ]
    },
    {
     "name": "stdout",
     "output_type": "stream",
     "text": [
      "1: 0.9238627450980391\n"
     ]
    },
    {
     "name": "stderr",
     "output_type": "stream",
     "text": [
      "[I 2024-11-05 06:44:39,701] Trial 2 finished with value: 0.9259019607843136 and parameters: {'learning_rate': 0.24260571493621247, 'max_leaf_nodes': 43, 'max_depth': 10, 'l2_regularization': 10}. Best is trial 2 with value: 0.9259019607843136.\n"
     ]
    },
    {
     "name": "stdout",
     "output_type": "stream",
     "text": [
      "2: 0.9259019607843136\n"
     ]
    },
    {
     "name": "stderr",
     "output_type": "stream",
     "text": [
      "[I 2024-11-05 06:44:41,191] Trial 3 finished with value: 0.9240588235294118 and parameters: {'learning_rate': 0.20263572791466952, 'max_leaf_nodes': 22, 'max_depth': 12, 'l2_regularization': 16}. Best is trial 2 with value: 0.9259019607843136.\n"
     ]
    },
    {
     "name": "stdout",
     "output_type": "stream",
     "text": [
      "3: 0.9240588235294118\n"
     ]
    },
    {
     "name": "stderr",
     "output_type": "stream",
     "text": [
      "[I 2024-11-05 06:44:45,008] Trial 4 finished with value: 0.9223529411764705 and parameters: {'learning_rate': 0.0868898392927274, 'max_leaf_nodes': 46, 'max_depth': 12, 'l2_regularization': 30}. Best is trial 2 with value: 0.9259019607843136.\n"
     ]
    },
    {
     "name": "stdout",
     "output_type": "stream",
     "text": [
      "4: 0.9223529411764705\n"
     ]
    },
    {
     "name": "stderr",
     "output_type": "stream",
     "text": [
      "[I 2024-11-05 06:44:47,143] Trial 5 finished with value: 0.9235490196078432 and parameters: {'learning_rate': 0.15628995506673718, 'max_leaf_nodes': 34, 'max_depth': 11, 'l2_regularization': 25}. Best is trial 2 with value: 0.9259019607843136.\n"
     ]
    },
    {
     "name": "stdout",
     "output_type": "stream",
     "text": [
      "5: 0.9235490196078432\n"
     ]
    },
    {
     "name": "stderr",
     "output_type": "stream",
     "text": [
      "[I 2024-11-05 06:44:48,842] Trial 6 finished with value: 0.9253921568627451 and parameters: {'learning_rate': 0.17834446821485578, 'max_leaf_nodes': 34, 'max_depth': 11, 'l2_regularization': 6}. Best is trial 2 with value: 0.9259019607843136.\n"
     ]
    },
    {
     "name": "stdout",
     "output_type": "stream",
     "text": [
      "6: 0.9253921568627451\n"
     ]
    },
    {
     "name": "stderr",
     "output_type": "stream",
     "text": [
      "[I 2024-11-05 06:44:50,136] Trial 7 finished with value: 0.9239803921568628 and parameters: {'learning_rate': 0.24897034688500685, 'max_leaf_nodes': 35, 'max_depth': 10, 'l2_regularization': 8}. Best is trial 2 with value: 0.9259019607843136.\n"
     ]
    },
    {
     "name": "stdout",
     "output_type": "stream",
     "text": [
      "7: 0.9239803921568628\n"
     ]
    },
    {
     "name": "stderr",
     "output_type": "stream",
     "text": [
      "[I 2024-11-05 06:44:51,716] Trial 8 finished with value: 0.9242156862745098 and parameters: {'learning_rate': 0.2251514614810553, 'max_leaf_nodes': 40, 'max_depth': 12, 'l2_regularization': 16}. Best is trial 2 with value: 0.9259019607843136.\n"
     ]
    },
    {
     "name": "stdout",
     "output_type": "stream",
     "text": [
      "8: 0.9242156862745098\n"
     ]
    },
    {
     "name": "stderr",
     "output_type": "stream",
     "text": [
      "[I 2024-11-05 06:44:53,474] Trial 9 finished with value: 0.9254509803921568 and parameters: {'learning_rate': 0.13388323835994317, 'max_leaf_nodes': 35, 'max_depth': 8, 'l2_regularization': 4}. Best is trial 2 with value: 0.9259019607843136.\n"
     ]
    },
    {
     "name": "stdout",
     "output_type": "stream",
     "text": [
      "9: 0.9254509803921568\n"
     ]
    },
    {
     "name": "stderr",
     "output_type": "stream",
     "text": [
      "[I 2024-11-05 06:44:56,517] Trial 10 finished with value: 0.926470588235294 and parameters: {'learning_rate': 0.11100673837973582, 'max_leaf_nodes': 54, 'max_depth': 9, 'l2_regularization': 12}. Best is trial 10 with value: 0.926470588235294.\n"
     ]
    },
    {
     "name": "stdout",
     "output_type": "stream",
     "text": [
      "10: 0.926470588235294\n"
     ]
    },
    {
     "name": "stderr",
     "output_type": "stream",
     "text": [
      "[I 2024-11-05 06:44:59,484] Trial 11 finished with value: 0.9248039215686275 and parameters: {'learning_rate': 0.10143710458092872, 'max_leaf_nodes': 55, 'max_depth': 9, 'l2_regularization': 11}. Best is trial 10 with value: 0.926470588235294.\n"
     ]
    },
    {
     "name": "stdout",
     "output_type": "stream",
     "text": [
      "11: 0.9248039215686275\n"
     ]
    },
    {
     "name": "stderr",
     "output_type": "stream",
     "text": [
      "[I 2024-11-05 06:45:02,376] Trial 12 finished with value: 0.9243137254901961 and parameters: {'learning_rate': 0.12394989486597333, 'max_leaf_nodes': 54, 'max_depth': 9, 'l2_regularization': 12}. Best is trial 10 with value: 0.926470588235294.\n"
     ]
    },
    {
     "name": "stdout",
     "output_type": "stream",
     "text": [
      "12: 0.9243137254901961\n"
     ]
    },
    {
     "name": "stderr",
     "output_type": "stream",
     "text": [
      "[I 2024-11-05 06:45:04,700] Trial 13 finished with value: 0.9232156862745099 and parameters: {'learning_rate': 0.15768441845728984, 'max_leaf_nodes': 54, 'max_depth': 10, 'l2_regularization': 21}. Best is trial 10 with value: 0.926470588235294.\n"
     ]
    },
    {
     "name": "stdout",
     "output_type": "stream",
     "text": [
      "13: 0.9232156862745099\n"
     ]
    },
    {
     "name": "stderr",
     "output_type": "stream",
     "text": [
      "[I 2024-11-05 06:45:07,404] Trial 14 finished with value: 0.9234313725490196 and parameters: {'learning_rate': 0.13330574485428184, 'max_leaf_nodes': 65, 'max_depth': 8, 'l2_regularization': 20}. Best is trial 10 with value: 0.926470588235294.\n"
     ]
    },
    {
     "name": "stdout",
     "output_type": "stream",
     "text": [
      "14: 0.9234313725490196\n"
     ]
    },
    {
     "name": "stderr",
     "output_type": "stream",
     "text": [
      "[I 2024-11-05 06:45:10,103] Trial 15 finished with value: 0.9252941176470588 and parameters: {'learning_rate': 0.11038638184893143, 'max_leaf_nodes': 48, 'max_depth': 9, 'l2_regularization': 10}. Best is trial 10 with value: 0.926470588235294.\n"
     ]
    },
    {
     "name": "stdout",
     "output_type": "stream",
     "text": [
      "15: 0.9252941176470588\n"
     ]
    },
    {
     "name": "stderr",
     "output_type": "stream",
     "text": [
      "[I 2024-11-05 06:45:12,295] Trial 16 finished with value: 0.9255098039215687 and parameters: {'learning_rate': 0.17752413219025007, 'max_leaf_nodes': 60, 'max_depth': 10, 'l2_regularization': 14}. Best is trial 10 with value: 0.926470588235294.\n"
     ]
    },
    {
     "name": "stdout",
     "output_type": "stream",
     "text": [
      "16: 0.9255098039215687\n"
     ]
    },
    {
     "name": "stderr",
     "output_type": "stream",
     "text": [
      "[I 2024-11-05 06:45:15,097] Trial 17 finished with value: 0.9242745098039215 and parameters: {'learning_rate': 0.08304602543146408, 'max_leaf_nodes': 41, 'max_depth': 8, 'l2_regularization': 7}. Best is trial 10 with value: 0.926470588235294.\n"
     ]
    },
    {
     "name": "stdout",
     "output_type": "stream",
     "text": [
      "17: 0.9242745098039215\n"
     ]
    },
    {
     "name": "stderr",
     "output_type": "stream",
     "text": [
      "[I 2024-11-05 06:45:16,890] Trial 18 finished with value: 0.9233333333333333 and parameters: {'learning_rate': 0.2068537257924168, 'max_leaf_nodes': 50, 'max_depth': 11, 'l2_regularization': 19}. Best is trial 10 with value: 0.926470588235294.\n"
     ]
    },
    {
     "name": "stdout",
     "output_type": "stream",
     "text": [
      "18: 0.9233333333333333\n"
     ]
    },
    {
     "name": "stderr",
     "output_type": "stream",
     "text": [
      "[I 2024-11-05 06:45:18,810] Trial 19 finished with value: 0.9234313725490196 and parameters: {'learning_rate': 0.14581289136700934, 'max_leaf_nodes': 27, 'max_depth': 9, 'l2_regularization': 14}. Best is trial 10 with value: 0.926470588235294.\n"
     ]
    },
    {
     "name": "stdout",
     "output_type": "stream",
     "text": [
      "19: 0.9234313725490196\n"
     ]
    },
    {
     "name": "stderr",
     "output_type": "stream",
     "text": [
      "[I 2024-11-05 06:45:21,169] Trial 20 finished with value: 0.9231960784313725 and parameters: {'learning_rate': 0.17852123105997694, 'max_leaf_nodes': 61, 'max_depth': 10, 'l2_regularization': 25}. Best is trial 10 with value: 0.926470588235294.\n"
     ]
    },
    {
     "name": "stdout",
     "output_type": "stream",
     "text": [
      "20: 0.9231960784313725\n"
     ]
    },
    {
     "name": "stderr",
     "output_type": "stream",
     "text": [
      "[I 2024-11-05 06:45:23,296] Trial 21 finished with value: 0.925235294117647 and parameters: {'learning_rate': 0.1791924128433307, 'max_leaf_nodes': 61, 'max_depth': 10, 'l2_regularization': 13}. Best is trial 10 with value: 0.926470588235294.\n"
     ]
    },
    {
     "name": "stdout",
     "output_type": "stream",
     "text": [
      "21: 0.925235294117647\n"
     ]
    },
    {
     "name": "stderr",
     "output_type": "stream",
     "text": [
      "[I 2024-11-05 06:45:25,309] Trial 22 finished with value: 0.9262156862745098 and parameters: {'learning_rate': 0.2209146164885336, 'max_leaf_nodes': 60, 'max_depth': 11, 'l2_regularization': 10}. Best is trial 10 with value: 0.926470588235294.\n"
     ]
    },
    {
     "name": "stdout",
     "output_type": "stream",
     "text": [
      "22: 0.9262156862745098\n"
     ]
    },
    {
     "name": "stderr",
     "output_type": "stream",
     "text": [
      "[I 2024-11-05 06:45:27,169] Trial 23 finished with value: 0.9261176470588235 and parameters: {'learning_rate': 0.24886678632126566, 'max_leaf_nodes': 70, 'max_depth': 11, 'l2_regularization': 10}. Best is trial 10 with value: 0.926470588235294.\n"
     ]
    },
    {
     "name": "stdout",
     "output_type": "stream",
     "text": [
      "23: 0.9261176470588235\n"
     ]
    },
    {
     "name": "stderr",
     "output_type": "stream",
     "text": [
      "[I 2024-11-05 06:45:28,963] Trial 24 finished with value: 0.9252156862745098 and parameters: {'learning_rate': 0.22119186864860443, 'max_leaf_nodes': 70, 'max_depth': 11, 'l2_regularization': 5}. Best is trial 10 with value: 0.926470588235294.\n"
     ]
    },
    {
     "name": "stdout",
     "output_type": "stream",
     "text": [
      "24: 0.9252156862745098\n"
     ]
    },
    {
     "name": "stderr",
     "output_type": "stream",
     "text": [
      "[I 2024-11-05 06:45:30,823] Trial 25 finished with value: 0.9267254901960783 and parameters: {'learning_rate': 0.22059451419786688, 'max_leaf_nodes': 70, 'max_depth': 11, 'l2_regularization': 8}. Best is trial 25 with value: 0.9267254901960783.\n"
     ]
    },
    {
     "name": "stdout",
     "output_type": "stream",
     "text": [
      "25: 0.9267254901960783\n"
     ]
    },
    {
     "name": "stderr",
     "output_type": "stream",
     "text": [
      "[I 2024-11-05 06:45:32,557] Trial 26 finished with value: 0.9246274509803921 and parameters: {'learning_rate': 0.21547564583173853, 'max_leaf_nodes': 58, 'max_depth': 12, 'l2_regularization': 3}. Best is trial 25 with value: 0.9267254901960783.\n"
     ]
    },
    {
     "name": "stdout",
     "output_type": "stream",
     "text": [
      "26: 0.9246274509803921\n"
     ]
    },
    {
     "name": "stderr",
     "output_type": "stream",
     "text": [
      "[I 2024-11-05 06:45:34,663] Trial 27 finished with value: 0.9260588235294117 and parameters: {'learning_rate': 0.19849181492367843, 'max_leaf_nodes': 65, 'max_depth': 11, 'l2_regularization': 8}. Best is trial 25 with value: 0.9267254901960783.\n"
     ]
    },
    {
     "name": "stdout",
     "output_type": "stream",
     "text": [
      "27: 0.9260588235294117\n"
     ]
    },
    {
     "name": "stderr",
     "output_type": "stream",
     "text": [
      "[I 2024-11-05 06:45:36,591] Trial 28 finished with value: 0.9248627450980392 and parameters: {'learning_rate': 0.18724305524401424, 'max_leaf_nodes': 51, 'max_depth': 9, 'l2_regularization': 9}. Best is trial 25 with value: 0.9267254901960783.\n"
     ]
    },
    {
     "name": "stdout",
     "output_type": "stream",
     "text": [
      "28: 0.9248627450980392\n"
     ]
    },
    {
     "name": "stderr",
     "output_type": "stream",
     "text": [
      "[I 2024-11-05 06:45:37,898] Trial 29 finished with value: 0.9222745098039216 and parameters: {'learning_rate': 0.23114395887206585, 'max_leaf_nodes': 64, 'max_depth': 7, 'l2_regularization': 0}. Best is trial 25 with value: 0.9267254901960783.\n"
     ]
    },
    {
     "name": "stdout",
     "output_type": "stream",
     "text": [
      "29: 0.9222745098039216\n"
     ]
    },
    {
     "name": "stderr",
     "output_type": "stream",
     "text": [
      "[I 2024-11-05 06:45:39,759] Trial 30 finished with value: 0.9252941176470588 and parameters: {'learning_rate': 0.23387701947055237, 'max_leaf_nodes': 57, 'max_depth': 8, 'l2_regularization': 17}. Best is trial 25 with value: 0.9267254901960783.\n"
     ]
    },
    {
     "name": "stdout",
     "output_type": "stream",
     "text": [
      "30: 0.9252941176470588\n"
     ]
    },
    {
     "name": "stderr",
     "output_type": "stream",
     "text": [
      "[I 2024-11-05 06:45:41,922] Trial 31 finished with value: 0.9272549019607843 and parameters: {'learning_rate': 0.24160847169963273, 'max_leaf_nodes': 68, 'max_depth': 11, 'l2_regularization': 12}. Best is trial 31 with value: 0.9272549019607843.\n"
     ]
    },
    {
     "name": "stdout",
     "output_type": "stream",
     "text": [
      "31: 0.9272549019607843\n"
     ]
    },
    {
     "name": "stderr",
     "output_type": "stream",
     "text": [
      "[I 2024-11-05 06:45:44,049] Trial 32 finished with value: 0.9256862745098039 and parameters: {'learning_rate': 0.2196257109772079, 'max_leaf_nodes': 67, 'max_depth': 11, 'l2_regularization': 12}. Best is trial 31 with value: 0.9272549019607843.\n"
     ]
    },
    {
     "name": "stdout",
     "output_type": "stream",
     "text": [
      "32: 0.9256862745098039\n"
     ]
    },
    {
     "name": "stderr",
     "output_type": "stream",
     "text": [
      "[I 2024-11-05 06:45:45,756] Trial 33 finished with value: 0.9253921568627451 and parameters: {'learning_rate': 0.2384088396912415, 'max_leaf_nodes': 63, 'max_depth': 12, 'l2_regularization': 6}. Best is trial 31 with value: 0.9272549019607843.\n"
     ]
    },
    {
     "name": "stdout",
     "output_type": "stream",
     "text": [
      "33: 0.9253921568627451\n"
     ]
    },
    {
     "name": "stderr",
     "output_type": "stream",
     "text": [
      "[I 2024-11-05 06:45:47,937] Trial 34 finished with value: 0.924686274509804 and parameters: {'learning_rate': 0.21157202537030043, 'max_leaf_nodes': 68, 'max_depth': 10, 'l2_regularization': 18}. Best is trial 31 with value: 0.9272549019607843.\n"
     ]
    },
    {
     "name": "stdout",
     "output_type": "stream",
     "text": [
      "34: 0.924686274509804\n"
     ]
    },
    {
     "name": "stderr",
     "output_type": "stream",
     "text": [
      "[I 2024-11-05 06:45:50,044] Trial 35 finished with value: 0.9249607843137255 and parameters: {'learning_rate': 0.191572867889022, 'max_leaf_nodes': 58, 'max_depth': 11, 'l2_regularization': 15}. Best is trial 31 with value: 0.9272549019607843.\n"
     ]
    },
    {
     "name": "stdout",
     "output_type": "stream",
     "text": [
      "35: 0.9249607843137255\n"
     ]
    },
    {
     "name": "stderr",
     "output_type": "stream",
     "text": [
      "[I 2024-11-05 06:45:52,040] Trial 36 finished with value: 0.9263529411764706 and parameters: {'learning_rate': 0.22900104323112394, 'max_leaf_nodes': 67, 'max_depth': 12, 'l2_regularization': 12}. Best is trial 31 with value: 0.9272549019607843.\n"
     ]
    },
    {
     "name": "stdout",
     "output_type": "stream",
     "text": [
      "36: 0.9263529411764706\n"
     ]
    },
    {
     "name": "stderr",
     "output_type": "stream",
     "text": [
      "[I 2024-11-05 06:45:53,968] Trial 37 finished with value: 0.9258039215686273 and parameters: {'learning_rate': 0.23266540942956881, 'max_leaf_nodes': 68, 'max_depth': 12, 'l2_regularization': 12}. Best is trial 31 with value: 0.9272549019607843.\n"
     ]
    },
    {
     "name": "stdout",
     "output_type": "stream",
     "text": [
      "37: 0.9258039215686273\n"
     ]
    },
    {
     "name": "stderr",
     "output_type": "stream",
     "text": [
      "[I 2024-11-05 06:45:55,480] Trial 38 finished with value: 0.9246274509803921 and parameters: {'learning_rate': 0.24219669417881942, 'max_leaf_nodes': 66, 'max_depth': 12, 'l2_regularization': 1}. Best is trial 31 with value: 0.9272549019607843.\n"
     ]
    },
    {
     "name": "stdout",
     "output_type": "stream",
     "text": [
      "38: 0.9246274509803921\n"
     ]
    },
    {
     "name": "stderr",
     "output_type": "stream",
     "text": [
      "[I 2024-11-05 06:45:58,832] Trial 39 finished with value: 0.925921568627451 and parameters: {'learning_rate': 0.0988890819148941, 'max_leaf_nodes': 70, 'max_depth': 12, 'l2_regularization': 8}. Best is trial 31 with value: 0.9272549019607843.\n"
     ]
    },
    {
     "name": "stdout",
     "output_type": "stream",
     "text": [
      "39: 0.925921568627451\n"
     ]
    },
    {
     "name": "stderr",
     "output_type": "stream",
     "text": [
      "[I 2024-11-05 06:46:01,279] Trial 40 finished with value: 0.9261764705882353 and parameters: {'learning_rate': 0.19916954536101367, 'max_leaf_nodes': 63, 'max_depth': 12, 'l2_regularization': 22}. Best is trial 31 with value: 0.9272549019607843.\n"
     ]
    },
    {
     "name": "stdout",
     "output_type": "stream",
     "text": [
      "40: 0.9261764705882353\n"
     ]
    },
    {
     "name": "stderr",
     "output_type": "stream",
     "text": [
      "[I 2024-11-05 06:46:03,283] Trial 41 finished with value: 0.9262549019607843 and parameters: {'learning_rate': 0.22690871896563058, 'max_leaf_nodes': 61, 'max_depth': 11, 'l2_regularization': 10}. Best is trial 31 with value: 0.9272549019607843.\n"
     ]
    },
    {
     "name": "stdout",
     "output_type": "stream",
     "text": [
      "41: 0.9262549019607843\n"
     ]
    },
    {
     "name": "stderr",
     "output_type": "stream",
     "text": [
      "[I 2024-11-05 06:46:05,492] Trial 42 finished with value: 0.9256274509803921 and parameters: {'learning_rate': 0.22821412273389768, 'max_leaf_nodes': 63, 'max_depth': 11, 'l2_regularization': 14}. Best is trial 31 with value: 0.9272549019607843.\n"
     ]
    },
    {
     "name": "stdout",
     "output_type": "stream",
     "text": [
      "42: 0.9256274509803921\n"
     ]
    },
    {
     "name": "stderr",
     "output_type": "stream",
     "text": [
      "[I 2024-11-05 06:46:07,595] Trial 43 finished with value: 0.925686274509804 and parameters: {'learning_rate': 0.2476877278202505, 'max_leaf_nodes': 67, 'max_depth': 10, 'l2_regularization': 16}. Best is trial 31 with value: 0.9272549019607843.\n"
     ]
    },
    {
     "name": "stdout",
     "output_type": "stream",
     "text": [
      "43: 0.925686274509804\n"
     ]
    },
    {
     "name": "stderr",
     "output_type": "stream",
     "text": [
      "[I 2024-11-05 06:46:09,524] Trial 44 finished with value: 0.9254117647058825 and parameters: {'learning_rate': 0.20886773115159277, 'max_leaf_nodes': 52, 'max_depth': 11, 'l2_regularization': 11}. Best is trial 31 with value: 0.9272549019607843.\n"
     ]
    },
    {
     "name": "stdout",
     "output_type": "stream",
     "text": [
      "44: 0.9254117647058825\n"
     ]
    },
    {
     "name": "stderr",
     "output_type": "stream",
     "text": [
      "[I 2024-11-05 06:46:11,047] Trial 45 finished with value: 0.925686274509804 and parameters: {'learning_rate': 0.2394217187639135, 'max_leaf_nodes': 45, 'max_depth': 12, 'l2_regularization': 7}. Best is trial 31 with value: 0.9272549019607843.\n"
     ]
    },
    {
     "name": "stdout",
     "output_type": "stream",
     "text": [
      "45: 0.925686274509804\n"
     ]
    },
    {
     "name": "stderr",
     "output_type": "stream",
     "text": [
      "[I 2024-11-05 06:46:13,160] Trial 46 finished with value: 0.9260588235294117 and parameters: {'learning_rate': 0.16123780316570607, 'max_leaf_nodes': 55, 'max_depth': 10, 'l2_regularization': 9}. Best is trial 31 with value: 0.9272549019607843.\n"
     ]
    },
    {
     "name": "stdout",
     "output_type": "stream",
     "text": [
      "46: 0.9260588235294117\n"
     ]
    },
    {
     "name": "stderr",
     "output_type": "stream",
     "text": [
      "[I 2024-11-05 06:46:15,955] Trial 47 finished with value: 0.9227450980392158 and parameters: {'learning_rate': 0.1456288434965346, 'max_leaf_nodes': 62, 'max_depth': 9, 'l2_regularization': 30}. Best is trial 31 with value: 0.9272549019607843.\n"
     ]
    },
    {
     "name": "stdout",
     "output_type": "stream",
     "text": [
      "47: 0.9227450980392158\n"
     ]
    },
    {
     "name": "stderr",
     "output_type": "stream",
     "text": [
      "[I 2024-11-05 06:46:17,880] Trial 48 finished with value: 0.9258627450980391 and parameters: {'learning_rate': 0.2252686082055703, 'max_leaf_nodes': 58, 'max_depth': 11, 'l2_regularization': 13}. Best is trial 31 with value: 0.9272549019607843.\n"
     ]
    },
    {
     "name": "stdout",
     "output_type": "stream",
     "text": [
      "48: 0.9258627450980391\n"
     ]
    },
    {
     "name": "stderr",
     "output_type": "stream",
     "text": [
      "[I 2024-11-05 06:46:19,862] Trial 49 finished with value: 0.9250196078431373 and parameters: {'learning_rate': 0.17051850029472468, 'max_leaf_nodes': 68, 'max_depth': 11, 'l2_regularization': 5}. Best is trial 31 with value: 0.9272549019607843.\n"
     ]
    },
    {
     "name": "stdout",
     "output_type": "stream",
     "text": [
      "49: 0.9250196078431373\n"
     ]
    },
    {
     "name": "stderr",
     "output_type": "stream",
     "text": [
      "[I 2024-11-05 06:46:21,770] Trial 50 finished with value: 0.9229019607843137 and parameters: {'learning_rate': 0.11886027450756369, 'max_leaf_nodes': 20, 'max_depth': 12, 'l2_regularization': 11}. Best is trial 31 with value: 0.9272549019607843.\n"
     ]
    },
    {
     "name": "stdout",
     "output_type": "stream",
     "text": [
      "50: 0.9229019607843137\n"
     ]
    },
    {
     "name": "stderr",
     "output_type": "stream",
     "text": [
      "[I 2024-11-05 06:46:23,483] Trial 51 finished with value: 0.925470588235294 and parameters: {'learning_rate': 0.21645660869538172, 'max_leaf_nodes': 60, 'max_depth': 11, 'l2_regularization': 9}. Best is trial 31 with value: 0.9272549019607843.\n"
     ]
    },
    {
     "name": "stdout",
     "output_type": "stream",
     "text": [
      "51: 0.925470588235294\n"
     ]
    },
    {
     "name": "stderr",
     "output_type": "stream",
     "text": [
      "[I 2024-11-05 06:46:25,442] Trial 52 finished with value: 0.9262745098039216 and parameters: {'learning_rate': 0.2274567091374762, 'max_leaf_nodes': 65, 'max_depth': 10, 'l2_regularization': 11}. Best is trial 31 with value: 0.9272549019607843.\n"
     ]
    },
    {
     "name": "stdout",
     "output_type": "stream",
     "text": [
      "52: 0.9262745098039216\n"
     ]
    },
    {
     "name": "stderr",
     "output_type": "stream",
     "text": [
      "[I 2024-11-05 06:46:27,400] Trial 53 finished with value: 0.9253137254901961 and parameters: {'learning_rate': 0.23777163733763612, 'max_leaf_nodes': 65, 'max_depth': 10, 'l2_regularization': 13}. Best is trial 31 with value: 0.9272549019607843.\n"
     ]
    },
    {
     "name": "stdout",
     "output_type": "stream",
     "text": [
      "53: 0.9253137254901961\n"
     ]
    },
    {
     "name": "stderr",
     "output_type": "stream",
     "text": [
      "[I 2024-11-05 06:46:29,505] Trial 54 finished with value: 0.9252549019607842 and parameters: {'learning_rate': 0.2258907740540921, 'max_leaf_nodes': 70, 'max_depth': 9, 'l2_regularization': 15}. Best is trial 31 with value: 0.9272549019607843.\n"
     ]
    },
    {
     "name": "stdout",
     "output_type": "stream",
     "text": [
      "54: 0.9252549019607842\n"
     ]
    },
    {
     "name": "stderr",
     "output_type": "stream",
     "text": [
      "[I 2024-11-05 06:46:33,142] Trial 55 finished with value: 0.9254117647058825 and parameters: {'learning_rate': 0.09295896257355987, 'max_leaf_nodes': 66, 'max_depth': 10, 'l2_regularization': 11}. Best is trial 31 with value: 0.9272549019607843.\n"
     ]
    },
    {
     "name": "stdout",
     "output_type": "stream",
     "text": [
      "55: 0.9254117647058825\n"
     ]
    },
    {
     "name": "stderr",
     "output_type": "stream",
     "text": [
      "[I 2024-11-05 06:46:34,965] Trial 56 finished with value: 0.9261960784313725 and parameters: {'learning_rate': 0.24339141106503448, 'max_leaf_nodes': 68, 'max_depth': 10, 'l2_regularization': 10}. Best is trial 31 with value: 0.9272549019607843.\n"
     ]
    },
    {
     "name": "stdout",
     "output_type": "stream",
     "text": [
      "56: 0.9261960784313725\n"
     ]
    },
    {
     "name": "stderr",
     "output_type": "stream",
     "text": [
      "[I 2024-11-05 06:46:37,168] Trial 57 finished with value: 0.9265686274509805 and parameters: {'learning_rate': 0.2043527461036833, 'max_leaf_nodes': 56, 'max_depth': 9, 'l2_regularization': 7}. Best is trial 31 with value: 0.9272549019607843.\n"
     ]
    },
    {
     "name": "stdout",
     "output_type": "stream",
     "text": [
      "57: 0.9265686274509805\n"
     ]
    },
    {
     "name": "stderr",
     "output_type": "stream",
     "text": [
      "[I 2024-11-05 06:46:38,756] Trial 58 finished with value: 0.9242941176470588 and parameters: {'learning_rate': 0.20265608702627472, 'max_leaf_nodes': 48, 'max_depth': 9, 'l2_regularization': 7}. Best is trial 31 with value: 0.9272549019607843.\n"
     ]
    },
    {
     "name": "stdout",
     "output_type": "stream",
     "text": [
      "58: 0.9242941176470588\n"
     ]
    },
    {
     "name": "stderr",
     "output_type": "stream",
     "text": [
      "[I 2024-11-05 06:46:40,280] Trial 59 finished with value: 0.9253333333333332 and parameters: {'learning_rate': 0.1936020967852548, 'max_leaf_nodes': 40, 'max_depth': 8, 'l2_regularization': 4}. Best is trial 31 with value: 0.9272549019607843.\n"
     ]
    },
    {
     "name": "stdout",
     "output_type": "stream",
     "text": [
      "59: 0.9253333333333332\n"
     ]
    },
    {
     "name": "stderr",
     "output_type": "stream",
     "text": [
      "[I 2024-11-05 06:46:42,581] Trial 60 finished with value: 0.9256274509803921 and parameters: {'learning_rate': 0.14810654362987058, 'max_leaf_nodes': 56, 'max_depth': 9, 'l2_regularization': 6}. Best is trial 31 with value: 0.9272549019607843.\n"
     ]
    },
    {
     "name": "stdout",
     "output_type": "stream",
     "text": [
      "60: 0.9256274509803921\n"
     ]
    },
    {
     "name": "stderr",
     "output_type": "stream",
     "text": [
      "[I 2024-11-05 06:46:44,631] Trial 61 finished with value: 0.9256274509803921 and parameters: {'learning_rate': 0.21087075920109938, 'max_leaf_nodes': 61, 'max_depth': 9, 'l2_regularization': 12}. Best is trial 31 with value: 0.9272549019607843.\n"
     ]
    },
    {
     "name": "stdout",
     "output_type": "stream",
     "text": [
      "61: 0.9256274509803921\n"
     ]
    },
    {
     "name": "stderr",
     "output_type": "stream",
     "text": [
      "[I 2024-11-05 06:46:46,217] Trial 62 finished with value: 0.9252745098039216 and parameters: {'learning_rate': 0.22917844025842848, 'max_leaf_nodes': 52, 'max_depth': 9, 'l2_regularization': 8}. Best is trial 31 with value: 0.9272549019607843.\n"
     ]
    },
    {
     "name": "stdout",
     "output_type": "stream",
     "text": [
      "62: 0.9252745098039216\n"
     ]
    },
    {
     "name": "stderr",
     "output_type": "stream",
     "text": [
      "[I 2024-11-05 06:46:48,020] Trial 63 finished with value: 0.9262549019607843 and parameters: {'learning_rate': 0.2219440087877132, 'max_leaf_nodes': 64, 'max_depth': 8, 'l2_regularization': 9}. Best is trial 31 with value: 0.9272549019607843.\n"
     ]
    },
    {
     "name": "stdout",
     "output_type": "stream",
     "text": [
      "63: 0.9262549019607843\n"
     ]
    },
    {
     "name": "stderr",
     "output_type": "stream",
     "text": [
      "[I 2024-11-05 06:46:50,023] Trial 64 finished with value: 0.9245490196078432 and parameters: {'learning_rate': 0.21543386210405557, 'max_leaf_nodes': 59, 'max_depth': 11, 'l2_regularization': 14}. Best is trial 31 with value: 0.9272549019607843.\n"
     ]
    },
    {
     "name": "stdout",
     "output_type": "stream",
     "text": [
      "64: 0.9245490196078432\n"
     ]
    },
    {
     "name": "stderr",
     "output_type": "stream",
     "text": [
      "[I 2024-11-05 06:46:52,004] Trial 65 finished with value: 0.9260784313725491 and parameters: {'learning_rate': 0.23551449290901055, 'max_leaf_nodes': 66, 'max_depth': 10, 'l2_regularization': 13}. Best is trial 31 with value: 0.9272549019607843.\n"
     ]
    },
    {
     "name": "stdout",
     "output_type": "stream",
     "text": [
      "65: 0.9260784313725491\n"
     ]
    },
    {
     "name": "stderr",
     "output_type": "stream",
     "text": [
      "[I 2024-11-05 06:46:53,893] Trial 66 finished with value: 0.925078431372549 and parameters: {'learning_rate': 0.2054368226252782, 'max_leaf_nodes': 62, 'max_depth': 9, 'l2_regularization': 11}. Best is trial 31 with value: 0.9272549019607843.\n"
     ]
    },
    {
     "name": "stdout",
     "output_type": "stream",
     "text": [
      "66: 0.925078431372549\n"
     ]
    },
    {
     "name": "stderr",
     "output_type": "stream",
     "text": [
      "[I 2024-11-05 06:46:55,428] Trial 67 finished with value: 0.9243137254901961 and parameters: {'learning_rate': 0.24571165151494662, 'max_leaf_nodes': 53, 'max_depth': 10, 'l2_regularization': 7}. Best is trial 31 with value: 0.9272549019607843.\n"
     ]
    },
    {
     "name": "stdout",
     "output_type": "stream",
     "text": [
      "67: 0.9243137254901961\n"
     ]
    },
    {
     "name": "stderr",
     "output_type": "stream",
     "text": [
      "[I 2024-11-05 06:46:57,294] Trial 68 finished with value: 0.9249019607843137 and parameters: {'learning_rate': 0.23330494981813737, 'max_leaf_nodes': 56, 'max_depth': 11, 'l2_regularization': 10}. Best is trial 31 with value: 0.9272549019607843.\n"
     ]
    },
    {
     "name": "stdout",
     "output_type": "stream",
     "text": [
      "68: 0.9249019607843137\n"
     ]
    },
    {
     "name": "stderr",
     "output_type": "stream",
     "text": [
      "[I 2024-11-05 06:46:58,710] Trial 69 finished with value: 0.9230392156862745 and parameters: {'learning_rate': 0.21435346737337285, 'max_leaf_nodes': 26, 'max_depth': 12, 'l2_regularization': 8}. Best is trial 31 with value: 0.9272549019607843.\n"
     ]
    },
    {
     "name": "stdout",
     "output_type": "stream",
     "text": [
      "69: 0.9230392156862745\n"
     ]
    },
    {
     "name": "stderr",
     "output_type": "stream",
     "text": [
      "[I 2024-11-05 06:47:00,378] Trial 70 finished with value: 0.9256470588235294 and parameters: {'learning_rate': 0.22662772357525307, 'max_leaf_nodes': 69, 'max_depth': 11, 'l2_regularization': 3}. Best is trial 31 with value: 0.9272549019607843.\n"
     ]
    },
    {
     "name": "stdout",
     "output_type": "stream",
     "text": [
      "70: 0.9256470588235294\n"
     ]
    },
    {
     "name": "stderr",
     "output_type": "stream",
     "text": [
      "[I 2024-11-05 06:47:02,288] Trial 71 finished with value: 0.9273137254901961 and parameters: {'learning_rate': 0.22065138873528697, 'max_leaf_nodes': 64, 'max_depth': 8, 'l2_regularization': 9}. Best is trial 71 with value: 0.9273137254901961.\n"
     ]
    },
    {
     "name": "stdout",
     "output_type": "stream",
     "text": [
      "71: 0.9273137254901961\n"
     ]
    },
    {
     "name": "stderr",
     "output_type": "stream",
     "text": [
      "[I 2024-11-05 06:47:04,111] Trial 72 finished with value: 0.9263333333333333 and parameters: {'learning_rate': 0.2308116911725783, 'max_leaf_nodes': 64, 'max_depth': 7, 'l2_regularization': 12}. Best is trial 71 with value: 0.9273137254901961.\n"
     ]
    },
    {
     "name": "stdout",
     "output_type": "stream",
     "text": [
      "72: 0.9263333333333333\n"
     ]
    },
    {
     "name": "stderr",
     "output_type": "stream",
     "text": [
      "[I 2024-11-05 06:47:06,062] Trial 73 finished with value: 0.9259019607843136 and parameters: {'learning_rate': 0.2212061614395129, 'max_leaf_nodes': 64, 'max_depth': 7, 'l2_regularization': 12}. Best is trial 71 with value: 0.9273137254901961.\n"
     ]
    },
    {
     "name": "stdout",
     "output_type": "stream",
     "text": [
      "73: 0.9259019607843136\n"
     ]
    },
    {
     "name": "stderr",
     "output_type": "stream",
     "text": [
      "[I 2024-11-05 06:47:08,586] Trial 74 finished with value: 0.9273921568627451 and parameters: {'learning_rate': 0.24037933204775302, 'max_leaf_nodes': 66, 'max_depth': 8, 'l2_regularization': 16}. Best is trial 74 with value: 0.9273921568627451.\n"
     ]
    },
    {
     "name": "stdout",
     "output_type": "stream",
     "text": [
      "74: 0.9273921568627451\n"
     ]
    },
    {
     "name": "stderr",
     "output_type": "stream",
     "text": [
      "[I 2024-11-05 06:47:10,362] Trial 75 finished with value: 0.9255098039215687 and parameters: {'learning_rate': 0.2493644625150334, 'max_leaf_nodes': 69, 'max_depth': 7, 'l2_regularization': 15}. Best is trial 74 with value: 0.9273921568627451.\n"
     ]
    },
    {
     "name": "stdout",
     "output_type": "stream",
     "text": [
      "75: 0.9255098039215687\n"
     ]
    },
    {
     "name": "stderr",
     "output_type": "stream",
     "text": [
      "[I 2024-11-05 06:47:12,386] Trial 76 finished with value: 0.9267647058823529 and parameters: {'learning_rate': 0.24076448543254664, 'max_leaf_nodes': 67, 'max_depth': 8, 'l2_regularization': 16}. Best is trial 74 with value: 0.9273921568627451.\n"
     ]
    },
    {
     "name": "stdout",
     "output_type": "stream",
     "text": [
      "76: 0.9267647058823529\n"
     ]
    },
    {
     "name": "stderr",
     "output_type": "stream",
     "text": [
      "[I 2024-11-05 06:47:14,342] Trial 77 finished with value: 0.9260784313725491 and parameters: {'learning_rate': 0.24132122844006818, 'max_leaf_nodes': 67, 'max_depth': 8, 'l2_regularization': 17}. Best is trial 74 with value: 0.9273921568627451.\n"
     ]
    },
    {
     "name": "stdout",
     "output_type": "stream",
     "text": [
      "77: 0.9260784313725491\n"
     ]
    },
    {
     "name": "stderr",
     "output_type": "stream",
     "text": [
      "[I 2024-11-05 06:47:16,260] Trial 78 finished with value: 0.9243529411764707 and parameters: {'learning_rate': 0.23747575129312173, 'max_leaf_nodes': 69, 'max_depth': 8, 'l2_regularization': 18}. Best is trial 74 with value: 0.9273921568627451.\n"
     ]
    },
    {
     "name": "stdout",
     "output_type": "stream",
     "text": [
      "78: 0.9243529411764707\n"
     ]
    },
    {
     "name": "stderr",
     "output_type": "stream",
     "text": [
      "[I 2024-11-05 06:47:18,176] Trial 79 finished with value: 0.9251764705882352 and parameters: {'learning_rate': 0.243890003248884, 'max_leaf_nodes': 67, 'max_depth': 8, 'l2_regularization': 20}. Best is trial 74 with value: 0.9273921568627451.\n"
     ]
    },
    {
     "name": "stdout",
     "output_type": "stream",
     "text": [
      "79: 0.9251764705882352\n"
     ]
    },
    {
     "name": "stderr",
     "output_type": "stream",
     "text": [
      "[I 2024-11-05 06:47:21,414] Trial 80 finished with value: 0.9249803921568627 and parameters: {'learning_rate': 0.10609299336768871, 'max_leaf_nodes': 66, 'max_depth': 8, 'l2_regularization': 16}. Best is trial 74 with value: 0.9273921568627451.\n"
     ]
    },
    {
     "name": "stdout",
     "output_type": "stream",
     "text": [
      "80: 0.9249803921568627\n"
     ]
    },
    {
     "name": "stderr",
     "output_type": "stream",
     "text": [
      "[I 2024-11-05 06:47:23,287] Trial 81 finished with value: 0.9251960784313725 and parameters: {'learning_rate': 0.23445936361644087, 'max_leaf_nodes': 63, 'max_depth': 7, 'l2_regularization': 17}. Best is trial 74 with value: 0.9273921568627451.\n"
     ]
    },
    {
     "name": "stdout",
     "output_type": "stream",
     "text": [
      "81: 0.9251960784313725\n"
     ]
    },
    {
     "name": "stderr",
     "output_type": "stream",
     "text": [
      "[I 2024-11-05 06:47:25,224] Trial 82 finished with value: 0.9258627450980392 and parameters: {'learning_rate': 0.23108718923079644, 'max_leaf_nodes': 64, 'max_depth': 7, 'l2_regularization': 15}. Best is trial 74 with value: 0.9273921568627451.\n"
     ]
    },
    {
     "name": "stdout",
     "output_type": "stream",
     "text": [
      "82: 0.9258627450980392\n"
     ]
    },
    {
     "name": "stderr",
     "output_type": "stream",
     "text": [
      "[I 2024-11-05 06:47:26,947] Trial 83 finished with value: 0.9243725490196079 and parameters: {'learning_rate': 0.21955476463026052, 'max_leaf_nodes': 49, 'max_depth': 8, 'l2_regularization': 13}. Best is trial 74 with value: 0.9273921568627451.\n"
     ]
    },
    {
     "name": "stdout",
     "output_type": "stream",
     "text": [
      "83: 0.9243725490196079\n"
     ]
    },
    {
     "name": "stderr",
     "output_type": "stream",
     "text": [
      "[I 2024-11-05 06:47:29,167] Trial 84 finished with value: 0.9256274509803921 and parameters: {'learning_rate': 0.24029719227983376, 'max_leaf_nodes': 70, 'max_depth': 8, 'l2_regularization': 23}. Best is trial 74 with value: 0.9273921568627451.\n"
     ]
    },
    {
     "name": "stdout",
     "output_type": "stream",
     "text": [
      "84: 0.9256274509803921\n"
     ]
    },
    {
     "name": "stderr",
     "output_type": "stream",
     "text": [
      "[I 2024-11-05 06:47:30,688] Trial 85 finished with value: 0.9251176470588236 and parameters: {'learning_rate': 0.24568456365173036, 'max_leaf_nodes': 46, 'max_depth': 7, 'l2_regularization': 14}. Best is trial 74 with value: 0.9273921568627451.\n"
     ]
    },
    {
     "name": "stdout",
     "output_type": "stream",
     "text": [
      "85: 0.9251176470588236\n"
     ]
    },
    {
     "name": "stderr",
     "output_type": "stream",
     "text": [
      "[I 2024-11-05 06:47:32,684] Trial 86 finished with value: 0.9249411764705883 and parameters: {'learning_rate': 0.2238747494508872, 'max_leaf_nodes': 62, 'max_depth': 8, 'l2_regularization': 18}. Best is trial 74 with value: 0.9273921568627451.\n"
     ]
    },
    {
     "name": "stdout",
     "output_type": "stream",
     "text": [
      "86: 0.9249411764705883\n"
     ]
    },
    {
     "name": "stderr",
     "output_type": "stream",
     "text": [
      "[I 2024-11-05 06:47:34,921] Trial 87 finished with value: 0.9261176470588235 and parameters: {'learning_rate': 0.1289143783719322, 'max_leaf_nodes': 59, 'max_depth': 7, 'l2_regularization': 6}. Best is trial 74 with value: 0.9273921568627451.\n"
     ]
    },
    {
     "name": "stdout",
     "output_type": "stream",
     "text": [
      "87: 0.9261176470588235\n"
     ]
    },
    {
     "name": "stderr",
     "output_type": "stream",
     "text": [
      "[I 2024-11-05 06:47:36,739] Trial 88 finished with value: 0.9255490196078432 and parameters: {'learning_rate': 0.23110658928372943, 'max_leaf_nodes': 68, 'max_depth': 9, 'l2_regularization': 12}. Best is trial 74 with value: 0.9273921568627451.\n"
     ]
    },
    {
     "name": "stdout",
     "output_type": "stream",
     "text": [
      "88: 0.9255490196078432\n"
     ]
    },
    {
     "name": "stderr",
     "output_type": "stream",
     "text": [
      "[I 2024-11-05 06:47:38,859] Trial 89 finished with value: 0.9244117647058824 and parameters: {'learning_rate': 0.18173117260676586, 'max_leaf_nodes': 65, 'max_depth': 8, 'l2_regularization': 16}. Best is trial 74 with value: 0.9273921568627451.\n"
     ]
    },
    {
     "name": "stdout",
     "output_type": "stream",
     "text": [
      "89: 0.9244117647058824\n"
     ]
    },
    {
     "name": "stderr",
     "output_type": "stream",
     "text": [
      "[I 2024-11-05 06:47:40,853] Trial 90 finished with value: 0.9256078431372549 and parameters: {'learning_rate': 0.21851569753916666, 'max_leaf_nodes': 43, 'max_depth': 9, 'l2_regularization': 9}. Best is trial 74 with value: 0.9273921568627451.\n"
     ]
    },
    {
     "name": "stdout",
     "output_type": "stream",
     "text": [
      "90: 0.9256078431372549\n"
     ]
    },
    {
     "name": "stderr",
     "output_type": "stream",
     "text": [
      "[I 2024-11-05 06:47:42,725] Trial 91 finished with value: 0.9255490196078432 and parameters: {'learning_rate': 0.2367916421405269, 'max_leaf_nodes': 66, 'max_depth': 9, 'l2_regularization': 11}. Best is trial 74 with value: 0.9273921568627451.\n"
     ]
    },
    {
     "name": "stdout",
     "output_type": "stream",
     "text": [
      "91: 0.9255490196078432\n"
     ]
    },
    {
     "name": "stderr",
     "output_type": "stream",
     "text": [
      "[I 2024-11-05 06:47:44,744] Trial 92 finished with value: 0.9247843137254903 and parameters: {'learning_rate': 0.21236573091462002, 'max_leaf_nodes': 65, 'max_depth': 8, 'l2_regularization': 13}. Best is trial 74 with value: 0.9273921568627451.\n"
     ]
    },
    {
     "name": "stdout",
     "output_type": "stream",
     "text": [
      "92: 0.9247843137254903\n"
     ]
    },
    {
     "name": "stderr",
     "output_type": "stream",
     "text": [
      "[I 2024-11-05 06:47:46,408] Trial 93 finished with value: 0.9254313725490194 and parameters: {'learning_rate': 0.2291061539808179, 'max_leaf_nodes': 69, 'max_depth': 7, 'l2_regularization': 10}. Best is trial 74 with value: 0.9273921568627451.\n"
     ]
    },
    {
     "name": "stdout",
     "output_type": "stream",
     "text": [
      "93: 0.9254313725490194\n"
     ]
    },
    {
     "name": "stderr",
     "output_type": "stream",
     "text": [
      "[I 2024-11-05 06:47:48,409] Trial 94 finished with value: 0.9257843137254902 and parameters: {'learning_rate': 0.24984641901462612, 'max_leaf_nodes': 62, 'max_depth': 8, 'l2_regularization': 12}. Best is trial 74 with value: 0.9273921568627451.\n"
     ]
    },
    {
     "name": "stdout",
     "output_type": "stream",
     "text": [
      "94: 0.9257843137254902\n"
     ]
    },
    {
     "name": "stderr",
     "output_type": "stream",
     "text": [
      "[I 2024-11-05 06:47:50,669] Trial 95 finished with value: 0.9265490196078431 and parameters: {'learning_rate': 0.2235292608135377, 'max_leaf_nodes': 67, 'max_depth': 9, 'l2_regularization': 14}. Best is trial 74 with value: 0.9273921568627451.\n"
     ]
    },
    {
     "name": "stdout",
     "output_type": "stream",
     "text": [
      "95: 0.9265490196078431\n"
     ]
    },
    {
     "name": "stderr",
     "output_type": "stream",
     "text": [
      "[I 2024-11-05 06:47:52,776] Trial 96 finished with value: 0.9256470588235294 and parameters: {'learning_rate': 0.2057957773625417, 'max_leaf_nodes': 67, 'max_depth': 9, 'l2_regularization': 14}. Best is trial 74 with value: 0.9273921568627451.\n"
     ]
    },
    {
     "name": "stdout",
     "output_type": "stream",
     "text": [
      "96: 0.9256470588235294\n"
     ]
    },
    {
     "name": "stderr",
     "output_type": "stream",
     "text": [
      "[I 2024-11-05 06:47:55,311] Trial 97 finished with value: 0.9258823529411764 and parameters: {'learning_rate': 0.16943390998535707, 'max_leaf_nodes': 68, 'max_depth': 9, 'l2_regularization': 15}. Best is trial 74 with value: 0.9273921568627451.\n"
     ]
    },
    {
     "name": "stdout",
     "output_type": "stream",
     "text": [
      "97: 0.9258823529411764\n"
     ]
    },
    {
     "name": "stderr",
     "output_type": "stream",
     "text": [
      "[I 2024-11-05 06:47:57,905] Trial 98 finished with value: 0.9249411764705883 and parameters: {'learning_rate': 0.11587962152468186, 'max_leaf_nodes': 70, 'max_depth': 9, 'l2_regularization': 5}. Best is trial 74 with value: 0.9273921568627451.\n"
     ]
    },
    {
     "name": "stdout",
     "output_type": "stream",
     "text": [
      "98: 0.9249411764705883\n"
     ]
    },
    {
     "name": "stderr",
     "output_type": "stream",
     "text": [
      "[I 2024-11-05 06:47:59,547] Trial 99 finished with value: 0.9245098039215686 and parameters: {'learning_rate': 0.22443314601301614, 'max_leaf_nodes': 36, 'max_depth': 9, 'l2_regularization': 16}. Best is trial 74 with value: 0.9273921568627451.\n"
     ]
    },
    {
     "name": "stdout",
     "output_type": "stream",
     "text": [
      "99: 0.9245098039215686\n"
     ]
    },
    {
     "name": "stderr",
     "output_type": "stream",
     "text": [
      "[I 2024-11-05 06:48:01,709] Trial 100 finished with value: 0.9260588235294117 and parameters: {'learning_rate': 0.19510773086945568, 'max_leaf_nodes': 64, 'max_depth': 8, 'l2_regularization': 14}. Best is trial 74 with value: 0.9273921568627451.\n"
     ]
    },
    {
     "name": "stdout",
     "output_type": "stream",
     "text": [
      "100: 0.9260588235294117\n"
     ]
    },
    {
     "name": "stderr",
     "output_type": "stream",
     "text": [
      "[I 2024-11-05 06:48:03,612] Trial 101 finished with value: 0.9264901960784314 and parameters: {'learning_rate': 0.24038542444296343, 'max_leaf_nodes': 66, 'max_depth': 10, 'l2_regularization': 11}. Best is trial 74 with value: 0.9273921568627451.\n"
     ]
    },
    {
     "name": "stdout",
     "output_type": "stream",
     "text": [
      "101: 0.9264901960784314\n"
     ]
    },
    {
     "name": "stderr",
     "output_type": "stream",
     "text": [
      "[I 2024-11-05 06:48:05,594] Trial 102 finished with value: 0.9268823529411766 and parameters: {'learning_rate': 0.23409721070989548, 'max_leaf_nodes': 67, 'max_depth': 12, 'l2_regularization': 8}. Best is trial 74 with value: 0.9273921568627451.\n"
     ]
    },
    {
     "name": "stdout",
     "output_type": "stream",
     "text": [
      "102: 0.9268823529411766\n"
     ]
    },
    {
     "name": "stderr",
     "output_type": "stream",
     "text": [
      "[I 2024-11-05 06:48:07,328] Trial 103 finished with value: 0.9264509803921569 and parameters: {'learning_rate': 0.2412908355068461, 'max_leaf_nodes': 67, 'max_depth': 12, 'l2_regularization': 9}. Best is trial 74 with value: 0.9273921568627451.\n"
     ]
    },
    {
     "name": "stdout",
     "output_type": "stream",
     "text": [
      "103: 0.9264509803921569\n"
     ]
    },
    {
     "name": "stderr",
     "output_type": "stream",
     "text": [
      "[I 2024-11-05 06:48:09,104] Trial 104 finished with value: 0.9259803921568627 and parameters: {'learning_rate': 0.2405934073753332, 'max_leaf_nodes': 66, 'max_depth': 12, 'l2_regularization': 8}. Best is trial 74 with value: 0.9273921568627451.\n"
     ]
    },
    {
     "name": "stdout",
     "output_type": "stream",
     "text": [
      "104: 0.9259803921568627\n"
     ]
    },
    {
     "name": "stderr",
     "output_type": "stream",
     "text": [
      "[I 2024-11-05 06:48:10,875] Trial 105 finished with value: 0.9250000000000002 and parameters: {'learning_rate': 0.24615738603627257, 'max_leaf_nodes': 69, 'max_depth': 12, 'l2_regularization': 9}. Best is trial 74 with value: 0.9273921568627451.\n"
     ]
    },
    {
     "name": "stdout",
     "output_type": "stream",
     "text": [
      "105: 0.9250000000000002\n"
     ]
    },
    {
     "name": "stderr",
     "output_type": "stream",
     "text": [
      "[I 2024-11-05 06:48:12,872] Trial 106 finished with value: 0.9256666666666667 and parameters: {'learning_rate': 0.2343408171117651, 'max_leaf_nodes': 68, 'max_depth': 12, 'l2_regularization': 7}. Best is trial 74 with value: 0.9273921568627451.\n"
     ]
    },
    {
     "name": "stdout",
     "output_type": "stream",
     "text": [
      "106: 0.9256666666666667\n"
     ]
    },
    {
     "name": "stderr",
     "output_type": "stream",
     "text": [
      "[I 2024-11-05 06:48:15,256] Trial 107 finished with value: 0.9252941176470588 and parameters: {'learning_rate': 0.13980160715216744, 'max_leaf_nodes': 67, 'max_depth': 12, 'l2_regularization': 8}. Best is trial 74 with value: 0.9273921568627451.\n"
     ]
    },
    {
     "name": "stdout",
     "output_type": "stream",
     "text": [
      "107: 0.9252941176470588\n"
     ]
    },
    {
     "name": "stderr",
     "output_type": "stream",
     "text": [
      "[I 2024-11-05 06:48:17,193] Trial 108 finished with value: 0.9278235294117647 and parameters: {'learning_rate': 0.24232762626946336, 'max_leaf_nodes': 65, 'max_depth': 10, 'l2_regularization': 10}. Best is trial 108 with value: 0.9278235294117647.\n"
     ]
    },
    {
     "name": "stdout",
     "output_type": "stream",
     "text": [
      "108: 0.9278235294117647\n"
     ]
    },
    {
     "name": "stderr",
     "output_type": "stream",
     "text": [
      "[I 2024-11-05 06:48:18,905] Trial 109 finished with value: 0.9260196078431372 and parameters: {'learning_rate': 0.2434760431071942, 'max_leaf_nodes': 60, 'max_depth': 10, 'l2_regularization': 7}. Best is trial 108 with value: 0.9278235294117647.\n"
     ]
    },
    {
     "name": "stdout",
     "output_type": "stream",
     "text": [
      "109: 0.9260196078431372\n"
     ]
    },
    {
     "name": "stderr",
     "output_type": "stream",
     "text": [
      "[I 2024-11-05 06:48:20,837] Trial 110 finished with value: 0.9267450980392157 and parameters: {'learning_rate': 0.23833048974469276, 'max_leaf_nodes': 65, 'max_depth': 10, 'l2_regularization': 10}. Best is trial 108 with value: 0.9278235294117647.\n"
     ]
    },
    {
     "name": "stdout",
     "output_type": "stream",
     "text": [
      "110: 0.9267450980392157\n"
     ]
    },
    {
     "name": "stderr",
     "output_type": "stream",
     "text": [
      "[I 2024-11-05 06:48:22,602] Trial 111 finished with value: 0.9256862745098039 and parameters: {'learning_rate': 0.23811334642406573, 'max_leaf_nodes': 63, 'max_depth': 10, 'l2_regularization': 10}. Best is trial 108 with value: 0.9278235294117647.\n"
     ]
    },
    {
     "name": "stdout",
     "output_type": "stream",
     "text": [
      "111: 0.9256862745098039\n"
     ]
    },
    {
     "name": "stderr",
     "output_type": "stream",
     "text": [
      "[I 2024-11-05 06:48:24,515] Trial 112 finished with value: 0.9269999999999999 and parameters: {'learning_rate': 0.2474331675282216, 'max_leaf_nodes': 65, 'max_depth': 10, 'l2_regularization': 11}. Best is trial 108 with value: 0.9278235294117647.\n"
     ]
    },
    {
     "name": "stdout",
     "output_type": "stream",
     "text": [
      "112: 0.9269999999999999\n"
     ]
    },
    {
     "name": "stderr",
     "output_type": "stream",
     "text": [
      "[I 2024-11-05 06:48:26,625] Trial 113 finished with value: 0.9247254901960784 and parameters: {'learning_rate': 0.2461514823872033, 'max_leaf_nodes': 65, 'max_depth': 10, 'l2_regularization': 27}. Best is trial 108 with value: 0.9278235294117647.\n"
     ]
    },
    {
     "name": "stdout",
     "output_type": "stream",
     "text": [
      "113: 0.9247254901960784\n"
     ]
    },
    {
     "name": "stderr",
     "output_type": "stream",
     "text": [
      "[I 2024-11-05 06:48:28,672] Trial 114 finished with value: 0.9267450980392157 and parameters: {'learning_rate': 0.23574736259029283, 'max_leaf_nodes': 65, 'max_depth': 10, 'l2_regularization': 11}. Best is trial 108 with value: 0.9278235294117647.\n"
     ]
    },
    {
     "name": "stdout",
     "output_type": "stream",
     "text": [
      "114: 0.9267450980392157\n"
     ]
    },
    {
     "name": "stderr",
     "output_type": "stream",
     "text": [
      "[I 2024-11-05 06:48:30,518] Trial 115 finished with value: 0.9255098039215687 and parameters: {'learning_rate': 0.23546032600740227, 'max_leaf_nodes': 63, 'max_depth': 10, 'l2_regularization': 10}. Best is trial 108 with value: 0.9278235294117647.\n"
     ]
    },
    {
     "name": "stdout",
     "output_type": "stream",
     "text": [
      "115: 0.9255098039215687\n"
     ]
    },
    {
     "name": "stderr",
     "output_type": "stream",
     "text": [
      "[I 2024-11-05 06:48:32,353] Trial 116 finished with value: 0.9265882352941177 and parameters: {'learning_rate': 0.24987338090551134, 'max_leaf_nodes': 65, 'max_depth': 10, 'l2_regularization': 9}. Best is trial 108 with value: 0.9278235294117647.\n"
     ]
    },
    {
     "name": "stdout",
     "output_type": "stream",
     "text": [
      "116: 0.9265882352941177\n"
     ]
    },
    {
     "name": "stderr",
     "output_type": "stream",
     "text": [
      "[I 2024-11-05 06:48:34,121] Trial 117 finished with value: 0.9262549019607844 and parameters: {'learning_rate': 0.24828840204740266, 'max_leaf_nodes': 61, 'max_depth': 10, 'l2_regularization': 9}. Best is trial 108 with value: 0.9278235294117647.\n"
     ]
    },
    {
     "name": "stdout",
     "output_type": "stream",
     "text": [
      "117: 0.9262549019607844\n"
     ]
    },
    {
     "name": "stderr",
     "output_type": "stream",
     "text": [
      "[I 2024-11-05 06:48:35,766] Trial 118 finished with value: 0.9260784313725491 and parameters: {'learning_rate': 0.24536931561662786, 'max_leaf_nodes': 65, 'max_depth': 10, 'l2_regularization': 6}. Best is trial 108 with value: 0.9278235294117647.\n"
     ]
    },
    {
     "name": "stdout",
     "output_type": "stream",
     "text": [
      "118: 0.9260784313725491\n"
     ]
    },
    {
     "name": "stderr",
     "output_type": "stream",
     "text": [
      "[I 2024-11-05 06:48:37,601] Trial 119 finished with value: 0.9258235294117646 and parameters: {'learning_rate': 0.24998916061626847, 'max_leaf_nodes': 69, 'max_depth': 10, 'l2_regularization': 8}. Best is trial 108 with value: 0.9278235294117647.\n"
     ]
    },
    {
     "name": "stdout",
     "output_type": "stream",
     "text": [
      "119: 0.9258235294117646\n"
     ]
    },
    {
     "name": "stderr",
     "output_type": "stream",
     "text": [
      "[I 2024-11-05 06:48:39,391] Trial 120 finished with value: 0.9251372549019607 and parameters: {'learning_rate': 0.23776102364730525, 'max_leaf_nodes': 62, 'max_depth': 10, 'l2_regularization': 5}. Best is trial 108 with value: 0.9278235294117647.\n"
     ]
    },
    {
     "name": "stdout",
     "output_type": "stream",
     "text": [
      "120: 0.9251372549019607\n"
     ]
    },
    {
     "name": "stderr",
     "output_type": "stream",
     "text": [
      "[I 2024-11-05 06:48:41,165] Trial 121 finished with value: 0.9258235294117648 and parameters: {'learning_rate': 0.23205963126332074, 'max_leaf_nodes': 66, 'max_depth': 10, 'l2_regularization': 11}. Best is trial 108 with value: 0.9278235294117647.\n"
     ]
    },
    {
     "name": "stdout",
     "output_type": "stream",
     "text": [
      "121: 0.9258235294117648\n"
     ]
    },
    {
     "name": "stderr",
     "output_type": "stream",
     "text": [
      "[I 2024-11-05 06:48:42,954] Trial 122 finished with value: 0.925470588235294 and parameters: {'learning_rate': 0.22273303373845438, 'max_leaf_nodes': 64, 'max_depth': 10, 'l2_regularization': 8}. Best is trial 108 with value: 0.9278235294117647.\n"
     ]
    },
    {
     "name": "stdout",
     "output_type": "stream",
     "text": [
      "122: 0.925470588235294\n"
     ]
    },
    {
     "name": "stderr",
     "output_type": "stream",
     "text": [
      "[I 2024-11-05 06:48:45,231] Trial 123 finished with value: 0.9278823529411765 and parameters: {'learning_rate': 0.24348917137475487, 'max_leaf_nodes': 68, 'max_depth': 11, 'l2_regularization': 10}. Best is trial 123 with value: 0.9278823529411765.\n"
     ]
    },
    {
     "name": "stdout",
     "output_type": "stream",
     "text": [
      "123: 0.9278823529411765\n"
     ]
    },
    {
     "name": "stderr",
     "output_type": "stream",
     "text": [
      "[I 2024-11-05 06:48:47,092] Trial 124 finished with value: 0.9258235294117646 and parameters: {'learning_rate': 0.2437609563966205, 'max_leaf_nodes': 70, 'max_depth': 11, 'l2_regularization': 10}. Best is trial 123 with value: 0.9278823529411765.\n"
     ]
    },
    {
     "name": "stdout",
     "output_type": "stream",
     "text": [
      "124: 0.9258235294117646\n"
     ]
    },
    {
     "name": "stderr",
     "output_type": "stream",
     "text": [
      "[I 2024-11-05 06:48:48,804] Trial 125 finished with value: 0.9249607843137255 and parameters: {'learning_rate': 0.2348223614741845, 'max_leaf_nodes': 68, 'max_depth': 11, 'l2_regularization': 9}. Best is trial 123 with value: 0.9278823529411765.\n"
     ]
    },
    {
     "name": "stdout",
     "output_type": "stream",
     "text": [
      "125: 0.9249607843137255\n"
     ]
    },
    {
     "name": "stderr",
     "output_type": "stream",
     "text": [
      "[I 2024-11-05 06:48:50,570] Trial 126 finished with value: 0.9260196078431372 and parameters: {'learning_rate': 0.23958300924350004, 'max_leaf_nodes': 68, 'max_depth': 11, 'l2_regularization': 7}. Best is trial 123 with value: 0.9278823529411765.\n"
     ]
    },
    {
     "name": "stdout",
     "output_type": "stream",
     "text": [
      "126: 0.9260196078431372\n"
     ]
    },
    {
     "name": "stderr",
     "output_type": "stream",
     "text": [
      "[I 2024-11-05 06:48:52,266] Trial 127 finished with value: 0.9255686274509803 and parameters: {'learning_rate': 0.24233384703470368, 'max_leaf_nodes': 63, 'max_depth': 11, 'l2_regularization': 9}. Best is trial 123 with value: 0.9278823529411765.\n"
     ]
    },
    {
     "name": "stdout",
     "output_type": "stream",
     "text": [
      "127: 0.9255686274509803\n"
     ]
    },
    {
     "name": "stderr",
     "output_type": "stream",
     "text": [
      "[I 2024-11-05 06:48:54,140] Trial 128 finished with value: 0.9257843137254902 and parameters: {'learning_rate': 0.2454928506991191, 'max_leaf_nodes': 66, 'max_depth': 10, 'l2_regularization': 10}. Best is trial 123 with value: 0.9278823529411765.\n"
     ]
    },
    {
     "name": "stdout",
     "output_type": "stream",
     "text": [
      "128: 0.9257843137254902\n"
     ]
    },
    {
     "name": "stderr",
     "output_type": "stream",
     "text": [
      "[I 2024-11-05 06:48:56,044] Trial 129 finished with value: 0.9262352941176472 and parameters: {'learning_rate': 0.23669531356147885, 'max_leaf_nodes': 65, 'max_depth': 11, 'l2_regularization': 11}. Best is trial 123 with value: 0.9278823529411765.\n"
     ]
    },
    {
     "name": "stdout",
     "output_type": "stream",
     "text": [
      "129: 0.9262352941176472\n"
     ]
    },
    {
     "name": "stderr",
     "output_type": "stream",
     "text": [
      "[I 2024-11-05 06:48:57,835] Trial 130 finished with value: 0.9247254901960784 and parameters: {'learning_rate': 0.2272984522423858, 'max_leaf_nodes': 69, 'max_depth': 10, 'l2_regularization': 8}. Best is trial 123 with value: 0.9278823529411765.\n"
     ]
    },
    {
     "name": "stdout",
     "output_type": "stream",
     "text": [
      "130: 0.9247254901960784\n"
     ]
    },
    {
     "name": "stderr",
     "output_type": "stream",
     "text": [
      "[I 2024-11-05 06:49:00,000] Trial 131 finished with value: 0.9270196078431372 and parameters: {'learning_rate': 0.23262685627697663, 'max_leaf_nodes': 67, 'max_depth': 10, 'l2_regularization': 13}. Best is trial 123 with value: 0.9278823529411765.\n"
     ]
    },
    {
     "name": "stdout",
     "output_type": "stream",
     "text": [
      "131: 0.9270196078431372\n"
     ]
    },
    {
     "name": "stderr",
     "output_type": "stream",
     "text": [
      "[I 2024-11-05 06:49:02,148] Trial 132 finished with value: 0.9254313725490196 and parameters: {'learning_rate': 0.23001546509134535, 'max_leaf_nodes': 68, 'max_depth': 10, 'l2_regularization': 13}. Best is trial 123 with value: 0.9278823529411765.\n"
     ]
    },
    {
     "name": "stdout",
     "output_type": "stream",
     "text": [
      "132: 0.9254313725490196\n"
     ]
    },
    {
     "name": "stderr",
     "output_type": "stream",
     "text": [
      "[I 2024-11-05 06:49:04,062] Trial 133 finished with value: 0.9258431372549021 and parameters: {'learning_rate': 0.2330952576872805, 'max_leaf_nodes': 65, 'max_depth': 10, 'l2_regularization': 11}. Best is trial 123 with value: 0.9278823529411765.\n"
     ]
    },
    {
     "name": "stdout",
     "output_type": "stream",
     "text": [
      "133: 0.9258431372549021\n"
     ]
    },
    {
     "name": "stderr",
     "output_type": "stream",
     "text": [
      "[I 2024-11-05 06:49:05,925] Trial 134 finished with value: 0.9261764705882353 and parameters: {'learning_rate': 0.2425164844087774, 'max_leaf_nodes': 70, 'max_depth': 10, 'l2_regularization': 12}. Best is trial 123 with value: 0.9278823529411765.\n"
     ]
    },
    {
     "name": "stdout",
     "output_type": "stream",
     "text": [
      "134: 0.9261764705882353\n"
     ]
    },
    {
     "name": "stderr",
     "output_type": "stream",
     "text": [
      "[I 2024-11-05 06:49:07,783] Trial 135 finished with value: 0.9255294117647059 and parameters: {'learning_rate': 0.2477913449511547, 'max_leaf_nodes': 67, 'max_depth': 11, 'l2_regularization': 10}. Best is trial 123 with value: 0.9278823529411765.\n"
     ]
    },
    {
     "name": "stdout",
     "output_type": "stream",
     "text": [
      "135: 0.9255294117647059\n"
     ]
    },
    {
     "name": "stderr",
     "output_type": "stream",
     "text": [
      "[I 2024-11-05 06:49:09,605] Trial 136 finished with value: 0.9255686274509803 and parameters: {'learning_rate': 0.23939069100607385, 'max_leaf_nodes': 64, 'max_depth': 10, 'l2_regularization': 9}. Best is trial 123 with value: 0.9278823529411765.\n"
     ]
    },
    {
     "name": "stdout",
     "output_type": "stream",
     "text": [
      "136: 0.9255686274509803\n"
     ]
    },
    {
     "name": "stderr",
     "output_type": "stream",
     "text": [
      "[I 2024-11-05 06:49:11,640] Trial 137 finished with value: 0.9264509803921568 and parameters: {'learning_rate': 0.2172590317964128, 'max_leaf_nodes': 66, 'max_depth': 10, 'l2_regularization': 13}. Best is trial 123 with value: 0.9278823529411765.\n"
     ]
    },
    {
     "name": "stdout",
     "output_type": "stream",
     "text": [
      "137: 0.9264509803921568\n"
     ]
    },
    {
     "name": "stderr",
     "output_type": "stream",
     "text": [
      "[I 2024-11-05 06:49:13,507] Trial 138 finished with value: 0.9260392156862745 and parameters: {'learning_rate': 0.23521867445621775, 'max_leaf_nodes': 61, 'max_depth': 11, 'l2_regularization': 11}. Best is trial 123 with value: 0.9278823529411765.\n"
     ]
    },
    {
     "name": "stdout",
     "output_type": "stream",
     "text": [
      "138: 0.9260392156862745\n"
     ]
    },
    {
     "name": "stderr",
     "output_type": "stream",
     "text": [
      "[I 2024-11-05 06:49:15,217] Trial 139 finished with value: 0.9261372549019607 and parameters: {'learning_rate': 0.24994195003136463, 'max_leaf_nodes': 63, 'max_depth': 10, 'l2_regularization': 7}. Best is trial 123 with value: 0.9278823529411765.\n"
     ]
    },
    {
     "name": "stdout",
     "output_type": "stream",
     "text": [
      "139: 0.9261372549019607\n"
     ]
    },
    {
     "name": "stderr",
     "output_type": "stream",
     "text": [
      "[I 2024-11-05 06:49:17,208] Trial 140 finished with value: 0.925843137254902 and parameters: {'learning_rate': 0.24301959479082647, 'max_leaf_nodes': 69, 'max_depth': 8, 'l2_regularization': 10}. Best is trial 123 with value: 0.9278823529411765.\n"
     ]
    },
    {
     "name": "stdout",
     "output_type": "stream",
     "text": [
      "140: 0.925843137254902\n"
     ]
    },
    {
     "name": "stderr",
     "output_type": "stream",
     "text": [
      "[I 2024-11-05 06:49:19,269] Trial 141 finished with value: 0.9261960784313725 and parameters: {'learning_rate': 0.22520668636627142, 'max_leaf_nodes': 67, 'max_depth': 8, 'l2_regularization': 15}. Best is trial 123 with value: 0.9278823529411765.\n"
     ]
    },
    {
     "name": "stdout",
     "output_type": "stream",
     "text": [
      "141: 0.9261960784313725\n"
     ]
    },
    {
     "name": "stderr",
     "output_type": "stream",
     "text": [
      "[I 2024-11-05 06:49:21,229] Trial 142 finished with value: 0.9243333333333333 and parameters: {'learning_rate': 0.23169546855532325, 'max_leaf_nodes': 67, 'max_depth': 10, 'l2_regularization': 17}. Best is trial 123 with value: 0.9278823529411765.\n"
     ]
    },
    {
     "name": "stdout",
     "output_type": "stream",
     "text": [
      "142: 0.9243333333333333\n"
     ]
    },
    {
     "name": "stderr",
     "output_type": "stream",
     "text": [
      "[I 2024-11-05 06:49:23,166] Trial 143 finished with value: 0.9258627450980392 and parameters: {'learning_rate': 0.22712963299955477, 'max_leaf_nodes': 65, 'max_depth': 9, 'l2_regularization': 12}. Best is trial 123 with value: 0.9278823529411765.\n"
     ]
    },
    {
     "name": "stdout",
     "output_type": "stream",
     "text": [
      "143: 0.9258627450980392\n"
     ]
    },
    {
     "name": "stderr",
     "output_type": "stream",
     "text": [
      "[I 2024-11-05 06:49:25,076] Trial 144 finished with value: 0.9258039215686275 and parameters: {'learning_rate': 0.2381640571681721, 'max_leaf_nodes': 68, 'max_depth': 10, 'l2_regularization': 13}. Best is trial 123 with value: 0.9278823529411765.\n"
     ]
    },
    {
     "name": "stdout",
     "output_type": "stream",
     "text": [
      "144: 0.9258039215686275\n"
     ]
    },
    {
     "name": "stderr",
     "output_type": "stream",
     "text": [
      "[I 2024-11-05 06:49:26,996] Trial 145 finished with value: 0.9251960784313725 and parameters: {'learning_rate': 0.2213944294276612, 'max_leaf_nodes': 66, 'max_depth': 8, 'l2_regularization': 14}. Best is trial 123 with value: 0.9278823529411765.\n"
     ]
    },
    {
     "name": "stdout",
     "output_type": "stream",
     "text": [
      "145: 0.9251960784313725\n"
     ]
    },
    {
     "name": "stderr",
     "output_type": "stream",
     "text": [
      "[I 2024-11-05 06:49:29,195] Trial 146 finished with value: 0.925843137254902 and parameters: {'learning_rate': 0.2406755851475649, 'max_leaf_nodes': 64, 'max_depth': 11, 'l2_regularization': 16}. Best is trial 123 with value: 0.9278823529411765.\n"
     ]
    },
    {
     "name": "stdout",
     "output_type": "stream",
     "text": [
      "146: 0.925843137254902\n"
     ]
    },
    {
     "name": "stderr",
     "output_type": "stream",
     "text": [
      "[I 2024-11-05 06:49:31,136] Trial 147 finished with value: 0.9251960784313725 and parameters: {'learning_rate': 0.21326029974767702, 'max_leaf_nodes': 67, 'max_depth': 10, 'l2_regularization': 11}. Best is trial 123 with value: 0.9278823529411765.\n"
     ]
    },
    {
     "name": "stdout",
     "output_type": "stream",
     "text": [
      "147: 0.9251960784313725\n"
     ]
    },
    {
     "name": "stderr",
     "output_type": "stream",
     "text": [
      "[I 2024-11-05 06:49:33,129] Trial 148 finished with value: 0.9262745098039216 and parameters: {'learning_rate': 0.22935176247014172, 'max_leaf_nodes': 70, 'max_depth': 10, 'l2_regularization': 10}. Best is trial 123 with value: 0.9278823529411765.\n"
     ]
    },
    {
     "name": "stdout",
     "output_type": "stream",
     "text": [
      "148: 0.9262745098039216\n"
     ]
    },
    {
     "name": "stderr",
     "output_type": "stream",
     "text": [
      "[I 2024-11-05 06:49:34,761] Trial 149 finished with value: 0.9256666666666667 and parameters: {'learning_rate': 0.23533633313594732, 'max_leaf_nodes': 68, 'max_depth': 9, 'l2_regularization': 8}. Best is trial 123 with value: 0.9278823529411765.\n"
     ]
    },
    {
     "name": "stdout",
     "output_type": "stream",
     "text": [
      "149: 0.9256666666666667\n"
     ]
    },
    {
     "name": "stderr",
     "output_type": "stream",
     "text": [
      "[I 2024-11-05 06:49:36,476] Trial 150 finished with value: 0.9260784313725491 and parameters: {'learning_rate': 0.24628685217089216, 'max_leaf_nodes': 65, 'max_depth': 8, 'l2_regularization': 6}. Best is trial 123 with value: 0.9278823529411765.\n"
     ]
    },
    {
     "name": "stdout",
     "output_type": "stream",
     "text": [
      "150: 0.9260784313725491\n"
     ]
    },
    {
     "name": "stderr",
     "output_type": "stream",
     "text": [
      "[I 2024-11-05 06:49:38,241] Trial 151 finished with value: 0.925921568627451 and parameters: {'learning_rate': 0.24026997381145795, 'max_leaf_nodes': 66, 'max_depth': 10, 'l2_regularization': 9}. Best is trial 123 with value: 0.9278823529411765.\n"
     ]
    },
    {
     "name": "stdout",
     "output_type": "stream",
     "text": [
      "151: 0.925921568627451\n"
     ]
    },
    {
     "name": "stderr",
     "output_type": "stream",
     "text": [
      "[I 2024-11-05 06:49:40,060] Trial 152 finished with value: 0.9262941176470587 and parameters: {'learning_rate': 0.2439873859804199, 'max_leaf_nodes': 66, 'max_depth': 10, 'l2_regularization': 12}. Best is trial 123 with value: 0.9278823529411765.\n"
     ]
    },
    {
     "name": "stdout",
     "output_type": "stream",
     "text": [
      "152: 0.9262941176470587\n"
     ]
    },
    {
     "name": "stderr",
     "output_type": "stream",
     "text": [
      "[I 2024-11-05 06:49:41,928] Trial 153 finished with value: 0.9259803921568627 and parameters: {'learning_rate': 0.23755834555415503, 'max_leaf_nodes': 69, 'max_depth': 10, 'l2_regularization': 11}. Best is trial 123 with value: 0.9278823529411765.\n"
     ]
    },
    {
     "name": "stdout",
     "output_type": "stream",
     "text": [
      "153: 0.9259803921568627\n"
     ]
    },
    {
     "name": "stderr",
     "output_type": "stream",
     "text": [
      "[I 2024-11-05 06:49:43,728] Trial 154 finished with value: 0.9260588235294117 and parameters: {'learning_rate': 0.23184593012935517, 'max_leaf_nodes': 67, 'max_depth': 10, 'l2_regularization': 10}. Best is trial 123 with value: 0.9278823529411765.\n"
     ]
    },
    {
     "name": "stdout",
     "output_type": "stream",
     "text": [
      "154: 0.9260588235294117\n"
     ]
    },
    {
     "name": "stderr",
     "output_type": "stream",
     "text": [
      "[I 2024-11-05 06:49:45,655] Trial 155 finished with value: 0.9261568627450979 and parameters: {'learning_rate': 0.24136111844506414, 'max_leaf_nodes': 64, 'max_depth': 10, 'l2_regularization': 14}. Best is trial 123 with value: 0.9278823529411765.\n"
     ]
    },
    {
     "name": "stdout",
     "output_type": "stream",
     "text": [
      "155: 0.9261568627450979\n"
     ]
    },
    {
     "name": "stderr",
     "output_type": "stream",
     "text": [
      "[I 2024-11-05 06:49:47,794] Trial 156 finished with value: 0.9247058823529413 and parameters: {'learning_rate': 0.2462958018686488, 'max_leaf_nodes': 65, 'max_depth': 11, 'l2_regularization': 15}. Best is trial 123 with value: 0.9278823529411765.\n"
     ]
    },
    {
     "name": "stdout",
     "output_type": "stream",
     "text": [
      "156: 0.9247058823529413\n"
     ]
    },
    {
     "name": "stderr",
     "output_type": "stream",
     "text": [
      "[I 2024-11-05 06:49:49,661] Trial 157 finished with value: 0.9253333333333332 and parameters: {'learning_rate': 0.2331642579811089, 'max_leaf_nodes': 62, 'max_depth': 10, 'l2_regularization': 9}. Best is trial 123 with value: 0.9278823529411765.\n"
     ]
    },
    {
     "name": "stdout",
     "output_type": "stream",
     "text": [
      "157: 0.9253333333333332\n"
     ]
    },
    {
     "name": "stderr",
     "output_type": "stream",
     "text": [
      "[I 2024-11-05 06:49:51,524] Trial 158 finished with value: 0.9261176470588235 and parameters: {'learning_rate': 0.2380464551869405, 'max_leaf_nodes': 67, 'max_depth': 9, 'l2_regularization': 13}. Best is trial 123 with value: 0.9278823529411765.\n"
     ]
    },
    {
     "name": "stdout",
     "output_type": "stream",
     "text": [
      "158: 0.9261176470588235\n"
     ]
    },
    {
     "name": "stderr",
     "output_type": "stream",
     "text": [
      "[I 2024-11-05 06:49:53,622] Trial 159 finished with value: 0.9256862745098039 and parameters: {'learning_rate': 0.20889423052019468, 'max_leaf_nodes': 69, 'max_depth': 11, 'l2_regularization': 12}. Best is trial 123 with value: 0.9278823529411765.\n"
     ]
    },
    {
     "name": "stdout",
     "output_type": "stream",
     "text": [
      "159: 0.9256862745098039\n"
     ]
    },
    {
     "name": "stderr",
     "output_type": "stream",
     "text": [
      "[I 2024-11-05 06:49:55,021] Trial 160 finished with value: 0.9231176470588235 and parameters: {'learning_rate': 0.18842561365254207, 'max_leaf_nodes': 23, 'max_depth': 10, 'l2_regularization': 11}. Best is trial 123 with value: 0.9278823529411765.\n"
     ]
    },
    {
     "name": "stdout",
     "output_type": "stream",
     "text": [
      "160: 0.9231176470588235\n"
     ]
    },
    {
     "name": "stderr",
     "output_type": "stream",
     "text": [
      "[I 2024-11-05 06:49:56,665] Trial 161 finished with value: 0.9265686274509805 and parameters: {'learning_rate': 0.24414753003448958, 'max_leaf_nodes': 56, 'max_depth': 9, 'l2_regularization': 12}. Best is trial 123 with value: 0.9278823529411765.\n"
     ]
    },
    {
     "name": "stdout",
     "output_type": "stream",
     "text": [
      "161: 0.9265686274509805\n"
     ]
    },
    {
     "name": "stderr",
     "output_type": "stream",
     "text": [
      "[I 2024-11-05 06:49:58,382] Trial 162 finished with value: 0.9250980392156863 and parameters: {'learning_rate': 0.241927032475906, 'max_leaf_nodes': 57, 'max_depth': 9, 'l2_regularization': 10}. Best is trial 123 with value: 0.9278823529411765.\n"
     ]
    },
    {
     "name": "stdout",
     "output_type": "stream",
     "text": [
      "162: 0.9250980392156863\n"
     ]
    },
    {
     "name": "stderr",
     "output_type": "stream",
     "text": [
      "[I 2024-11-05 06:50:00,076] Trial 163 finished with value: 0.9264313725490196 and parameters: {'learning_rate': 0.24746919380084348, 'max_leaf_nodes': 51, 'max_depth': 9, 'l2_regularization': 12}. Best is trial 123 with value: 0.9278823529411765.\n"
     ]
    },
    {
     "name": "stdout",
     "output_type": "stream",
     "text": [
      "163: 0.9264313725490196\n"
     ]
    },
    {
     "name": "stderr",
     "output_type": "stream",
     "text": [
      "[I 2024-11-05 06:50:01,816] Trial 164 finished with value: 0.9256078431372549 and parameters: {'learning_rate': 0.24388073591495507, 'max_leaf_nodes': 66, 'max_depth': 9, 'l2_regularization': 8}. Best is trial 123 with value: 0.9278823529411765.\n"
     ]
    },
    {
     "name": "stdout",
     "output_type": "stream",
     "text": [
      "164: 0.9256078431372549\n"
     ]
    },
    {
     "name": "stderr",
     "output_type": "stream",
     "text": [
      "[I 2024-11-05 06:50:03,475] Trial 165 finished with value: 0.9256274509803921 and parameters: {'learning_rate': 0.2358908138654479, 'max_leaf_nodes': 54, 'max_depth': 8, 'l2_regularization': 11}. Best is trial 123 with value: 0.9278823529411765.\n"
     ]
    },
    {
     "name": "stdout",
     "output_type": "stream",
     "text": [
      "165: 0.9256274509803921\n"
     ]
    },
    {
     "name": "stderr",
     "output_type": "stream",
     "text": [
      "[I 2024-11-05 06:50:05,363] Trial 166 finished with value: 0.9267843137254902 and parameters: {'learning_rate': 0.22438631271902187, 'max_leaf_nodes': 63, 'max_depth': 10, 'l2_regularization': 9}. Best is trial 123 with value: 0.9278823529411765.\n"
     ]
    },
    {
     "name": "stdout",
     "output_type": "stream",
     "text": [
      "166: 0.9267843137254902\n"
     ]
    },
    {
     "name": "stderr",
     "output_type": "stream",
     "text": [
      "[I 2024-11-05 06:50:07,047] Trial 167 finished with value: 0.9255686274509803 and parameters: {'learning_rate': 0.2194104857917652, 'max_leaf_nodes': 63, 'max_depth': 8, 'l2_regularization': 9}. Best is trial 123 with value: 0.9278823529411765.\n"
     ]
    },
    {
     "name": "stdout",
     "output_type": "stream",
     "text": [
      "167: 0.9255686274509803\n"
     ]
    },
    {
     "name": "stderr",
     "output_type": "stream",
     "text": [
      "[I 2024-11-05 06:50:08,964] Trial 168 finished with value: 0.925156862745098 and parameters: {'learning_rate': 0.2230471501178654, 'max_leaf_nodes': 64, 'max_depth': 9, 'l2_regularization': 18}. Best is trial 123 with value: 0.9278823529411765.\n"
     ]
    },
    {
     "name": "stdout",
     "output_type": "stream",
     "text": [
      "168: 0.925156862745098\n"
     ]
    },
    {
     "name": "stderr",
     "output_type": "stream",
     "text": [
      "[I 2024-11-05 06:50:10,706] Trial 169 finished with value: 0.9250392156862746 and parameters: {'learning_rate': 0.2278250235267152, 'max_leaf_nodes': 68, 'max_depth': 10, 'l2_regularization': 8}. Best is trial 123 with value: 0.9278823529411765.\n"
     ]
    },
    {
     "name": "stdout",
     "output_type": "stream",
     "text": [
      "169: 0.9250392156862746\n"
     ]
    },
    {
     "name": "stderr",
     "output_type": "stream",
     "text": [
      "[I 2024-11-05 06:50:12,428] Trial 170 finished with value: 0.9257254901960784 and parameters: {'learning_rate': 0.216179156106654, 'max_leaf_nodes': 65, 'max_depth': 9, 'l2_regularization': 7}. Best is trial 123 with value: 0.9278823529411765.\n"
     ]
    },
    {
     "name": "stdout",
     "output_type": "stream",
     "text": [
      "170: 0.9257254901960784\n"
     ]
    },
    {
     "name": "stderr",
     "output_type": "stream",
     "text": [
      "[I 2024-11-05 06:50:13,829] Trial 171 finished with value: 0.9254705882352942 and parameters: {'learning_rate': 0.2396180228532043, 'max_leaf_nodes': 30, 'max_depth': 10, 'l2_regularization': 10}. Best is trial 123 with value: 0.9278823529411765.\n"
     ]
    },
    {
     "name": "stdout",
     "output_type": "stream",
     "text": [
      "171: 0.9254705882352942\n"
     ]
    },
    {
     "name": "stderr",
     "output_type": "stream",
     "text": [
      "[I 2024-11-05 06:50:15,666] Trial 172 finished with value: 0.9263921568627452 and parameters: {'learning_rate': 0.24996055599453534, 'max_leaf_nodes': 66, 'max_depth': 10, 'l2_regularization': 11}. Best is trial 123 with value: 0.9278823529411765.\n"
     ]
    },
    {
     "name": "stdout",
     "output_type": "stream",
     "text": [
      "172: 0.9263921568627452\n"
     ]
    },
    {
     "name": "stderr",
     "output_type": "stream",
     "text": [
      "[I 2024-11-05 06:50:17,435] Trial 173 finished with value: 0.925470588235294 and parameters: {'learning_rate': 0.23319408650546677, 'max_leaf_nodes': 64, 'max_depth': 10, 'l2_regularization': 9}. Best is trial 123 with value: 0.9278823529411765.\n"
     ]
    },
    {
     "name": "stdout",
     "output_type": "stream",
     "text": [
      "173: 0.925470588235294\n"
     ]
    },
    {
     "name": "stderr",
     "output_type": "stream",
     "text": [
      "[I 2024-11-05 06:50:19,172] Trial 174 finished with value: 0.9248431372549021 and parameters: {'learning_rate': 0.24486773601681183, 'max_leaf_nodes': 48, 'max_depth': 10, 'l2_regularization': 13}. Best is trial 123 with value: 0.9278823529411765.\n"
     ]
    },
    {
     "name": "stdout",
     "output_type": "stream",
     "text": [
      "174: 0.9248431372549021\n"
     ]
    },
    {
     "name": "stderr",
     "output_type": "stream",
     "text": [
      "[I 2024-11-05 06:50:21,379] Trial 175 finished with value: 0.9251764705882354 and parameters: {'learning_rate': 0.22525478849795055, 'max_leaf_nodes': 67, 'max_depth': 10, 'l2_regularization': 17}. Best is trial 123 with value: 0.9278823529411765.\n"
     ]
    },
    {
     "name": "stdout",
     "output_type": "stream",
     "text": [
      "175: 0.9251764705882354\n"
     ]
    },
    {
     "name": "stderr",
     "output_type": "stream",
     "text": [
      "[I 2024-11-05 06:50:23,068] Trial 176 finished with value: 0.9253921568627451 and parameters: {'learning_rate': 0.2373467943437032, 'max_leaf_nodes': 60, 'max_depth': 11, 'l2_regularization': 10}. Best is trial 123 with value: 0.9278823529411765.\n"
     ]
    },
    {
     "name": "stdout",
     "output_type": "stream",
     "text": [
      "176: 0.9253921568627451\n"
     ]
    },
    {
     "name": "stderr",
     "output_type": "stream",
     "text": [
      "[I 2024-11-05 06:50:25,171] Trial 177 finished with value: 0.9259803921568627 and parameters: {'learning_rate': 0.22975925270171216, 'max_leaf_nodes': 68, 'max_depth': 10, 'l2_regularization': 11}. Best is trial 123 with value: 0.9278823529411765.\n"
     ]
    },
    {
     "name": "stdout",
     "output_type": "stream",
     "text": [
      "177: 0.9259803921568627\n"
     ]
    },
    {
     "name": "stderr",
     "output_type": "stream",
     "text": [
      "[I 2024-11-05 06:50:26,767] Trial 178 finished with value: 0.9247843137254902 and parameters: {'learning_rate': 0.2467051518448875, 'max_leaf_nodes': 63, 'max_depth': 10, 'l2_regularization': 7}. Best is trial 123 with value: 0.9278823529411765.\n"
     ]
    },
    {
     "name": "stdout",
     "output_type": "stream",
     "text": [
      "178: 0.9247843137254902\n"
     ]
    },
    {
     "name": "stderr",
     "output_type": "stream",
     "text": [
      "[I 2024-11-05 06:50:28,620] Trial 179 finished with value: 0.9263529411764706 and parameters: {'learning_rate': 0.24235722077157038, 'max_leaf_nodes': 70, 'max_depth': 9, 'l2_regularization': 12}. Best is trial 123 with value: 0.9278823529411765.\n"
     ]
    },
    {
     "name": "stdout",
     "output_type": "stream",
     "text": [
      "179: 0.9263529411764706\n"
     ]
    },
    {
     "name": "stderr",
     "output_type": "stream",
     "text": [
      "[I 2024-11-05 06:50:30,712] Trial 180 finished with value: 0.9259411764705883 and parameters: {'learning_rate': 0.23504086792705414, 'max_leaf_nodes': 65, 'max_depth': 8, 'l2_regularization': 16}. Best is trial 123 with value: 0.9278823529411765.\n"
     ]
    },
    {
     "name": "stdout",
     "output_type": "stream",
     "text": [
      "180: 0.9259411764705883\n"
     ]
    },
    {
     "name": "stderr",
     "output_type": "stream",
     "text": [
      "[I 2024-11-05 06:50:32,448] Trial 181 finished with value: 0.9249999999999999 and parameters: {'learning_rate': 0.24009265617621617, 'max_leaf_nodes': 57, 'max_depth': 9, 'l2_regularization': 12}. Best is trial 123 with value: 0.9278823529411765.\n"
     ]
    },
    {
     "name": "stdout",
     "output_type": "stream",
     "text": [
      "181: 0.9249999999999999\n"
     ]
    },
    {
     "name": "stderr",
     "output_type": "stream",
     "text": [
      "[I 2024-11-05 06:50:34,296] Trial 182 finished with value: 0.9258235294117648 and parameters: {'learning_rate': 0.24998702777012935, 'max_leaf_nodes': 66, 'max_depth': 9, 'l2_regularization': 13}. Best is trial 123 with value: 0.9278823529411765.\n"
     ]
    },
    {
     "name": "stdout",
     "output_type": "stream",
     "text": [
      "182: 0.9258235294117648\n"
     ]
    },
    {
     "name": "stderr",
     "output_type": "stream",
     "text": [
      "[I 2024-11-05 06:50:36,287] Trial 183 finished with value: 0.925607843137255 and parameters: {'learning_rate': 0.17204964465222644, 'max_leaf_nodes': 53, 'max_depth': 9, 'l2_regularization': 8}. Best is trial 123 with value: 0.9278823529411765.\n"
     ]
    },
    {
     "name": "stdout",
     "output_type": "stream",
     "text": [
      "183: 0.925607843137255\n"
     ]
    },
    {
     "name": "stderr",
     "output_type": "stream",
     "text": [
      "[I 2024-11-05 06:50:38,918] Trial 184 finished with value: 0.9260196078431373 and parameters: {'learning_rate': 0.15511876669273184, 'max_leaf_nodes': 67, 'max_depth': 9, 'l2_regularization': 14}. Best is trial 123 with value: 0.9278823529411765.\n"
     ]
    },
    {
     "name": "stdout",
     "output_type": "stream",
     "text": [
      "184: 0.9260196078431373\n"
     ]
    },
    {
     "name": "stderr",
     "output_type": "stream",
     "text": [
      "[I 2024-11-05 06:50:40,553] Trial 185 finished with value: 0.9253725490196079 and parameters: {'learning_rate': 0.24330884255265828, 'max_leaf_nodes': 68, 'max_depth': 10, 'l2_regularization': 9}. Best is trial 123 with value: 0.9278823529411765.\n"
     ]
    },
    {
     "name": "stdout",
     "output_type": "stream",
     "text": [
      "185: 0.9253725490196079\n"
     ]
    },
    {
     "name": "stderr",
     "output_type": "stream",
     "text": [
      "[I 2024-11-05 06:50:42,262] Trial 186 finished with value: 0.9255294117647058 and parameters: {'learning_rate': 0.23213996032540532, 'max_leaf_nodes': 58, 'max_depth': 8, 'l2_regularization': 11}. Best is trial 123 with value: 0.9278823529411765.\n"
     ]
    },
    {
     "name": "stdout",
     "output_type": "stream",
     "text": [
      "186: 0.9255294117647058\n"
     ]
    },
    {
     "name": "stderr",
     "output_type": "stream",
     "text": [
      "[I 2024-11-05 06:50:43,903] Trial 187 finished with value: 0.926392156862745 and parameters: {'learning_rate': 0.23828385302035746, 'max_leaf_nodes': 59, 'max_depth': 10, 'l2_regularization': 10}. Best is trial 123 with value: 0.9278823529411765.\n"
     ]
    },
    {
     "name": "stdout",
     "output_type": "stream",
     "text": [
      "187: 0.926392156862745\n"
     ]
    },
    {
     "name": "stderr",
     "output_type": "stream",
     "text": [
      "[I 2024-11-05 06:50:46,626] Trial 188 finished with value: 0.9241372549019609 and parameters: {'learning_rate': 0.09688068309700963, 'max_leaf_nodes': 56, 'max_depth': 11, 'l2_regularization': 9}. Best is trial 123 with value: 0.9278823529411765.\n"
     ]
    },
    {
     "name": "stdout",
     "output_type": "stream",
     "text": [
      "188: 0.9241372549019609\n"
     ]
    },
    {
     "name": "stderr",
     "output_type": "stream",
     "text": [
      "[I 2024-11-05 06:50:48,608] Trial 189 finished with value: 0.9262941176470588 and parameters: {'learning_rate': 0.20227026398188885, 'max_leaf_nodes': 55, 'max_depth': 10, 'l2_regularization': 12}. Best is trial 123 with value: 0.9278823529411765.\n"
     ]
    },
    {
     "name": "stdout",
     "output_type": "stream",
     "text": [
      "189: 0.9262941176470588\n"
     ]
    },
    {
     "name": "stderr",
     "output_type": "stream",
     "text": [
      "[I 2024-11-05 06:50:50,518] Trial 190 finished with value: 0.9247058823529412 and parameters: {'learning_rate': 0.22459651359562313, 'max_leaf_nodes': 62, 'max_depth': 12, 'l2_regularization': 15}. Best is trial 123 with value: 0.9278823529411765.\n"
     ]
    },
    {
     "name": "stdout",
     "output_type": "stream",
     "text": [
      "190: 0.9247058823529412\n"
     ]
    },
    {
     "name": "stderr",
     "output_type": "stream",
     "text": [
      "[I 2024-11-05 06:50:54,686] Trial 191 finished with value: 0.9260588235294117 and parameters: {'learning_rate': 0.08259813598595656, 'max_leaf_nodes': 67, 'max_depth': 12, 'l2_regularization': 9}. Best is trial 123 with value: 0.9278823529411765.\n"
     ]
    },
    {
     "name": "stdout",
     "output_type": "stream",
     "text": [
      "191: 0.9260588235294117\n"
     ]
    },
    {
     "name": "stderr",
     "output_type": "stream",
     "text": [
      "[I 2024-11-05 06:50:56,485] Trial 192 finished with value: 0.9245490196078432 and parameters: {'learning_rate': 0.24071274294516415, 'max_leaf_nodes': 66, 'max_depth': 12, 'l2_regularization': 10}. Best is trial 123 with value: 0.9278823529411765.\n"
     ]
    },
    {
     "name": "stdout",
     "output_type": "stream",
     "text": [
      "192: 0.9245490196078432\n"
     ]
    },
    {
     "name": "stderr",
     "output_type": "stream",
     "text": [
      "[I 2024-11-05 06:50:58,132] Trial 193 finished with value: 0.9249607843137255 and parameters: {'learning_rate': 0.24465713710758813, 'max_leaf_nodes': 69, 'max_depth': 8, 'l2_regularization': 8}. Best is trial 123 with value: 0.9278823529411765.\n"
     ]
    },
    {
     "name": "stdout",
     "output_type": "stream",
     "text": [
      "193: 0.9249607843137255\n"
     ]
    },
    {
     "name": "stderr",
     "output_type": "stream",
     "text": [
      "[I 2024-11-05 06:51:00,188] Trial 194 finished with value: 0.9266078431372549 and parameters: {'learning_rate': 0.24133155879486798, 'max_leaf_nodes': 65, 'max_depth': 12, 'l2_regularization': 9}. Best is trial 123 with value: 0.9278823529411765.\n"
     ]
    },
    {
     "name": "stdout",
     "output_type": "stream",
     "text": [
      "194: 0.9266078431372549\n"
     ]
    },
    {
     "name": "stderr",
     "output_type": "stream",
     "text": [
      "[I 2024-11-05 06:51:01,910] Trial 195 finished with value: 0.9241960784313726 and parameters: {'learning_rate': 0.2356482945765046, 'max_leaf_nodes': 65, 'max_depth': 12, 'l2_regularization': 10}. Best is trial 123 with value: 0.9278823529411765.\n"
     ]
    },
    {
     "name": "stdout",
     "output_type": "stream",
     "text": [
      "195: 0.9241960784313726\n"
     ]
    },
    {
     "name": "stderr",
     "output_type": "stream",
     "text": [
      "[I 2024-11-05 06:51:03,736] Trial 196 finished with value: 0.9267647058823529 and parameters: {'learning_rate': 0.24743195528161432, 'max_leaf_nodes': 64, 'max_depth': 12, 'l2_regularization': 11}. Best is trial 123 with value: 0.9278823529411765.\n"
     ]
    },
    {
     "name": "stdout",
     "output_type": "stream",
     "text": [
      "196: 0.9267647058823529\n"
     ]
    },
    {
     "name": "stderr",
     "output_type": "stream",
     "text": [
      "[I 2024-11-05 06:51:05,488] Trial 197 finished with value: 0.9248235294117647 and parameters: {'learning_rate': 0.24694982280087288, 'max_leaf_nodes': 64, 'max_depth': 12, 'l2_regularization': 11}. Best is trial 123 with value: 0.9278823529411765.\n"
     ]
    },
    {
     "name": "stdout",
     "output_type": "stream",
     "text": [
      "197: 0.9248235294117647\n"
     ]
    },
    {
     "name": "stderr",
     "output_type": "stream",
     "text": [
      "[I 2024-11-05 06:51:07,219] Trial 198 finished with value: 0.9255294117647059 and parameters: {'learning_rate': 0.24284687671025812, 'max_leaf_nodes': 63, 'max_depth': 12, 'l2_regularization': 8}. Best is trial 123 with value: 0.9278823529411765.\n"
     ]
    },
    {
     "name": "stdout",
     "output_type": "stream",
     "text": [
      "198: 0.9255294117647059\n"
     ]
    },
    {
     "name": "stderr",
     "output_type": "stream",
     "text": [
      "[I 2024-11-05 06:51:08,935] Trial 199 finished with value: 0.9248235294117646 and parameters: {'learning_rate': 0.24691860132751864, 'max_leaf_nodes': 64, 'max_depth': 12, 'l2_regularization': 9}. Best is trial 123 with value: 0.9278823529411765.\n"
     ]
    },
    {
     "name": "stdout",
     "output_type": "stream",
     "text": [
      "199: 0.9248235294117646\n",
      "Best parameters: {'learning_rate': 0.24348917137475487, 'max_leaf_nodes': 68, 'max_depth': 11, 'l2_regularization': 10}\n",
      "Best score: 0.9278823529411765\n"
     ]
    }
   ],
   "source": [
    "oo=0\n",
    "\n",
    "def optim(trial):\n",
    "    hg_params = {\n",
    "        'loss': 'log_loss',\n",
    "        'max_iter': 1512, \n",
    "        'learning_rate': trial.suggest_float('learning_rate',0.08,0.25),\n",
    "        'max_leaf_nodes': trial.suggest_int('max_leaf_nodes',20,70),\n",
    "        'max_depth': trial.suggest_int('max_depth',7,12),\n",
    "        'min_samples_leaf':20,\n",
    "        'l2_regularization': trial.suggest_int('l2_regularization',0,30),\n",
    "        'categorical_features': CAT_COLS,\n",
    "        'early_stopping': 'auto',\n",
    "        \"validation_fraction\": 0.2, \n",
    "        'verbose':0,\n",
    "        'class_weight': wts\n",
    "    }\n",
    "    FOLDS = 3\n",
    "    scores = np.zeros(FOLDS)\n",
    "    kf = KFold(n_splits = FOLDS)\n",
    "    for i, (trndex,valdex) in enumerate(kf.split(trainsmall.id)):\n",
    "        xtrain,ytrain = trainsmall.loc[trndex,BOTH], trainsmall.loc[trndex,TARGET]\n",
    "        xval, yval    = trainsmall.loc[valdex,BOTH], trainsmall.loc[valdex,TARGET]\n",
    "        \n",
    "        model = HGBC(**hg_params) \n",
    "        model = model.fit(xtrain,ytrain)\n",
    "        ypred = np.array(model.predict(xval))\n",
    "        # ypred[ypred>=.5]=1\n",
    "        # ypred[ypred<.5]=0\n",
    "        ascore = accuracy_score(yval,ypred)\n",
    "        scores[i] = ascore\n",
    "    \n",
    "    global oo\n",
    "    print(f\"{oo}: {np.mean(scores)}\") \n",
    "    oo +=1\n",
    "    return np.mean(scores)\n",
    "study = optuna.create_study(direction='maximize')\n",
    "study.optimize(optim,n_trials = 200)\n",
    "\n",
    "#report the results \n",
    "print('Best parameters:', study.best_trial.params)\n",
    "print('Best score:', study.best_value)"
   ]
  },
  {
   "cell_type": "code",
   "execution_count": null,
   "id": "a0d086ab",
   "metadata": {
    "papermill": {
     "duration": 0.033993,
     "end_time": "2024-11-05T06:51:09.010593",
     "exception": false,
     "start_time": "2024-11-05T06:51:08.976600",
     "status": "completed"
    },
    "tags": []
   },
   "outputs": [],
   "source": []
  },
  {
   "cell_type": "code",
   "execution_count": null,
   "id": "cdf3017d",
   "metadata": {
    "papermill": {
     "duration": 0.033856,
     "end_time": "2024-11-05T06:51:09.078091",
     "exception": false,
     "start_time": "2024-11-05T06:51:09.044235",
     "status": "completed"
    },
    "tags": []
   },
   "outputs": [],
   "source": []
  }
 ],
 "metadata": {
  "kaggle": {
   "accelerator": "none",
   "dataSources": [
    {
     "databundleVersionId": 10008389,
     "sourceId": 84895,
     "sourceType": "competition"
    }
   ],
   "dockerImageVersionId": 30786,
   "isGpuEnabled": false,
   "isInternetEnabled": true,
   "language": "python",
   "sourceType": "notebook"
  },
  "kernelspec": {
   "display_name": "Python 3",
   "language": "python",
   "name": "python3"
  },
  "language_info": {
   "codemirror_mode": {
    "name": "ipython",
    "version": 3
   },
   "file_extension": ".py",
   "mimetype": "text/x-python",
   "name": "python",
   "nbconvert_exporter": "python",
   "pygments_lexer": "ipython3",
   "version": "3.10.14"
  },
  "papermill": {
   "default_parameters": {},
   "duration": 421.719162,
   "end_time": "2024-11-05T06:51:09.935133",
   "environment_variables": {},
   "exception": null,
   "input_path": "__notebook__.ipynb",
   "output_path": "__notebook__.ipynb",
   "parameters": {},
   "start_time": "2024-11-05T06:44:08.215971",
   "version": "2.6.0"
  }
 },
 "nbformat": 4,
 "nbformat_minor": 5
}
