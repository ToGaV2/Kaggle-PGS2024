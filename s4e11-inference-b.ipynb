{
 "cells": [
  {
   "cell_type": "code",
   "execution_count": 1,
   "id": "cef59cd9",
   "metadata": {
    "_cell_guid": "b1076dfc-b9ad-4769-8c92-a6c4dae69d19",
    "_uuid": "8f2839f25d086af736a60e9eeb907d3b93b6e0e5",
    "execution": {
     "iopub.execute_input": "2024-11-14T11:01:49.681952Z",
     "iopub.status.busy": "2024-11-14T11:01:49.681250Z",
     "iopub.status.idle": "2024-11-14T11:02:06.538261Z",
     "shell.execute_reply": "2024-11-14T11:02:06.537289Z"
    },
    "papermill": {
     "duration": 16.866883,
     "end_time": "2024-11-14T11:02:06.540679",
     "exception": false,
     "start_time": "2024-11-14T11:01:49.673796",
     "status": "completed"
    },
    "tags": []
   },
   "outputs": [],
   "source": [
    "# import the libraries\n",
    "import tensorflow\n",
    "import keras\n",
    "from sklearn.metrics import accuracy_score\n",
    "import numpy as np # linear algebra\n",
    "import pandas as pd # data processing, CSV file I/O (e.g. pd.read_csv)\n",
    "from sklearn.model_selection import KFold\n",
    "from sklearn.preprocessing import OrdinalEncoder as OE\n",
    "from catboost import CatBoostClassifier, Pool"
   ]
  },
  {
   "cell_type": "code",
   "execution_count": 2,
   "id": "1659b0ad",
   "metadata": {
    "execution": {
     "iopub.execute_input": "2024-11-14T11:02:06.553716Z",
     "iopub.status.busy": "2024-11-14T11:02:06.553171Z",
     "iopub.status.idle": "2024-11-14T11:02:07.852502Z",
     "shell.execute_reply": "2024-11-14T11:02:07.851591Z"
    },
    "papermill": {
     "duration": 1.308253,
     "end_time": "2024-11-14T11:02:07.854914",
     "exception": false,
     "start_time": "2024-11-14T11:02:06.546661",
     "status": "completed"
    },
    "tags": []
   },
   "outputs": [],
   "source": [
    "# load all the data\n",
    "train = pd.read_csv('//kaggle/input/playground-series-s4e11/train.csv')\n",
    "cbo = pd.read_csv('/kaggle/input/s4e11-inference-a/cboof.csv')\n",
    "hgo = pd.read_csv('/kaggle/input/s4e11-inference-a/hgoof.csv')\n",
    "lgo = pd.read_csv('/kaggle/input/s4e11-inference-a/lgoof.csv')\n",
    "\n",
    "test = pd.read_csv('/kaggle/input/playground-series-s4e11/test.csv')\n",
    "cbt = pd.read_csv('/kaggle/input/s4e11-inference-a/cbsubprobs.csv')\n",
    "hgt = pd.read_csv('/kaggle/input/s4e11-inference-a/hgsubprobs.csv')\n",
    "lgt = pd.read_csv('/kaggle/input/s4e11-inference-a/lgsubprobs.csv')\n"
   ]
  },
  {
   "cell_type": "code",
   "execution_count": 3,
   "id": "db3dd8ea",
   "metadata": {
    "execution": {
     "iopub.execute_input": "2024-11-14T11:02:07.872986Z",
     "iopub.status.busy": "2024-11-14T11:02:07.872649Z",
     "iopub.status.idle": "2024-11-14T11:02:07.916045Z",
     "shell.execute_reply": "2024-11-14T11:02:07.915334Z"
    },
    "papermill": {
     "duration": 0.053135,
     "end_time": "2024-11-14T11:02:07.917936",
     "exception": false,
     "start_time": "2024-11-14T11:02:07.864801",
     "status": "completed"
    },
    "tags": []
   },
   "outputs": [],
   "source": [
    "# set the target\n",
    "TARGET = 'Depression'\n",
    "\n",
    "# make a dataframe of the baselines and predictions\n",
    "tt = train[['id',TARGET]].copy()\n",
    "tt['cb']= cbo[TARGET]\n",
    "tt['hg']= hgo[TARGET]\n",
    "tt['lg']= lgo[TARGET]\n",
    "\n",
    "\n",
    "te = pd.read_csv('/kaggle/input/playground-series-s4e11/sample_submission.csv')\n",
    "te['cb']= cbt[TARGET]\n",
    "te['hg']= hgt[TARGET]\n",
    "te['lg']= lgt[TARGET]"
   ]
  },
  {
   "cell_type": "code",
   "execution_count": 4,
   "id": "edb361b2",
   "metadata": {
    "execution": {
     "iopub.execute_input": "2024-11-14T11:02:07.930367Z",
     "iopub.status.busy": "2024-11-14T11:02:07.930030Z",
     "iopub.status.idle": "2024-11-14T11:02:07.945926Z",
     "shell.execute_reply": "2024-11-14T11:02:07.944956Z"
    },
    "papermill": {
     "duration": 0.024349,
     "end_time": "2024-11-14T11:02:07.947950",
     "exception": false,
     "start_time": "2024-11-14T11:02:07.923601",
     "status": "completed"
    },
    "tags": []
   },
   "outputs": [
    {
     "data": {
      "text/html": [
       "<div>\n",
       "<style scoped>\n",
       "    .dataframe tbody tr th:only-of-type {\n",
       "        vertical-align: middle;\n",
       "    }\n",
       "\n",
       "    .dataframe tbody tr th {\n",
       "        vertical-align: top;\n",
       "    }\n",
       "\n",
       "    .dataframe thead th {\n",
       "        text-align: right;\n",
       "    }\n",
       "</style>\n",
       "<table border=\"1\" class=\"dataframe\">\n",
       "  <thead>\n",
       "    <tr style=\"text-align: right;\">\n",
       "      <th></th>\n",
       "      <th>id</th>\n",
       "      <th>Depression</th>\n",
       "      <th>cb</th>\n",
       "      <th>hg</th>\n",
       "      <th>lg</th>\n",
       "    </tr>\n",
       "  </thead>\n",
       "  <tbody>\n",
       "    <tr>\n",
       "      <th>0</th>\n",
       "      <td>0</td>\n",
       "      <td>0</td>\n",
       "      <td>0.000640</td>\n",
       "      <td>0.000693</td>\n",
       "      <td>0.001523</td>\n",
       "    </tr>\n",
       "    <tr>\n",
       "      <th>1</th>\n",
       "      <td>1</td>\n",
       "      <td>1</td>\n",
       "      <td>0.654026</td>\n",
       "      <td>0.662836</td>\n",
       "      <td>0.778344</td>\n",
       "    </tr>\n",
       "    <tr>\n",
       "      <th>2</th>\n",
       "      <td>2</td>\n",
       "      <td>1</td>\n",
       "      <td>0.484512</td>\n",
       "      <td>0.126605</td>\n",
       "      <td>0.344253</td>\n",
       "    </tr>\n",
       "    <tr>\n",
       "      <th>3</th>\n",
       "      <td>3</td>\n",
       "      <td>1</td>\n",
       "      <td>0.881125</td>\n",
       "      <td>0.660651</td>\n",
       "      <td>0.891852</td>\n",
       "    </tr>\n",
       "    <tr>\n",
       "      <th>4</th>\n",
       "      <td>4</td>\n",
       "      <td>0</td>\n",
       "      <td>0.472058</td>\n",
       "      <td>0.082273</td>\n",
       "      <td>0.293054</td>\n",
       "    </tr>\n",
       "  </tbody>\n",
       "</table>\n",
       "</div>"
      ],
      "text/plain": [
       "   id  Depression        cb        hg        lg\n",
       "0   0           0  0.000640  0.000693  0.001523\n",
       "1   1           1  0.654026  0.662836  0.778344\n",
       "2   2           1  0.484512  0.126605  0.344253\n",
       "3   3           1  0.881125  0.660651  0.891852\n",
       "4   4           0  0.472058  0.082273  0.293054"
      ]
     },
     "execution_count": 4,
     "metadata": {},
     "output_type": "execute_result"
    }
   ],
   "source": [
    "tt.head()"
   ]
  },
  {
   "cell_type": "code",
   "execution_count": 5,
   "id": "fa115e3e",
   "metadata": {
    "execution": {
     "iopub.execute_input": "2024-11-14T11:02:07.961599Z",
     "iopub.status.busy": "2024-11-14T11:02:07.961256Z",
     "iopub.status.idle": "2024-11-14T11:02:07.971487Z",
     "shell.execute_reply": "2024-11-14T11:02:07.970586Z"
    },
    "papermill": {
     "duration": 0.018981,
     "end_time": "2024-11-14T11:02:07.973772",
     "exception": false,
     "start_time": "2024-11-14T11:02:07.954791",
     "status": "completed"
    },
    "tags": []
   },
   "outputs": [
    {
     "data": {
      "text/html": [
       "<div>\n",
       "<style scoped>\n",
       "    .dataframe tbody tr th:only-of-type {\n",
       "        vertical-align: middle;\n",
       "    }\n",
       "\n",
       "    .dataframe tbody tr th {\n",
       "        vertical-align: top;\n",
       "    }\n",
       "\n",
       "    .dataframe thead th {\n",
       "        text-align: right;\n",
       "    }\n",
       "</style>\n",
       "<table border=\"1\" class=\"dataframe\">\n",
       "  <thead>\n",
       "    <tr style=\"text-align: right;\">\n",
       "      <th></th>\n",
       "      <th>id</th>\n",
       "      <th>Depression</th>\n",
       "      <th>cb</th>\n",
       "      <th>hg</th>\n",
       "      <th>lg</th>\n",
       "    </tr>\n",
       "  </thead>\n",
       "  <tbody>\n",
       "    <tr>\n",
       "      <th>0</th>\n",
       "      <td>140700</td>\n",
       "      <td>0</td>\n",
       "      <td>0.000324</td>\n",
       "      <td>0.000650</td>\n",
       "      <td>0.001785</td>\n",
       "    </tr>\n",
       "    <tr>\n",
       "      <th>1</th>\n",
       "      <td>140701</td>\n",
       "      <td>0</td>\n",
       "      <td>0.000216</td>\n",
       "      <td>0.000566</td>\n",
       "      <td>0.001207</td>\n",
       "    </tr>\n",
       "    <tr>\n",
       "      <th>2</th>\n",
       "      <td>140702</td>\n",
       "      <td>0</td>\n",
       "      <td>0.032181</td>\n",
       "      <td>0.005036</td>\n",
       "      <td>0.022442</td>\n",
       "    </tr>\n",
       "    <tr>\n",
       "      <th>3</th>\n",
       "      <td>140703</td>\n",
       "      <td>0</td>\n",
       "      <td>0.977608</td>\n",
       "      <td>0.884274</td>\n",
       "      <td>0.958822</td>\n",
       "    </tr>\n",
       "    <tr>\n",
       "      <th>4</th>\n",
       "      <td>140704</td>\n",
       "      <td>0</td>\n",
       "      <td>0.016718</td>\n",
       "      <td>0.004565</td>\n",
       "      <td>0.017693</td>\n",
       "    </tr>\n",
       "  </tbody>\n",
       "</table>\n",
       "</div>"
      ],
      "text/plain": [
       "       id  Depression        cb        hg        lg\n",
       "0  140700           0  0.000324  0.000650  0.001785\n",
       "1  140701           0  0.000216  0.000566  0.001207\n",
       "2  140702           0  0.032181  0.005036  0.022442\n",
       "3  140703           0  0.977608  0.884274  0.958822\n",
       "4  140704           0  0.016718  0.004565  0.017693"
      ]
     },
     "execution_count": 5,
     "metadata": {},
     "output_type": "execute_result"
    }
   ],
   "source": [
    "te.head()"
   ]
  },
  {
   "cell_type": "code",
   "execution_count": 6,
   "id": "9ade54c7",
   "metadata": {
    "execution": {
     "iopub.execute_input": "2024-11-14T11:02:07.987243Z",
     "iopub.status.busy": "2024-11-14T11:02:07.986987Z",
     "iopub.status.idle": "2024-11-14T11:02:09.024736Z",
     "shell.execute_reply": "2024-11-14T11:02:09.023376Z"
    },
    "papermill": {
     "duration": 1.046733,
     "end_time": "2024-11-14T11:02:09.026995",
     "exception": false,
     "start_time": "2024-11-14T11:02:07.980262",
     "status": "completed"
    },
    "tags": []
   },
   "outputs": [
    {
     "name": "stdout",
     "output_type": "stream",
     "text": [
      "True\n",
      "Name:  0 0\n",
      "Gender:  0 0\n",
      "City:  0 0\n",
      "Working Professional or Student:  0 0\n",
      "Profession:  0 0\n",
      "Sleep Duration:  0 0\n",
      "Dietary Habits:  0 0\n",
      "Degree:  0 0\n",
      "Have you ever had suicidal thoughts ?:  0 0\n",
      "Family History of Mental Illness:  0 0\n"
     ]
    }
   ],
   "source": [
    "# Prepare Cat, Numerical, and Both Columns\n",
    "trc = list(train.columns)\n",
    "tec = list(test.columns)\n",
    "NUM_COLS, CAT_COLS = [],[]\n",
    "for i in trc:\n",
    "    if i not in tec:\n",
    "        TARGET = i\n",
    "    elif train[i].dtype in [int,float]:\n",
    "        NUM_COLS.append(i)\n",
    "    else:\n",
    "        CAT_COLS.append(i)\n",
    "\n",
    "# test that they add up\n",
    "print((len(CAT_COLS) + len(NUM_COLS) + 1) == len(trc))\n",
    "\n",
    "# make BOTH for CV ease\n",
    "BOTH = NUM_COLS + CAT_COLS\n",
    "\n",
    "# remove the ids\n",
    "NUM_COLS.remove('id')\n",
    "\n",
    "# filter out rare names\n",
    "nns = train.Name.value_counts()\n",
    "nns = nns.loc[nns<2] \n",
    "train.loc[train.index[train.Name.isin(nns.index)],'Name'] ='rare'\n",
    "train.Name.nunique()\n",
    "\n",
    "# ordinal encode the text\n",
    "oe = OE( handle_unknown = 'use_encoded_value', unknown_value= -1, encoded_missing_value= -2)\n",
    "oe.fit(train[CAT_COLS])\n",
    "train[CAT_COLS] = oe.transform(train[CAT_COLS])\n",
    "test[CAT_COLS] = oe.transform(test[CAT_COLS])\n",
    "\n",
    "# Move up the numbers to 0 and make them numpy integers\n",
    "for i in CAT_COLS:\n",
    "    train[i] = train[i].astype(np.int64) + 2   \n",
    "    test[i] = test[i].astype(np.int64) + 2\n",
    "    print(f\"{i}: \",train[i].isna().sum(),test[i].isna().sum())"
   ]
  },
  {
   "cell_type": "code",
   "execution_count": 7,
   "id": "10b29c93",
   "metadata": {
    "execution": {
     "iopub.execute_input": "2024-11-14T11:02:09.041495Z",
     "iopub.status.busy": "2024-11-14T11:02:09.041147Z",
     "iopub.status.idle": "2024-11-14T11:12:04.439490Z",
     "shell.execute_reply": "2024-11-14T11:12:04.438528Z"
    },
    "papermill": {
     "duration": 595.416167,
     "end_time": "2024-11-14T11:12:04.449778",
     "exception": false,
     "start_time": "2024-11-14T11:02:09.033611",
     "status": "completed"
    },
    "tags": []
   },
   "outputs": [
    {
     "name": "stdout",
     "output_type": "stream",
     "text": [
      "2  Completed\n",
      "3  Completed\n",
      "4  Completed\n"
     ]
    }
   ],
   "source": [
    "# set up the Cross Validation and Some Variables\n",
    "FOLDS = 21\n",
    "kf = KFold(n_splits = FOLDS)\n",
    "bigpreds, bigoof = [] , []\n",
    "\n",
    "# cycle through the baselines\n",
    "for i in [2,3,4]:\n",
    "    # interim variables for each baseline\n",
    "    oof = np.zeros(len(train['id']))\n",
    "    preds = np.zeros(len(test['id']))\n",
    "\n",
    "    # cycle through the CV for the baseline\n",
    "    for j, (trndex,valdex) in enumerate(kf.split(train['id'])):\n",
    "        xtrain, ytrain = train.loc[trndex, BOTH], train.loc[trndex,TARGET]\n",
    "        xval,   yval   = train.loc[valdex, BOTH], train.loc[valdex,TARGET]\n",
    "\n",
    "        # make the catboost pools\n",
    "        trainpool = Pool(xtrain,ytrain,baseline=tt.iloc[trndex,i],feature_names=BOTH,cat_features=CAT_COLS)\n",
    "        valpool = Pool(xval,yval,baseline=tt.iloc[valdex,i],feature_names=BOTH,cat_features=CAT_COLS)\n",
    "        testpool = Pool(test[BOTH],pd.Series(np.zeros(len(test['id']))),baseline=te.iloc[:,i],feature_names=BOTH,cat_features=CAT_COLS)\n",
    "\n",
    "        \n",
    "        # build the model\n",
    "        mod = CatBoostClassifier(objective = 'CrossEntropy',\n",
    "                        iterations= 1512, \n",
    "                        learning_rate= 0.10138991939014416,\n",
    "                        depth= 9,\n",
    "                        reg_lambda= 11,    \n",
    "                        min_data_in_leaf=20,\n",
    "                        use_best_model=True,\n",
    "                        cat_features= CAT_COLS,\n",
    "                        task_type=\"GPU\",\n",
    "                        )\n",
    "        # fit\n",
    "        mod.fit(trainpool, \n",
    "                eval_set=valpool,\n",
    "                early_stopping_rounds = 25,\n",
    "                use_best_model=True,\n",
    "                verbose= 0)\n",
    "\n",
    "        # make predictions and keep score\n",
    "        ypred = mod.predict_proba(valpool)\n",
    "        oof[valdex] = ypred[:,1]\n",
    "        tepred = mod.predict_proba(testpool)\n",
    "        preds += tepred[:,1]\n",
    "\n",
    "    # post process and record the results\n",
    "    preds /= FOLDS\n",
    "    bigpreds.append(preds)\n",
    "    bigoof.append(oof)\n",
    "    print(i, ' Completed')"
   ]
  },
  {
   "cell_type": "code",
   "execution_count": 8,
   "id": "2982e75d",
   "metadata": {
    "execution": {
     "iopub.execute_input": "2024-11-14T11:12:04.468897Z",
     "iopub.status.busy": "2024-11-14T11:12:04.468160Z",
     "iopub.status.idle": "2024-11-14T11:12:06.810945Z",
     "shell.execute_reply": "2024-11-14T11:12:06.809727Z"
    },
    "papermill": {
     "duration": 2.355301,
     "end_time": "2024-11-14T11:12:06.813708",
     "exception": false,
     "start_time": "2024-11-14T11:12:04.458407",
     "status": "completed"
    },
    "tags": []
   },
   "outputs": [],
   "source": [
    "# make a list of the columns we want...\n",
    "titles = ['cb','hg','lg']\n",
    "\n",
    "# write out the csvs...\n",
    "for i in range(len(bigoof)):\n",
    "    tt[titles[i]+'oof'] = bigoof[i]\n",
    "    tt[['id',titles[i]+'oof']].to_csv(titles[i]+'oof.csv',index=False)\n",
    "\n",
    "    te[titles[i]+'preds'] = bigpreds[i]\n",
    "    te[['id',titles[i]+'preds']].to_csv(titles[i]+'preds.csv',index=False)"
   ]
  },
  {
   "cell_type": "code",
   "execution_count": 9,
   "id": "4e0b33af",
   "metadata": {
    "execution": {
     "iopub.execute_input": "2024-11-14T11:12:06.828393Z",
     "iopub.status.busy": "2024-11-14T11:12:06.828017Z",
     "iopub.status.idle": "2024-11-14T11:12:06.842737Z",
     "shell.execute_reply": "2024-11-14T11:12:06.841786Z"
    },
    "papermill": {
     "duration": 0.024636,
     "end_time": "2024-11-14T11:12:06.845104",
     "exception": false,
     "start_time": "2024-11-14T11:12:06.820468",
     "status": "completed"
    },
    "tags": []
   },
   "outputs": [
    {
     "data": {
      "text/html": [
       "<div>\n",
       "<style scoped>\n",
       "    .dataframe tbody tr th:only-of-type {\n",
       "        vertical-align: middle;\n",
       "    }\n",
       "\n",
       "    .dataframe tbody tr th {\n",
       "        vertical-align: top;\n",
       "    }\n",
       "\n",
       "    .dataframe thead th {\n",
       "        text-align: right;\n",
       "    }\n",
       "</style>\n",
       "<table border=\"1\" class=\"dataframe\">\n",
       "  <thead>\n",
       "    <tr style=\"text-align: right;\">\n",
       "      <th></th>\n",
       "      <th>id</th>\n",
       "      <th>Depression</th>\n",
       "      <th>cb</th>\n",
       "      <th>hg</th>\n",
       "      <th>lg</th>\n",
       "      <th>cboof</th>\n",
       "      <th>hgoof</th>\n",
       "      <th>lgoof</th>\n",
       "    </tr>\n",
       "  </thead>\n",
       "  <tbody>\n",
       "    <tr>\n",
       "      <th>0</th>\n",
       "      <td>0</td>\n",
       "      <td>0</td>\n",
       "      <td>0.000640</td>\n",
       "      <td>0.000693</td>\n",
       "      <td>0.001523</td>\n",
       "      <td>0.000790</td>\n",
       "      <td>0.000565</td>\n",
       "      <td>0.000395</td>\n",
       "    </tr>\n",
       "    <tr>\n",
       "      <th>1</th>\n",
       "      <td>1</td>\n",
       "      <td>1</td>\n",
       "      <td>0.654026</td>\n",
       "      <td>0.662836</td>\n",
       "      <td>0.778344</td>\n",
       "      <td>0.681626</td>\n",
       "      <td>0.682415</td>\n",
       "      <td>0.690321</td>\n",
       "    </tr>\n",
       "    <tr>\n",
       "      <th>2</th>\n",
       "      <td>2</td>\n",
       "      <td>1</td>\n",
       "      <td>0.484512</td>\n",
       "      <td>0.126605</td>\n",
       "      <td>0.344253</td>\n",
       "      <td>0.572483</td>\n",
       "      <td>0.489644</td>\n",
       "      <td>0.482529</td>\n",
       "    </tr>\n",
       "    <tr>\n",
       "      <th>3</th>\n",
       "      <td>3</td>\n",
       "      <td>1</td>\n",
       "      <td>0.881125</td>\n",
       "      <td>0.660651</td>\n",
       "      <td>0.891852</td>\n",
       "      <td>0.887520</td>\n",
       "      <td>0.847041</td>\n",
       "      <td>0.914803</td>\n",
       "    </tr>\n",
       "    <tr>\n",
       "      <th>4</th>\n",
       "      <td>4</td>\n",
       "      <td>0</td>\n",
       "      <td>0.472058</td>\n",
       "      <td>0.082273</td>\n",
       "      <td>0.293054</td>\n",
       "      <td>0.474997</td>\n",
       "      <td>0.409113</td>\n",
       "      <td>0.448942</td>\n",
       "    </tr>\n",
       "  </tbody>\n",
       "</table>\n",
       "</div>"
      ],
      "text/plain": [
       "   id  Depression        cb        hg        lg     cboof     hgoof     lgoof\n",
       "0   0           0  0.000640  0.000693  0.001523  0.000790  0.000565  0.000395\n",
       "1   1           1  0.654026  0.662836  0.778344  0.681626  0.682415  0.690321\n",
       "2   2           1  0.484512  0.126605  0.344253  0.572483  0.489644  0.482529\n",
       "3   3           1  0.881125  0.660651  0.891852  0.887520  0.847041  0.914803\n",
       "4   4           0  0.472058  0.082273  0.293054  0.474997  0.409113  0.448942"
      ]
     },
     "execution_count": 9,
     "metadata": {},
     "output_type": "execute_result"
    }
   ],
   "source": [
    "tt.head()"
   ]
  },
  {
   "cell_type": "code",
   "execution_count": 10,
   "id": "fc994322",
   "metadata": {
    "execution": {
     "iopub.execute_input": "2024-11-14T11:12:06.864718Z",
     "iopub.status.busy": "2024-11-14T11:12:06.864419Z",
     "iopub.status.idle": "2024-11-14T11:12:06.877870Z",
     "shell.execute_reply": "2024-11-14T11:12:06.876715Z"
    },
    "papermill": {
     "duration": 0.025771,
     "end_time": "2024-11-14T11:12:06.880163",
     "exception": false,
     "start_time": "2024-11-14T11:12:06.854392",
     "status": "completed"
    },
    "tags": []
   },
   "outputs": [
    {
     "data": {
      "text/html": [
       "<div>\n",
       "<style scoped>\n",
       "    .dataframe tbody tr th:only-of-type {\n",
       "        vertical-align: middle;\n",
       "    }\n",
       "\n",
       "    .dataframe tbody tr th {\n",
       "        vertical-align: top;\n",
       "    }\n",
       "\n",
       "    .dataframe thead th {\n",
       "        text-align: right;\n",
       "    }\n",
       "</style>\n",
       "<table border=\"1\" class=\"dataframe\">\n",
       "  <thead>\n",
       "    <tr style=\"text-align: right;\">\n",
       "      <th></th>\n",
       "      <th>id</th>\n",
       "      <th>Depression</th>\n",
       "      <th>cb</th>\n",
       "      <th>hg</th>\n",
       "      <th>lg</th>\n",
       "      <th>cbpreds</th>\n",
       "      <th>hgpreds</th>\n",
       "      <th>lgpreds</th>\n",
       "    </tr>\n",
       "  </thead>\n",
       "  <tbody>\n",
       "    <tr>\n",
       "      <th>0</th>\n",
       "      <td>140700</td>\n",
       "      <td>0</td>\n",
       "      <td>0.000324</td>\n",
       "      <td>0.000650</td>\n",
       "      <td>0.001785</td>\n",
       "      <td>0.000653</td>\n",
       "      <td>0.000741</td>\n",
       "      <td>0.000738</td>\n",
       "    </tr>\n",
       "    <tr>\n",
       "      <th>1</th>\n",
       "      <td>140701</td>\n",
       "      <td>0</td>\n",
       "      <td>0.000216</td>\n",
       "      <td>0.000566</td>\n",
       "      <td>0.001207</td>\n",
       "      <td>0.000475</td>\n",
       "      <td>0.000466</td>\n",
       "      <td>0.000492</td>\n",
       "    </tr>\n",
       "    <tr>\n",
       "      <th>2</th>\n",
       "      <td>140702</td>\n",
       "      <td>0</td>\n",
       "      <td>0.032181</td>\n",
       "      <td>0.005036</td>\n",
       "      <td>0.022442</td>\n",
       "      <td>0.044406</td>\n",
       "      <td>0.044758</td>\n",
       "      <td>0.042599</td>\n",
       "    </tr>\n",
       "    <tr>\n",
       "      <th>3</th>\n",
       "      <td>140703</td>\n",
       "      <td>0</td>\n",
       "      <td>0.977608</td>\n",
       "      <td>0.884274</td>\n",
       "      <td>0.958822</td>\n",
       "      <td>0.979662</td>\n",
       "      <td>0.978684</td>\n",
       "      <td>0.979847</td>\n",
       "    </tr>\n",
       "    <tr>\n",
       "      <th>4</th>\n",
       "      <td>140704</td>\n",
       "      <td>0</td>\n",
       "      <td>0.016718</td>\n",
       "      <td>0.004565</td>\n",
       "      <td>0.017693</td>\n",
       "      <td>0.021465</td>\n",
       "      <td>0.020006</td>\n",
       "      <td>0.020990</td>\n",
       "    </tr>\n",
       "  </tbody>\n",
       "</table>\n",
       "</div>"
      ],
      "text/plain": [
       "       id  Depression        cb        hg        lg   cbpreds   hgpreds  \\\n",
       "0  140700           0  0.000324  0.000650  0.001785  0.000653  0.000741   \n",
       "1  140701           0  0.000216  0.000566  0.001207  0.000475  0.000466   \n",
       "2  140702           0  0.032181  0.005036  0.022442  0.044406  0.044758   \n",
       "3  140703           0  0.977608  0.884274  0.958822  0.979662  0.978684   \n",
       "4  140704           0  0.016718  0.004565  0.017693  0.021465  0.020006   \n",
       "\n",
       "    lgpreds  \n",
       "0  0.000738  \n",
       "1  0.000492  \n",
       "2  0.042599  \n",
       "3  0.979847  \n",
       "4  0.020990  "
      ]
     },
     "execution_count": 10,
     "metadata": {},
     "output_type": "execute_result"
    }
   ],
   "source": [
    "te.head()"
   ]
  },
  {
   "cell_type": "code",
   "execution_count": 11,
   "id": "34a5ebb3",
   "metadata": {
    "execution": {
     "iopub.execute_input": "2024-11-14T11:12:06.897591Z",
     "iopub.status.busy": "2024-11-14T11:12:06.896967Z",
     "iopub.status.idle": "2024-11-14T11:12:07.410134Z",
     "shell.execute_reply": "2024-11-14T11:12:07.409174Z"
    },
    "papermill": {
     "duration": 0.525284,
     "end_time": "2024-11-14T11:12:07.413279",
     "exception": false,
     "start_time": "2024-11-14T11:12:06.887995",
     "status": "completed"
    },
    "tags": []
   },
   "outputs": [],
   "source": [
    "# threshold the values for testing in new columns\n",
    "tt['cbo'] = tt.cboof.apply(lambda x : 1 if x >=.5 else 0)\n",
    "tt['hgo'] = tt.hgoof.apply(lambda x : 1 if x >=.5 else 0)\n",
    "tt['lgo'] = tt.lgoof.apply(lambda x : 1 if x >=.5 else 0)\n",
    "\n",
    "te['cbp'] = te.cbpreds.apply(lambda x : 1 if x >=.5 else 0)\n",
    "te['hgp'] = te.hgpreds.apply(lambda x : 1 if x >=.5 else 0)\n",
    "te['lgp'] = te.lgpreds.apply(lambda x : 1 if x >=.5 else 0)"
   ]
  },
  {
   "cell_type": "code",
   "execution_count": 12,
   "id": "1f3d7425",
   "metadata": {
    "execution": {
     "iopub.execute_input": "2024-11-14T11:12:07.434571Z",
     "iopub.status.busy": "2024-11-14T11:12:07.434236Z",
     "iopub.status.idle": "2024-11-14T11:12:07.504263Z",
     "shell.execute_reply": "2024-11-14T11:12:07.503263Z"
    },
    "papermill": {
     "duration": 0.083168,
     "end_time": "2024-11-14T11:12:07.506616",
     "exception": false,
     "start_time": "2024-11-14T11:12:07.423448",
     "status": "completed"
    },
    "tags": []
   },
   "outputs": [
    {
     "data": {
      "text/plain": [
       "(0.9402061122956645, 0.9399147121535181, 0.9399786780383795)"
      ]
     },
     "execution_count": 12,
     "metadata": {},
     "output_type": "execute_result"
    }
   ],
   "source": [
    "# Compute each models' accuracy with the 50/50 threshold\n",
    "a = accuracy_score(train[TARGET],tt.cbo)\n",
    "b = accuracy_score(train[TARGET],tt.hgo)\n",
    "c = accuracy_score(train[TARGET],tt.lgo)\n",
    "\n",
    "a,b,c"
   ]
  },
  {
   "cell_type": "code",
   "execution_count": 13,
   "id": "ba9c112b",
   "metadata": {
    "execution": {
     "iopub.execute_input": "2024-11-14T11:12:07.524301Z",
     "iopub.status.busy": "2024-11-14T11:12:07.523972Z",
     "iopub.status.idle": "2024-11-14T11:12:07.843900Z",
     "shell.execute_reply": "2024-11-14T11:12:07.842880Z"
    },
    "papermill": {
     "duration": 0.330555,
     "end_time": "2024-11-14T11:12:07.846268",
     "exception": false,
     "start_time": "2024-11-14T11:12:07.515713",
     "status": "completed"
    },
    "tags": []
   },
   "outputs": [],
   "source": [
    "# output interim submissions for lb scoring\n",
    "te[['id','cbp']].to_csv('b_set_cb.csv',index=False) #94243\n",
    "te[['id','hgp']].to_csv('b_set_hg.csv',index=False) #less - not tested\n",
    "te[['id','lgp']].to_csv('b_set_lg.csv',index=False) #94227\n"
   ]
  },
  {
   "cell_type": "code",
   "execution_count": 14,
   "id": "4606183b",
   "metadata": {
    "execution": {
     "iopub.execute_input": "2024-11-14T11:12:07.862044Z",
     "iopub.status.busy": "2024-11-14T11:12:07.861659Z",
     "iopub.status.idle": "2024-11-14T11:12:10.286193Z",
     "shell.execute_reply": "2024-11-14T11:12:10.285237Z"
    },
    "papermill": {
     "duration": 2.434806,
     "end_time": "2024-11-14T11:12:10.288330",
     "exception": false,
     "start_time": "2024-11-14T11:12:07.853524",
     "status": "completed"
    },
    "tags": []
   },
   "outputs": [
    {
     "name": "stdout",
     "output_type": "stream",
     "text": [
      "Best Score: 0.9401847903340441 at 95%\n"
     ]
    },
    {
     "data": {
      "text/html": [
       "<div>\n",
       "<style scoped>\n",
       "    .dataframe tbody tr th:only-of-type {\n",
       "        vertical-align: middle;\n",
       "    }\n",
       "\n",
       "    .dataframe tbody tr th {\n",
       "        vertical-align: top;\n",
       "    }\n",
       "\n",
       "    .dataframe thead th {\n",
       "        text-align: right;\n",
       "    }\n",
       "</style>\n",
       "<table border=\"1\" class=\"dataframe\">\n",
       "  <thead>\n",
       "    <tr style=\"text-align: right;\">\n",
       "      <th></th>\n",
       "      <th>id</th>\n",
       "      <th>Depression</th>\n",
       "    </tr>\n",
       "  </thead>\n",
       "  <tbody>\n",
       "    <tr>\n",
       "      <th>0</th>\n",
       "      <td>140700</td>\n",
       "      <td>0</td>\n",
       "    </tr>\n",
       "    <tr>\n",
       "      <th>1</th>\n",
       "      <td>140701</td>\n",
       "      <td>0</td>\n",
       "    </tr>\n",
       "    <tr>\n",
       "      <th>2</th>\n",
       "      <td>140702</td>\n",
       "      <td>0</td>\n",
       "    </tr>\n",
       "    <tr>\n",
       "      <th>3</th>\n",
       "      <td>140703</td>\n",
       "      <td>1</td>\n",
       "    </tr>\n",
       "    <tr>\n",
       "      <th>4</th>\n",
       "      <td>140704</td>\n",
       "      <td>0</td>\n",
       "    </tr>\n",
       "  </tbody>\n",
       "</table>\n",
       "</div>"
      ],
      "text/plain": [
       "       id  Depression\n",
       "0  140700           0\n",
       "1  140701           0\n",
       "2  140702           0\n",
       "3  140703           1\n",
       "4  140704           0"
      ]
     },
     "execution_count": 14,
     "metadata": {},
     "output_type": "execute_result"
    }
   ],
   "source": [
    "#hill climb with the models\n",
    "best = 0\n",
    "ii = 0\n",
    "\n",
    "# test the posssibilities\n",
    "for i in range(100):\n",
    "    hcoof = tt['cboof'] * i/100 + tt['lgoof'] * (100-i)/100\n",
    "    hcoof[hcoof >=.5] = 1\n",
    "    hcoof[hcoof <.5 ] = 0\n",
    "    hcscore = accuracy_score(train[TARGET],hcoof)\n",
    "    if hcscore > best:\n",
    "        best = hcscore\n",
    "        ii = i\n",
    "\n",
    "print(f\"Best Score: {best} at {ii}%\")\n",
    "\n",
    "# apply the blend rate to an oof out\n",
    "tt['blend1'] = tt.cboof * ii/100 + tt.lgoof * (100-ii)/100\n",
    "\n",
    "# apply the blend rate and make a dataframe\n",
    "te['blend1'] = te.cbpreds * ii/100 + te.lgpreds * (100-ii)/100\n",
    "blend1 = te[['id','blend1']].copy()\n",
    "\n",
    "# set up the dataframe to make a submission\n",
    "blend1.columns = ['id','Depression']\n",
    "blend1['Depression'] = blend1.Depression.apply(lambda x : 1 if x >=.5 else 0)\n",
    "blend1.to_csv('b_set_blend1.csv', index=False)\n",
    "blend1.head()"
   ]
  },
  {
   "cell_type": "code",
   "execution_count": 15,
   "id": "9009e905",
   "metadata": {
    "execution": {
     "iopub.execute_input": "2024-11-14T11:12:10.304943Z",
     "iopub.status.busy": "2024-11-14T11:12:10.304623Z",
     "iopub.status.idle": "2024-11-14T11:12:11.362855Z",
     "shell.execute_reply": "2024-11-14T11:12:11.361830Z"
    },
    "papermill": {
     "duration": 1.068548,
     "end_time": "2024-11-14T11:12:11.365090",
     "exception": false,
     "start_time": "2024-11-14T11:12:10.296542",
     "status": "completed"
    },
    "tags": []
   },
   "outputs": [
    {
     "name": "stderr",
     "output_type": "stream",
     "text": [
      "/opt/conda/lib/python3.10/pty.py:89: RuntimeWarning: os.fork() was called. os.fork() is incompatible with multithreaded code, and JAX is multithreaded, so this will likely lead to a deadlock.\n",
      "  pid, fd = os.forkpty()\n"
     ]
    },
    {
     "name": "stdout",
     "output_type": "stream",
     "text": [
      "id,Depression\r\n",
      "140700,0\r\n",
      "140701,0\r\n",
      "140702,0\r\n",
      "140703,1\r\n",
      "140704,0\r\n",
      "140705,0\r\n",
      "140706,0\r\n",
      "140707,0\r\n",
      "140708,0\r\n"
     ]
    }
   ],
   "source": [
    "!head b_set_blend1.csv"
   ]
  },
  {
   "cell_type": "code",
   "execution_count": 16,
   "id": "31e06aeb",
   "metadata": {
    "execution": {
     "iopub.execute_input": "2024-11-14T11:12:11.382486Z",
     "iopub.status.busy": "2024-11-14T11:12:11.382113Z",
     "iopub.status.idle": "2024-11-14T11:12:11.400568Z",
     "shell.execute_reply": "2024-11-14T11:12:11.399619Z"
    },
    "papermill": {
     "duration": 0.029403,
     "end_time": "2024-11-14T11:12:11.402597",
     "exception": false,
     "start_time": "2024-11-14T11:12:11.373194",
     "status": "completed"
    },
    "tags": []
   },
   "outputs": [
    {
     "data": {
      "text/html": [
       "<div>\n",
       "<style scoped>\n",
       "    .dataframe tbody tr th:only-of-type {\n",
       "        vertical-align: middle;\n",
       "    }\n",
       "\n",
       "    .dataframe tbody tr th {\n",
       "        vertical-align: top;\n",
       "    }\n",
       "\n",
       "    .dataframe thead th {\n",
       "        text-align: right;\n",
       "    }\n",
       "</style>\n",
       "<table border=\"1\" class=\"dataframe\">\n",
       "  <thead>\n",
       "    <tr style=\"text-align: right;\">\n",
       "      <th></th>\n",
       "      <th>id</th>\n",
       "      <th>Depression</th>\n",
       "      <th>cb</th>\n",
       "      <th>hg</th>\n",
       "      <th>lg</th>\n",
       "      <th>cbpreds</th>\n",
       "      <th>hgpreds</th>\n",
       "      <th>lgpreds</th>\n",
       "      <th>cbp</th>\n",
       "      <th>hgp</th>\n",
       "      <th>lgp</th>\n",
       "      <th>blend1</th>\n",
       "    </tr>\n",
       "  </thead>\n",
       "  <tbody>\n",
       "    <tr>\n",
       "      <th>0</th>\n",
       "      <td>140700</td>\n",
       "      <td>0</td>\n",
       "      <td>0.000324</td>\n",
       "      <td>0.000650</td>\n",
       "      <td>0.001785</td>\n",
       "      <td>0.000653</td>\n",
       "      <td>0.000741</td>\n",
       "      <td>0.000738</td>\n",
       "      <td>0</td>\n",
       "      <td>0</td>\n",
       "      <td>0</td>\n",
       "      <td>0.000657</td>\n",
       "    </tr>\n",
       "    <tr>\n",
       "      <th>1</th>\n",
       "      <td>140701</td>\n",
       "      <td>0</td>\n",
       "      <td>0.000216</td>\n",
       "      <td>0.000566</td>\n",
       "      <td>0.001207</td>\n",
       "      <td>0.000475</td>\n",
       "      <td>0.000466</td>\n",
       "      <td>0.000492</td>\n",
       "      <td>0</td>\n",
       "      <td>0</td>\n",
       "      <td>0</td>\n",
       "      <td>0.000476</td>\n",
       "    </tr>\n",
       "    <tr>\n",
       "      <th>2</th>\n",
       "      <td>140702</td>\n",
       "      <td>0</td>\n",
       "      <td>0.032181</td>\n",
       "      <td>0.005036</td>\n",
       "      <td>0.022442</td>\n",
       "      <td>0.044406</td>\n",
       "      <td>0.044758</td>\n",
       "      <td>0.042599</td>\n",
       "      <td>0</td>\n",
       "      <td>0</td>\n",
       "      <td>0</td>\n",
       "      <td>0.044316</td>\n",
       "    </tr>\n",
       "    <tr>\n",
       "      <th>3</th>\n",
       "      <td>140703</td>\n",
       "      <td>0</td>\n",
       "      <td>0.977608</td>\n",
       "      <td>0.884274</td>\n",
       "      <td>0.958822</td>\n",
       "      <td>0.979662</td>\n",
       "      <td>0.978684</td>\n",
       "      <td>0.979847</td>\n",
       "      <td>1</td>\n",
       "      <td>1</td>\n",
       "      <td>1</td>\n",
       "      <td>0.979671</td>\n",
       "    </tr>\n",
       "    <tr>\n",
       "      <th>4</th>\n",
       "      <td>140704</td>\n",
       "      <td>0</td>\n",
       "      <td>0.016718</td>\n",
       "      <td>0.004565</td>\n",
       "      <td>0.017693</td>\n",
       "      <td>0.021465</td>\n",
       "      <td>0.020006</td>\n",
       "      <td>0.020990</td>\n",
       "      <td>0</td>\n",
       "      <td>0</td>\n",
       "      <td>0</td>\n",
       "      <td>0.021441</td>\n",
       "    </tr>\n",
       "  </tbody>\n",
       "</table>\n",
       "</div>"
      ],
      "text/plain": [
       "       id  Depression        cb        hg        lg   cbpreds   hgpreds  \\\n",
       "0  140700           0  0.000324  0.000650  0.001785  0.000653  0.000741   \n",
       "1  140701           0  0.000216  0.000566  0.001207  0.000475  0.000466   \n",
       "2  140702           0  0.032181  0.005036  0.022442  0.044406  0.044758   \n",
       "3  140703           0  0.977608  0.884274  0.958822  0.979662  0.978684   \n",
       "4  140704           0  0.016718  0.004565  0.017693  0.021465  0.020006   \n",
       "\n",
       "    lgpreds  cbp  hgp  lgp    blend1  \n",
       "0  0.000738    0    0    0  0.000657  \n",
       "1  0.000492    0    0    0  0.000476  \n",
       "2  0.042599    0    0    0  0.044316  \n",
       "3  0.979847    1    1    1  0.979671  \n",
       "4  0.020990    0    0    0  0.021441  "
      ]
     },
     "execution_count": 16,
     "metadata": {},
     "output_type": "execute_result"
    }
   ],
   "source": [
    "te.head()"
   ]
  },
  {
   "cell_type": "code",
   "execution_count": 17,
   "id": "93f2f7f8",
   "metadata": {
    "execution": {
     "iopub.execute_input": "2024-11-14T11:12:11.420223Z",
     "iopub.status.busy": "2024-11-14T11:12:11.419943Z",
     "iopub.status.idle": "2024-11-14T11:12:13.860083Z",
     "shell.execute_reply": "2024-11-14T11:12:13.859159Z"
    },
    "papermill": {
     "duration": 2.451181,
     "end_time": "2024-11-14T11:12:13.861936",
     "exception": false,
     "start_time": "2024-11-14T11:12:11.410755",
     "status": "completed"
    },
    "tags": []
   },
   "outputs": [
    {
     "name": "stdout",
     "output_type": "stream",
     "text": [
      "Best Score: 0.940362473347548 at 48%\n"
     ]
    },
    {
     "data": {
      "text/html": [
       "<div>\n",
       "<style scoped>\n",
       "    .dataframe tbody tr th:only-of-type {\n",
       "        vertical-align: middle;\n",
       "    }\n",
       "\n",
       "    .dataframe tbody tr th {\n",
       "        vertical-align: top;\n",
       "    }\n",
       "\n",
       "    .dataframe thead th {\n",
       "        text-align: right;\n",
       "    }\n",
       "</style>\n",
       "<table border=\"1\" class=\"dataframe\">\n",
       "  <thead>\n",
       "    <tr style=\"text-align: right;\">\n",
       "      <th></th>\n",
       "      <th>id</th>\n",
       "      <th>Depression</th>\n",
       "    </tr>\n",
       "  </thead>\n",
       "  <tbody>\n",
       "    <tr>\n",
       "      <th>0</th>\n",
       "      <td>140700</td>\n",
       "      <td>0</td>\n",
       "    </tr>\n",
       "    <tr>\n",
       "      <th>1</th>\n",
       "      <td>140701</td>\n",
       "      <td>0</td>\n",
       "    </tr>\n",
       "    <tr>\n",
       "      <th>2</th>\n",
       "      <td>140702</td>\n",
       "      <td>0</td>\n",
       "    </tr>\n",
       "    <tr>\n",
       "      <th>3</th>\n",
       "      <td>140703</td>\n",
       "      <td>1</td>\n",
       "    </tr>\n",
       "    <tr>\n",
       "      <th>4</th>\n",
       "      <td>140704</td>\n",
       "      <td>0</td>\n",
       "    </tr>\n",
       "  </tbody>\n",
       "</table>\n",
       "</div>"
      ],
      "text/plain": [
       "       id  Depression\n",
       "0  140700           0\n",
       "1  140701           0\n",
       "2  140702           0\n",
       "3  140703           1\n",
       "4  140704           0"
      ]
     },
     "execution_count": 17,
     "metadata": {},
     "output_type": "execute_result"
    }
   ],
   "source": [
    "#hill climb stage 2 with the models\n",
    "best = 0\n",
    "ii = 0\n",
    "\n",
    "# test the posssibilities\n",
    "for i in range(100):\n",
    "    hcoof = tt['blend1'] * i/100 + tt['hgoof'] * (100-i)/100\n",
    "    hcoof[hcoof >=.5] = 1\n",
    "    hcoof[hcoof <.5 ] = 0\n",
    "    hcscore = accuracy_score(train[TARGET],hcoof)\n",
    "    if hcscore > best:\n",
    "        best = hcscore\n",
    "        ii = i\n",
    "\n",
    "print(f\"Best Score: {best} at {ii}%\")\n",
    "\n",
    "#apply the blend to oof\n",
    "tt['blend2'] = tt.blend1 * ii/100 + tt.hgoof * (100-ii)/100\n",
    "\n",
    "# apply the blend rate and make a dataframe\n",
    "te['blend2'] = te.blend1 * ii/100 + te.hgpreds * (100-ii)/100\n",
    "blend2 = te[['id','blend2']].copy()\n",
    "\n",
    "# set up the dataframe to make a submission\n",
    "blend2.columns = ['id','Depression']\n",
    "blend2['Depression'] = blend2.Depression.apply(lambda x : 1 if x >=.5 else 0)\n",
    "blend2.to_csv('b_set_blend2.csv', index=False)\n",
    "blend2.head()"
   ]
  },
  {
   "cell_type": "code",
   "execution_count": 18,
   "id": "2e43cca1",
   "metadata": {
    "execution": {
     "iopub.execute_input": "2024-11-14T11:12:13.879875Z",
     "iopub.status.busy": "2024-11-14T11:12:13.879548Z",
     "iopub.status.idle": "2024-11-14T11:12:18.096433Z",
     "shell.execute_reply": "2024-11-14T11:12:18.095376Z"
    },
    "papermill": {
     "duration": 4.228252,
     "end_time": "2024-11-14T11:12:18.098770",
     "exception": false,
     "start_time": "2024-11-14T11:12:13.870518",
     "status": "completed"
    },
    "tags": []
   },
   "outputs": [
    {
     "name": "stdout",
     "output_type": "stream",
     "text": [
      "Best of Blend 1 0.9402203269367448 at 51%\n",
      "Best of Blend 2 0.940362473347548 at 50%\n"
     ]
    }
   ],
   "source": [
    "# now compute the thresholds for blend 1 and blend \n",
    "best, best2 = 0, 0\n",
    "\n",
    "for i in range(100):\n",
    "    a = tt['blend1'].copy()\n",
    "    a[a>=i/100]=1\n",
    "    a[a<i/100]=0\n",
    "    score = accuracy_score(train[TARGET],a)\n",
    "    if score > best:\n",
    "        best = score\n",
    "        ii = i\n",
    "for j in range(100):\n",
    "    b = tt['blend2'].copy()\n",
    "    b[b>=j/100]=1\n",
    "    b[b<j/100]=0\n",
    "    score = accuracy_score(train[TARGET],b)\n",
    "    if score > best2:\n",
    "        best2 = score\n",
    "        jj = j\n",
    "\n",
    "print(f\"Best of Blend 1 {best} at {ii}%\")\n",
    "print(f\"Best of Blend 2 {best2} at {jj}%\")\n",
    "\n",
    "# These are the same values as above. \n",
    "# The Thresholding was the best these 3 models can produce."
   ]
  },
  {
   "cell_type": "code",
   "execution_count": null,
   "id": "ec43cf79",
   "metadata": {
    "papermill": {
     "duration": 0.007928,
     "end_time": "2024-11-14T11:12:18.115726",
     "exception": false,
     "start_time": "2024-11-14T11:12:18.107798",
     "status": "completed"
    },
    "tags": []
   },
   "outputs": [],
   "source": []
  }
 ],
 "metadata": {
  "kaggle": {
   "accelerator": "nvidiaTeslaT4",
   "dataSources": [
    {
     "databundleVersionId": 10008389,
     "sourceId": 84895,
     "sourceType": "competition"
    },
    {
     "sourceId": 206958040,
     "sourceType": "kernelVersion"
    }
   ],
   "dockerImageVersionId": 30787,
   "isGpuEnabled": true,
   "isInternetEnabled": true,
   "language": "python",
   "sourceType": "notebook"
  },
  "kernelspec": {
   "display_name": "Python 3",
   "language": "python",
   "name": "python3"
  },
  "language_info": {
   "codemirror_mode": {
    "name": "ipython",
    "version": 3
   },
   "file_extension": ".py",
   "mimetype": "text/x-python",
   "name": "python",
   "nbconvert_exporter": "python",
   "pygments_lexer": "ipython3",
   "version": "3.10.14"
  },
  "papermill": {
   "default_parameters": {},
   "duration": 634.10137,
   "end_time": "2024-11-14T11:12:20.677923",
   "environment_variables": {},
   "exception": null,
   "input_path": "__notebook__.ipynb",
   "output_path": "__notebook__.ipynb",
   "parameters": {},
   "start_time": "2024-11-14T11:01:46.576553",
   "version": "2.6.0"
  }
 },
 "nbformat": 4,
 "nbformat_minor": 5
}
