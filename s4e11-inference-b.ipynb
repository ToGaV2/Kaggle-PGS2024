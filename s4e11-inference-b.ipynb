{
 "cells": [
  {
   "cell_type": "code",
   "execution_count": 1,
   "id": "f4f9eb65",
   "metadata": {
    "_cell_guid": "b1076dfc-b9ad-4769-8c92-a6c4dae69d19",
    "_uuid": "8f2839f25d086af736a60e9eeb907d3b93b6e0e5",
    "execution": {
     "iopub.execute_input": "2024-11-30T21:42:50.063897Z",
     "iopub.status.busy": "2024-11-30T21:42:50.063628Z",
     "iopub.status.idle": "2024-11-30T21:43:04.124444Z",
     "shell.execute_reply": "2024-11-30T21:43:04.123703Z"
    },
    "papermill": {
     "duration": 14.067275,
     "end_time": "2024-11-30T21:43:04.126448",
     "exception": false,
     "start_time": "2024-11-30T21:42:50.059173",
     "status": "completed"
    },
    "tags": []
   },
   "outputs": [],
   "source": [
    "# import the libraries\n",
    "import tensorflow\n",
    "import keras\n",
    "from sklearn.metrics import accuracy_score\n",
    "import numpy as np # linear algebra\n",
    "import pandas as pd # data processing, CSV file I/O (e.g. pd.read_csv)\n",
    "from sklearn.model_selection import KFold\n",
    "from sklearn.preprocessing import OrdinalEncoder as OE\n",
    "from catboost import CatBoostClassifier, Pool"
   ]
  },
  {
   "cell_type": "code",
   "execution_count": 2,
   "id": "cee15dea",
   "metadata": {
    "execution": {
     "iopub.execute_input": "2024-11-30T21:43:04.141540Z",
     "iopub.status.busy": "2024-11-30T21:43:04.140995Z",
     "iopub.status.idle": "2024-11-30T21:43:05.505514Z",
     "shell.execute_reply": "2024-11-30T21:43:05.504767Z"
    },
    "papermill": {
     "duration": 1.372275,
     "end_time": "2024-11-30T21:43:05.507418",
     "exception": false,
     "start_time": "2024-11-30T21:43:04.135143",
     "status": "completed"
    },
    "tags": []
   },
   "outputs": [],
   "source": [
    "# load all the data\n",
    "train = pd.read_csv('//kaggle/input/playground-series-s4e11/train.csv')\n",
    "cbo = pd.read_csv('/kaggle/input/s4e11-inference-a/cboof.csv')\n",
    "hgo = pd.read_csv('/kaggle/input/s4e11-inference-a/hgoof.csv')\n",
    "lgo = pd.read_csv('/kaggle/input/s4e11-inference-a/lgoof.csv')\n",
    "ggo = pd.read_csv('/kaggle/input/ps4e11-mental-health-prediction-classification/oof_predss_v22.csv')\n",
    "\n",
    "test = pd.read_csv('/kaggle/input/playground-series-s4e11/test.csv')\n",
    "cbt = pd.read_csv('/kaggle/input/s4e11-inference-a/cbsubprobs.csv')\n",
    "hgt = pd.read_csv('/kaggle/input/s4e11-inference-a/hgsubprobs.csv')\n",
    "lgt = pd.read_csv('/kaggle/input/s4e11-inference-a/lgsubprobs.csv')\n",
    "ggt = pd.read_csv('/kaggle/input/ps4e11-mental-health-prediction-classification/submission_pred_v22.csv')"
   ]
  },
  {
   "cell_type": "code",
   "execution_count": 3,
   "id": "27ed4720",
   "metadata": {
    "execution": {
     "iopub.execute_input": "2024-11-30T21:43:05.514843Z",
     "iopub.status.busy": "2024-11-30T21:43:05.514327Z",
     "iopub.status.idle": "2024-11-30T21:43:05.556648Z",
     "shell.execute_reply": "2024-11-30T21:43:05.555790Z"
    },
    "papermill": {
     "duration": 0.047732,
     "end_time": "2024-11-30T21:43:05.558350",
     "exception": false,
     "start_time": "2024-11-30T21:43:05.510618",
     "status": "completed"
    },
    "tags": []
   },
   "outputs": [],
   "source": [
    "# set the target\n",
    "TARGET = 'Depression'\n",
    "\n",
    "# make a dataframe of the baselines and predictions\n",
    "tt = train[['id',TARGET]].copy()\n",
    "tt['cb']= cbo[TARGET]\n",
    "tt['hg']= hgo[TARGET]\n",
    "tt['lg']= lgo[TARGET]\n",
    "tt['gg']= ggo['final_threshold']\n",
    "\n",
    "\n",
    "te = pd.read_csv('/kaggle/input/playground-series-s4e11/sample_submission.csv')\n",
    "te['cb']= cbt[TARGET]\n",
    "te['hg']= hgt[TARGET]\n",
    "te['lg']= lgt[TARGET]\n",
    "te['gg']= ggt[TARGET]"
   ]
  },
  {
   "cell_type": "code",
   "execution_count": 4,
   "id": "2b16c000",
   "metadata": {
    "execution": {
     "iopub.execute_input": "2024-11-30T21:43:05.565222Z",
     "iopub.status.busy": "2024-11-30T21:43:05.564930Z",
     "iopub.status.idle": "2024-11-30T21:43:05.579453Z",
     "shell.execute_reply": "2024-11-30T21:43:05.578664Z"
    },
    "papermill": {
     "duration": 0.019742,
     "end_time": "2024-11-30T21:43:05.581095",
     "exception": false,
     "start_time": "2024-11-30T21:43:05.561353",
     "status": "completed"
    },
    "tags": []
   },
   "outputs": [
    {
     "data": {
      "text/html": [
       "<div>\n",
       "<style scoped>\n",
       "    .dataframe tbody tr th:only-of-type {\n",
       "        vertical-align: middle;\n",
       "    }\n",
       "\n",
       "    .dataframe tbody tr th {\n",
       "        vertical-align: top;\n",
       "    }\n",
       "\n",
       "    .dataframe thead th {\n",
       "        text-align: right;\n",
       "    }\n",
       "</style>\n",
       "<table border=\"1\" class=\"dataframe\">\n",
       "  <thead>\n",
       "    <tr style=\"text-align: right;\">\n",
       "      <th></th>\n",
       "      <th>id</th>\n",
       "      <th>Depression</th>\n",
       "      <th>cb</th>\n",
       "      <th>hg</th>\n",
       "      <th>lg</th>\n",
       "      <th>gg</th>\n",
       "    </tr>\n",
       "  </thead>\n",
       "  <tbody>\n",
       "    <tr>\n",
       "      <th>0</th>\n",
       "      <td>0</td>\n",
       "      <td>0</td>\n",
       "      <td>0.000483</td>\n",
       "      <td>0.000869</td>\n",
       "      <td>0.001523</td>\n",
       "      <td>0.000558</td>\n",
       "    </tr>\n",
       "    <tr>\n",
       "      <th>1</th>\n",
       "      <td>1</td>\n",
       "      <td>1</td>\n",
       "      <td>0.666990</td>\n",
       "      <td>0.497017</td>\n",
       "      <td>0.778344</td>\n",
       "      <td>0.708800</td>\n",
       "    </tr>\n",
       "    <tr>\n",
       "      <th>2</th>\n",
       "      <td>2</td>\n",
       "      <td>1</td>\n",
       "      <td>0.529499</td>\n",
       "      <td>0.216119</td>\n",
       "      <td>0.344253</td>\n",
       "      <td>0.475249</td>\n",
       "    </tr>\n",
       "    <tr>\n",
       "      <th>3</th>\n",
       "      <td>3</td>\n",
       "      <td>1</td>\n",
       "      <td>0.911831</td>\n",
       "      <td>0.625092</td>\n",
       "      <td>0.891852</td>\n",
       "      <td>0.915520</td>\n",
       "    </tr>\n",
       "    <tr>\n",
       "      <th>4</th>\n",
       "      <td>4</td>\n",
       "      <td>0</td>\n",
       "      <td>0.425229</td>\n",
       "      <td>0.097551</td>\n",
       "      <td>0.293054</td>\n",
       "      <td>0.367680</td>\n",
       "    </tr>\n",
       "  </tbody>\n",
       "</table>\n",
       "</div>"
      ],
      "text/plain": [
       "   id  Depression        cb        hg        lg        gg\n",
       "0   0           0  0.000483  0.000869  0.001523  0.000558\n",
       "1   1           1  0.666990  0.497017  0.778344  0.708800\n",
       "2   2           1  0.529499  0.216119  0.344253  0.475249\n",
       "3   3           1  0.911831  0.625092  0.891852  0.915520\n",
       "4   4           0  0.425229  0.097551  0.293054  0.367680"
      ]
     },
     "execution_count": 4,
     "metadata": {},
     "output_type": "execute_result"
    }
   ],
   "source": [
    "tt.head()"
   ]
  },
  {
   "cell_type": "code",
   "execution_count": 5,
   "id": "852fcf37",
   "metadata": {
    "execution": {
     "iopub.execute_input": "2024-11-30T21:43:05.589152Z",
     "iopub.status.busy": "2024-11-30T21:43:05.588885Z",
     "iopub.status.idle": "2024-11-30T21:43:05.597885Z",
     "shell.execute_reply": "2024-11-30T21:43:05.597050Z"
    },
    "papermill": {
     "duration": 0.014503,
     "end_time": "2024-11-30T21:43:05.599810",
     "exception": false,
     "start_time": "2024-11-30T21:43:05.585307",
     "status": "completed"
    },
    "tags": []
   },
   "outputs": [
    {
     "data": {
      "text/html": [
       "<div>\n",
       "<style scoped>\n",
       "    .dataframe tbody tr th:only-of-type {\n",
       "        vertical-align: middle;\n",
       "    }\n",
       "\n",
       "    .dataframe tbody tr th {\n",
       "        vertical-align: top;\n",
       "    }\n",
       "\n",
       "    .dataframe thead th {\n",
       "        text-align: right;\n",
       "    }\n",
       "</style>\n",
       "<table border=\"1\" class=\"dataframe\">\n",
       "  <thead>\n",
       "    <tr style=\"text-align: right;\">\n",
       "      <th></th>\n",
       "      <th>id</th>\n",
       "      <th>Depression</th>\n",
       "      <th>cb</th>\n",
       "      <th>hg</th>\n",
       "      <th>lg</th>\n",
       "      <th>gg</th>\n",
       "    </tr>\n",
       "  </thead>\n",
       "  <tbody>\n",
       "    <tr>\n",
       "      <th>0</th>\n",
       "      <td>140700</td>\n",
       "      <td>0</td>\n",
       "      <td>0.000358</td>\n",
       "      <td>0.000696</td>\n",
       "      <td>0.001785</td>\n",
       "      <td>0.000618</td>\n",
       "    </tr>\n",
       "    <tr>\n",
       "      <th>1</th>\n",
       "      <td>140701</td>\n",
       "      <td>0</td>\n",
       "      <td>0.000188</td>\n",
       "      <td>0.000607</td>\n",
       "      <td>0.001207</td>\n",
       "      <td>0.000322</td>\n",
       "    </tr>\n",
       "    <tr>\n",
       "      <th>2</th>\n",
       "      <td>140702</td>\n",
       "      <td>0</td>\n",
       "      <td>0.031073</td>\n",
       "      <td>0.006772</td>\n",
       "      <td>0.022442</td>\n",
       "      <td>0.014303</td>\n",
       "    </tr>\n",
       "    <tr>\n",
       "      <th>3</th>\n",
       "      <td>140703</td>\n",
       "      <td>0</td>\n",
       "      <td>0.977780</td>\n",
       "      <td>0.885894</td>\n",
       "      <td>0.958822</td>\n",
       "      <td>0.975888</td>\n",
       "    </tr>\n",
       "    <tr>\n",
       "      <th>4</th>\n",
       "      <td>140704</td>\n",
       "      <td>0</td>\n",
       "      <td>0.016685</td>\n",
       "      <td>0.004565</td>\n",
       "      <td>0.017693</td>\n",
       "      <td>0.014672</td>\n",
       "    </tr>\n",
       "  </tbody>\n",
       "</table>\n",
       "</div>"
      ],
      "text/plain": [
       "       id  Depression        cb        hg        lg        gg\n",
       "0  140700           0  0.000358  0.000696  0.001785  0.000618\n",
       "1  140701           0  0.000188  0.000607  0.001207  0.000322\n",
       "2  140702           0  0.031073  0.006772  0.022442  0.014303\n",
       "3  140703           0  0.977780  0.885894  0.958822  0.975888\n",
       "4  140704           0  0.016685  0.004565  0.017693  0.014672"
      ]
     },
     "execution_count": 5,
     "metadata": {},
     "output_type": "execute_result"
    }
   ],
   "source": [
    "te.head()"
   ]
  },
  {
   "cell_type": "code",
   "execution_count": 6,
   "id": "809b9028",
   "metadata": {
    "execution": {
     "iopub.execute_input": "2024-11-30T21:43:05.607090Z",
     "iopub.status.busy": "2024-11-30T21:43:05.606818Z",
     "iopub.status.idle": "2024-11-30T21:43:06.239157Z",
     "shell.execute_reply": "2024-11-30T21:43:06.238067Z"
    },
    "papermill": {
     "duration": 0.63795,
     "end_time": "2024-11-30T21:43:06.241027",
     "exception": false,
     "start_time": "2024-11-30T21:43:05.603077",
     "status": "completed"
    },
    "tags": []
   },
   "outputs": [
    {
     "name": "stdout",
     "output_type": "stream",
     "text": [
      "True\n",
      "Name:  0 0\n",
      "Gender:  0 0\n",
      "City:  0 0\n",
      "Working Professional or Student:  0 0\n",
      "Profession:  0 0\n",
      "Sleep Duration:  0 0\n",
      "Dietary Habits:  0 0\n",
      "Degree:  0 0\n",
      "Have you ever had suicidal thoughts ?:  0 0\n",
      "Family History of Mental Illness:  0 0\n"
     ]
    }
   ],
   "source": [
    "# Prepare Cat, Numerical, and Both Columns\n",
    "trc = list(train.columns)\n",
    "tec = list(test.columns)\n",
    "NUM_COLS, CAT_COLS = [],[]\n",
    "for i in trc:\n",
    "    if i not in tec:\n",
    "        TARGET = i\n",
    "    elif train[i].dtype in [int,float]:\n",
    "        NUM_COLS.append(i)\n",
    "    else:\n",
    "        CAT_COLS.append(i)\n",
    "\n",
    "# test that they add up\n",
    "print((len(CAT_COLS) + len(NUM_COLS) + 1) == len(trc))\n",
    "\n",
    "# make BOTH for CV ease\n",
    "BOTH = NUM_COLS + CAT_COLS\n",
    "\n",
    "# remove the ids\n",
    "NUM_COLS.remove('id')\n",
    "\n",
    "# filter out rare names\n",
    "nns = train.Name.value_counts()\n",
    "nns = nns.loc[nns<2] \n",
    "train.loc[train.index[train.Name.isin(nns.index)],'Name'] ='rare'\n",
    "train.Name.nunique()\n",
    "\n",
    "# ordinal encode the text\n",
    "oe = OE( handle_unknown = 'use_encoded_value', unknown_value= -1, encoded_missing_value= -2)\n",
    "oe.fit(train[CAT_COLS])\n",
    "train[CAT_COLS] = oe.transform(train[CAT_COLS])\n",
    "test[CAT_COLS] = oe.transform(test[CAT_COLS])\n",
    "\n",
    "# Move up the numbers to 0 and make them numpy integers\n",
    "for i in CAT_COLS:\n",
    "    train[i] = train[i].astype(np.int64) + 2   \n",
    "    test[i] = test[i].astype(np.int64) + 2\n",
    "    print(f\"{i}: \",train[i].isna().sum(),test[i].isna().sum())"
   ]
  },
  {
   "cell_type": "code",
   "execution_count": 7,
   "id": "58fd33a0",
   "metadata": {
    "execution": {
     "iopub.execute_input": "2024-11-30T21:43:06.249750Z",
     "iopub.status.busy": "2024-11-30T21:43:06.249058Z",
     "iopub.status.idle": "2024-11-30T21:43:06.558897Z",
     "shell.execute_reply": "2024-11-30T21:43:06.557961Z"
    },
    "papermill": {
     "duration": 0.316097,
     "end_time": "2024-11-30T21:43:06.560910",
     "exception": false,
     "start_time": "2024-11-30T21:43:06.244813",
     "status": "completed"
    },
    "tags": []
   },
   "outputs": [],
   "source": [
    "# threshold the values for testing in new columns\n",
    "tt['cbo'] = tt.cb.apply(lambda x : 1 if x >=.5 else 0)\n",
    "tt['hgo'] = tt.hg.apply(lambda x : 1 if x >=.5 else 0)\n",
    "tt['lgo'] = tt.lg.apply(lambda x : 1 if x >=.5 else 0)\n",
    "tt['ggo'] = tt.gg.apply(lambda x : 1 if x >=.5 else 0)\n",
    "\n",
    "te['cbp'] = te.cb.apply(lambda x : 1 if x >=.5 else 0)\n",
    "te['hgp'] = te.hg.apply(lambda x : 1 if x >=.5 else 0)\n",
    "te['lgp'] = te.lg.apply(lambda x : 1 if x >=.5 else 0)\n",
    "te['ggp'] = te.gg.apply(lambda x : 1 if x >=.5 else 0)"
   ]
  },
  {
   "cell_type": "code",
   "execution_count": 8,
   "id": "27eafa88",
   "metadata": {
    "execution": {
     "iopub.execute_input": "2024-11-30T21:43:06.568575Z",
     "iopub.status.busy": "2024-11-30T21:43:06.568301Z",
     "iopub.status.idle": "2024-11-30T21:43:06.651374Z",
     "shell.execute_reply": "2024-11-30T21:43:06.650546Z"
    },
    "papermill": {
     "duration": 0.088741,
     "end_time": "2024-11-30T21:43:06.653061",
     "exception": false,
     "start_time": "2024-11-30T21:43:06.564320",
     "status": "completed"
    },
    "tags": []
   },
   "outputs": [
    {
     "data": {
      "text/plain": [
       "(0.9402416488983654,\n",
       " 0.9244633972992182,\n",
       " 0.9384719260838664,\n",
       " 0.9403340440653873)"
      ]
     },
     "execution_count": 8,
     "metadata": {},
     "output_type": "execute_result"
    }
   ],
   "source": [
    "# Compute each models' accuracy with the 50/50 threshold\n",
    "a = accuracy_score(train[TARGET],tt.cbo)\n",
    "b = accuracy_score(train[TARGET],tt.hgo)\n",
    "c = accuracy_score(train[TARGET],tt.lgo)\n",
    "d = accuracy_score(train[TARGET],tt.ggo)\n",
    "a,b,c, d"
   ]
  },
  {
   "cell_type": "code",
   "execution_count": 9,
   "id": "45911306",
   "metadata": {
    "execution": {
     "iopub.execute_input": "2024-11-30T21:43:06.661274Z",
     "iopub.status.busy": "2024-11-30T21:43:06.660539Z",
     "iopub.status.idle": "2024-11-30T21:43:06.891261Z",
     "shell.execute_reply": "2024-11-30T21:43:06.890396Z"
    },
    "papermill": {
     "duration": 0.236655,
     "end_time": "2024-11-30T21:43:06.893158",
     "exception": false,
     "start_time": "2024-11-30T21:43:06.656503",
     "status": "completed"
    },
    "tags": []
   },
   "outputs": [],
   "source": [
    "# output interim submissions for lb scoring\n",
    "te[['id','cbp']].to_csv('b_set_cb.csv',index=False) #94243\n",
    "te[['id','hgp']].to_csv('b_set_hg.csv',index=False) #less - not tested\n",
    "te[['id','lgp']].to_csv('b_set_lg.csv',index=False) #94227\n",
    "te[['id','ggp']].to_csv('b_set_lg.csv',index=False) #94227\n"
   ]
  },
  {
   "cell_type": "code",
   "execution_count": 10,
   "id": "b60d24f2",
   "metadata": {
    "execution": {
     "iopub.execute_input": "2024-11-30T21:43:06.900957Z",
     "iopub.status.busy": "2024-11-30T21:43:06.900693Z",
     "iopub.status.idle": "2024-11-30T21:43:09.152112Z",
     "shell.execute_reply": "2024-11-30T21:43:09.150887Z"
    },
    "papermill": {
     "duration": 2.259598,
     "end_time": "2024-11-30T21:43:09.156209",
     "exception": false,
     "start_time": "2024-11-30T21:43:06.896611",
     "status": "completed"
    },
    "tags": []
   },
   "outputs": [
    {
     "name": "stdout",
     "output_type": "stream",
     "text": [
      "Best Score: 0.9406112295664535 at 40%\n"
     ]
    },
    {
     "data": {
      "text/html": [
       "<div>\n",
       "<style scoped>\n",
       "    .dataframe tbody tr th:only-of-type {\n",
       "        vertical-align: middle;\n",
       "    }\n",
       "\n",
       "    .dataframe tbody tr th {\n",
       "        vertical-align: top;\n",
       "    }\n",
       "\n",
       "    .dataframe thead th {\n",
       "        text-align: right;\n",
       "    }\n",
       "</style>\n",
       "<table border=\"1\" class=\"dataframe\">\n",
       "  <thead>\n",
       "    <tr style=\"text-align: right;\">\n",
       "      <th></th>\n",
       "      <th>id</th>\n",
       "      <th>Depression</th>\n",
       "    </tr>\n",
       "  </thead>\n",
       "  <tbody>\n",
       "    <tr>\n",
       "      <th>0</th>\n",
       "      <td>140700</td>\n",
       "      <td>0</td>\n",
       "    </tr>\n",
       "    <tr>\n",
       "      <th>1</th>\n",
       "      <td>140701</td>\n",
       "      <td>0</td>\n",
       "    </tr>\n",
       "    <tr>\n",
       "      <th>2</th>\n",
       "      <td>140702</td>\n",
       "      <td>0</td>\n",
       "    </tr>\n",
       "    <tr>\n",
       "      <th>3</th>\n",
       "      <td>140703</td>\n",
       "      <td>1</td>\n",
       "    </tr>\n",
       "    <tr>\n",
       "      <th>4</th>\n",
       "      <td>140704</td>\n",
       "      <td>0</td>\n",
       "    </tr>\n",
       "  </tbody>\n",
       "</table>\n",
       "</div>"
      ],
      "text/plain": [
       "       id  Depression\n",
       "0  140700           0\n",
       "1  140701           0\n",
       "2  140702           0\n",
       "3  140703           1\n",
       "4  140704           0"
      ]
     },
     "execution_count": 10,
     "metadata": {},
     "output_type": "execute_result"
    }
   ],
   "source": [
    "#hill climb with the models\n",
    "best = 0\n",
    "ii = 0\n",
    "\n",
    "# test the posssibilities\n",
    "for i in range(100):\n",
    "    hcoof = tt['cb'] * i/100 + tt['gg'] * (100-i)/100\n",
    "    hcoof[hcoof >=.5] = 1\n",
    "    hcoof[hcoof <.5 ] = 0\n",
    "    hcscore = accuracy_score(train[TARGET],hcoof)\n",
    "    if hcscore > best:\n",
    "        best = hcscore\n",
    "        ii = i\n",
    "\n",
    "print(f\"Best Score: {best} at {ii}%\")\n",
    "\n",
    "# apply the blend rate to an oof out\n",
    "tt['blend1'] = tt.cb * ii/100 + tt.gg * (100-ii)/100\n",
    "\n",
    "# apply the blend rate and make a dataframe\n",
    "te['blend1'] = te.cb * ii/100 + te.gg * (100-ii)/100\n",
    "blend1 = te[['id','blend1']].copy()\n",
    "\n",
    "# set up the dataframe to make a submission\n",
    "blend1.columns = ['id','Depression']\n",
    "blend1['Depression'] = blend1.Depression.apply(lambda x : 1 if x >=.5 else 0)\n",
    "blend1.to_csv('b_set_blend1.csv', index=False)\n",
    "blend1.head()"
   ]
  },
  {
   "cell_type": "code",
   "execution_count": 11,
   "id": "9dd28104",
   "metadata": {
    "execution": {
     "iopub.execute_input": "2024-11-30T21:43:09.164623Z",
     "iopub.status.busy": "2024-11-30T21:43:09.164349Z",
     "iopub.status.idle": "2024-11-30T21:43:10.182445Z",
     "shell.execute_reply": "2024-11-30T21:43:10.181597Z"
    },
    "papermill": {
     "duration": 1.024502,
     "end_time": "2024-11-30T21:43:10.184496",
     "exception": false,
     "start_time": "2024-11-30T21:43:09.159994",
     "status": "completed"
    },
    "tags": []
   },
   "outputs": [
    {
     "name": "stderr",
     "output_type": "stream",
     "text": [
      "/opt/conda/lib/python3.10/pty.py:89: RuntimeWarning: os.fork() was called. os.fork() is incompatible with multithreaded code, and JAX is multithreaded, so this will likely lead to a deadlock.\n",
      "  pid, fd = os.forkpty()\n"
     ]
    },
    {
     "name": "stdout",
     "output_type": "stream",
     "text": [
      "id,Depression\r\n",
      "140700,0\r\n",
      "140701,0\r\n",
      "140702,0\r\n",
      "140703,1\r\n",
      "140704,0\r\n",
      "140705,0\r\n",
      "140706,0\r\n",
      "140707,0\r\n",
      "140708,0\r\n"
     ]
    }
   ],
   "source": [
    "!head b_set_blend1.csv"
   ]
  },
  {
   "cell_type": "code",
   "execution_count": 12,
   "id": "2dc20deb",
   "metadata": {
    "execution": {
     "iopub.execute_input": "2024-11-30T21:43:10.193487Z",
     "iopub.status.busy": "2024-11-30T21:43:10.193189Z",
     "iopub.status.idle": "2024-11-30T21:43:10.206172Z",
     "shell.execute_reply": "2024-11-30T21:43:10.205473Z"
    },
    "papermill": {
     "duration": 0.019312,
     "end_time": "2024-11-30T21:43:10.207673",
     "exception": false,
     "start_time": "2024-11-30T21:43:10.188361",
     "status": "completed"
    },
    "tags": []
   },
   "outputs": [
    {
     "data": {
      "text/html": [
       "<div>\n",
       "<style scoped>\n",
       "    .dataframe tbody tr th:only-of-type {\n",
       "        vertical-align: middle;\n",
       "    }\n",
       "\n",
       "    .dataframe tbody tr th {\n",
       "        vertical-align: top;\n",
       "    }\n",
       "\n",
       "    .dataframe thead th {\n",
       "        text-align: right;\n",
       "    }\n",
       "</style>\n",
       "<table border=\"1\" class=\"dataframe\">\n",
       "  <thead>\n",
       "    <tr style=\"text-align: right;\">\n",
       "      <th></th>\n",
       "      <th>id</th>\n",
       "      <th>Depression</th>\n",
       "      <th>cb</th>\n",
       "      <th>hg</th>\n",
       "      <th>lg</th>\n",
       "      <th>gg</th>\n",
       "      <th>cbp</th>\n",
       "      <th>hgp</th>\n",
       "      <th>lgp</th>\n",
       "      <th>ggp</th>\n",
       "      <th>blend1</th>\n",
       "    </tr>\n",
       "  </thead>\n",
       "  <tbody>\n",
       "    <tr>\n",
       "      <th>0</th>\n",
       "      <td>140700</td>\n",
       "      <td>0</td>\n",
       "      <td>0.000358</td>\n",
       "      <td>0.000696</td>\n",
       "      <td>0.001785</td>\n",
       "      <td>0.000618</td>\n",
       "      <td>0</td>\n",
       "      <td>0</td>\n",
       "      <td>0</td>\n",
       "      <td>0</td>\n",
       "      <td>0.000514</td>\n",
       "    </tr>\n",
       "    <tr>\n",
       "      <th>1</th>\n",
       "      <td>140701</td>\n",
       "      <td>0</td>\n",
       "      <td>0.000188</td>\n",
       "      <td>0.000607</td>\n",
       "      <td>0.001207</td>\n",
       "      <td>0.000322</td>\n",
       "      <td>0</td>\n",
       "      <td>0</td>\n",
       "      <td>0</td>\n",
       "      <td>0</td>\n",
       "      <td>0.000268</td>\n",
       "    </tr>\n",
       "    <tr>\n",
       "      <th>2</th>\n",
       "      <td>140702</td>\n",
       "      <td>0</td>\n",
       "      <td>0.031073</td>\n",
       "      <td>0.006772</td>\n",
       "      <td>0.022442</td>\n",
       "      <td>0.014303</td>\n",
       "      <td>0</td>\n",
       "      <td>0</td>\n",
       "      <td>0</td>\n",
       "      <td>0</td>\n",
       "      <td>0.021011</td>\n",
       "    </tr>\n",
       "    <tr>\n",
       "      <th>3</th>\n",
       "      <td>140703</td>\n",
       "      <td>0</td>\n",
       "      <td>0.977780</td>\n",
       "      <td>0.885894</td>\n",
       "      <td>0.958822</td>\n",
       "      <td>0.975888</td>\n",
       "      <td>1</td>\n",
       "      <td>1</td>\n",
       "      <td>1</td>\n",
       "      <td>1</td>\n",
       "      <td>0.976645</td>\n",
       "    </tr>\n",
       "    <tr>\n",
       "      <th>4</th>\n",
       "      <td>140704</td>\n",
       "      <td>0</td>\n",
       "      <td>0.016685</td>\n",
       "      <td>0.004565</td>\n",
       "      <td>0.017693</td>\n",
       "      <td>0.014672</td>\n",
       "      <td>0</td>\n",
       "      <td>0</td>\n",
       "      <td>0</td>\n",
       "      <td>0</td>\n",
       "      <td>0.015477</td>\n",
       "    </tr>\n",
       "  </tbody>\n",
       "</table>\n",
       "</div>"
      ],
      "text/plain": [
       "       id  Depression        cb        hg        lg        gg  cbp  hgp  lgp  \\\n",
       "0  140700           0  0.000358  0.000696  0.001785  0.000618    0    0    0   \n",
       "1  140701           0  0.000188  0.000607  0.001207  0.000322    0    0    0   \n",
       "2  140702           0  0.031073  0.006772  0.022442  0.014303    0    0    0   \n",
       "3  140703           0  0.977780  0.885894  0.958822  0.975888    1    1    1   \n",
       "4  140704           0  0.016685  0.004565  0.017693  0.014672    0    0    0   \n",
       "\n",
       "   ggp    blend1  \n",
       "0    0  0.000514  \n",
       "1    0  0.000268  \n",
       "2    0  0.021011  \n",
       "3    1  0.976645  \n",
       "4    0  0.015477  "
      ]
     },
     "execution_count": 12,
     "metadata": {},
     "output_type": "execute_result"
    }
   ],
   "source": [
    "te.head()"
   ]
  },
  {
   "cell_type": "code",
   "execution_count": 13,
   "id": "53fa4788",
   "metadata": {
    "execution": {
     "iopub.execute_input": "2024-11-30T21:43:10.216029Z",
     "iopub.status.busy": "2024-11-30T21:43:10.215764Z",
     "iopub.status.idle": "2024-11-30T21:43:12.412867Z",
     "shell.execute_reply": "2024-11-30T21:43:12.411966Z"
    },
    "papermill": {
     "duration": 2.203313,
     "end_time": "2024-11-30T21:43:12.414745",
     "exception": false,
     "start_time": "2024-11-30T21:43:10.211432",
     "status": "completed"
    },
    "tags": []
   },
   "outputs": [
    {
     "name": "stdout",
     "output_type": "stream",
     "text": [
      "Best Score: 0.9405756929637527 at 85%\n"
     ]
    },
    {
     "data": {
      "text/html": [
       "<div>\n",
       "<style scoped>\n",
       "    .dataframe tbody tr th:only-of-type {\n",
       "        vertical-align: middle;\n",
       "    }\n",
       "\n",
       "    .dataframe tbody tr th {\n",
       "        vertical-align: top;\n",
       "    }\n",
       "\n",
       "    .dataframe thead th {\n",
       "        text-align: right;\n",
       "    }\n",
       "</style>\n",
       "<table border=\"1\" class=\"dataframe\">\n",
       "  <thead>\n",
       "    <tr style=\"text-align: right;\">\n",
       "      <th></th>\n",
       "      <th>id</th>\n",
       "      <th>Depression</th>\n",
       "    </tr>\n",
       "  </thead>\n",
       "  <tbody>\n",
       "    <tr>\n",
       "      <th>0</th>\n",
       "      <td>140700</td>\n",
       "      <td>0</td>\n",
       "    </tr>\n",
       "    <tr>\n",
       "      <th>1</th>\n",
       "      <td>140701</td>\n",
       "      <td>0</td>\n",
       "    </tr>\n",
       "    <tr>\n",
       "      <th>2</th>\n",
       "      <td>140702</td>\n",
       "      <td>0</td>\n",
       "    </tr>\n",
       "    <tr>\n",
       "      <th>3</th>\n",
       "      <td>140703</td>\n",
       "      <td>1</td>\n",
       "    </tr>\n",
       "    <tr>\n",
       "      <th>4</th>\n",
       "      <td>140704</td>\n",
       "      <td>0</td>\n",
       "    </tr>\n",
       "  </tbody>\n",
       "</table>\n",
       "</div>"
      ],
      "text/plain": [
       "       id  Depression\n",
       "0  140700           0\n",
       "1  140701           0\n",
       "2  140702           0\n",
       "3  140703           1\n",
       "4  140704           0"
      ]
     },
     "execution_count": 13,
     "metadata": {},
     "output_type": "execute_result"
    }
   ],
   "source": [
    "#hill climb stage 2 with the models\n",
    "best = 0\n",
    "ii = 0\n",
    "\n",
    "# test the posssibilities\n",
    "for i in range(100):\n",
    "    hcoof = tt['blend1'] * i/100 + tt['lg'] * (100-i)/100\n",
    "    hcoof[hcoof >=.5] = 1\n",
    "    hcoof[hcoof <.5 ] = 0\n",
    "    hcscore = accuracy_score(train[TARGET],hcoof)\n",
    "    if hcscore > best:\n",
    "        best = hcscore\n",
    "        ii = i\n",
    "\n",
    "print(f\"Best Score: {best} at {ii}%\")\n",
    "\n",
    "#apply the blend to oof\n",
    "tt['blend2'] = tt.blend1 * ii/100 + tt.lg * (100-ii)/100\n",
    "\n",
    "# apply the blend rate and make a dataframe\n",
    "te['blend2'] = te.blend1 * ii/100 + te.lg * (100-ii)/100\n",
    "blend2 = te[['id','blend2']].copy()\n",
    "\n",
    "# set up the dataframe to make a submission\n",
    "blend2.columns = ['id','Depression']\n",
    "blend2['Depression'] = blend2.Depression.apply(lambda x : 1 if x >=.5 else 0)\n",
    "blend2.to_csv('b_set_blend2.csv', index=False)\n",
    "blend2.head()"
   ]
  },
  {
   "cell_type": "code",
   "execution_count": 14,
   "id": "537d465e",
   "metadata": {
    "execution": {
     "iopub.execute_input": "2024-11-30T21:43:12.424369Z",
     "iopub.status.busy": "2024-11-30T21:43:12.424059Z",
     "iopub.status.idle": "2024-11-30T21:43:12.428092Z",
     "shell.execute_reply": "2024-11-30T21:43:12.427307Z"
    },
    "papermill": {
     "duration": 0.010806,
     "end_time": "2024-11-30T21:43:12.429658",
     "exception": false,
     "start_time": "2024-11-30T21:43:12.418852",
     "status": "completed"
    },
    "tags": []
   },
   "outputs": [],
   "source": [
    "# # now compute the thresholds for blend 1 and blend \n",
    "# best, best2 = 0, 0\n",
    "\n",
    "# for i in range(100):\n",
    "#     a = tt['blend1'].copy()\n",
    "#     a[a>=i/100]=1\n",
    "#     a[a<i/100]=0\n",
    "#     score = accuracy_score(train[TARGET],a)\n",
    "#     if score > best:\n",
    "#         best = score\n",
    "#         ii = i\n",
    "# for j in range(100):\n",
    "#     b = tt['blend2'].copy()\n",
    "#     b[b>=j/100]=1\n",
    "#     b[b<j/100]=0\n",
    "#     score = accuracy_score(train[TARGET],b)\n",
    "#     if score > best2:\n",
    "#         best2 = score\n",
    "#         jj = j\n",
    "\n",
    "# print(f\"Best of Blend 1 {best} at {ii}%\")\n",
    "# print(f\"Best of Blend 2 {best2} at {jj}%\")\n",
    "\n",
    "# # These are the same values as above. \n",
    "# # The Thresholding was the best these 3 models can produce."
   ]
  },
  {
   "cell_type": "code",
   "execution_count": null,
   "id": "fb1ee72b",
   "metadata": {
    "papermill": {
     "duration": 0.003627,
     "end_time": "2024-11-30T21:43:12.437082",
     "exception": false,
     "start_time": "2024-11-30T21:43:12.433455",
     "status": "completed"
    },
    "tags": []
   },
   "outputs": [],
   "source": []
  }
 ],
 "metadata": {
  "kaggle": {
   "accelerator": "nvidiaTeslaT4",
   "dataSources": [
    {
     "databundleVersionId": 10008389,
     "sourceId": 84895,
     "sourceType": "competition"
    },
    {
     "sourceId": 208969394,
     "sourceType": "kernelVersion"
    },
    {
     "sourceId": 209303032,
     "sourceType": "kernelVersion"
    }
   ],
   "dockerImageVersionId": 30787,
   "isGpuEnabled": true,
   "isInternetEnabled": true,
   "language": "python",
   "sourceType": "notebook"
  },
  "kernelspec": {
   "display_name": "Python 3",
   "language": "python",
   "name": "python3"
  },
  "language_info": {
   "codemirror_mode": {
    "name": "ipython",
    "version": 3
   },
   "file_extension": ".py",
   "mimetype": "text/x-python",
   "name": "python",
   "nbconvert_exporter": "python",
   "pygments_lexer": "ipython3",
   "version": "3.10.14"
  },
  "papermill": {
   "default_parameters": {},
   "duration": 26.594383,
   "end_time": "2024-11-30T21:43:14.062998",
   "environment_variables": {},
   "exception": null,
   "input_path": "__notebook__.ipynb",
   "output_path": "__notebook__.ipynb",
   "parameters": {},
   "start_time": "2024-11-30T21:42:47.468615",
   "version": "2.6.0"
  }
 },
 "nbformat": 4,
 "nbformat_minor": 5
}
