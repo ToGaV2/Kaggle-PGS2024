{
 "cells": [
  {
   "cell_type": "code",
   "execution_count": 1,
   "id": "43d8b54e",
   "metadata": {
    "_cell_guid": "b1076dfc-b9ad-4769-8c92-a6c4dae69d19",
    "_uuid": "8f2839f25d086af736a60e9eeb907d3b93b6e0e5",
    "execution": {
     "iopub.execute_input": "2024-12-08T21:45:12.954135Z",
     "iopub.status.busy": "2024-12-08T21:45:12.953295Z",
     "iopub.status.idle": "2024-12-08T21:45:16.877891Z",
     "shell.execute_reply": "2024-12-08T21:45:16.877104Z"
    },
    "papermill": {
     "duration": 3.933453,
     "end_time": "2024-12-08T21:45:16.879904",
     "exception": false,
     "start_time": "2024-12-08T21:45:12.946451",
     "status": "completed"
    },
    "tags": []
   },
   "outputs": [],
   "source": [
    "import numpy as np # linear algebra\n",
    "import pandas as pd # data processing, CSV file I/O (e.g. pd.read_csv)\n",
    "import os\n",
    "import optuna\n",
    "from catboost import CatBoostClassifier as CBC\n",
    "import lightgbm as LGB\n",
    "from sklearn.ensemble import HistGradientBoostingClassifier as HGBC\n",
    "from sklearn.preprocessing import OrdinalEncoder as OE\n",
    "from sklearn.model_selection import KFold, StratifiedKFold, StratifiedGroupKFold\n",
    "from sklearn.metrics import accuracy_score"
   ]
  },
  {
   "cell_type": "code",
   "execution_count": 2,
   "id": "f2f688eb",
   "metadata": {
    "execution": {
     "iopub.execute_input": "2024-12-08T21:45:16.890647Z",
     "iopub.status.busy": "2024-12-08T21:45:16.889718Z",
     "iopub.status.idle": "2024-12-08T21:45:17.815944Z",
     "shell.execute_reply": "2024-12-08T21:45:17.814912Z"
    },
    "papermill": {
     "duration": 0.933652,
     "end_time": "2024-12-08T21:45:17.818177",
     "exception": false,
     "start_time": "2024-12-08T21:45:16.884525",
     "status": "completed"
    },
    "tags": []
   },
   "outputs": [
    {
     "data": {
      "text/plain": [
       "((140700, 20), (93800, 19))"
      ]
     },
     "execution_count": 2,
     "metadata": {},
     "output_type": "execute_result"
    }
   ],
   "source": [
    "train = pd.read_csv('/kaggle/input/playground-series-s4e11/train.csv')\n",
    "test = pd.read_csv('/kaggle/input/playground-series-s4e11/test.csv')\n",
    "train.shape, test.shape"
   ]
  },
  {
   "cell_type": "code",
   "execution_count": 3,
   "id": "737dd97f",
   "metadata": {
    "execution": {
     "iopub.execute_input": "2024-12-08T21:45:17.829091Z",
     "iopub.status.busy": "2024-12-08T21:45:17.828802Z",
     "iopub.status.idle": "2024-12-08T21:45:17.839494Z",
     "shell.execute_reply": "2024-12-08T21:45:17.838546Z"
    },
    "papermill": {
     "duration": 0.018238,
     "end_time": "2024-12-08T21:45:17.841389",
     "exception": false,
     "start_time": "2024-12-08T21:45:17.823151",
     "status": "completed"
    },
    "tags": []
   },
   "outputs": [
    {
     "name": "stdout",
     "output_type": "stream",
     "text": [
      "True\n"
     ]
    }
   ],
   "source": [
    "trc = list(train.columns)\n",
    "tec = list(test.columns)\n",
    "NUM_COLS, CAT_COLS = [],[]\n",
    "for i in trc:\n",
    "    if i not in tec:\n",
    "        TARGET = i\n",
    "    elif train[i].dtype in [int,float]:\n",
    "        NUM_COLS.append(i)\n",
    "    else:\n",
    "        CAT_COLS.append(i)\n",
    "\n",
    "print((len(CAT_COLS) + len(NUM_COLS) + 1) == len(trc))\n",
    "NUM_COLS.remove('id')"
   ]
  },
  {
   "cell_type": "code",
   "execution_count": 4,
   "id": "7664e2ff",
   "metadata": {
    "execution": {
     "iopub.execute_input": "2024-12-08T21:45:17.851899Z",
     "iopub.status.busy": "2024-12-08T21:45:17.851198Z",
     "iopub.status.idle": "2024-12-08T21:45:17.903350Z",
     "shell.execute_reply": "2024-12-08T21:45:17.902377Z"
    },
    "papermill": {
     "duration": 0.059552,
     "end_time": "2024-12-08T21:45:17.905310",
     "exception": false,
     "start_time": "2024-12-08T21:45:17.845758",
     "status": "completed"
    },
    "tags": []
   },
   "outputs": [
    {
     "data": {
      "text/plain": [
       "245"
      ]
     },
     "execution_count": 4,
     "metadata": {},
     "output_type": "execute_result"
    }
   ],
   "source": [
    "nns = train.Name.value_counts()\n",
    "nns = nns.loc[nns<2]\n",
    "nns.index\n",
    "train.loc[train.index[train.Name.isin(nns.index)],'Name'] ='rare'\n",
    "train.Name.nunique()"
   ]
  },
  {
   "cell_type": "code",
   "execution_count": 5,
   "id": "b0c32bd3",
   "metadata": {
    "execution": {
     "iopub.execute_input": "2024-12-08T21:45:17.915827Z",
     "iopub.status.busy": "2024-12-08T21:45:17.915075Z",
     "iopub.status.idle": "2024-12-08T21:45:18.694293Z",
     "shell.execute_reply": "2024-12-08T21:45:18.693276Z"
    },
    "papermill": {
     "duration": 0.78662,
     "end_time": "2024-12-08T21:45:18.696376",
     "exception": false,
     "start_time": "2024-12-08T21:45:17.909756",
     "status": "completed"
    },
    "tags": []
   },
   "outputs": [],
   "source": [
    "oe = OE( handle_unknown = 'use_encoded_value', unknown_value= -1, encoded_missing_value= -2)\n",
    "oe.fit(train[CAT_COLS])\n",
    "train[CAT_COLS] = oe.transform(train[CAT_COLS])\n",
    "test[CAT_COLS] = oe.transform(test[CAT_COLS])"
   ]
  },
  {
   "cell_type": "code",
   "execution_count": 6,
   "id": "ba6f853e",
   "metadata": {
    "execution": {
     "iopub.execute_input": "2024-12-08T21:45:18.707986Z",
     "iopub.status.busy": "2024-12-08T21:45:18.707624Z",
     "iopub.status.idle": "2024-12-08T21:45:18.734484Z",
     "shell.execute_reply": "2024-12-08T21:45:18.733657Z"
    },
    "papermill": {
     "duration": 0.035607,
     "end_time": "2024-12-08T21:45:18.736647",
     "exception": false,
     "start_time": "2024-12-08T21:45:18.701040",
     "status": "completed"
    },
    "tags": []
   },
   "outputs": [
    {
     "name": "stdout",
     "output_type": "stream",
     "text": [
      "Name:  0 0\n",
      "Gender:  0 0\n",
      "City:  0 0\n",
      "Working Professional or Student:  0 0\n",
      "Profession:  0 0\n",
      "Sleep Duration:  0 0\n",
      "Dietary Habits:  0 0\n",
      "Degree:  0 0\n",
      "Have you ever had suicidal thoughts ?:  0 0\n",
      "Family History of Mental Illness:  0 0\n"
     ]
    }
   ],
   "source": [
    "for i in CAT_COLS:\n",
    "    train[i] = train[i].astype(np.int64) + 2   \n",
    "    test[i] = test[i].astype(np.int64) + 2\n",
    "    print(f\"{i}: \",train[i].isna().sum(),test[i].isna().sum())"
   ]
  },
  {
   "cell_type": "code",
   "execution_count": 7,
   "id": "a4fb31c7",
   "metadata": {
    "execution": {
     "iopub.execute_input": "2024-12-08T21:45:18.747800Z",
     "iopub.status.busy": "2024-12-08T21:45:18.747118Z",
     "iopub.status.idle": "2024-12-08T21:45:18.755592Z",
     "shell.execute_reply": "2024-12-08T21:45:18.754612Z"
    },
    "papermill": {
     "duration": 0.016008,
     "end_time": "2024-12-08T21:45:18.757417",
     "exception": false,
     "start_time": "2024-12-08T21:45:18.741409",
     "status": "completed"
    },
    "tags": []
   },
   "outputs": [
    {
     "data": {
      "text/plain": [
       "{0: 0.8182871357498224, 1: 0.18171286425017769}"
      ]
     },
     "execution_count": 7,
     "metadata": {},
     "output_type": "execute_result"
    }
   ],
   "source": [
    "BOTH = CAT_COLS + NUM_COLS\n",
    "\n",
    "sts = train[TARGET].value_counts()\n",
    "sts[0] / sts.sum(), sts[1]/sts.sum()\n",
    "wts = {0:0.8182871357498224, 1:0.18171286425017769}\n",
    "wts"
   ]
  },
  {
   "cell_type": "code",
   "execution_count": 8,
   "id": "7143d298",
   "metadata": {
    "execution": {
     "iopub.execute_input": "2024-12-08T21:45:18.768317Z",
     "iopub.status.busy": "2024-12-08T21:45:18.767501Z",
     "iopub.status.idle": "2024-12-08T21:45:35.708837Z",
     "shell.execute_reply": "2024-12-08T21:45:35.707658Z"
    },
    "papermill": {
     "duration": 16.948612,
     "end_time": "2024-12-08T21:45:35.710743",
     "exception": false,
     "start_time": "2024-12-08T21:45:18.762131",
     "status": "completed"
    },
    "tags": []
   },
   "outputs": [
    {
     "name": "stdout",
     "output_type": "stream",
     "text": [
      "HGBC#0\n",
      "Mean Score: 0.9243354655294954\n"
     ]
    }
   ],
   "source": [
    "#make HGBC model and preds \n",
    "hg_params = {\n",
    "    'loss': 'log_loss',\n",
    "    'max_iter': 1512, \n",
    "    'learning_rate': 0.08406660355512156,\n",
    "    'max_leaf_nodes': 69,\n",
    "    'max_depth': 9,\n",
    "    'min_samples_leaf':20,\n",
    "    'l2_regularization': 0,\n",
    "    'categorical_features': CAT_COLS,\n",
    "    'early_stopping': 'auto',\n",
    "    \"validation_fraction\": 0.1, \n",
    "    'verbose':0,\n",
    "    'class_weight': wts\n",
    "}\n",
    "#'learning_rate': 0.14378400577638836, 'max_leaf_nodes': 56, 'l2_regularization': 6}\n",
    "#Best score: 0.9243529411764705\n",
    "\n",
    "# Best parameters: {'learning_rate': 0.08406660355512156, 'max_leaf_nodes': 69, 'max_depth': 9, 'l2_regularization': 0}\n",
    "# Best score: 0.9243529411764705\n",
    "    \n",
    "FOLDS = 7\n",
    "scores = np.zeros(FOLDS)\n",
    "hgoof = np.zeros(len(train['id']))\n",
    "hgpred = np.zeros(len(test['id']))\n",
    "\n",
    "kf = KFold(n_splits = FOLDS)\n",
    "for i, (trndex,valdex) in enumerate(kf.split(train.id,train[TARGET])):\n",
    "    xtrain,ytrain = train.loc[trndex,BOTH], train.loc[trndex,TARGET]\n",
    "    xval, yval    = train.loc[valdex,BOTH], train.loc[valdex,TARGET]\n",
    "\n",
    "    #make the model\n",
    "    model = HGBC(**hg_params) \n",
    "    model = model.fit(xtrain,ytrain)\n",
    "\n",
    "    #oof predictions\n",
    "    oofpred = np.array(model.predict_proba(xval))\n",
    "    hgoof[valdex] = oofpred[:,1]\n",
    "\n",
    "    #test set predictions\n",
    "    testpred = model.predict_proba(test[BOTH])\n",
    "    hgpred += testpred[:,1]\n",
    "    if i % 20 == 0:\n",
    "        print(\"HGBC#\"+str(i))\n",
    "\n",
    "#average folds on test set predictions\n",
    "hgpred /= FOLDS\n",
    "\n",
    "# use oofpred as whole number set of probas (hgoof)\n",
    "oofpreds = np.array(hgoof)\n",
    "oofpreds[oofpreds>=.5]=1\n",
    "oofpreds[oofpreds<.5]=0\n",
    "\n",
    "# get oof score\n",
    "ascore = accuracy_score(train[TARGET],oofpreds)\n",
    " \n",
    "print(f\"Mean Score: {ascore}\") \n",
    " "
   ]
  },
  {
   "cell_type": "code",
   "execution_count": 9,
   "id": "5edb7cc5",
   "metadata": {
    "execution": {
     "iopub.execute_input": "2024-12-08T21:45:35.722655Z",
     "iopub.status.busy": "2024-12-08T21:45:35.721978Z",
     "iopub.status.idle": "2024-12-08T21:45:36.276953Z",
     "shell.execute_reply": "2024-12-08T21:45:36.276009Z"
    },
    "papermill": {
     "duration": 0.56356,
     "end_time": "2024-12-08T21:45:36.279311",
     "exception": false,
     "start_time": "2024-12-08T21:45:35.715751",
     "status": "completed"
    },
    "tags": []
   },
   "outputs": [
    {
     "name": "stderr",
     "output_type": "stream",
     "text": [
      "/tmp/ipykernel_17/1613361155.py:3: SettingWithCopyWarning: \n",
      "A value is trying to be set on a copy of a slice from a DataFrame.\n",
      "Try using .loc[row_indexer,col_indexer] = value instead\n",
      "\n",
      "See the caveats in the documentation: https://pandas.pydata.org/pandas-docs/stable/user_guide/indexing.html#returning-a-view-versus-a-copy\n",
      "  hgoo[TARGET] = np.array(hgoof)\n"
     ]
    }
   ],
   "source": [
    "# save oof probas\n",
    "hgoo = train[['id',TARGET]]\n",
    "hgoo[TARGET] = np.array(hgoof)\n",
    "hgoo.to_csv('hgoof.csv', index=False)\n",
    "\n",
    "# save test probas\n",
    "hgsub = pd.read_csv('/kaggle/input/playground-series-s4e11/sample_submission.csv')\n",
    "hgsub[TARGET] = hgpred\n",
    "hgsub.to_csv('hgsubprobs.csv',index=False)"
   ]
  },
  {
   "cell_type": "code",
   "execution_count": 10,
   "id": "05ff305a",
   "metadata": {
    "execution": {
     "iopub.execute_input": "2024-12-08T21:45:36.292419Z",
     "iopub.status.busy": "2024-12-08T21:45:36.291722Z",
     "iopub.status.idle": "2024-12-08T21:45:38.064284Z",
     "shell.execute_reply": "2024-12-08T21:45:38.063124Z"
    },
    "papermill": {
     "duration": 1.782092,
     "end_time": "2024-12-08T21:45:38.066526",
     "exception": false,
     "start_time": "2024-12-08T21:45:36.284434",
     "status": "completed"
    },
    "tags": []
   },
   "outputs": [
    {
     "name": "stdout",
     "output_type": "stream",
     "text": [
      "23 0.937093105899076\n"
     ]
    }
   ],
   "source": [
    "# what is the optimal threshold value for these predictions?\n",
    "top = 0\n",
    "scored = 0\n",
    "for i in range(100):\n",
    "    tester = hgoof.copy() \n",
    "    tester[tester >= i/100]=1\n",
    "    tester[tester < i/100]=0\n",
    "    score = accuracy_score(train[TARGET],tester)\n",
    "    if score > scored:\n",
    "        scored = score\n",
    "        top = i\n",
    "\n",
    "# print the optimal threshold value and score\n",
    "print(top, scored)\n",
    "\n",
    "# apply optimal threshold and save submission\n",
    "hgsub = pd.read_csv('/kaggle/input/playground-series-s4e11/sample_submission.csv')\n",
    "tested = hgpred.copy()\n",
    "tested[tested>= top/100]=1\n",
    "tested[tested < top/100]=0\n",
    "hgsub[TARGET] = tested\n",
    "hgsub.to_csv('submission.csv',index=False)\n",
    "hgsub.to_csv('hgsubmission.csv',index=False)"
   ]
  },
  {
   "cell_type": "code",
   "execution_count": 11,
   "id": "292f5f11",
   "metadata": {
    "execution": {
     "iopub.execute_input": "2024-12-08T21:45:38.077115Z",
     "iopub.status.busy": "2024-12-08T21:45:38.076836Z",
     "iopub.status.idle": "2024-12-08T21:45:39.230861Z",
     "shell.execute_reply": "2024-12-08T21:45:39.229661Z"
    },
    "papermill": {
     "duration": 1.161722,
     "end_time": "2024-12-08T21:45:39.233162",
     "exception": false,
     "start_time": "2024-12-08T21:45:38.071440",
     "status": "completed"
    },
    "tags": []
   },
   "outputs": [
    {
     "name": "stdout",
     "output_type": "stream",
     "text": [
      "id,Depression\r\n",
      "0,0.0012880711116379962\r\n",
      "1,0.4544447436692491\r\n",
      "2,0.13372074413409876\r\n",
      "3,0.6964394578584504\r\n",
      "4,0.1366557038623319\r\n",
      "5,0.0008165059374109035\r\n",
      "6,0.001440165887448981\r\n",
      "7,0.002417239908508628\r\n",
      "8,0.011621558010650724\r\n"
     ]
    }
   ],
   "source": [
    "!head /kaggle/working/hgoof.csv"
   ]
  },
  {
   "cell_type": "code",
   "execution_count": 12,
   "id": "77d7a5d8",
   "metadata": {
    "execution": {
     "iopub.execute_input": "2024-12-08T21:45:39.244590Z",
     "iopub.status.busy": "2024-12-08T21:45:39.244237Z",
     "iopub.status.idle": "2024-12-08T21:45:40.368991Z",
     "shell.execute_reply": "2024-12-08T21:45:40.367880Z"
    },
    "papermill": {
     "duration": 1.133338,
     "end_time": "2024-12-08T21:45:40.371430",
     "exception": false,
     "start_time": "2024-12-08T21:45:39.238092",
     "status": "completed"
    },
    "tags": []
   },
   "outputs": [
    {
     "name": "stdout",
     "output_type": "stream",
     "text": [
      "id,Depression\r\n",
      "140700,0.0\r\n",
      "140701,0.0\r\n",
      "140702,0.0\r\n",
      "140703,1.0\r\n",
      "140704,0.0\r\n",
      "140705,0.0\r\n",
      "140706,0.0\r\n",
      "140707,0.0\r\n",
      "140708,0.0\r\n"
     ]
    }
   ],
   "source": [
    "!head /kaggle/working/submission.csv"
   ]
  },
  {
   "cell_type": "code",
   "execution_count": 13,
   "id": "c1131182",
   "metadata": {
    "execution": {
     "iopub.execute_input": "2024-12-08T21:45:40.383626Z",
     "iopub.status.busy": "2024-12-08T21:45:40.383233Z",
     "iopub.status.idle": "2024-12-08T21:45:40.390249Z",
     "shell.execute_reply": "2024-12-08T21:45:40.389300Z"
    },
    "papermill": {
     "duration": 0.01533,
     "end_time": "2024-12-08T21:45:40.392087",
     "exception": false,
     "start_time": "2024-12-08T21:45:40.376757",
     "status": "completed"
    },
    "tags": []
   },
   "outputs": [
    {
     "data": {
      "text/plain": [
       "((140700, 20), (93800, 19))"
      ]
     },
     "execution_count": 13,
     "metadata": {},
     "output_type": "execute_result"
    }
   ],
   "source": [
    "train.shape,test.shape"
   ]
  },
  {
   "cell_type": "code",
   "execution_count": 14,
   "id": "836de7d3",
   "metadata": {
    "execution": {
     "iopub.execute_input": "2024-12-08T21:45:40.403465Z",
     "iopub.status.busy": "2024-12-08T21:45:40.403110Z",
     "iopub.status.idle": "2024-12-08T21:52:45.173802Z",
     "shell.execute_reply": "2024-12-08T21:52:45.172808Z"
    },
    "papermill": {
     "duration": 424.784095,
     "end_time": "2024-12-08T21:52:45.181171",
     "exception": false,
     "start_time": "2024-12-08T21:45:40.397076",
     "status": "completed"
    },
    "tags": []
   },
   "outputs": [
    {
     "name": "stdout",
     "output_type": "stream",
     "text": [
      "CBC#0\n",
      "Mean Score: 0.9402416488983654\n"
     ]
    }
   ],
   "source": [
    "# now do the same for catboost\n",
    "cb_params = {\n",
    "    'objective': 'CrossEntropy',\n",
    "    'iterations': 1512, \n",
    "\n",
    "    # # From 2 best catboost optuna explorations elsewhere\n",
    "    # 'learning_rate': 0.10138991939014416,\n",
    "    # 'depth': 9,\n",
    "    # 'reg_lambda': 11,\n",
    "    # # Best score in test: 0.9393529411764705\n",
    "    # # Best score on LB: 0.9401847903340441\n",
    "     \n",
    "    'learning_rate': 0.055905048327263715,\n",
    "    'depth': 5,\n",
    "    'reg_lambda': 12,\n",
    "    # # ??? \n",
    "    \n",
    "    'min_data_in_leaf':20,\n",
    "    'use_best_model':True,\n",
    "    #'task_type':\"GPU\",\n",
    "    \n",
    "}\n",
    " \n",
    "kf = KFold(n_splits = FOLDS)\n",
    "cboof= np.zeros(len(train['id']))\n",
    "cbpreds = np.zeros(len(test['id']))\n",
    "\n",
    "for i, (trndex,valdex) in enumerate(kf.split(train.id,train[TARGET])):\n",
    "    xtrain,ytrain = train.loc[trndex,BOTH], train.loc[trndex,TARGET]\n",
    "    xval, yval    = train.loc[valdex,BOTH], train.loc[valdex,TARGET]\n",
    "    model = CBC(cat_features = CAT_COLS, **cb_params)\n",
    "    model.fit(xtrain,ytrain,\n",
    "             eval_set=(xval,yval),\n",
    "             verbose=False,\n",
    "             early_stopping_rounds = 25,\n",
    "             use_best_model=True)\n",
    "    \n",
    "    ypred =  model.predict_proba(xval) \n",
    "    cboof[valdex] = ypred[:,1]\n",
    "    tpred = model.predict_proba(test[BOTH])\n",
    "    cbpreds += tpred[:,1]\n",
    "    if i % 20 == 0:\n",
    "        print(\"CBC#\"+str(i))\n",
    "        \n",
    "# average of preds by folds\n",
    "cbpreds /= FOLDS\n",
    "\n",
    "# use oofpred as whole number set of probas (hgoof)\n",
    "oofpreds = np.array(cboof)\n",
    "oofpreds[oofpreds>=.5]=1\n",
    "oofpreds[oofpreds<.5]=0\n",
    "\n",
    "# get oof score\n",
    "ascore = accuracy_score(train[TARGET],oofpreds)\n",
    " \n",
    "print(f\"Mean Score: {ascore}\") \n",
    "\n"
   ]
  },
  {
   "cell_type": "code",
   "execution_count": 15,
   "id": "3b631949",
   "metadata": {
    "execution": {
     "iopub.execute_input": "2024-12-08T21:52:45.192273Z",
     "iopub.status.busy": "2024-12-08T21:52:45.191933Z",
     "iopub.status.idle": "2024-12-08T21:52:45.728609Z",
     "shell.execute_reply": "2024-12-08T21:52:45.727456Z"
    },
    "papermill": {
     "duration": 0.544925,
     "end_time": "2024-12-08T21:52:45.731050",
     "exception": false,
     "start_time": "2024-12-08T21:52:45.186125",
     "status": "completed"
    },
    "tags": []
   },
   "outputs": [],
   "source": [
    "# save oof probas\n",
    "cboo = train[['id',TARGET]].copy()\n",
    "cboo[TARGET] = np.array(cboof)\n",
    "cboo.to_csv('cboof.csv', index=False)\n",
    "\n",
    "# save test probas\n",
    "cbsub = pd.read_csv('/kaggle/input/playground-series-s4e11/sample_submission.csv')\n",
    "cbsub[TARGET] = cbpreds\n",
    "cbsub.to_csv('cbsubprobs.csv',index=False)"
   ]
  },
  {
   "cell_type": "code",
   "execution_count": 16,
   "id": "0171448e",
   "metadata": {
    "execution": {
     "iopub.execute_input": "2024-12-08T21:52:45.743084Z",
     "iopub.status.busy": "2024-12-08T21:52:45.742727Z",
     "iopub.status.idle": "2024-12-08T21:52:47.525012Z",
     "shell.execute_reply": "2024-12-08T21:52:47.523906Z"
    },
    "papermill": {
     "duration": 1.790716,
     "end_time": "2024-12-08T21:52:47.527056",
     "exception": false,
     "start_time": "2024-12-08T21:52:45.736340",
     "status": "completed"
    },
    "tags": []
   },
   "outputs": [
    {
     "name": "stdout",
     "output_type": "stream",
     "text": [
      "48 0.9403056147832267\n"
     ]
    }
   ],
   "source": [
    "top = 0\n",
    "scored = 0\n",
    "for i in range(100):\n",
    "    tester = cboof.copy() \n",
    "    tester[tester >= i/100]=1\n",
    "    tester[tester < i/100]=0\n",
    "    score = accuracy_score(train[TARGET],tester)\n",
    "    if score > scored:\n",
    "        scored = score\n",
    "        top = i\n",
    "\n",
    "print(top, scored)\n",
    "\n",
    "# save submission\n",
    "cbsub = pd.read_csv('/kaggle/input/playground-series-s4e11/sample_submission.csv')\n",
    "tested = cbpreds.copy()\n",
    "tested[tested>= top/100]=1\n",
    "tested[tested < top/100]=0\n",
    "cbsub[TARGET] = tested\n",
    "cbsub.to_csv('submission.csv',index=False)\n",
    "cbsub.to_csv('cbsubmission.csv',index=False)"
   ]
  },
  {
   "cell_type": "code",
   "execution_count": 17,
   "id": "4ab3d0a7",
   "metadata": {
    "execution": {
     "iopub.execute_input": "2024-12-08T21:52:47.538936Z",
     "iopub.status.busy": "2024-12-08T21:52:47.538575Z",
     "iopub.status.idle": "2024-12-08T21:53:06.202814Z",
     "shell.execute_reply": "2024-12-08T21:53:06.201633Z"
    },
    "papermill": {
     "duration": 18.672497,
     "end_time": "2024-12-08T21:53:06.204862",
     "exception": false,
     "start_time": "2024-12-08T21:52:47.532365",
     "status": "completed"
    },
    "tags": []
   },
   "outputs": [
    {
     "name": "stderr",
     "output_type": "stream",
     "text": [
      "/opt/conda/lib/python3.10/site-packages/lightgbm/engine.py:172: UserWarning: Found `num_iterations` in params. Will use it instead of argument\n",
      "  _log_warning(f\"Found `{alias}` in params. Will use it instead of argument\")\n"
     ]
    },
    {
     "name": "stdout",
     "output_type": "stream",
     "text": [
      "LGC#0\n"
     ]
    },
    {
     "name": "stderr",
     "output_type": "stream",
     "text": [
      "/opt/conda/lib/python3.10/site-packages/lightgbm/engine.py:172: UserWarning: Found `num_iterations` in params. Will use it instead of argument\n",
      "  _log_warning(f\"Found `{alias}` in params. Will use it instead of argument\")\n",
      "/opt/conda/lib/python3.10/site-packages/lightgbm/engine.py:172: UserWarning: Found `num_iterations` in params. Will use it instead of argument\n",
      "  _log_warning(f\"Found `{alias}` in params. Will use it instead of argument\")\n"
     ]
    },
    {
     "data": {
      "text/plain": [
       "array([0.00178501, 0.00120652, 0.02244175, 0.95882248, 0.01769344,\n",
       "       0.02498952, 0.0079884 , 0.09230652, 0.05689888, 0.92106107])"
      ]
     },
     "execution_count": 17,
     "metadata": {},
     "output_type": "execute_result"
    }
   ],
   "source": [
    "# # Next up is LGBM\n",
    "# # Optuna Test 0.9370980392156864\n",
    "# # Best parameters: {'learning_rate': 0.039237220350979124, 'num_leaves': 55, 'reg_lambda': 21}\n",
    "\n",
    "lgb_params = {\n",
    "    'objective': 'cross_entropy',\n",
    "    'num_iterations': 1512, \n",
    "    'learning_rate': 0.039237220350979124,\n",
    "    'num_leaves': 55,\n",
    "    'max_depth': 7,\n",
    "    #'subsample':trial.suggest_float('subsample',0,1),\n",
    "    'reg_lambda': 3,\n",
    "    #'bagging_temperature':trial.suggest_float('bagging_temperature',1,2),\n",
    "    'min_data_in_leaf':20,\n",
    "    'use_best_model':True,\n",
    "    'num_threads': 4,\n",
    "    'early_stopping_round': 25,\n",
    "    \"bagging_freq\": 5, \n",
    "    \"bagging_fraction\": 0.75,\n",
    "    'verbosity':-1\n",
    "    \n",
    "}\n",
    "FOLDS = 3\n",
    "lgoof= np.zeros(len(train['id']))\n",
    "lgpreds = np.zeros(len(test['id']))\n",
    "scores = np.zeros(FOLDS)\n",
    "kf = KFold(n_splits = FOLDS)\n",
    "for i, (trndex,valdex) in enumerate(kf.split(train.id,train[TARGET])):\n",
    "    xtrain,ytrain = train.loc[trndex,BOTH], train.loc[trndex,TARGET]\n",
    "    xval, yval    = train.loc[valdex,BOTH], train.loc[valdex,TARGET]\n",
    "    \n",
    "    train_data = LGB.Dataset(xtrain, label=ytrain, categorical_feature=CAT_COLS)\n",
    "    val_data = LGB.Dataset(xval, label=yval, categorical_feature=CAT_COLS)\n",
    " \n",
    "    model = LGB.train(lgb_params, train_data, valid_sets=[val_data])\n",
    "    ypred = np.array(model.predict(xval))\n",
    "    lgoof[valdex] = ypred\n",
    "    lgpreds += np.array(model.predict(test[BOTH]))\n",
    "    if i % 20 == 0:\n",
    "        print(\"LGC#\"+str(i))  \n",
    "\n",
    "lgpreds /= FOLDS\n",
    "lgpreds[:10]\n",
    "\n"
   ]
  },
  {
   "cell_type": "code",
   "execution_count": 18,
   "id": "caa60590",
   "metadata": {
    "execution": {
     "iopub.execute_input": "2024-12-08T21:53:06.217456Z",
     "iopub.status.busy": "2024-12-08T21:53:06.217105Z",
     "iopub.status.idle": "2024-12-08T21:53:08.546935Z",
     "shell.execute_reply": "2024-12-08T21:53:08.545838Z"
    },
    "papermill": {
     "duration": 2.338425,
     "end_time": "2024-12-08T21:53:08.549332",
     "exception": false,
     "start_time": "2024-12-08T21:53:06.210907",
     "status": "completed"
    },
    "tags": []
   },
   "outputs": [
    {
     "name": "stdout",
     "output_type": "stream",
     "text": [
      "51 0.938542999289268\n"
     ]
    }
   ],
   "source": [
    "top = 0\n",
    "scored = 0\n",
    "for i in range(100):\n",
    "    tester = lgoof.copy() \n",
    "    tester[tester >= i/100]=1\n",
    "    tester[tester < i/100]=0\n",
    "    score = accuracy_score(train[TARGET],tester)\n",
    "    if score > scored:\n",
    "        scored = score\n",
    "        top = i\n",
    "\n",
    "print(top, scored)\n",
    "\n",
    "# save probabilities\n",
    "lgsub = pd.read_csv('/kaggle/input/playground-series-s4e11/sample_submission.csv')\n",
    "lgsub[TARGET] = lgpreds.copy()\n",
    "lgsub.to_csv('lgsubprobs.csv',index=False)\n",
    "\n",
    "#save oof\n",
    "lgoofdf = train[['id',TARGET]].copy()\n",
    "lgoofdf[TARGET] = lgoof\n",
    "lgoofdf.to_csv('lgoof.csv')\n",
    "\n",
    "# save submission\n",
    "lgsub = pd.read_csv('/kaggle/input/playground-series-s4e11/sample_submission.csv')\n",
    "tested = lgpreds.copy()\n",
    "tested[tested>= top/100]=1\n",
    "tested[tested < top/100]=0\n",
    "lgsub[TARGET] = tested\n",
    "lgsub.to_csv('submission.csv',index=False)\n",
    "lgsub.to_csv('lgsubmission.csv',index=False)"
   ]
  },
  {
   "cell_type": "code",
   "execution_count": 19,
   "id": "91fdff8a",
   "metadata": {
    "execution": {
     "iopub.execute_input": "2024-12-08T21:53:08.561375Z",
     "iopub.status.busy": "2024-12-08T21:53:08.561032Z",
     "iopub.status.idle": "2024-12-08T21:53:12.086788Z",
     "shell.execute_reply": "2024-12-08T21:53:12.085802Z"
    },
    "papermill": {
     "duration": 3.534254,
     "end_time": "2024-12-08T21:53:12.089055",
     "exception": false,
     "start_time": "2024-12-08T21:53:08.554801",
     "status": "completed"
    },
    "tags": []
   },
   "outputs": [
    {
     "name": "stdout",
     "output_type": "stream",
     "text": [
      "15 0.9403482587064677\n",
      "98 0.9401776830135039\n"
     ]
    }
   ],
   "source": [
    "# hillclimb with them:\n",
    "sco = 0\n",
    "for i in range(100):\n",
    "    predout = lgoof * i/100 + cboof * (100-i)/100\n",
    "    predout[predout>=.5] = 1\n",
    "    predout[predout<.5] = 0\n",
    "    score = accuracy_score(train[TARGET],predout)\n",
    "    if score > sco:\n",
    "        sco = score\n",
    "        ii = i\n",
    "        \n",
    "# report the results to stdout\n",
    "print(ii,sco)\n",
    "newoof = lgoof * ii/100 + (100-ii)/100 * cboof\n",
    "newpreds = lgpreds * ii/100 + cbpreds * (100-ii)/100\n",
    "\n",
    "# use the best i to make interim submission\n",
    "finsub = pd.read_csv('/kaggle/input/playground-series-s4e11/sample_submission.csv')\n",
    "finsub[TARGET] = newpreds \n",
    "finsub[TARGET] = finsub[TARGET].apply(lambda x: 1 if x >=.5 else 0)\n",
    "finsub.to_csv('submissiona.csv', index=False)\n",
    "\n",
    "sco = 0\n",
    "for i in range(100):\n",
    "    predout = newoof * i/100 + hgoof * (100-i)/100\n",
    "    predout[predout>=.5] = 1\n",
    "    predout[predout<.5] = 0\n",
    "    score = accuracy_score(train[TARGET],predout)\n",
    "    if score > sco:\n",
    "        sco = score\n",
    "        ii = i\n",
    "        \n",
    "# report the results to stdout\n",
    "print(ii,sco)\n",
    "\n",
    "# use the best i and j to make final submission\n",
    "finsub = pd.read_csv('/kaggle/input/playground-series-s4e11/sample_submission.csv')\n",
    "finsub[TARGET] = newpreds * ii/100 + hgsub[TARGET] * (100-ii)/100\n",
    "finsub[TARGET] = finsub[TARGET].apply(lambda x: 1 if x >=.5 else 0)\n",
    "finsub.to_csv('submission.csv', index=False)"
   ]
  },
  {
   "cell_type": "code",
   "execution_count": 20,
   "id": "76fe7884",
   "metadata": {
    "execution": {
     "iopub.execute_input": "2024-12-08T21:53:12.101719Z",
     "iopub.status.busy": "2024-12-08T21:53:12.101332Z",
     "iopub.status.idle": "2024-12-08T21:53:13.253539Z",
     "shell.execute_reply": "2024-12-08T21:53:13.252442Z"
    },
    "papermill": {
     "duration": 1.161084,
     "end_time": "2024-12-08T21:53:13.255825",
     "exception": false,
     "start_time": "2024-12-08T21:53:12.094741",
     "status": "completed"
    },
    "tags": []
   },
   "outputs": [
    {
     "name": "stdout",
     "output_type": "stream",
     "text": [
      "id,Depression\r\n",
      "140700,0\r\n",
      "140701,0\r\n",
      "140702,0\r\n",
      "140703,1\r\n",
      "140704,0\r\n",
      "140705,0\r\n",
      "140706,0\r\n",
      "140707,0\r\n",
      "140708,0\r\n"
     ]
    }
   ],
   "source": [
    "!head submission.csv\n"
   ]
  }
 ],
 "metadata": {
  "kaggle": {
   "accelerator": "none",
   "dataSources": [
    {
     "databundleVersionId": 10008389,
     "sourceId": 84895,
     "sourceType": "competition"
    }
   ],
   "dockerImageVersionId": 30786,
   "isGpuEnabled": false,
   "isInternetEnabled": true,
   "language": "python",
   "sourceType": "notebook"
  },
  "kernelspec": {
   "display_name": "Python 3",
   "language": "python",
   "name": "python3"
  },
  "language_info": {
   "codemirror_mode": {
    "name": "ipython",
    "version": 3
   },
   "file_extension": ".py",
   "mimetype": "text/x-python",
   "name": "python",
   "nbconvert_exporter": "python",
   "pygments_lexer": "ipython3",
   "version": "3.10.14"
  },
  "papermill": {
   "default_parameters": {},
   "duration": 483.738305,
   "end_time": "2024-12-08T21:53:14.082760",
   "environment_variables": {},
   "exception": null,
   "input_path": "__notebook__.ipynb",
   "output_path": "__notebook__.ipynb",
   "parameters": {},
   "start_time": "2024-12-08T21:45:10.344455",
   "version": "2.6.0"
  }
 },
 "nbformat": 4,
 "nbformat_minor": 5
}
